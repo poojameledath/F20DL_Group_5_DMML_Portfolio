{
 "cells": [
  {
   "attachments": {},
   "cell_type": "markdown",
   "id": "0067130d",
   "metadata": {},
   "source": [
    "## Importing libraries"
   ]
  },
  {
   "cell_type": "code",
   "execution_count": 52,
   "id": "d06915e5",
   "metadata": {},
   "outputs": [],
   "source": [
    "import pandas as pd\n",
    "from sklearn.preprocessing import LabelEncoder\n",
    "from sklearn.feature_selection import mutual_info_classif\n",
    "import opendatasets as od\n",
    "import numpy as np\n",
    "import openpyxl"
   ]
  },
  {
   "cell_type": "code",
   "execution_count": 2,
   "id": "9bfec1d9",
   "metadata": {},
   "outputs": [],
   "source": [
    "# !pip3 install openpyxl"
   ]
  },
  {
   "attachments": {},
   "cell_type": "markdown",
   "id": "4e96f942",
   "metadata": {},
   "source": [
    "## Importing dataset"
   ]
  },
  {
   "cell_type": "code",
   "execution_count": 3,
   "id": "d935f9a9",
   "metadata": {},
   "outputs": [
    {
     "name": "stdout",
     "output_type": "stream",
     "text": [
      "Skipping, found downloaded files in \".\\dry-bean-dataset\" (use force=True to force download)\n"
     ]
    }
   ],
   "source": [
    "# df = pd.read_excel(\"./Bean/Drybean.xlsx\")\n",
    "# df_class1 = pd.read_excel(\"./Bean/Drybean_seker.xlsx\")\n",
    "\n",
    "od.download(\"https://www.kaggle.com/datasets/muratkokludataset/dry-bean-dataset\")"
   ]
  },
  {
   "cell_type": "code",
   "execution_count": 98,
   "id": "7e306bb3",
   "metadata": {},
   "outputs": [],
   "source": [
    "#reading the imported dataset\n",
    "df = pd.read_excel(\"./dry-bean-dataset/Dry_Bean_Dataset/Dry_Bean_Dataset.xlsx\")"
   ]
  },
  {
   "attachments": {},
   "cell_type": "markdown",
   "id": "60c958ab",
   "metadata": {},
   "source": [
    "## Prints the summary statistics for each numerical column"
   ]
  },
  {
   "cell_type": "code",
   "execution_count": 5,
   "id": "0e6e75e9",
   "metadata": {},
   "outputs": [
    {
     "data": {
      "text/html": [
       "<div>\n",
       "<style scoped>\n",
       "    .dataframe tbody tr th:only-of-type {\n",
       "        vertical-align: middle;\n",
       "    }\n",
       "\n",
       "    .dataframe tbody tr th {\n",
       "        vertical-align: top;\n",
       "    }\n",
       "\n",
       "    .dataframe thead th {\n",
       "        text-align: right;\n",
       "    }\n",
       "</style>\n",
       "<table border=\"1\" class=\"dataframe\">\n",
       "  <thead>\n",
       "    <tr style=\"text-align: right;\">\n",
       "      <th></th>\n",
       "      <th>Area</th>\n",
       "      <th>Perimeter</th>\n",
       "      <th>MajorAxisLength</th>\n",
       "      <th>MinorAxisLength</th>\n",
       "      <th>AspectRation</th>\n",
       "      <th>Eccentricity</th>\n",
       "      <th>ConvexArea</th>\n",
       "      <th>EquivDiameter</th>\n",
       "      <th>Extent</th>\n",
       "      <th>Solidity</th>\n",
       "      <th>roundness</th>\n",
       "      <th>Compactness</th>\n",
       "      <th>ShapeFactor1</th>\n",
       "      <th>ShapeFactor2</th>\n",
       "      <th>ShapeFactor3</th>\n",
       "      <th>ShapeFactor4</th>\n",
       "    </tr>\n",
       "  </thead>\n",
       "  <tbody>\n",
       "    <tr>\n",
       "      <th>count</th>\n",
       "      <td>13611.000000</td>\n",
       "      <td>13611.000000</td>\n",
       "      <td>13611.000000</td>\n",
       "      <td>13611.000000</td>\n",
       "      <td>13611.000000</td>\n",
       "      <td>13611.000000</td>\n",
       "      <td>13611.000000</td>\n",
       "      <td>13611.000000</td>\n",
       "      <td>13611.000000</td>\n",
       "      <td>13611.000000</td>\n",
       "      <td>13611.000000</td>\n",
       "      <td>13611.000000</td>\n",
       "      <td>13611.000000</td>\n",
       "      <td>13611.000000</td>\n",
       "      <td>13611.000000</td>\n",
       "      <td>13611.000000</td>\n",
       "    </tr>\n",
       "    <tr>\n",
       "      <th>mean</th>\n",
       "      <td>53048.284549</td>\n",
       "      <td>855.283459</td>\n",
       "      <td>320.141867</td>\n",
       "      <td>202.270714</td>\n",
       "      <td>1.583242</td>\n",
       "      <td>0.750895</td>\n",
       "      <td>53768.200206</td>\n",
       "      <td>253.064220</td>\n",
       "      <td>0.749733</td>\n",
       "      <td>0.987143</td>\n",
       "      <td>0.873282</td>\n",
       "      <td>0.799864</td>\n",
       "      <td>0.006564</td>\n",
       "      <td>0.001716</td>\n",
       "      <td>0.643590</td>\n",
       "      <td>0.995063</td>\n",
       "    </tr>\n",
       "    <tr>\n",
       "      <th>std</th>\n",
       "      <td>29324.095717</td>\n",
       "      <td>214.289696</td>\n",
       "      <td>85.694186</td>\n",
       "      <td>44.970091</td>\n",
       "      <td>0.246678</td>\n",
       "      <td>0.092002</td>\n",
       "      <td>29774.915817</td>\n",
       "      <td>59.177120</td>\n",
       "      <td>0.049086</td>\n",
       "      <td>0.004660</td>\n",
       "      <td>0.059520</td>\n",
       "      <td>0.061713</td>\n",
       "      <td>0.001128</td>\n",
       "      <td>0.000596</td>\n",
       "      <td>0.098996</td>\n",
       "      <td>0.004366</td>\n",
       "    </tr>\n",
       "    <tr>\n",
       "      <th>min</th>\n",
       "      <td>20420.000000</td>\n",
       "      <td>524.736000</td>\n",
       "      <td>183.601165</td>\n",
       "      <td>122.512653</td>\n",
       "      <td>1.024868</td>\n",
       "      <td>0.218951</td>\n",
       "      <td>20684.000000</td>\n",
       "      <td>161.243764</td>\n",
       "      <td>0.555315</td>\n",
       "      <td>0.919246</td>\n",
       "      <td>0.489618</td>\n",
       "      <td>0.640577</td>\n",
       "      <td>0.002778</td>\n",
       "      <td>0.000564</td>\n",
       "      <td>0.410339</td>\n",
       "      <td>0.947687</td>\n",
       "    </tr>\n",
       "    <tr>\n",
       "      <th>25%</th>\n",
       "      <td>36328.000000</td>\n",
       "      <td>703.523500</td>\n",
       "      <td>253.303633</td>\n",
       "      <td>175.848170</td>\n",
       "      <td>1.432307</td>\n",
       "      <td>0.715928</td>\n",
       "      <td>36714.500000</td>\n",
       "      <td>215.068003</td>\n",
       "      <td>0.718634</td>\n",
       "      <td>0.985670</td>\n",
       "      <td>0.832096</td>\n",
       "      <td>0.762469</td>\n",
       "      <td>0.005900</td>\n",
       "      <td>0.001154</td>\n",
       "      <td>0.581359</td>\n",
       "      <td>0.993703</td>\n",
       "    </tr>\n",
       "    <tr>\n",
       "      <th>50%</th>\n",
       "      <td>44652.000000</td>\n",
       "      <td>794.941000</td>\n",
       "      <td>296.883367</td>\n",
       "      <td>192.431733</td>\n",
       "      <td>1.551124</td>\n",
       "      <td>0.764441</td>\n",
       "      <td>45178.000000</td>\n",
       "      <td>238.438026</td>\n",
       "      <td>0.759859</td>\n",
       "      <td>0.988283</td>\n",
       "      <td>0.883157</td>\n",
       "      <td>0.801277</td>\n",
       "      <td>0.006645</td>\n",
       "      <td>0.001694</td>\n",
       "      <td>0.642044</td>\n",
       "      <td>0.996386</td>\n",
       "    </tr>\n",
       "    <tr>\n",
       "      <th>75%</th>\n",
       "      <td>61332.000000</td>\n",
       "      <td>977.213000</td>\n",
       "      <td>376.495012</td>\n",
       "      <td>217.031741</td>\n",
       "      <td>1.707109</td>\n",
       "      <td>0.810466</td>\n",
       "      <td>62294.000000</td>\n",
       "      <td>279.446467</td>\n",
       "      <td>0.786851</td>\n",
       "      <td>0.990013</td>\n",
       "      <td>0.916869</td>\n",
       "      <td>0.834270</td>\n",
       "      <td>0.007271</td>\n",
       "      <td>0.002170</td>\n",
       "      <td>0.696006</td>\n",
       "      <td>0.997883</td>\n",
       "    </tr>\n",
       "    <tr>\n",
       "      <th>max</th>\n",
       "      <td>254616.000000</td>\n",
       "      <td>1985.370000</td>\n",
       "      <td>738.860153</td>\n",
       "      <td>460.198497</td>\n",
       "      <td>2.430306</td>\n",
       "      <td>0.911423</td>\n",
       "      <td>263261.000000</td>\n",
       "      <td>569.374358</td>\n",
       "      <td>0.866195</td>\n",
       "      <td>0.994677</td>\n",
       "      <td>0.990685</td>\n",
       "      <td>0.987303</td>\n",
       "      <td>0.010451</td>\n",
       "      <td>0.003665</td>\n",
       "      <td>0.974767</td>\n",
       "      <td>0.999733</td>\n",
       "    </tr>\n",
       "  </tbody>\n",
       "</table>\n",
       "</div>"
      ],
      "text/plain": [
       "                Area     Perimeter  MajorAxisLength  MinorAxisLength  \\\n",
       "count   13611.000000  13611.000000     13611.000000     13611.000000   \n",
       "mean    53048.284549    855.283459       320.141867       202.270714   \n",
       "std     29324.095717    214.289696        85.694186        44.970091   \n",
       "min     20420.000000    524.736000       183.601165       122.512653   \n",
       "25%     36328.000000    703.523500       253.303633       175.848170   \n",
       "50%     44652.000000    794.941000       296.883367       192.431733   \n",
       "75%     61332.000000    977.213000       376.495012       217.031741   \n",
       "max    254616.000000   1985.370000       738.860153       460.198497   \n",
       "\n",
       "       AspectRation  Eccentricity     ConvexArea  EquivDiameter        Extent  \\\n",
       "count  13611.000000  13611.000000   13611.000000   13611.000000  13611.000000   \n",
       "mean       1.583242      0.750895   53768.200206     253.064220      0.749733   \n",
       "std        0.246678      0.092002   29774.915817      59.177120      0.049086   \n",
       "min        1.024868      0.218951   20684.000000     161.243764      0.555315   \n",
       "25%        1.432307      0.715928   36714.500000     215.068003      0.718634   \n",
       "50%        1.551124      0.764441   45178.000000     238.438026      0.759859   \n",
       "75%        1.707109      0.810466   62294.000000     279.446467      0.786851   \n",
       "max        2.430306      0.911423  263261.000000     569.374358      0.866195   \n",
       "\n",
       "           Solidity     roundness   Compactness  ShapeFactor1  ShapeFactor2  \\\n",
       "count  13611.000000  13611.000000  13611.000000  13611.000000  13611.000000   \n",
       "mean       0.987143      0.873282      0.799864      0.006564      0.001716   \n",
       "std        0.004660      0.059520      0.061713      0.001128      0.000596   \n",
       "min        0.919246      0.489618      0.640577      0.002778      0.000564   \n",
       "25%        0.985670      0.832096      0.762469      0.005900      0.001154   \n",
       "50%        0.988283      0.883157      0.801277      0.006645      0.001694   \n",
       "75%        0.990013      0.916869      0.834270      0.007271      0.002170   \n",
       "max        0.994677      0.990685      0.987303      0.010451      0.003665   \n",
       "\n",
       "       ShapeFactor3  ShapeFactor4  \n",
       "count  13611.000000  13611.000000  \n",
       "mean       0.643590      0.995063  \n",
       "std        0.098996      0.004366  \n",
       "min        0.410339      0.947687  \n",
       "25%        0.581359      0.993703  \n",
       "50%        0.642044      0.996386  \n",
       "75%        0.696006      0.997883  \n",
       "max        0.974767      0.999733  "
      ]
     },
     "execution_count": 5,
     "metadata": {},
     "output_type": "execute_result"
    }
   ],
   "source": [
    "df.describe()"
   ]
  },
  {
   "attachments": {},
   "cell_type": "markdown",
   "id": "cb7511c4",
   "metadata": {},
   "source": [
    "## The head function prints the first n-rows. (default = 5)"
   ]
  },
  {
   "cell_type": "code",
   "execution_count": 6,
   "id": "7fe10b6c",
   "metadata": {},
   "outputs": [
    {
     "data": {
      "text/html": [
       "<div>\n",
       "<style scoped>\n",
       "    .dataframe tbody tr th:only-of-type {\n",
       "        vertical-align: middle;\n",
       "    }\n",
       "\n",
       "    .dataframe tbody tr th {\n",
       "        vertical-align: top;\n",
       "    }\n",
       "\n",
       "    .dataframe thead th {\n",
       "        text-align: right;\n",
       "    }\n",
       "</style>\n",
       "<table border=\"1\" class=\"dataframe\">\n",
       "  <thead>\n",
       "    <tr style=\"text-align: right;\">\n",
       "      <th></th>\n",
       "      <th>Area</th>\n",
       "      <th>Perimeter</th>\n",
       "      <th>MajorAxisLength</th>\n",
       "      <th>MinorAxisLength</th>\n",
       "      <th>AspectRation</th>\n",
       "      <th>Eccentricity</th>\n",
       "      <th>ConvexArea</th>\n",
       "      <th>EquivDiameter</th>\n",
       "      <th>Extent</th>\n",
       "      <th>Solidity</th>\n",
       "      <th>roundness</th>\n",
       "      <th>Compactness</th>\n",
       "      <th>ShapeFactor1</th>\n",
       "      <th>ShapeFactor2</th>\n",
       "      <th>ShapeFactor3</th>\n",
       "      <th>ShapeFactor4</th>\n",
       "      <th>Class</th>\n",
       "    </tr>\n",
       "  </thead>\n",
       "  <tbody>\n",
       "    <tr>\n",
       "      <th>0</th>\n",
       "      <td>28395</td>\n",
       "      <td>610.291</td>\n",
       "      <td>208.178117</td>\n",
       "      <td>173.888747</td>\n",
       "      <td>1.197191</td>\n",
       "      <td>0.549812</td>\n",
       "      <td>28715</td>\n",
       "      <td>190.141097</td>\n",
       "      <td>0.763923</td>\n",
       "      <td>0.988856</td>\n",
       "      <td>0.958027</td>\n",
       "      <td>0.913358</td>\n",
       "      <td>0.007332</td>\n",
       "      <td>0.003147</td>\n",
       "      <td>0.834222</td>\n",
       "      <td>0.998724</td>\n",
       "      <td>SEKER</td>\n",
       "    </tr>\n",
       "    <tr>\n",
       "      <th>1</th>\n",
       "      <td>28734</td>\n",
       "      <td>638.018</td>\n",
       "      <td>200.524796</td>\n",
       "      <td>182.734419</td>\n",
       "      <td>1.097356</td>\n",
       "      <td>0.411785</td>\n",
       "      <td>29172</td>\n",
       "      <td>191.272750</td>\n",
       "      <td>0.783968</td>\n",
       "      <td>0.984986</td>\n",
       "      <td>0.887034</td>\n",
       "      <td>0.953861</td>\n",
       "      <td>0.006979</td>\n",
       "      <td>0.003564</td>\n",
       "      <td>0.909851</td>\n",
       "      <td>0.998430</td>\n",
       "      <td>SEKER</td>\n",
       "    </tr>\n",
       "    <tr>\n",
       "      <th>2</th>\n",
       "      <td>29380</td>\n",
       "      <td>624.110</td>\n",
       "      <td>212.826130</td>\n",
       "      <td>175.931143</td>\n",
       "      <td>1.209713</td>\n",
       "      <td>0.562727</td>\n",
       "      <td>29690</td>\n",
       "      <td>193.410904</td>\n",
       "      <td>0.778113</td>\n",
       "      <td>0.989559</td>\n",
       "      <td>0.947849</td>\n",
       "      <td>0.908774</td>\n",
       "      <td>0.007244</td>\n",
       "      <td>0.003048</td>\n",
       "      <td>0.825871</td>\n",
       "      <td>0.999066</td>\n",
       "      <td>SEKER</td>\n",
       "    </tr>\n",
       "    <tr>\n",
       "      <th>3</th>\n",
       "      <td>30008</td>\n",
       "      <td>645.884</td>\n",
       "      <td>210.557999</td>\n",
       "      <td>182.516516</td>\n",
       "      <td>1.153638</td>\n",
       "      <td>0.498616</td>\n",
       "      <td>30724</td>\n",
       "      <td>195.467062</td>\n",
       "      <td>0.782681</td>\n",
       "      <td>0.976696</td>\n",
       "      <td>0.903936</td>\n",
       "      <td>0.928329</td>\n",
       "      <td>0.007017</td>\n",
       "      <td>0.003215</td>\n",
       "      <td>0.861794</td>\n",
       "      <td>0.994199</td>\n",
       "      <td>SEKER</td>\n",
       "    </tr>\n",
       "    <tr>\n",
       "      <th>4</th>\n",
       "      <td>30140</td>\n",
       "      <td>620.134</td>\n",
       "      <td>201.847882</td>\n",
       "      <td>190.279279</td>\n",
       "      <td>1.060798</td>\n",
       "      <td>0.333680</td>\n",
       "      <td>30417</td>\n",
       "      <td>195.896503</td>\n",
       "      <td>0.773098</td>\n",
       "      <td>0.990893</td>\n",
       "      <td>0.984877</td>\n",
       "      <td>0.970516</td>\n",
       "      <td>0.006697</td>\n",
       "      <td>0.003665</td>\n",
       "      <td>0.941900</td>\n",
       "      <td>0.999166</td>\n",
       "      <td>SEKER</td>\n",
       "    </tr>\n",
       "  </tbody>\n",
       "</table>\n",
       "</div>"
      ],
      "text/plain": [
       "    Area  Perimeter  MajorAxisLength  MinorAxisLength  AspectRation  \\\n",
       "0  28395    610.291       208.178117       173.888747      1.197191   \n",
       "1  28734    638.018       200.524796       182.734419      1.097356   \n",
       "2  29380    624.110       212.826130       175.931143      1.209713   \n",
       "3  30008    645.884       210.557999       182.516516      1.153638   \n",
       "4  30140    620.134       201.847882       190.279279      1.060798   \n",
       "\n",
       "   Eccentricity  ConvexArea  EquivDiameter    Extent  Solidity  roundness  \\\n",
       "0      0.549812       28715     190.141097  0.763923  0.988856   0.958027   \n",
       "1      0.411785       29172     191.272750  0.783968  0.984986   0.887034   \n",
       "2      0.562727       29690     193.410904  0.778113  0.989559   0.947849   \n",
       "3      0.498616       30724     195.467062  0.782681  0.976696   0.903936   \n",
       "4      0.333680       30417     195.896503  0.773098  0.990893   0.984877   \n",
       "\n",
       "   Compactness  ShapeFactor1  ShapeFactor2  ShapeFactor3  ShapeFactor4  Class  \n",
       "0     0.913358      0.007332      0.003147      0.834222      0.998724  SEKER  \n",
       "1     0.953861      0.006979      0.003564      0.909851      0.998430  SEKER  \n",
       "2     0.908774      0.007244      0.003048      0.825871      0.999066  SEKER  \n",
       "3     0.928329      0.007017      0.003215      0.861794      0.994199  SEKER  \n",
       "4     0.970516      0.006697      0.003665      0.941900      0.999166  SEKER  "
      ]
     },
     "execution_count": 6,
     "metadata": {},
     "output_type": "execute_result"
    }
   ],
   "source": [
    "df.head()"
   ]
  },
  {
   "attachments": {},
   "cell_type": "markdown",
   "id": "f802871a",
   "metadata": {},
   "source": [
    "## Prints basic info about the dataframe"
   ]
  },
  {
   "cell_type": "code",
   "execution_count": 7,
   "id": "57496e47",
   "metadata": {},
   "outputs": [
    {
     "name": "stdout",
     "output_type": "stream",
     "text": [
      "<class 'pandas.core.frame.DataFrame'>\n",
      "RangeIndex: 13611 entries, 0 to 13610\n",
      "Data columns (total 17 columns):\n",
      " #   Column           Non-Null Count  Dtype  \n",
      "---  ------           --------------  -----  \n",
      " 0   Area             13611 non-null  int64  \n",
      " 1   Perimeter        13611 non-null  float64\n",
      " 2   MajorAxisLength  13611 non-null  float64\n",
      " 3   MinorAxisLength  13611 non-null  float64\n",
      " 4   AspectRation     13611 non-null  float64\n",
      " 5   Eccentricity     13611 non-null  float64\n",
      " 6   ConvexArea       13611 non-null  int64  \n",
      " 7   EquivDiameter    13611 non-null  float64\n",
      " 8   Extent           13611 non-null  float64\n",
      " 9   Solidity         13611 non-null  float64\n",
      " 10  roundness        13611 non-null  float64\n",
      " 11  Compactness      13611 non-null  float64\n",
      " 12  ShapeFactor1     13611 non-null  float64\n",
      " 13  ShapeFactor2     13611 non-null  float64\n",
      " 14  ShapeFactor3     13611 non-null  float64\n",
      " 15  ShapeFactor4     13611 non-null  float64\n",
      " 16  Class            13611 non-null  object \n",
      "dtypes: float64(14), int64(2), object(1)\n",
      "memory usage: 1.8+ MB\n"
     ]
    }
   ],
   "source": [
    "df.info()"
   ]
  },
  {
   "cell_type": "code",
   "execution_count": 51,
   "id": "444fd20a",
   "metadata": {},
   "outputs": [
    {
     "data": {
      "text/html": [
       "<div>\n",
       "<style scoped>\n",
       "    .dataframe tbody tr th:only-of-type {\n",
       "        vertical-align: middle;\n",
       "    }\n",
       "\n",
       "    .dataframe tbody tr th {\n",
       "        vertical-align: top;\n",
       "    }\n",
       "\n",
       "    .dataframe thead th {\n",
       "        text-align: right;\n",
       "    }\n",
       "</style>\n",
       "<table border=\"1\" class=\"dataframe\">\n",
       "  <thead>\n",
       "    <tr style=\"text-align: right;\">\n",
       "      <th></th>\n",
       "      <th>Area</th>\n",
       "      <th>Perimeter</th>\n",
       "      <th>MajorAxisLength</th>\n",
       "      <th>MinorAxisLength</th>\n",
       "      <th>AspectRation</th>\n",
       "      <th>Eccentricity</th>\n",
       "      <th>ConvexArea</th>\n",
       "      <th>EquivDiameter</th>\n",
       "      <th>Extent</th>\n",
       "      <th>Solidity</th>\n",
       "      <th>roundness</th>\n",
       "      <th>Compactness</th>\n",
       "      <th>ShapeFactor1</th>\n",
       "      <th>ShapeFactor2</th>\n",
       "      <th>ShapeFactor3</th>\n",
       "      <th>ShapeFactor4</th>\n",
       "      <th>Class</th>\n",
       "    </tr>\n",
       "  </thead>\n",
       "  <tbody>\n",
       "    <tr>\n",
       "      <th>0</th>\n",
       "      <td>28395</td>\n",
       "      <td>610.291</td>\n",
       "      <td>208.178117</td>\n",
       "      <td>173.888747</td>\n",
       "      <td>1.197191</td>\n",
       "      <td>0.549812</td>\n",
       "      <td>28715</td>\n",
       "      <td>190.141097</td>\n",
       "      <td>0.763923</td>\n",
       "      <td>0.988856</td>\n",
       "      <td>0.958027</td>\n",
       "      <td>0.913358</td>\n",
       "      <td>0.007332</td>\n",
       "      <td>0.003147</td>\n",
       "      <td>0.834222</td>\n",
       "      <td>0.998724</td>\n",
       "      <td>SEKER</td>\n",
       "    </tr>\n",
       "    <tr>\n",
       "      <th>1</th>\n",
       "      <td>28734</td>\n",
       "      <td>638.018</td>\n",
       "      <td>200.524796</td>\n",
       "      <td>182.734419</td>\n",
       "      <td>1.097356</td>\n",
       "      <td>0.411785</td>\n",
       "      <td>29172</td>\n",
       "      <td>191.272750</td>\n",
       "      <td>0.783968</td>\n",
       "      <td>0.984986</td>\n",
       "      <td>0.887034</td>\n",
       "      <td>0.953861</td>\n",
       "      <td>0.006979</td>\n",
       "      <td>0.003564</td>\n",
       "      <td>0.909851</td>\n",
       "      <td>0.998430</td>\n",
       "      <td>SEKER</td>\n",
       "    </tr>\n",
       "    <tr>\n",
       "      <th>2</th>\n",
       "      <td>29380</td>\n",
       "      <td>624.110</td>\n",
       "      <td>212.826130</td>\n",
       "      <td>175.931143</td>\n",
       "      <td>1.209713</td>\n",
       "      <td>0.562727</td>\n",
       "      <td>29690</td>\n",
       "      <td>193.410904</td>\n",
       "      <td>0.778113</td>\n",
       "      <td>0.989559</td>\n",
       "      <td>0.947849</td>\n",
       "      <td>0.908774</td>\n",
       "      <td>0.007244</td>\n",
       "      <td>0.003048</td>\n",
       "      <td>0.825871</td>\n",
       "      <td>0.999066</td>\n",
       "      <td>SEKER</td>\n",
       "    </tr>\n",
       "    <tr>\n",
       "      <th>3</th>\n",
       "      <td>30008</td>\n",
       "      <td>645.884</td>\n",
       "      <td>210.557999</td>\n",
       "      <td>182.516516</td>\n",
       "      <td>1.153638</td>\n",
       "      <td>0.498616</td>\n",
       "      <td>30724</td>\n",
       "      <td>195.467062</td>\n",
       "      <td>0.782681</td>\n",
       "      <td>0.976696</td>\n",
       "      <td>0.903936</td>\n",
       "      <td>0.928329</td>\n",
       "      <td>0.007017</td>\n",
       "      <td>0.003215</td>\n",
       "      <td>0.861794</td>\n",
       "      <td>0.994199</td>\n",
       "      <td>SEKER</td>\n",
       "    </tr>\n",
       "    <tr>\n",
       "      <th>4</th>\n",
       "      <td>30140</td>\n",
       "      <td>620.134</td>\n",
       "      <td>201.847882</td>\n",
       "      <td>190.279279</td>\n",
       "      <td>1.060798</td>\n",
       "      <td>0.333680</td>\n",
       "      <td>30417</td>\n",
       "      <td>195.896503</td>\n",
       "      <td>0.773098</td>\n",
       "      <td>0.990893</td>\n",
       "      <td>0.984877</td>\n",
       "      <td>0.970516</td>\n",
       "      <td>0.006697</td>\n",
       "      <td>0.003665</td>\n",
       "      <td>0.941900</td>\n",
       "      <td>0.999166</td>\n",
       "      <td>SEKER</td>\n",
       "    </tr>\n",
       "  </tbody>\n",
       "</table>\n",
       "</div>"
      ],
      "text/plain": [
       "    Area  Perimeter  MajorAxisLength  MinorAxisLength  AspectRation  \\\n",
       "0  28395    610.291       208.178117       173.888747      1.197191   \n",
       "1  28734    638.018       200.524796       182.734419      1.097356   \n",
       "2  29380    624.110       212.826130       175.931143      1.209713   \n",
       "3  30008    645.884       210.557999       182.516516      1.153638   \n",
       "4  30140    620.134       201.847882       190.279279      1.060798   \n",
       "\n",
       "   Eccentricity  ConvexArea  EquivDiameter    Extent  Solidity  roundness  \\\n",
       "0      0.549812       28715     190.141097  0.763923  0.988856   0.958027   \n",
       "1      0.411785       29172     191.272750  0.783968  0.984986   0.887034   \n",
       "2      0.562727       29690     193.410904  0.778113  0.989559   0.947849   \n",
       "3      0.498616       30724     195.467062  0.782681  0.976696   0.903936   \n",
       "4      0.333680       30417     195.896503  0.773098  0.990893   0.984877   \n",
       "\n",
       "   Compactness  ShapeFactor1  ShapeFactor2  ShapeFactor3  ShapeFactor4  Class  \n",
       "0     0.913358      0.007332      0.003147      0.834222      0.998724  SEKER  \n",
       "1     0.953861      0.006979      0.003564      0.909851      0.998430  SEKER  \n",
       "2     0.908774      0.007244      0.003048      0.825871      0.999066  SEKER  \n",
       "3     0.928329      0.007017      0.003215      0.861794      0.994199  SEKER  \n",
       "4     0.970516      0.006697      0.003665      0.941900      0.999166  SEKER  "
      ]
     },
     "execution_count": 51,
     "metadata": {},
     "output_type": "execute_result"
    }
   ],
   "source": [
    "df.head()"
   ]
  },
  {
   "cell_type": "code",
   "execution_count": 8,
   "id": "453adae7",
   "metadata": {},
   "outputs": [],
   "source": [
    "# label_encoder = LabelEncoder()\n",
    "# df['Class'] = label_encoder.fit_transform(df['Class'])"
   ]
  },
  {
   "cell_type": "code",
   "execution_count": 9,
   "id": "a1f3405f",
   "metadata": {},
   "outputs": [
    {
     "data": {
      "text/plain": [
       "array(['SEKER', 'BARBUNYA', 'BOMBAY', 'CALI', 'HOROZ', 'SIRA', 'DERMASON'],\n",
       "      dtype=object)"
      ]
     },
     "execution_count": 9,
     "metadata": {},
     "output_type": "execute_result"
    }
   ],
   "source": [
    "df[\"Class\"].unique()"
   ]
  },
  {
   "cell_type": "code",
   "execution_count": 99,
   "id": "6b4747b0",
   "metadata": {},
   "outputs": [],
   "source": [
    "#dropping rows to obtain a dataset with only 3 classes\n",
    "df = df.drop(df[df[\"Class\"].isin(['CALI', 'HOROZ' , 'SIRA', 'DERMASON'])].index)"
   ]
  },
  {
   "cell_type": "code",
   "execution_count": 11,
   "id": "f4b790ec",
   "metadata": {},
   "outputs": [
    {
     "data": {
      "text/plain": [
       "(3871, 17)"
      ]
     },
     "execution_count": 11,
     "metadata": {},
     "output_type": "execute_result"
    }
   ],
   "source": [
    "df.shape"
   ]
  },
  {
   "cell_type": "code",
   "execution_count": 12,
   "id": "4da8b7eb",
   "metadata": {},
   "outputs": [],
   "source": [
    "df1 = df.copy()\n",
    "df2 = df.copy()\n",
    "df3 = df.copy()"
   ]
  },
  {
   "cell_type": "code",
   "execution_count": 13,
   "id": "c9bfd827",
   "metadata": {},
   "outputs": [],
   "source": [
    "df1[\"Class\"]=(df1[\"Class\"] == \"SEKER\").astype(int)"
   ]
  },
  {
   "cell_type": "code",
   "execution_count": 14,
   "id": "1a5b0a94",
   "metadata": {},
   "outputs": [
    {
     "data": {
      "text/plain": [
       "Class              1.000000\n",
       "ShapeFactor2       0.896954\n",
       "ShapeFactor3       0.839155\n",
       "Compactness        0.838707\n",
       "roundness          0.826655\n",
       "ShapeFactor1       0.736126\n",
       "Solidity           0.628639\n",
       "ShapeFactor4       0.559071\n",
       "Extent             0.223890\n",
       "MinorAxisLength   -0.648133\n",
       "Area              -0.655950\n",
       "ConvexArea        -0.658819\n",
       "EquivDiameter     -0.727905\n",
       "MajorAxisLength   -0.767539\n",
       "Perimeter         -0.787626\n",
       "Eccentricity      -0.817392\n",
       "AspectRation      -0.828346\n",
       "Name: Class, dtype: float64"
      ]
     },
     "execution_count": 14,
     "metadata": {},
     "output_type": "execute_result"
    }
   ],
   "source": [
    "corr_matrix = df1.corr()\n",
    "corr_matrix[\"Class\"].sort_values(ascending=False)"
   ]
  },
  {
   "cell_type": "code",
   "execution_count": 15,
   "id": "6a9caa47",
   "metadata": {},
   "outputs": [],
   "source": [
    "df2[\"Class\"]=(df2[\"Class\"] == \"BARBUNYA\").astype(int)"
   ]
  },
  {
   "cell_type": "code",
   "execution_count": 16,
   "id": "2c073bdb",
   "metadata": {},
   "outputs": [
    {
     "data": {
      "text/plain": [
       "Class              1.000000\n",
       "Eccentricity       0.586839\n",
       "AspectRation       0.580681\n",
       "Perimeter          0.226561\n",
       "MajorAxisLength    0.195281\n",
       "EquivDiameter      0.127981\n",
       "ConvexArea         0.031047\n",
       "Area               0.026927\n",
       "MinorAxisLength    0.024874\n",
       "ShapeFactor1      -0.176947\n",
       "ShapeFactor4      -0.184680\n",
       "Extent            -0.338945\n",
       "ShapeFactor2      -0.522711\n",
       "Compactness       -0.588818\n",
       "ShapeFactor3      -0.591334\n",
       "Solidity          -0.639290\n",
       "roundness         -0.795976\n",
       "Name: Class, dtype: float64"
      ]
     },
     "execution_count": 16,
     "metadata": {},
     "output_type": "execute_result"
    }
   ],
   "source": [
    "corr_matrix2 = df2.corr()\n",
    "corr_matrix2[\"Class\"].sort_values(ascending=False)"
   ]
  },
  {
   "cell_type": "code",
   "execution_count": 17,
   "id": "ed841ded",
   "metadata": {},
   "outputs": [],
   "source": [
    "df3[\"Class\"]=(df3[\"Class\"] == \"BOMBAY\").astype(int)"
   ]
  },
  {
   "cell_type": "code",
   "execution_count": 18,
   "id": "04c7b87e",
   "metadata": {},
   "outputs": [
    {
     "data": {
      "text/plain": [
       "Class              1.000000\n",
       "Area               0.921762\n",
       "ConvexArea         0.920237\n",
       "MinorAxisLength    0.913183\n",
       "EquivDiameter      0.886676\n",
       "MajorAxisLength    0.851191\n",
       "Perimeter          0.837135\n",
       "AspectRation       0.405024\n",
       "Eccentricity       0.380457\n",
       "Extent             0.143206\n",
       "Solidity          -0.031636\n",
       "roundness         -0.103641\n",
       "ShapeFactor3      -0.406039\n",
       "Compactness       -0.408876\n",
       "ShapeFactor4      -0.561081\n",
       "ShapeFactor2      -0.585829\n",
       "ShapeFactor1      -0.830714\n",
       "Name: Class, dtype: float64"
      ]
     },
     "execution_count": 18,
     "metadata": {},
     "output_type": "execute_result"
    }
   ],
   "source": [
    "corr_matrix3 = df3.corr()\n",
    "corr_matrix3[\"Class\"].sort_values(ascending=False)"
   ]
  },
  {
   "cell_type": "markdown",
   "id": "f300926c",
   "metadata": {},
   "source": [
    "# Creation of sub datasets"
   ]
  },
  {
   "cell_type": "markdown",
   "id": "8e83eaa2",
   "metadata": {},
   "source": [
    "### Top 2, 5 and 10"
   ]
  },
  {
   "cell_type": "code",
   "execution_count": 27,
   "id": "e59df3bd",
   "metadata": {},
   "outputs": [],
   "source": [
    "colums_to_add_top_2 = ['ShapeFactor2', 'ShapeFactor3', 'Solidity', 'roundness', 'Area', 'ConvexArea', 'Class']\n",
    "\n",
    "colums_to_add_top_5 = [\n",
    "    'ShapeFactor2', 'ShapeFactor3', 'Compactness', 'AspectRation', 'Solidity', 'roundness', \n",
    "    'Eccentricity','Area', 'ConvexArea', 'MinorAxisLength','EquivDiameter', 'Class'\n",
    "    ]\n",
    "\n",
    "colums_to_add_top_10 = [\n",
    "'ShapeFactor2', 'ShapeFactor3', 'Compactness', 'roundness', 'Eccentricity', 'AspectRation', \n",
    "'MajorAxisLength' , 'Perimeter' , 'EquivDiameter', 'ShapeFactor1', 'Solidity', 'Extent' , \n",
    "'ShapeFactor4', 'Area', 'ConvexArea' , 'Class'\n",
    "]"
   ]
  },
  {
   "cell_type": "markdown",
   "id": "12b0fad1",
   "metadata": {},
   "source": [
    "### Creating Sub Datasets"
   ]
  },
  {
   "cell_type": "code",
   "execution_count": 28,
   "id": "ecfb1319",
   "metadata": {},
   "outputs": [],
   "source": [
    "df_top2 = df.filter(colums_to_add_top_2, axis=1)\n",
    "df_top5 = df.filter(colums_to_add_top_5, axis=1)\n",
    "df_top10 = df.filter(colums_to_add_top_10, axis=1)"
   ]
  },
  {
   "cell_type": "code",
   "execution_count": 29,
   "id": "262ea633",
   "metadata": {},
   "outputs": [],
   "source": [
    "df_top2.to_excel('Top2.xlsx', index=False)\n",
    "df_top5.to_excel('Top5.xlsx', index=False)\n",
    "df_top10.to_excel('Top10.xlsx', index=False)"
   ]
  },
  {
   "cell_type": "markdown",
   "id": "1d19bc32",
   "metadata": {},
   "source": [
    "## Preprocessing Data"
   ]
  },
  {
   "cell_type": "markdown",
   "id": "4d8278f6",
   "metadata": {},
   "source": [
    "### Importing libraries and modules"
   ]
  },
  {
   "cell_type": "code",
   "execution_count": 67,
   "id": "30ffac34",
   "metadata": {},
   "outputs": [],
   "source": [
    "from sklearn.preprocessing import StandardScaler\n",
    "from sklearn.preprocessing import MinMaxScaler "
   ]
  },
  {
   "cell_type": "markdown",
   "id": "f1b8b86c",
   "metadata": {},
   "source": [
    "### Transforming Class Feature"
   ]
  },
  {
   "cell_type": "code",
   "execution_count": 68,
   "id": "56d92af0",
   "metadata": {},
   "outputs": [
    {
     "data": {
      "text/plain": [
       "array(['SEKER', 'BARBUNYA', 'BOMBAY', 'CALI', 'HOROZ', 'SIRA', 'DERMASON'],\n",
       "      dtype=object)"
      ]
     },
     "execution_count": 68,
     "metadata": {},
     "output_type": "execute_result"
    }
   ],
   "source": [
    "df[\"Class\"].unique()"
   ]
  },
  {
   "cell_type": "code",
   "execution_count": 100,
   "id": "7ead18ac",
   "metadata": {},
   "outputs": [],
   "source": [
    "#Function to transform Nominal values to Numeric values\n",
    "def transform_dataset(df):\n",
    "    df[\"Class\"] = df['Class'].replace(['SEKER', 'BARBUNYA', 'BOMBAY'], [0,1,2])\n"
   ]
  },
  {
   "cell_type": "code",
   "execution_count": 101,
   "id": "279945b5",
   "metadata": {},
   "outputs": [],
   "source": [
    "transform_dataset(df_top2)\n",
    "transform_dataset(df_top5)\n",
    "transform_dataset(df_top10)\n",
    "transform_dataset(df)"
   ]
  },
  {
   "cell_type": "code",
   "execution_count": 40,
   "id": "12600604",
   "metadata": {},
   "outputs": [
    {
     "data": {
      "text/plain": [
       "array([0, 1, 2], dtype=int64)"
      ]
     },
     "execution_count": 40,
     "metadata": {},
     "output_type": "execute_result"
    }
   ],
   "source": [
    "df_top2[\"Class\"].unique()"
   ]
  },
  {
   "cell_type": "code",
   "execution_count": 41,
   "id": "1fa7ccdd",
   "metadata": {},
   "outputs": [
    {
     "data": {
      "text/plain": [
       "array([0, 1, 2], dtype=int64)"
      ]
     },
     "execution_count": 41,
     "metadata": {},
     "output_type": "execute_result"
    }
   ],
   "source": [
    "df_top5[\"Class\"].unique()"
   ]
  },
  {
   "cell_type": "code",
   "execution_count": 42,
   "id": "4e7344e3",
   "metadata": {},
   "outputs": [
    {
     "data": {
      "text/plain": [
       "array([0, 1, 2], dtype=int64)"
      ]
     },
     "execution_count": 42,
     "metadata": {},
     "output_type": "execute_result"
    }
   ],
   "source": [
    "df_top10[\"Class\"].unique()"
   ]
  },
  {
   "cell_type": "markdown",
   "id": "19c2a6ae",
   "metadata": {},
   "source": [
    "### Normalizing Data"
   ]
  },
  {
   "cell_type": "code",
   "execution_count": 102,
   "id": "9b70cb6a",
   "metadata": {},
   "outputs": [],
   "source": [
    "# Creating a functing to Scale the dataset\n",
    "\n",
    "def scale_dataset(dataframe):\n",
    "  scaler = MinMaxScaler()\n",
    "  dataframe[dataframe.columns[:-1]] = scaler.fit_transform(dataframe[dataframe.columns[:-1]])\n",
    "  y = dataframe[dataframe.columns[-1]].values\n",
    "  return dataframe, y\n",
    "\n",
    "# scale_dataset(df)"
   ]
  },
  {
   "cell_type": "markdown",
   "id": "9d0a9198",
   "metadata": {},
   "source": [
    "### Splitting into Train and Test Datasets"
   ]
  },
  {
   "cell_type": "code",
   "execution_count": 73,
   "id": "d78177ea",
   "metadata": {},
   "outputs": [],
   "source": [
    "from sklearn.model_selection import train_test_split\n",
    "from sklearn.metrics  import f1_score,accuracy_score"
   ]
  },
  {
   "cell_type": "code",
   "execution_count": 103,
   "id": "647c3e2e",
   "metadata": {},
   "outputs": [],
   "source": [
    "# Normalizing data\n",
    "X, y = scale_dataset(df)"
   ]
  },
  {
   "cell_type": "code",
   "execution_count": 104,
   "id": "8797a46d",
   "metadata": {},
   "outputs": [
    {
     "data": {
      "text/html": [
       "<div>\n",
       "<style scoped>\n",
       "    .dataframe tbody tr th:only-of-type {\n",
       "        vertical-align: middle;\n",
       "    }\n",
       "\n",
       "    .dataframe tbody tr th {\n",
       "        vertical-align: top;\n",
       "    }\n",
       "\n",
       "    .dataframe thead th {\n",
       "        text-align: right;\n",
       "    }\n",
       "</style>\n",
       "<table border=\"1\" class=\"dataframe\">\n",
       "  <thead>\n",
       "    <tr style=\"text-align: right;\">\n",
       "      <th></th>\n",
       "      <th>Area</th>\n",
       "      <th>Perimeter</th>\n",
       "      <th>MajorAxisLength</th>\n",
       "      <th>MinorAxisLength</th>\n",
       "      <th>AspectRation</th>\n",
       "      <th>Eccentricity</th>\n",
       "      <th>ConvexArea</th>\n",
       "      <th>EquivDiameter</th>\n",
       "      <th>Extent</th>\n",
       "      <th>Solidity</th>\n",
       "      <th>roundness</th>\n",
       "      <th>Compactness</th>\n",
       "      <th>ShapeFactor1</th>\n",
       "      <th>ShapeFactor2</th>\n",
       "      <th>ShapeFactor3</th>\n",
       "      <th>ShapeFactor4</th>\n",
       "      <th>Class</th>\n",
       "    </tr>\n",
       "  </thead>\n",
       "  <tbody>\n",
       "    <tr>\n",
       "      <th>0</th>\n",
       "      <td>0.000000</td>\n",
       "      <td>0.000000</td>\n",
       "      <td>0.014217</td>\n",
       "      <td>0.009267</td>\n",
       "      <td>0.186195</td>\n",
       "      <td>0.517291</td>\n",
       "      <td>0.000000</td>\n",
       "      <td>0.000000</td>\n",
       "      <td>0.624114</td>\n",
       "      <td>0.922824</td>\n",
       "      <td>0.917733</td>\n",
       "      <td>0.729821</td>\n",
       "      <td>0.969567</td>\n",
       "      <td>0.833049</td>\n",
       "      <td>0.698093</td>\n",
       "      <td>0.980620</td>\n",
       "      <td>0</td>\n",
       "    </tr>\n",
       "    <tr>\n",
       "      <th>1</th>\n",
       "      <td>0.001499</td>\n",
       "      <td>0.020164</td>\n",
       "      <td>0.000000</td>\n",
       "      <td>0.039877</td>\n",
       "      <td>0.078324</td>\n",
       "      <td>0.301490</td>\n",
       "      <td>0.001948</td>\n",
       "      <td>0.002984</td>\n",
       "      <td>0.703850</td>\n",
       "      <td>0.871514</td>\n",
       "      <td>0.738897</td>\n",
       "      <td>0.877810</td>\n",
       "      <td>0.894436</td>\n",
       "      <td>0.967315</td>\n",
       "      <td>0.860551</td>\n",
       "      <td>0.974979</td>\n",
       "      <td>0</td>\n",
       "    </tr>\n",
       "    <tr>\n",
       "      <th>2</th>\n",
       "      <td>0.004354</td>\n",
       "      <td>0.010050</td>\n",
       "      <td>0.022851</td>\n",
       "      <td>0.016335</td>\n",
       "      <td>0.199724</td>\n",
       "      <td>0.537484</td>\n",
       "      <td>0.004157</td>\n",
       "      <td>0.008622</td>\n",
       "      <td>0.680561</td>\n",
       "      <td>0.932141</td>\n",
       "      <td>0.892095</td>\n",
       "      <td>0.713074</td>\n",
       "      <td>0.950916</td>\n",
       "      <td>0.800942</td>\n",
       "      <td>0.680152</td>\n",
       "      <td>0.987196</td>\n",
       "      <td>0</td>\n",
       "    </tr>\n",
       "    <tr>\n",
       "      <th>3</th>\n",
       "      <td>0.007130</td>\n",
       "      <td>0.025884</td>\n",
       "      <td>0.018637</td>\n",
       "      <td>0.039123</td>\n",
       "      <td>0.139136</td>\n",
       "      <td>0.437247</td>\n",
       "      <td>0.008565</td>\n",
       "      <td>0.014044</td>\n",
       "      <td>0.698731</td>\n",
       "      <td>0.761614</td>\n",
       "      <td>0.781476</td>\n",
       "      <td>0.784522</td>\n",
       "      <td>0.902542</td>\n",
       "      <td>0.854744</td>\n",
       "      <td>0.757321</td>\n",
       "      <td>0.893675</td>\n",
       "      <td>0</td>\n",
       "    </tr>\n",
       "    <tr>\n",
       "      <th>4</th>\n",
       "      <td>0.007714</td>\n",
       "      <td>0.007158</td>\n",
       "      <td>0.002458</td>\n",
       "      <td>0.065984</td>\n",
       "      <td>0.038823</td>\n",
       "      <td>0.179374</td>\n",
       "      <td>0.007257</td>\n",
       "      <td>0.015176</td>\n",
       "      <td>0.660612</td>\n",
       "      <td>0.949832</td>\n",
       "      <td>0.985369</td>\n",
       "      <td>0.938662</td>\n",
       "      <td>0.834465</td>\n",
       "      <td>1.000000</td>\n",
       "      <td>0.929398</td>\n",
       "      <td>0.989116</td>\n",
       "      <td>0</td>\n",
       "    </tr>\n",
       "    <tr>\n",
       "      <th>...</th>\n",
       "      <td>...</td>\n",
       "      <td>...</td>\n",
       "      <td>...</td>\n",
       "      <td>...</td>\n",
       "      <td>...</td>\n",
       "      <td>...</td>\n",
       "      <td>...</td>\n",
       "      <td>...</td>\n",
       "      <td>...</td>\n",
       "      <td>...</td>\n",
       "      <td>...</td>\n",
       "      <td>...</td>\n",
       "      <td>...</td>\n",
       "      <td>...</td>\n",
       "      <td>...</td>\n",
       "      <td>...</td>\n",
       "      <td>...</td>\n",
       "    </tr>\n",
       "    <tr>\n",
       "      <th>3866</th>\n",
       "      <td>0.923323</td>\n",
       "      <td>0.953686</td>\n",
       "      <td>0.998671</td>\n",
       "      <td>0.836405</td>\n",
       "      <td>0.824142</td>\n",
       "      <td>0.953628</td>\n",
       "      <td>0.903686</td>\n",
       "      <td>0.947956</td>\n",
       "      <td>0.704434</td>\n",
       "      <td>0.883221</td>\n",
       "      <td>0.538295</td>\n",
       "      <td>0.113294</td>\n",
       "      <td>0.070900</td>\n",
       "      <td>0.008316</td>\n",
       "      <td>0.097129</td>\n",
       "      <td>0.835293</td>\n",
       "      <td>2</td>\n",
       "    </tr>\n",
       "    <tr>\n",
       "      <th>3867</th>\n",
       "      <td>0.941234</td>\n",
       "      <td>0.934964</td>\n",
       "      <td>0.976805</td>\n",
       "      <td>0.886402</td>\n",
       "      <td>0.729082</td>\n",
       "      <td>0.921895</td>\n",
       "      <td>0.919240</td>\n",
       "      <td>0.960280</td>\n",
       "      <td>0.850450</td>\n",
       "      <td>0.907939</td>\n",
       "      <td>0.629589</td>\n",
       "      <td>0.180891</td>\n",
       "      <td>0.049392</td>\n",
       "      <td>0.021126</td>\n",
       "      <td>0.157049</td>\n",
       "      <td>0.808956</td>\n",
       "      <td>2</td>\n",
       "    </tr>\n",
       "    <tr>\n",
       "      <th>3868</th>\n",
       "      <td>0.972629</td>\n",
       "      <td>0.926686</td>\n",
       "      <td>0.955776</td>\n",
       "      <td>0.951019</td>\n",
       "      <td>0.624778</td>\n",
       "      <td>0.879671</td>\n",
       "      <td>0.948074</td>\n",
       "      <td>0.981632</td>\n",
       "      <td>0.797598</td>\n",
       "      <td>0.930219</td>\n",
       "      <td>0.718640</td>\n",
       "      <td>0.266410</td>\n",
       "      <td>0.021366</td>\n",
       "      <td>0.037189</td>\n",
       "      <td>0.234963</td>\n",
       "      <td>0.846003</td>\n",
       "      <td>2</td>\n",
       "    </tr>\n",
       "    <tr>\n",
       "      <th>3869</th>\n",
       "      <td>0.985925</td>\n",
       "      <td>0.952365</td>\n",
       "      <td>0.963342</td>\n",
       "      <td>0.967915</td>\n",
       "      <td>0.615781</td>\n",
       "      <td>0.875590</td>\n",
       "      <td>0.975118</td>\n",
       "      <td>0.990583</td>\n",
       "      <td>0.635464</td>\n",
       "      <td>0.761928</td>\n",
       "      <td>0.663773</td>\n",
       "      <td>0.267382</td>\n",
       "      <td>0.017483</td>\n",
       "      <td>0.036095</td>\n",
       "      <td>0.235862</td>\n",
       "      <td>0.759865</td>\n",
       "      <td>2</td>\n",
       "    </tr>\n",
       "    <tr>\n",
       "      <th>3870</th>\n",
       "      <td>1.000000</td>\n",
       "      <td>1.000000</td>\n",
       "      <td>1.000000</td>\n",
       "      <td>0.955776</td>\n",
       "      <td>0.676948</td>\n",
       "      <td>0.901895</td>\n",
       "      <td>1.000000</td>\n",
       "      <td>1.000000</td>\n",
       "      <td>0.702972</td>\n",
       "      <td>0.635223</td>\n",
       "      <td>0.549210</td>\n",
       "      <td>0.208259</td>\n",
       "      <td>0.026371</td>\n",
       "      <td>0.021632</td>\n",
       "      <td>0.181728</td>\n",
       "      <td>0.633596</td>\n",
       "      <td>2</td>\n",
       "    </tr>\n",
       "  </tbody>\n",
       "</table>\n",
       "<p>3871 rows × 17 columns</p>\n",
       "</div>"
      ],
      "text/plain": [
       "          Area  Perimeter  MajorAxisLength  MinorAxisLength  AspectRation  \\\n",
       "0     0.000000   0.000000         0.014217         0.009267      0.186195   \n",
       "1     0.001499   0.020164         0.000000         0.039877      0.078324   \n",
       "2     0.004354   0.010050         0.022851         0.016335      0.199724   \n",
       "3     0.007130   0.025884         0.018637         0.039123      0.139136   \n",
       "4     0.007714   0.007158         0.002458         0.065984      0.038823   \n",
       "...        ...        ...              ...              ...           ...   \n",
       "3866  0.923323   0.953686         0.998671         0.836405      0.824142   \n",
       "3867  0.941234   0.934964         0.976805         0.886402      0.729082   \n",
       "3868  0.972629   0.926686         0.955776         0.951019      0.624778   \n",
       "3869  0.985925   0.952365         0.963342         0.967915      0.615781   \n",
       "3870  1.000000   1.000000         1.000000         0.955776      0.676948   \n",
       "\n",
       "      Eccentricity  ConvexArea  EquivDiameter    Extent  Solidity  roundness  \\\n",
       "0         0.517291    0.000000       0.000000  0.624114  0.922824   0.917733   \n",
       "1         0.301490    0.001948       0.002984  0.703850  0.871514   0.738897   \n",
       "2         0.537484    0.004157       0.008622  0.680561  0.932141   0.892095   \n",
       "3         0.437247    0.008565       0.014044  0.698731  0.761614   0.781476   \n",
       "4         0.179374    0.007257       0.015176  0.660612  0.949832   0.985369   \n",
       "...            ...         ...            ...       ...       ...        ...   \n",
       "3866      0.953628    0.903686       0.947956  0.704434  0.883221   0.538295   \n",
       "3867      0.921895    0.919240       0.960280  0.850450  0.907939   0.629589   \n",
       "3868      0.879671    0.948074       0.981632  0.797598  0.930219   0.718640   \n",
       "3869      0.875590    0.975118       0.990583  0.635464  0.761928   0.663773   \n",
       "3870      0.901895    1.000000       1.000000  0.702972  0.635223   0.549210   \n",
       "\n",
       "      Compactness  ShapeFactor1  ShapeFactor2  ShapeFactor3  ShapeFactor4  \\\n",
       "0        0.729821      0.969567      0.833049      0.698093      0.980620   \n",
       "1        0.877810      0.894436      0.967315      0.860551      0.974979   \n",
       "2        0.713074      0.950916      0.800942      0.680152      0.987196   \n",
       "3        0.784522      0.902542      0.854744      0.757321      0.893675   \n",
       "4        0.938662      0.834465      1.000000      0.929398      0.989116   \n",
       "...           ...           ...           ...           ...           ...   \n",
       "3866     0.113294      0.070900      0.008316      0.097129      0.835293   \n",
       "3867     0.180891      0.049392      0.021126      0.157049      0.808956   \n",
       "3868     0.266410      0.021366      0.037189      0.234963      0.846003   \n",
       "3869     0.267382      0.017483      0.036095      0.235862      0.759865   \n",
       "3870     0.208259      0.026371      0.021632      0.181728      0.633596   \n",
       "\n",
       "      Class  \n",
       "0         0  \n",
       "1         0  \n",
       "2         0  \n",
       "3         0  \n",
       "4         0  \n",
       "...     ...  \n",
       "3866      2  \n",
       "3867      2  \n",
       "3868      2  \n",
       "3869      2  \n",
       "3870      2  \n",
       "\n",
       "[3871 rows x 17 columns]"
      ]
     },
     "execution_count": 104,
     "metadata": {},
     "output_type": "execute_result"
    }
   ],
   "source": [
    "X"
   ]
  },
  {
   "cell_type": "code",
   "execution_count": 105,
   "id": "3e38e432",
   "metadata": {},
   "outputs": [
    {
     "data": {
      "text/plain": [
       "array([0, 0, 0, ..., 2, 2, 2], dtype=int64)"
      ]
     },
     "execution_count": 105,
     "metadata": {},
     "output_type": "execute_result"
    }
   ],
   "source": [
    "y"
   ]
  },
  {
   "cell_type": "code",
   "execution_count": 106,
   "id": "4d31a907",
   "metadata": {},
   "outputs": [],
   "source": [
    "X_train, X_test, y_train, y_test = train_test_split(X, y, test_size=0.25, random_state=42)"
   ]
  },
  {
   "cell_type": "markdown",
   "id": "d0d06c33",
   "metadata": {},
   "source": [
    "## Classification Models"
   ]
  },
  {
   "cell_type": "markdown",
   "id": "ee538f0b",
   "metadata": {},
   "source": [
    "### Desicion Tree Classifier"
   ]
  },
  {
   "cell_type": "code",
   "execution_count": 135,
   "id": "b6bdab2b",
   "metadata": {},
   "outputs": [],
   "source": [
    "from sklearn.tree import DecisionTreeClassifier"
   ]
  },
  {
   "cell_type": "markdown",
   "id": "5358d917",
   "metadata": {},
   "source": [
    "#### Training Model"
   ]
  },
  {
   "cell_type": "code",
   "execution_count": 108,
   "id": "071d93b8",
   "metadata": {},
   "outputs": [
    {
     "data": {
      "text/html": [
       "<style>#sk-container-id-1 {color: black;background-color: white;}#sk-container-id-1 pre{padding: 0;}#sk-container-id-1 div.sk-toggleable {background-color: white;}#sk-container-id-1 label.sk-toggleable__label {cursor: pointer;display: block;width: 100%;margin-bottom: 0;padding: 0.3em;box-sizing: border-box;text-align: center;}#sk-container-id-1 label.sk-toggleable__label-arrow:before {content: \"▸\";float: left;margin-right: 0.25em;color: #696969;}#sk-container-id-1 label.sk-toggleable__label-arrow:hover:before {color: black;}#sk-container-id-1 div.sk-estimator:hover label.sk-toggleable__label-arrow:before {color: black;}#sk-container-id-1 div.sk-toggleable__content {max-height: 0;max-width: 0;overflow: hidden;text-align: left;background-color: #f0f8ff;}#sk-container-id-1 div.sk-toggleable__content pre {margin: 0.2em;color: black;border-radius: 0.25em;background-color: #f0f8ff;}#sk-container-id-1 input.sk-toggleable__control:checked~div.sk-toggleable__content {max-height: 200px;max-width: 100%;overflow: auto;}#sk-container-id-1 input.sk-toggleable__control:checked~label.sk-toggleable__label-arrow:before {content: \"▾\";}#sk-container-id-1 div.sk-estimator input.sk-toggleable__control:checked~label.sk-toggleable__label {background-color: #d4ebff;}#sk-container-id-1 div.sk-label input.sk-toggleable__control:checked~label.sk-toggleable__label {background-color: #d4ebff;}#sk-container-id-1 input.sk-hidden--visually {border: 0;clip: rect(1px 1px 1px 1px);clip: rect(1px, 1px, 1px, 1px);height: 1px;margin: -1px;overflow: hidden;padding: 0;position: absolute;width: 1px;}#sk-container-id-1 div.sk-estimator {font-family: monospace;background-color: #f0f8ff;border: 1px dotted black;border-radius: 0.25em;box-sizing: border-box;margin-bottom: 0.5em;}#sk-container-id-1 div.sk-estimator:hover {background-color: #d4ebff;}#sk-container-id-1 div.sk-parallel-item::after {content: \"\";width: 100%;border-bottom: 1px solid gray;flex-grow: 1;}#sk-container-id-1 div.sk-label:hover label.sk-toggleable__label {background-color: #d4ebff;}#sk-container-id-1 div.sk-serial::before {content: \"\";position: absolute;border-left: 1px solid gray;box-sizing: border-box;top: 0;bottom: 0;left: 50%;z-index: 0;}#sk-container-id-1 div.sk-serial {display: flex;flex-direction: column;align-items: center;background-color: white;padding-right: 0.2em;padding-left: 0.2em;position: relative;}#sk-container-id-1 div.sk-item {position: relative;z-index: 1;}#sk-container-id-1 div.sk-parallel {display: flex;align-items: stretch;justify-content: center;background-color: white;position: relative;}#sk-container-id-1 div.sk-item::before, #sk-container-id-1 div.sk-parallel-item::before {content: \"\";position: absolute;border-left: 1px solid gray;box-sizing: border-box;top: 0;bottom: 0;left: 50%;z-index: -1;}#sk-container-id-1 div.sk-parallel-item {display: flex;flex-direction: column;z-index: 1;position: relative;background-color: white;}#sk-container-id-1 div.sk-parallel-item:first-child::after {align-self: flex-end;width: 50%;}#sk-container-id-1 div.sk-parallel-item:last-child::after {align-self: flex-start;width: 50%;}#sk-container-id-1 div.sk-parallel-item:only-child::after {width: 0;}#sk-container-id-1 div.sk-dashed-wrapped {border: 1px dashed gray;margin: 0 0.4em 0.5em 0.4em;box-sizing: border-box;padding-bottom: 0.4em;background-color: white;}#sk-container-id-1 div.sk-label label {font-family: monospace;font-weight: bold;display: inline-block;line-height: 1.2em;}#sk-container-id-1 div.sk-label-container {text-align: center;}#sk-container-id-1 div.sk-container {/* jupyter's `normalize.less` sets `[hidden] { display: none; }` but bootstrap.min.css set `[hidden] { display: none !important; }` so we also need the `!important` here to be able to override the default hidden behavior on the sphinx rendered scikit-learn.org. See: https://github.com/scikit-learn/scikit-learn/issues/21755 */display: inline-block !important;position: relative;}#sk-container-id-1 div.sk-text-repr-fallback {display: none;}</style><div id=\"sk-container-id-1\" class=\"sk-top-container\"><div class=\"sk-text-repr-fallback\"><pre>DecisionTreeClassifier()</pre><b>In a Jupyter environment, please rerun this cell to show the HTML representation or trust the notebook. <br />On GitHub, the HTML representation is unable to render, please try loading this page with nbviewer.org.</b></div><div class=\"sk-container\" hidden><div class=\"sk-item\"><div class=\"sk-estimator sk-toggleable\"><input class=\"sk-toggleable__control sk-hidden--visually\" id=\"sk-estimator-id-1\" type=\"checkbox\" checked><label for=\"sk-estimator-id-1\" class=\"sk-toggleable__label sk-toggleable__label-arrow\">DecisionTreeClassifier</label><div class=\"sk-toggleable__content\"><pre>DecisionTreeClassifier()</pre></div></div></div></div></div>"
      ],
      "text/plain": [
       "DecisionTreeClassifier()"
      ]
     },
     "execution_count": 108,
     "metadata": {},
     "output_type": "execute_result"
    }
   ],
   "source": [
    "# Training the model\n",
    "dtc_model = DecisionTreeClassifier()\n",
    "dtc_model.fit(X_train,y_train)"
   ]
  },
  {
   "cell_type": "markdown",
   "id": "9def290b",
   "metadata": {},
   "source": [
    "#### Evaluating the Model"
   ]
  },
  {
   "cell_type": "code",
   "execution_count": 114,
   "id": "99ae4a9c",
   "metadata": {},
   "outputs": [],
   "source": [
    "# for regression we use R2 score and MAE(mean absolute error)\n",
    "# all other steps will be same as classification as shown above\n",
    "from sklearn.metrics import mean_absolute_error\n",
    "from sklearn.metrics import r2_score\n",
    "from sklearn.metrics import precision_score\n",
    "from sklearn.metrics import recall_score"
   ]
  },
  {
   "cell_type": "code",
   "execution_count": 116,
   "id": "19b1e2da",
   "metadata": {},
   "outputs": [
    {
     "name": "stdout",
     "output_type": "stream",
     "text": [
      "Accuracy Score :  1.0\n",
      "Precision Score :  1.0\n",
      "Recall Score :  1.0\n",
      "Mean Absolute Error :  0.0\n"
     ]
    }
   ],
   "source": [
    "# Evaluating the Model\n",
    "\n",
    "# We use the predict() on the model to predict the output\n",
    "pred = dtc_model.predict(X_test)\n",
    " \n",
    "print(\"Accuracy Score : \",accuracy_score(y_test,pred))\n",
    "print(\"Precision Score : \",precision_score(y_test, pred, average='micro'))\n",
    "print(\"Recall Score : \",recall_score(y_test, pred, average='micro'))\n",
    "print(\"Mean Absolute Error : \",mean_absolute_error(y_test,pred))\n"
   ]
  },
  {
   "cell_type": "markdown",
   "id": "07bf0115",
   "metadata": {},
   "source": [
    "#### Confusion Matrix"
   ]
  },
  {
   "cell_type": "code",
   "execution_count": 130,
   "id": "1da18015",
   "metadata": {},
   "outputs": [],
   "source": [
    "from sklearn.metrics import ConfusionMatrixDisplay\n",
    "import matplotlib.pyplot as plt\n",
    "from sklearn.metrics import confusion_matrix\n",
    "import seaborn as sns"
   ]
  },
  {
   "cell_type": "code",
   "execution_count": 128,
   "id": "3d53bb92",
   "metadata": {},
   "outputs": [],
   "source": [
    "cf_matrix = confusion_matrix(y_test, pred)"
   ]
  },
  {
   "cell_type": "code",
   "execution_count": 129,
   "id": "aa906d4e",
   "metadata": {},
   "outputs": [
    {
     "data": {
      "image/png": "[encoded data removed]",
      "text/plain": [
       "<Figure size 640x480 with 2 Axes>"
      ]
     },
     "metadata": {},
     "output_type": "display_data"
    }
   ],
   "source": [
    "#Plotting confusion Matrix using SKLearn\n",
    "conf_matrix = confusion_matrix(y_true=y_test, y_pred=pred)\n",
    "vis = ConfusionMatrixDisplay(confusion_matrix=conf_matrix, display_labels=dtc_model.classes_)\n",
    "vis.plot()\n",
    "plt.show()"
   ]
  },
  {
   "cell_type": "code",
   "execution_count": 134,
   "id": "7cd99d31",
   "metadata": {},
   "outputs": [
    {
     "data": {
      "image/png": "[encoded data removed]",
      "text/plain": [
       "<Figure size 640x480 with 2 Axes>"
      ]
     },
     "metadata": {},
     "output_type": "display_data"
    }
   ],
   "source": [
    "# Plotting a Confusion Matrix in Seaborn\n",
    "conf_matrix = confusion_matrix(y_test, pred, labels=dtc_model.classes_)\n",
    "sns.heatmap(conf_matrix,\n",
    "            annot=True,\n",
    "            fmt='g',\n",
    "            xticklabels=dtc_model.classes_,\n",
    "            yticklabels=dtc_model.classes_,\n",
    "    )\n",
    "plt.ylabel('Predicted values',fontsize=13)\n",
    "plt.xlabel('Actual values',fontsize=13)\n",
    "plt.title('Confusion Matrix',fontsize=17)\n",
    "plt.show()"
   ]
  },
  {
   "cell_type": "markdown",
   "id": "e180ec0e",
   "metadata": {},
   "source": [
    "### Logistic Regression "
   ]
  },
  {
   "cell_type": "code",
   "execution_count": 136,
   "id": "91cf1ef1",
   "metadata": {},
   "outputs": [],
   "source": [
    "from sklearn.linear_model import LogisticRegression"
   ]
  },
  {
   "cell_type": "code",
   "execution_count": 137,
   "id": "d34e23fd",
   "metadata": {},
   "outputs": [
    {
     "data": {
      "text/html": [
       "<style>#sk-container-id-2 {color: black;background-color: white;}#sk-container-id-2 pre{padding: 0;}#sk-container-id-2 div.sk-toggleable {background-color: white;}#sk-container-id-2 label.sk-toggleable__label {cursor: pointer;display: block;width: 100%;margin-bottom: 0;padding: 0.3em;box-sizing: border-box;text-align: center;}#sk-container-id-2 label.sk-toggleable__label-arrow:before {content: \"▸\";float: left;margin-right: 0.25em;color: #696969;}#sk-container-id-2 label.sk-toggleable__label-arrow:hover:before {color: black;}#sk-container-id-2 div.sk-estimator:hover label.sk-toggleable__label-arrow:before {color: black;}#sk-container-id-2 div.sk-toggleable__content {max-height: 0;max-width: 0;overflow: hidden;text-align: left;background-color: #f0f8ff;}#sk-container-id-2 div.sk-toggleable__content pre {margin: 0.2em;color: black;border-radius: 0.25em;background-color: #f0f8ff;}#sk-container-id-2 input.sk-toggleable__control:checked~div.sk-toggleable__content {max-height: 200px;max-width: 100%;overflow: auto;}#sk-container-id-2 input.sk-toggleable__control:checked~label.sk-toggleable__label-arrow:before {content: \"▾\";}#sk-container-id-2 div.sk-estimator input.sk-toggleable__control:checked~label.sk-toggleable__label {background-color: #d4ebff;}#sk-container-id-2 div.sk-label input.sk-toggleable__control:checked~label.sk-toggleable__label {background-color: #d4ebff;}#sk-container-id-2 input.sk-hidden--visually {border: 0;clip: rect(1px 1px 1px 1px);clip: rect(1px, 1px, 1px, 1px);height: 1px;margin: -1px;overflow: hidden;padding: 0;position: absolute;width: 1px;}#sk-container-id-2 div.sk-estimator {font-family: monospace;background-color: #f0f8ff;border: 1px dotted black;border-radius: 0.25em;box-sizing: border-box;margin-bottom: 0.5em;}#sk-container-id-2 div.sk-estimator:hover {background-color: #d4ebff;}#sk-container-id-2 div.sk-parallel-item::after {content: \"\";width: 100%;border-bottom: 1px solid gray;flex-grow: 1;}#sk-container-id-2 div.sk-label:hover label.sk-toggleable__label {background-color: #d4ebff;}#sk-container-id-2 div.sk-serial::before {content: \"\";position: absolute;border-left: 1px solid gray;box-sizing: border-box;top: 0;bottom: 0;left: 50%;z-index: 0;}#sk-container-id-2 div.sk-serial {display: flex;flex-direction: column;align-items: center;background-color: white;padding-right: 0.2em;padding-left: 0.2em;position: relative;}#sk-container-id-2 div.sk-item {position: relative;z-index: 1;}#sk-container-id-2 div.sk-parallel {display: flex;align-items: stretch;justify-content: center;background-color: white;position: relative;}#sk-container-id-2 div.sk-item::before, #sk-container-id-2 div.sk-parallel-item::before {content: \"\";position: absolute;border-left: 1px solid gray;box-sizing: border-box;top: 0;bottom: 0;left: 50%;z-index: -1;}#sk-container-id-2 div.sk-parallel-item {display: flex;flex-direction: column;z-index: 1;position: relative;background-color: white;}#sk-container-id-2 div.sk-parallel-item:first-child::after {align-self: flex-end;width: 50%;}#sk-container-id-2 div.sk-parallel-item:last-child::after {align-self: flex-start;width: 50%;}#sk-container-id-2 div.sk-parallel-item:only-child::after {width: 0;}#sk-container-id-2 div.sk-dashed-wrapped {border: 1px dashed gray;margin: 0 0.4em 0.5em 0.4em;box-sizing: border-box;padding-bottom: 0.4em;background-color: white;}#sk-container-id-2 div.sk-label label {font-family: monospace;font-weight: bold;display: inline-block;line-height: 1.2em;}#sk-container-id-2 div.sk-label-container {text-align: center;}#sk-container-id-2 div.sk-container {/* jupyter's `normalize.less` sets `[hidden] { display: none; }` but bootstrap.min.css set `[hidden] { display: none !important; }` so we also need the `!important` here to be able to override the default hidden behavior on the sphinx rendered scikit-learn.org. See: https://github.com/scikit-learn/scikit-learn/issues/21755 */display: inline-block !important;position: relative;}#sk-container-id-2 div.sk-text-repr-fallback {display: none;}</style><div id=\"sk-container-id-2\" class=\"sk-top-container\"><div class=\"sk-text-repr-fallback\"><pre>LogisticRegression()</pre><b>In a Jupyter environment, please rerun this cell to show the HTML representation or trust the notebook. <br />On GitHub, the HTML representation is unable to render, please try loading this page with nbviewer.org.</b></div><div class=\"sk-container\" hidden><div class=\"sk-item\"><div class=\"sk-estimator sk-toggleable\"><input class=\"sk-toggleable__control sk-hidden--visually\" id=\"sk-estimator-id-2\" type=\"checkbox\" checked><label for=\"sk-estimator-id-2\" class=\"sk-toggleable__label sk-toggleable__label-arrow\">LogisticRegression</label><div class=\"sk-toggleable__content\"><pre>LogisticRegression()</pre></div></div></div></div></div>"
      ],
      "text/plain": [
       "LogisticRegression()"
      ]
     },
     "execution_count": 137,
     "metadata": {},
     "output_type": "execute_result"
    }
   ],
   "source": [
    "# Training the model\n",
    "lr_model = LogisticRegression()\n",
    "lr_model.fit(X_train,y_train)"
   ]
  },
  {
   "cell_type": "code",
   "execution_count": 138,
   "id": "a21f536f",
   "metadata": {},
   "outputs": [
    {
     "name": "stdout",
     "output_type": "stream",
     "text": [
      "Accuracy Score :  1.0\n",
      "Precision Score :  1.0\n",
      "Recall Score :  1.0\n",
      "Mean Absolute Error :  0.0\n"
     ]
    }
   ],
   "source": [
    "# Evaluating the Model\n",
    "# We use the predict() on the model to predict the output\n",
    "pred = lr_model.predict(X_test)\n",
    " \n",
    "print(\"Accuracy Score : \",accuracy_score(y_test,pred))\n",
    "print(\"Precision Score : \",precision_score(y_test, pred, average='micro'))\n",
    "print(\"Recall Score : \",recall_score(y_test, pred, average='micro'))\n",
    "print(\"Mean Absolute Error : \",mean_absolute_error(y_test,pred))"
   ]
  },
  {
   "cell_type": "code",
   "execution_count": 139,
   "id": "2e528426",
   "metadata": {},
   "outputs": [],
   "source": [
    "# Confusion Matrix\n",
    "cf_matrix = confusion_matrix(y_test, pred)"
   ]
  },
  {
   "cell_type": "code",
   "execution_count": 140,
   "id": "acda4b69",
   "metadata": {},
   "outputs": [
    {
     "data": {
      "image/png": "[encoded data removed]",
      "text/plain": [
       "<Figure size 640x480 with 2 Axes>"
      ]
     },
     "metadata": {},
     "output_type": "display_data"
    }
   ],
   "source": [
    "# Plotting a Confusion Matrix in Seaborn\n",
    "conf_matrix = confusion_matrix(y_test, pred, labels=dtc_model.classes_)\n",
    "sns.heatmap(conf_matrix,\n",
    "            annot=True,\n",
    "            fmt='g',\n",
    "            xticklabels=dtc_model.classes_,\n",
    "            yticklabels=dtc_model.classes_,\n",
    "    )\n",
    "plt.ylabel('Predicted values',fontsize=13)\n",
    "plt.xlabel('Actual values',fontsize=13)\n",
    "plt.title('Confusion Matrix',fontsize=17)\n",
    "plt.show()"
   ]
  },
  {
   "cell_type": "markdown",
   "id": "c4995f8f",
   "metadata": {},
   "source": [
    "### K Nearest Neighbour"
   ]
  },
  {
   "cell_type": "code",
   "execution_count": null,
   "id": "cf2f744c",
   "metadata": {},
   "outputs": [],
   "source": [
    "from sklearn.neighbors import KNeighborsClassifier"
   ]
  }
 ],
 "metadata": {
  "kernelspec": {
   "display_name": "Python 3 (ipykernel)",
   "language": "python",
   "name": "python3"
  },
  "language_info": {
   "codemirror_mode": {
    "name": "ipython",
    "version": 3
   },
   "file_extension": ".py",
   "mimetype": "text/x-python",
   "name": "python",
   "nbconvert_exporter": "python",
   "pygments_lexer": "ipython3",
   "version": "3.11.2"
  }
 },
 "nbformat": 4,
 "nbformat_minor": 5
}
