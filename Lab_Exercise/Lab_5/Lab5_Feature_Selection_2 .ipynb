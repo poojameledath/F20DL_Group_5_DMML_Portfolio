{
  "cells": [
    {
      "cell_type": "markdown",
      "id": "ZaWcSppR5Qf3",
      "metadata": {
        "id": "ZaWcSppR5Qf3"
      },
      "source": [
        "## Importing libraries"
      ]
    },
    {
      "cell_type": "code",
      "execution_count": 227,
      "id": "XNUYcN4a5Qf6",
      "metadata": {
        "id": "XNUYcN4a5Qf6"
      },
      "outputs": [],
      "source": [
        "import pandas as pd\n",
        "from sklearn.preprocessing import LabelEncoder\n",
        "from sklearn.feature_selection import mutual_info_classif\n",
        "import opendatasets as od\n",
        "import numpy as np\n",
        "import openpyxl"
      ]
    },
    {
      "cell_type": "code",
      "execution_count": 228,
      "id": "in2iH7ZF5Qf8",
      "metadata": {
        "colab": {
          "base_uri": "https://localhost:8080/"
        },
        "id": "in2iH7ZF5Qf8",
        "outputId": "e560f752-ba87-4bca-b668-b373dbe4964c"
      },
      "outputs": [
        {
          "name": "stdout",
          "output_type": "stream",
          "text": [
            "Requirement already satisfied: opendatasets in /usr/local/lib/python3.11/site-packages (0.1.22)\n",
            "Requirement already satisfied: tqdm in /usr/local/lib/python3.11/site-packages (from opendatasets) (4.66.1)\n",
            "Requirement already satisfied: kaggle in /usr/local/lib/python3.11/site-packages (from opendatasets) (1.5.16)\n",
            "Requirement already satisfied: click in /usr/local/lib/python3.11/site-packages (from opendatasets) (8.1.7)\n",
            "Requirement already satisfied: six>=1.10 in /usr/local/lib/python3.11/site-packages (from kaggle->opendatasets) (1.16.0)\n",
            "Requirement already satisfied: certifi in /usr/local/lib/python3.11/site-packages (from kaggle->opendatasets) (2023.7.22)\n",
            "Requirement already satisfied: python-dateutil in /usr/local/lib/python3.11/site-packages (from kaggle->opendatasets) (2.8.2)\n",
            "Requirement already satisfied: requests in /usr/local/lib/python3.11/site-packages (from kaggle->opendatasets) (2.31.0)\n",
            "Requirement already satisfied: python-slugify in /usr/local/lib/python3.11/site-packages (from kaggle->opendatasets) (8.0.1)\n",
            "Requirement already satisfied: urllib3 in /usr/local/lib/python3.11/site-packages (from kaggle->opendatasets) (2.0.4)\n",
            "Requirement already satisfied: bleach in /usr/local/lib/python3.11/site-packages (from kaggle->opendatasets) (6.0.0)\n",
            "Requirement already satisfied: webencodings in /usr/local/lib/python3.11/site-packages (from bleach->kaggle->opendatasets) (0.5.1)\n",
            "Requirement already satisfied: text-unidecode>=1.3 in /usr/local/lib/python3.11/site-packages (from python-slugify->kaggle->opendatasets) (1.3)\n",
            "Requirement already satisfied: charset-normalizer<4,>=2 in /usr/local/lib/python3.11/site-packages (from requests->kaggle->opendatasets) (3.2.0)\n",
            "Requirement already satisfied: idna<4,>=2.5 in /usr/local/lib/python3.11/site-packages (from requests->kaggle->opendatasets) (3.4)\n",
            "\n",
            "\u001b[1m[\u001b[0m\u001b[34;49mnotice\u001b[0m\u001b[1;39;49m]\u001b[0m\u001b[39;49m A new release of pip is available: \u001b[0m\u001b[31;49m23.2.1\u001b[0m\u001b[39;49m -> \u001b[0m\u001b[32;49m23.3\u001b[0m\n",
            "\u001b[1m[\u001b[0m\u001b[34;49mnotice\u001b[0m\u001b[1;39;49m]\u001b[0m\u001b[39;49m To update, run: \u001b[0m\u001b[32;49mpython3.11 -m pip install --upgrade pip\u001b[0m\n"
          ]
        }
      ],
      "source": [
        "!pip3 install opendatasets"
      ]
    },
    {
      "cell_type": "markdown",
      "id": "G_5wBMRPGNOb",
      "metadata": {
        "id": "G_5wBMRPGNOb"
      },
      "source": [
        "#LAB 1 & 2"
      ]
    },
    {
      "cell_type": "markdown",
      "id": "5c34a583",
      "metadata": {},
      "source": []
    },
    {
      "cell_type": "markdown",
      "id": "U0gwcIvs5Qf8",
      "metadata": {
        "id": "U0gwcIvs5Qf8"
      },
      "source": [
        "## Importing dataset"
      ]
    },
    {
      "cell_type": "code",
      "execution_count": 229,
      "id": "fpsOwIUZ5Qf9",
      "metadata": {
        "colab": {
          "base_uri": "https://localhost:8080/"
        },
        "id": "fpsOwIUZ5Qf9",
        "outputId": "a91a7ecc-c77e-44ce-8453-ae867c709f29"
      },
      "outputs": [
        {
          "name": "stdout",
          "output_type": "stream",
          "text": [
            "Skipping, found downloaded files in \"./dry-bean-dataset\" (use force=True to force download)\n"
          ]
        }
      ],
      "source": [
        "# df = pd.read_excel(\"./Bean/Drybean.xlsx\")\n",
        "# df_class1 = pd.read_excel(\"./Bean/Drybean_seker.xlsx\")\n",
        "\n",
        "od.download(\"https://www.kaggle.com/datasets/muratkokludataset/dry-bean-dataset\")"
      ]
    },
    {
      "cell_type": "code",
      "execution_count": 230,
      "id": "MUBZcffQ5Qf9",
      "metadata": {
        "id": "MUBZcffQ5Qf9"
      },
      "outputs": [],
      "source": [
        "#reading the imported dataset\n",
        "df = pd.read_excel(\"./dry-bean-dataset/Dry_Bean_Dataset/Dry_Bean_Dataset.xlsx\")"
      ]
    },
    {
      "cell_type": "markdown",
      "id": "tfbXqrDQ5Qf-",
      "metadata": {
        "id": "tfbXqrDQ5Qf-"
      },
      "source": [
        "## Prints the summary statistics for each numerical column"
      ]
    },
    {
      "cell_type": "code",
      "execution_count": 231,
      "id": "zzUMO-0k5Qf-",
      "metadata": {
        "colab": {
          "base_uri": "https://localhost:8080/"
        },
        "id": "zzUMO-0k5Qf-",
        "outputId": "a2e6e563-8906-4744-bfaa-ba661d094f88"
      },
      "outputs": [
        {
          "data": {
            "text/html": [
              "<div>\n",
              "<style scoped>\n",
              "    .dataframe tbody tr th:only-of-type {\n",
              "        vertical-align: middle;\n",
              "    }\n",
              "\n",
              "    .dataframe tbody tr th {\n",
              "        vertical-align: top;\n",
              "    }\n",
              "\n",
              "    .dataframe thead th {\n",
              "        text-align: right;\n",
              "    }\n",
              "</style>\n",
              "<table border=\"1\" class=\"dataframe\">\n",
              "  <thead>\n",
              "    <tr style=\"text-align: right;\">\n",
              "      <th></th>\n",
              "      <th>Area</th>\n",
              "      <th>Perimeter</th>\n",
              "      <th>MajorAxisLength</th>\n",
              "      <th>MinorAxisLength</th>\n",
              "      <th>AspectRation</th>\n",
              "      <th>Eccentricity</th>\n",
              "      <th>ConvexArea</th>\n",
              "      <th>EquivDiameter</th>\n",
              "      <th>Extent</th>\n",
              "      <th>Solidity</th>\n",
              "      <th>roundness</th>\n",
              "      <th>Compactness</th>\n",
              "      <th>ShapeFactor1</th>\n",
              "      <th>ShapeFactor2</th>\n",
              "      <th>ShapeFactor3</th>\n",
              "      <th>ShapeFactor4</th>\n",
              "    </tr>\n",
              "  </thead>\n",
              "  <tbody>\n",
              "    <tr>\n",
              "      <th>count</th>\n",
              "      <td>13611.000000</td>\n",
              "      <td>13611.000000</td>\n",
              "      <td>13611.000000</td>\n",
              "      <td>13611.000000</td>\n",
              "      <td>13611.000000</td>\n",
              "      <td>13611.000000</td>\n",
              "      <td>13611.000000</td>\n",
              "      <td>13611.000000</td>\n",
              "      <td>13611.000000</td>\n",
              "      <td>13611.000000</td>\n",
              "      <td>13611.000000</td>\n",
              "      <td>13611.000000</td>\n",
              "      <td>13611.000000</td>\n",
              "      <td>13611.000000</td>\n",
              "      <td>13611.000000</td>\n",
              "      <td>13611.000000</td>\n",
              "    </tr>\n",
              "    <tr>\n",
              "      <th>mean</th>\n",
              "      <td>53048.284549</td>\n",
              "      <td>855.283459</td>\n",
              "      <td>320.141867</td>\n",
              "      <td>202.270714</td>\n",
              "      <td>1.583242</td>\n",
              "      <td>0.750895</td>\n",
              "      <td>53768.200206</td>\n",
              "      <td>253.064220</td>\n",
              "      <td>0.749733</td>\n",
              "      <td>0.987143</td>\n",
              "      <td>0.873282</td>\n",
              "      <td>0.799864</td>\n",
              "      <td>0.006564</td>\n",
              "      <td>0.001716</td>\n",
              "      <td>0.643590</td>\n",
              "      <td>0.995063</td>\n",
              "    </tr>\n",
              "    <tr>\n",
              "      <th>std</th>\n",
              "      <td>29324.095717</td>\n",
              "      <td>214.289696</td>\n",
              "      <td>85.694186</td>\n",
              "      <td>44.970091</td>\n",
              "      <td>0.246678</td>\n",
              "      <td>0.092002</td>\n",
              "      <td>29774.915817</td>\n",
              "      <td>59.177120</td>\n",
              "      <td>0.049086</td>\n",
              "      <td>0.004660</td>\n",
              "      <td>0.059520</td>\n",
              "      <td>0.061713</td>\n",
              "      <td>0.001128</td>\n",
              "      <td>0.000596</td>\n",
              "      <td>0.098996</td>\n",
              "      <td>0.004366</td>\n",
              "    </tr>\n",
              "    <tr>\n",
              "      <th>min</th>\n",
              "      <td>20420.000000</td>\n",
              "      <td>524.736000</td>\n",
              "      <td>183.601165</td>\n",
              "      <td>122.512653</td>\n",
              "      <td>1.024868</td>\n",
              "      <td>0.218951</td>\n",
              "      <td>20684.000000</td>\n",
              "      <td>161.243764</td>\n",
              "      <td>0.555315</td>\n",
              "      <td>0.919246</td>\n",
              "      <td>0.489618</td>\n",
              "      <td>0.640577</td>\n",
              "      <td>0.002778</td>\n",
              "      <td>0.000564</td>\n",
              "      <td>0.410339</td>\n",
              "      <td>0.947687</td>\n",
              "    </tr>\n",
              "    <tr>\n",
              "      <th>25%</th>\n",
              "      <td>36328.000000</td>\n",
              "      <td>703.523500</td>\n",
              "      <td>253.303633</td>\n",
              "      <td>175.848170</td>\n",
              "      <td>1.432307</td>\n",
              "      <td>0.715928</td>\n",
              "      <td>36714.500000</td>\n",
              "      <td>215.068003</td>\n",
              "      <td>0.718634</td>\n",
              "      <td>0.985670</td>\n",
              "      <td>0.832096</td>\n",
              "      <td>0.762469</td>\n",
              "      <td>0.005900</td>\n",
              "      <td>0.001154</td>\n",
              "      <td>0.581359</td>\n",
              "      <td>0.993703</td>\n",
              "    </tr>\n",
              "    <tr>\n",
              "      <th>50%</th>\n",
              "      <td>44652.000000</td>\n",
              "      <td>794.941000</td>\n",
              "      <td>296.883367</td>\n",
              "      <td>192.431733</td>\n",
              "      <td>1.551124</td>\n",
              "      <td>0.764441</td>\n",
              "      <td>45178.000000</td>\n",
              "      <td>238.438026</td>\n",
              "      <td>0.759859</td>\n",
              "      <td>0.988283</td>\n",
              "      <td>0.883157</td>\n",
              "      <td>0.801277</td>\n",
              "      <td>0.006645</td>\n",
              "      <td>0.001694</td>\n",
              "      <td>0.642044</td>\n",
              "      <td>0.996386</td>\n",
              "    </tr>\n",
              "    <tr>\n",
              "      <th>75%</th>\n",
              "      <td>61332.000000</td>\n",
              "      <td>977.213000</td>\n",
              "      <td>376.495012</td>\n",
              "      <td>217.031741</td>\n",
              "      <td>1.707109</td>\n",
              "      <td>0.810466</td>\n",
              "      <td>62294.000000</td>\n",
              "      <td>279.446467</td>\n",
              "      <td>0.786851</td>\n",
              "      <td>0.990013</td>\n",
              "      <td>0.916869</td>\n",
              "      <td>0.834270</td>\n",
              "      <td>0.007271</td>\n",
              "      <td>0.002170</td>\n",
              "      <td>0.696006</td>\n",
              "      <td>0.997883</td>\n",
              "    </tr>\n",
              "    <tr>\n",
              "      <th>max</th>\n",
              "      <td>254616.000000</td>\n",
              "      <td>1985.370000</td>\n",
              "      <td>738.860153</td>\n",
              "      <td>460.198497</td>\n",
              "      <td>2.430306</td>\n",
              "      <td>0.911423</td>\n",
              "      <td>263261.000000</td>\n",
              "      <td>569.374358</td>\n",
              "      <td>0.866195</td>\n",
              "      <td>0.994677</td>\n",
              "      <td>0.990685</td>\n",
              "      <td>0.987303</td>\n",
              "      <td>0.010451</td>\n",
              "      <td>0.003665</td>\n",
              "      <td>0.974767</td>\n",
              "      <td>0.999733</td>\n",
              "    </tr>\n",
              "  </tbody>\n",
              "</table>\n",
              "</div>"
            ],
            "text/plain": [
              "                Area     Perimeter  MajorAxisLength  MinorAxisLength  \\\n",
              "count   13611.000000  13611.000000     13611.000000     13611.000000   \n",
              "mean    53048.284549    855.283459       320.141867       202.270714   \n",
              "std     29324.095717    214.289696        85.694186        44.970091   \n",
              "min     20420.000000    524.736000       183.601165       122.512653   \n",
              "25%     36328.000000    703.523500       253.303633       175.848170   \n",
              "50%     44652.000000    794.941000       296.883367       192.431733   \n",
              "75%     61332.000000    977.213000       376.495012       217.031741   \n",
              "max    254616.000000   1985.370000       738.860153       460.198497   \n",
              "\n",
              "       AspectRation  Eccentricity     ConvexArea  EquivDiameter        Extent  \\\n",
              "count  13611.000000  13611.000000   13611.000000   13611.000000  13611.000000   \n",
              "mean       1.583242      0.750895   53768.200206     253.064220      0.749733   \n",
              "std        0.246678      0.092002   29774.915817      59.177120      0.049086   \n",
              "min        1.024868      0.218951   20684.000000     161.243764      0.555315   \n",
              "25%        1.432307      0.715928   36714.500000     215.068003      0.718634   \n",
              "50%        1.551124      0.764441   45178.000000     238.438026      0.759859   \n",
              "75%        1.707109      0.810466   62294.000000     279.446467      0.786851   \n",
              "max        2.430306      0.911423  263261.000000     569.374358      0.866195   \n",
              "\n",
              "           Solidity     roundness   Compactness  ShapeFactor1  ShapeFactor2  \\\n",
              "count  13611.000000  13611.000000  13611.000000  13611.000000  13611.000000   \n",
              "mean       0.987143      0.873282      0.799864      0.006564      0.001716   \n",
              "std        0.004660      0.059520      0.061713      0.001128      0.000596   \n",
              "min        0.919246      0.489618      0.640577      0.002778      0.000564   \n",
              "25%        0.985670      0.832096      0.762469      0.005900      0.001154   \n",
              "50%        0.988283      0.883157      0.801277      0.006645      0.001694   \n",
              "75%        0.990013      0.916869      0.834270      0.007271      0.002170   \n",
              "max        0.994677      0.990685      0.987303      0.010451      0.003665   \n",
              "\n",
              "       ShapeFactor3  ShapeFactor4  \n",
              "count  13611.000000  13611.000000  \n",
              "mean       0.643590      0.995063  \n",
              "std        0.098996      0.004366  \n",
              "min        0.410339      0.947687  \n",
              "25%        0.581359      0.993703  \n",
              "50%        0.642044      0.996386  \n",
              "75%        0.696006      0.997883  \n",
              "max        0.974767      0.999733  "
            ]
          },
          "execution_count": 231,
          "metadata": {},
          "output_type": "execute_result"
        }
      ],
      "source": [
        "df.describe()"
      ]
    },
    {
      "cell_type": "markdown",
      "id": "ZgFGbdOu5Qf_",
      "metadata": {
        "id": "ZgFGbdOu5Qf_"
      },
      "source": [
        "## The head function prints the first n-rows. (default = 5)"
      ]
    },
    {
      "cell_type": "code",
      "execution_count": 232,
      "id": "Hoh5SkrL5Qf_",
      "metadata": {
        "colab": {
          "base_uri": "https://localhost:8080/"
        },
        "id": "Hoh5SkrL5Qf_",
        "outputId": "2da52cd8-dec6-43be-b1d1-1f8af3c0cf83"
      },
      "outputs": [
        {
          "data": {
            "text/html": [
              "<div>\n",
              "<style scoped>\n",
              "    .dataframe tbody tr th:only-of-type {\n",
              "        vertical-align: middle;\n",
              "    }\n",
              "\n",
              "    .dataframe tbody tr th {\n",
              "        vertical-align: top;\n",
              "    }\n",
              "\n",
              "    .dataframe thead th {\n",
              "        text-align: right;\n",
              "    }\n",
              "</style>\n",
              "<table border=\"1\" class=\"dataframe\">\n",
              "  <thead>\n",
              "    <tr style=\"text-align: right;\">\n",
              "      <th></th>\n",
              "      <th>Area</th>\n",
              "      <th>Perimeter</th>\n",
              "      <th>MajorAxisLength</th>\n",
              "      <th>MinorAxisLength</th>\n",
              "      <th>AspectRation</th>\n",
              "      <th>Eccentricity</th>\n",
              "      <th>ConvexArea</th>\n",
              "      <th>EquivDiameter</th>\n",
              "      <th>Extent</th>\n",
              "      <th>Solidity</th>\n",
              "      <th>roundness</th>\n",
              "      <th>Compactness</th>\n",
              "      <th>ShapeFactor1</th>\n",
              "      <th>ShapeFactor2</th>\n",
              "      <th>ShapeFactor3</th>\n",
              "      <th>ShapeFactor4</th>\n",
              "      <th>Class</th>\n",
              "    </tr>\n",
              "  </thead>\n",
              "  <tbody>\n",
              "    <tr>\n",
              "      <th>0</th>\n",
              "      <td>28395</td>\n",
              "      <td>610.291</td>\n",
              "      <td>208.178117</td>\n",
              "      <td>173.888747</td>\n",
              "      <td>1.197191</td>\n",
              "      <td>0.549812</td>\n",
              "      <td>28715</td>\n",
              "      <td>190.141097</td>\n",
              "      <td>0.763923</td>\n",
              "      <td>0.988856</td>\n",
              "      <td>0.958027</td>\n",
              "      <td>0.913358</td>\n",
              "      <td>0.007332</td>\n",
              "      <td>0.003147</td>\n",
              "      <td>0.834222</td>\n",
              "      <td>0.998724</td>\n",
              "      <td>SEKER</td>\n",
              "    </tr>\n",
              "    <tr>\n",
              "      <th>1</th>\n",
              "      <td>28734</td>\n",
              "      <td>638.018</td>\n",
              "      <td>200.524796</td>\n",
              "      <td>182.734419</td>\n",
              "      <td>1.097356</td>\n",
              "      <td>0.411785</td>\n",
              "      <td>29172</td>\n",
              "      <td>191.272750</td>\n",
              "      <td>0.783968</td>\n",
              "      <td>0.984986</td>\n",
              "      <td>0.887034</td>\n",
              "      <td>0.953861</td>\n",
              "      <td>0.006979</td>\n",
              "      <td>0.003564</td>\n",
              "      <td>0.909851</td>\n",
              "      <td>0.998430</td>\n",
              "      <td>SEKER</td>\n",
              "    </tr>\n",
              "    <tr>\n",
              "      <th>2</th>\n",
              "      <td>29380</td>\n",
              "      <td>624.110</td>\n",
              "      <td>212.826130</td>\n",
              "      <td>175.931143</td>\n",
              "      <td>1.209713</td>\n",
              "      <td>0.562727</td>\n",
              "      <td>29690</td>\n",
              "      <td>193.410904</td>\n",
              "      <td>0.778113</td>\n",
              "      <td>0.989559</td>\n",
              "      <td>0.947849</td>\n",
              "      <td>0.908774</td>\n",
              "      <td>0.007244</td>\n",
              "      <td>0.003048</td>\n",
              "      <td>0.825871</td>\n",
              "      <td>0.999066</td>\n",
              "      <td>SEKER</td>\n",
              "    </tr>\n",
              "    <tr>\n",
              "      <th>3</th>\n",
              "      <td>30008</td>\n",
              "      <td>645.884</td>\n",
              "      <td>210.557999</td>\n",
              "      <td>182.516516</td>\n",
              "      <td>1.153638</td>\n",
              "      <td>0.498616</td>\n",
              "      <td>30724</td>\n",
              "      <td>195.467062</td>\n",
              "      <td>0.782681</td>\n",
              "      <td>0.976696</td>\n",
              "      <td>0.903936</td>\n",
              "      <td>0.928329</td>\n",
              "      <td>0.007017</td>\n",
              "      <td>0.003215</td>\n",
              "      <td>0.861794</td>\n",
              "      <td>0.994199</td>\n",
              "      <td>SEKER</td>\n",
              "    </tr>\n",
              "    <tr>\n",
              "      <th>4</th>\n",
              "      <td>30140</td>\n",
              "      <td>620.134</td>\n",
              "      <td>201.847882</td>\n",
              "      <td>190.279279</td>\n",
              "      <td>1.060798</td>\n",
              "      <td>0.333680</td>\n",
              "      <td>30417</td>\n",
              "      <td>195.896503</td>\n",
              "      <td>0.773098</td>\n",
              "      <td>0.990893</td>\n",
              "      <td>0.984877</td>\n",
              "      <td>0.970516</td>\n",
              "      <td>0.006697</td>\n",
              "      <td>0.003665</td>\n",
              "      <td>0.941900</td>\n",
              "      <td>0.999166</td>\n",
              "      <td>SEKER</td>\n",
              "    </tr>\n",
              "  </tbody>\n",
              "</table>\n",
              "</div>"
            ],
            "text/plain": [
              "    Area  Perimeter  MajorAxisLength  MinorAxisLength  AspectRation  \\\n",
              "0  28395    610.291       208.178117       173.888747      1.197191   \n",
              "1  28734    638.018       200.524796       182.734419      1.097356   \n",
              "2  29380    624.110       212.826130       175.931143      1.209713   \n",
              "3  30008    645.884       210.557999       182.516516      1.153638   \n",
              "4  30140    620.134       201.847882       190.279279      1.060798   \n",
              "\n",
              "   Eccentricity  ConvexArea  EquivDiameter    Extent  Solidity  roundness  \\\n",
              "0      0.549812       28715     190.141097  0.763923  0.988856   0.958027   \n",
              "1      0.411785       29172     191.272750  0.783968  0.984986   0.887034   \n",
              "2      0.562727       29690     193.410904  0.778113  0.989559   0.947849   \n",
              "3      0.498616       30724     195.467062  0.782681  0.976696   0.903936   \n",
              "4      0.333680       30417     195.896503  0.773098  0.990893   0.984877   \n",
              "\n",
              "   Compactness  ShapeFactor1  ShapeFactor2  ShapeFactor3  ShapeFactor4  Class  \n",
              "0     0.913358      0.007332      0.003147      0.834222      0.998724  SEKER  \n",
              "1     0.953861      0.006979      0.003564      0.909851      0.998430  SEKER  \n",
              "2     0.908774      0.007244      0.003048      0.825871      0.999066  SEKER  \n",
              "3     0.928329      0.007017      0.003215      0.861794      0.994199  SEKER  \n",
              "4     0.970516      0.006697      0.003665      0.941900      0.999166  SEKER  "
            ]
          },
          "execution_count": 232,
          "metadata": {},
          "output_type": "execute_result"
        }
      ],
      "source": [
        "df.head()"
      ]
    },
    {
      "cell_type": "markdown",
      "id": "3ar2jFdP5QgA",
      "metadata": {
        "id": "3ar2jFdP5QgA"
      },
      "source": [
        "## Prints basic info about the dataframe"
      ]
    },
    {
      "cell_type": "code",
      "execution_count": 233,
      "id": "1wdS9vGz5QgA",
      "metadata": {
        "colab": {
          "base_uri": "https://localhost:8080/"
        },
        "id": "1wdS9vGz5QgA",
        "outputId": "293f03dc-0b15-4eda-f1be-dda5ddfb758d"
      },
      "outputs": [
        {
          "name": "stdout",
          "output_type": "stream",
          "text": [
            "<class 'pandas.core.frame.DataFrame'>\n",
            "RangeIndex: 13611 entries, 0 to 13610\n",
            "Data columns (total 17 columns):\n",
            " #   Column           Non-Null Count  Dtype  \n",
            "---  ------           --------------  -----  \n",
            " 0   Area             13611 non-null  int64  \n",
            " 1   Perimeter        13611 non-null  float64\n",
            " 2   MajorAxisLength  13611 non-null  float64\n",
            " 3   MinorAxisLength  13611 non-null  float64\n",
            " 4   AspectRation     13611 non-null  float64\n",
            " 5   Eccentricity     13611 non-null  float64\n",
            " 6   ConvexArea       13611 non-null  int64  \n",
            " 7   EquivDiameter    13611 non-null  float64\n",
            " 8   Extent           13611 non-null  float64\n",
            " 9   Solidity         13611 non-null  float64\n",
            " 10  roundness        13611 non-null  float64\n",
            " 11  Compactness      13611 non-null  float64\n",
            " 12  ShapeFactor1     13611 non-null  float64\n",
            " 13  ShapeFactor2     13611 non-null  float64\n",
            " 14  ShapeFactor3     13611 non-null  float64\n",
            " 15  ShapeFactor4     13611 non-null  float64\n",
            " 16  Class            13611 non-null  object \n",
            "dtypes: float64(14), int64(2), object(1)\n",
            "memory usage: 1.8+ MB\n"
          ]
        }
      ],
      "source": [
        "df.info()"
      ]
    },
    {
      "cell_type": "code",
      "execution_count": 234,
      "id": "u-nW3ryX5QgA",
      "metadata": {
        "id": "u-nW3ryX5QgA",
        "outputId": "7d335a92-f7df-4522-988c-e7d932a0f776"
      },
      "outputs": [
        {
          "data": {
            "text/html": [
              "<div>\n",
              "<style scoped>\n",
              "    .dataframe tbody tr th:only-of-type {\n",
              "        vertical-align: middle;\n",
              "    }\n",
              "\n",
              "    .dataframe tbody tr th {\n",
              "        vertical-align: top;\n",
              "    }\n",
              "\n",
              "    .dataframe thead th {\n",
              "        text-align: right;\n",
              "    }\n",
              "</style>\n",
              "<table border=\"1\" class=\"dataframe\">\n",
              "  <thead>\n",
              "    <tr style=\"text-align: right;\">\n",
              "      <th></th>\n",
              "      <th>Area</th>\n",
              "      <th>Perimeter</th>\n",
              "      <th>MajorAxisLength</th>\n",
              "      <th>MinorAxisLength</th>\n",
              "      <th>AspectRation</th>\n",
              "      <th>Eccentricity</th>\n",
              "      <th>ConvexArea</th>\n",
              "      <th>EquivDiameter</th>\n",
              "      <th>Extent</th>\n",
              "      <th>Solidity</th>\n",
              "      <th>roundness</th>\n",
              "      <th>Compactness</th>\n",
              "      <th>ShapeFactor1</th>\n",
              "      <th>ShapeFactor2</th>\n",
              "      <th>ShapeFactor3</th>\n",
              "      <th>ShapeFactor4</th>\n",
              "      <th>Class</th>\n",
              "    </tr>\n",
              "  </thead>\n",
              "  <tbody>\n",
              "    <tr>\n",
              "      <th>0</th>\n",
              "      <td>28395</td>\n",
              "      <td>610.291</td>\n",
              "      <td>208.178117</td>\n",
              "      <td>173.888747</td>\n",
              "      <td>1.197191</td>\n",
              "      <td>0.549812</td>\n",
              "      <td>28715</td>\n",
              "      <td>190.141097</td>\n",
              "      <td>0.763923</td>\n",
              "      <td>0.988856</td>\n",
              "      <td>0.958027</td>\n",
              "      <td>0.913358</td>\n",
              "      <td>0.007332</td>\n",
              "      <td>0.003147</td>\n",
              "      <td>0.834222</td>\n",
              "      <td>0.998724</td>\n",
              "      <td>SEKER</td>\n",
              "    </tr>\n",
              "    <tr>\n",
              "      <th>1</th>\n",
              "      <td>28734</td>\n",
              "      <td>638.018</td>\n",
              "      <td>200.524796</td>\n",
              "      <td>182.734419</td>\n",
              "      <td>1.097356</td>\n",
              "      <td>0.411785</td>\n",
              "      <td>29172</td>\n",
              "      <td>191.272750</td>\n",
              "      <td>0.783968</td>\n",
              "      <td>0.984986</td>\n",
              "      <td>0.887034</td>\n",
              "      <td>0.953861</td>\n",
              "      <td>0.006979</td>\n",
              "      <td>0.003564</td>\n",
              "      <td>0.909851</td>\n",
              "      <td>0.998430</td>\n",
              "      <td>SEKER</td>\n",
              "    </tr>\n",
              "    <tr>\n",
              "      <th>2</th>\n",
              "      <td>29380</td>\n",
              "      <td>624.110</td>\n",
              "      <td>212.826130</td>\n",
              "      <td>175.931143</td>\n",
              "      <td>1.209713</td>\n",
              "      <td>0.562727</td>\n",
              "      <td>29690</td>\n",
              "      <td>193.410904</td>\n",
              "      <td>0.778113</td>\n",
              "      <td>0.989559</td>\n",
              "      <td>0.947849</td>\n",
              "      <td>0.908774</td>\n",
              "      <td>0.007244</td>\n",
              "      <td>0.003048</td>\n",
              "      <td>0.825871</td>\n",
              "      <td>0.999066</td>\n",
              "      <td>SEKER</td>\n",
              "    </tr>\n",
              "    <tr>\n",
              "      <th>3</th>\n",
              "      <td>30008</td>\n",
              "      <td>645.884</td>\n",
              "      <td>210.557999</td>\n",
              "      <td>182.516516</td>\n",
              "      <td>1.153638</td>\n",
              "      <td>0.498616</td>\n",
              "      <td>30724</td>\n",
              "      <td>195.467062</td>\n",
              "      <td>0.782681</td>\n",
              "      <td>0.976696</td>\n",
              "      <td>0.903936</td>\n",
              "      <td>0.928329</td>\n",
              "      <td>0.007017</td>\n",
              "      <td>0.003215</td>\n",
              "      <td>0.861794</td>\n",
              "      <td>0.994199</td>\n",
              "      <td>SEKER</td>\n",
              "    </tr>\n",
              "    <tr>\n",
              "      <th>4</th>\n",
              "      <td>30140</td>\n",
              "      <td>620.134</td>\n",
              "      <td>201.847882</td>\n",
              "      <td>190.279279</td>\n",
              "      <td>1.060798</td>\n",
              "      <td>0.333680</td>\n",
              "      <td>30417</td>\n",
              "      <td>195.896503</td>\n",
              "      <td>0.773098</td>\n",
              "      <td>0.990893</td>\n",
              "      <td>0.984877</td>\n",
              "      <td>0.970516</td>\n",
              "      <td>0.006697</td>\n",
              "      <td>0.003665</td>\n",
              "      <td>0.941900</td>\n",
              "      <td>0.999166</td>\n",
              "      <td>SEKER</td>\n",
              "    </tr>\n",
              "  </tbody>\n",
              "</table>\n",
              "</div>"
            ],
            "text/plain": [
              "    Area  Perimeter  MajorAxisLength  MinorAxisLength  AspectRation  \\\n",
              "0  28395    610.291       208.178117       173.888747      1.197191   \n",
              "1  28734    638.018       200.524796       182.734419      1.097356   \n",
              "2  29380    624.110       212.826130       175.931143      1.209713   \n",
              "3  30008    645.884       210.557999       182.516516      1.153638   \n",
              "4  30140    620.134       201.847882       190.279279      1.060798   \n",
              "\n",
              "   Eccentricity  ConvexArea  EquivDiameter    Extent  Solidity  roundness  \\\n",
              "0      0.549812       28715     190.141097  0.763923  0.988856   0.958027   \n",
              "1      0.411785       29172     191.272750  0.783968  0.984986   0.887034   \n",
              "2      0.562727       29690     193.410904  0.778113  0.989559   0.947849   \n",
              "3      0.498616       30724     195.467062  0.782681  0.976696   0.903936   \n",
              "4      0.333680       30417     195.896503  0.773098  0.990893   0.984877   \n",
              "\n",
              "   Compactness  ShapeFactor1  ShapeFactor2  ShapeFactor3  ShapeFactor4  Class  \n",
              "0     0.913358      0.007332      0.003147      0.834222      0.998724  SEKER  \n",
              "1     0.953861      0.006979      0.003564      0.909851      0.998430  SEKER  \n",
              "2     0.908774      0.007244      0.003048      0.825871      0.999066  SEKER  \n",
              "3     0.928329      0.007017      0.003215      0.861794      0.994199  SEKER  \n",
              "4     0.970516      0.006697      0.003665      0.941900      0.999166  SEKER  "
            ]
          },
          "execution_count": 234,
          "metadata": {},
          "output_type": "execute_result"
        }
      ],
      "source": [
        "df.head()"
      ]
    },
    {
      "cell_type": "code",
      "execution_count": 235,
      "id": "cYfBj64h5QgA",
      "metadata": {
        "id": "cYfBj64h5QgA"
      },
      "outputs": [],
      "source": [
        "# label_encoder = LabelEncoder()\n",
        "# df['Class'] = label_encoder.fit_transform(df['Class'])"
      ]
    },
    {
      "cell_type": "code",
      "execution_count": 236,
      "id": "9PpoK79j5QgB",
      "metadata": {
        "colab": {
          "base_uri": "https://localhost:8080/"
        },
        "id": "9PpoK79j5QgB",
        "outputId": "481e5e7e-a193-48de-ebf2-6f93c5f05215"
      },
      "outputs": [
        {
          "data": {
            "text/plain": [
              "array(['SEKER', 'BARBUNYA', 'BOMBAY', 'CALI', 'HOROZ', 'SIRA', 'DERMASON'],\n",
              "      dtype=object)"
            ]
          },
          "execution_count": 236,
          "metadata": {},
          "output_type": "execute_result"
        }
      ],
      "source": [
        "df[\"Class\"].unique()"
      ]
    },
    {
      "cell_type": "code",
      "execution_count": 237,
      "id": "yOgVJT7Z5QgB",
      "metadata": {
        "id": "yOgVJT7Z5QgB"
      },
      "outputs": [],
      "source": [
        "#dropping rows to obtain a dataset with only 3 classes\n",
        "df = df.drop(df[df[\"Class\"].isin(['CALI', 'HOROZ' , 'SIRA', 'DERMASON'])].index)"
      ]
    },
    {
      "cell_type": "code",
      "execution_count": 238,
      "id": "kIHhRV2R5QgB",
      "metadata": {
        "id": "kIHhRV2R5QgB",
        "outputId": "a61c9f8f-b38e-4c59-b641-5880cea42226"
      },
      "outputs": [
        {
          "data": {
            "text/plain": [
              "(3871, 17)"
            ]
          },
          "execution_count": 238,
          "metadata": {},
          "output_type": "execute_result"
        }
      ],
      "source": [
        "df.shape"
      ]
    },
    {
      "cell_type": "code",
      "execution_count": 239,
      "id": "2A7I5gtO5QgB",
      "metadata": {
        "id": "2A7I5gtO5QgB"
      },
      "outputs": [],
      "source": [
        "df1 = df.copy()\n",
        "df2 = df.copy()\n",
        "df3 = df.copy()"
      ]
    },
    {
      "cell_type": "code",
      "execution_count": 240,
      "id": "ezsrnpwy5QgB",
      "metadata": {
        "id": "ezsrnpwy5QgB"
      },
      "outputs": [],
      "source": [
        "df1[\"Class\"]=(df1[\"Class\"] == \"SEKER\").astype(int)"
      ]
    },
    {
      "cell_type": "code",
      "execution_count": 241,
      "id": "2aXQgIVZ5QgB",
      "metadata": {
        "id": "2aXQgIVZ5QgB",
        "outputId": "52d01270-64f9-4b0d-a018-2ba2e3355b4d"
      },
      "outputs": [
        {
          "data": {
            "text/plain": [
              "Class              1.000000\n",
              "ShapeFactor2       0.896954\n",
              "ShapeFactor3       0.839155\n",
              "Compactness        0.838707\n",
              "roundness          0.826655\n",
              "ShapeFactor1       0.736126\n",
              "Solidity           0.628639\n",
              "ShapeFactor4       0.559071\n",
              "Extent             0.223890\n",
              "MinorAxisLength   -0.648133\n",
              "Area              -0.655950\n",
              "ConvexArea        -0.658819\n",
              "EquivDiameter     -0.727905\n",
              "MajorAxisLength   -0.767539\n",
              "Perimeter         -0.787626\n",
              "Eccentricity      -0.817392\n",
              "AspectRation      -0.828346\n",
              "Name: Class, dtype: float64"
            ]
          },
          "execution_count": 241,
          "metadata": {},
          "output_type": "execute_result"
        }
      ],
      "source": [
        "corr_matrix = df1.corr()\n",
        "corr_matrix[\"Class\"].sort_values(ascending=False)"
      ]
    },
    {
      "cell_type": "code",
      "execution_count": 242,
      "id": "ssahJNuz5QgC",
      "metadata": {
        "id": "ssahJNuz5QgC"
      },
      "outputs": [],
      "source": [
        "df2[\"Class\"]=(df2[\"Class\"] == \"BARBUNYA\").astype(int)"
      ]
    },
    {
      "cell_type": "code",
      "execution_count": 243,
      "id": "WFKuyePB5QgC",
      "metadata": {
        "id": "WFKuyePB5QgC",
        "outputId": "0cd5bb4a-4838-4d1e-ea6e-02fec5d459ce"
      },
      "outputs": [
        {
          "data": {
            "text/plain": [
              "Class              1.000000\n",
              "Eccentricity       0.586839\n",
              "AspectRation       0.580681\n",
              "Perimeter          0.226561\n",
              "MajorAxisLength    0.195281\n",
              "EquivDiameter      0.127981\n",
              "ConvexArea         0.031047\n",
              "Area               0.026927\n",
              "MinorAxisLength    0.024874\n",
              "ShapeFactor1      -0.176947\n",
              "ShapeFactor4      -0.184680\n",
              "Extent            -0.338945\n",
              "ShapeFactor2      -0.522711\n",
              "Compactness       -0.588818\n",
              "ShapeFactor3      -0.591334\n",
              "Solidity          -0.639290\n",
              "roundness         -0.795976\n",
              "Name: Class, dtype: float64"
            ]
          },
          "execution_count": 243,
          "metadata": {},
          "output_type": "execute_result"
        }
      ],
      "source": [
        "corr_matrix2 = df2.corr()\n",
        "corr_matrix2[\"Class\"].sort_values(ascending=False)"
      ]
    },
    {
      "cell_type": "code",
      "execution_count": 244,
      "id": "yEYk3wZb5QgC",
      "metadata": {
        "id": "yEYk3wZb5QgC"
      },
      "outputs": [],
      "source": [
        "df3[\"Class\"]=(df3[\"Class\"] == \"BOMBAY\").astype(int)"
      ]
    },
    {
      "cell_type": "code",
      "execution_count": 245,
      "id": "B8gWNhB45QgC",
      "metadata": {
        "id": "B8gWNhB45QgC",
        "outputId": "07e7a1ff-fec0-46d0-90d3-23474b966321"
      },
      "outputs": [
        {
          "data": {
            "text/plain": [
              "Class              1.000000\n",
              "Area               0.921762\n",
              "ConvexArea         0.920237\n",
              "MinorAxisLength    0.913183\n",
              "EquivDiameter      0.886676\n",
              "MajorAxisLength    0.851191\n",
              "Perimeter          0.837135\n",
              "AspectRation       0.405024\n",
              "Eccentricity       0.380457\n",
              "Extent             0.143206\n",
              "Solidity          -0.031636\n",
              "roundness         -0.103641\n",
              "ShapeFactor3      -0.406039\n",
              "Compactness       -0.408876\n",
              "ShapeFactor4      -0.561081\n",
              "ShapeFactor2      -0.585829\n",
              "ShapeFactor1      -0.830714\n",
              "Name: Class, dtype: float64"
            ]
          },
          "execution_count": 245,
          "metadata": {},
          "output_type": "execute_result"
        }
      ],
      "source": [
        "corr_matrix3 = df3.corr()\n",
        "corr_matrix3[\"Class\"].sort_values(ascending=False)"
      ]
    },
    {
      "cell_type": "markdown",
      "id": "9vSNpQuwGSNM",
      "metadata": {
        "id": "9vSNpQuwGSNM"
      },
      "source": [
        "#LAB 3"
      ]
    },
    {
      "cell_type": "markdown",
      "id": "m6iPRDDz5QgC",
      "metadata": {
        "id": "m6iPRDDz5QgC"
      },
      "source": [
        "## Creation of sub datasets"
      ]
    },
    {
      "cell_type": "markdown",
      "id": "awf33srg5QgC",
      "metadata": {
        "id": "awf33srg5QgC"
      },
      "source": [
        "### Top 2, 5 and 10"
      ]
    },
    {
      "cell_type": "code",
      "execution_count": 246,
      "id": "278PenTe5QgC",
      "metadata": {
        "id": "278PenTe5QgC"
      },
      "outputs": [],
      "source": [
        "colums_to_add_top_2 = ['ShapeFactor2', 'ShapeFactor3', 'Solidity', 'roundness', 'Area', 'ConvexArea', 'Class']\n",
        "\n",
        "colums_to_add_top_5 = [\n",
        "    'ShapeFactor2', 'ShapeFactor3', 'Compactness', 'AspectRation', 'Solidity', 'roundness',\n",
        "    'Eccentricity','Area', 'ConvexArea', 'MinorAxisLength','EquivDiameter', 'Class'\n",
        "    ]\n",
        "\n",
        "colums_to_add_top_10 = [\n",
        "'ShapeFactor2', 'ShapeFactor3', 'Compactness', 'roundness', 'Eccentricity', 'AspectRation',\n",
        "'MajorAxisLength' , 'Perimeter' , 'EquivDiameter', 'ShapeFactor1', 'Solidity', 'Extent' ,\n",
        "'ShapeFactor4', 'Area', 'ConvexArea' , 'Class'\n",
        "]"
      ]
    },
    {
      "cell_type": "markdown",
      "id": "bgP4cfiX5QgD",
      "metadata": {
        "id": "bgP4cfiX5QgD"
      },
      "source": [
        "### Creating Sub Datasets"
      ]
    },
    {
      "cell_type": "code",
      "execution_count": 247,
      "id": "1cn_lDpE5QgD",
      "metadata": {
        "id": "1cn_lDpE5QgD"
      },
      "outputs": [],
      "source": [
        "df_top2 = df.filter(colums_to_add_top_2, axis=1)\n",
        "df_top5 = df.filter(colums_to_add_top_5, axis=1)\n",
        "df_top10 = df.filter(colums_to_add_top_10, axis=1)"
      ]
    },
    {
      "cell_type": "code",
      "execution_count": 248,
      "id": "C9nmC9dC5QgD",
      "metadata": {
        "id": "C9nmC9dC5QgD"
      },
      "outputs": [],
      "source": [
        "df_top2.to_excel('Top2.xlsx', index=False)\n",
        "df_top5.to_excel('Top5.xlsx', index=False)\n",
        "df_top10.to_excel('Top10.xlsx', index=False)"
      ]
    },
    {
      "cell_type": "markdown",
      "id": "z8ZKVGdiGrEU",
      "metadata": {
        "id": "z8ZKVGdiGrEU"
      },
      "source": [
        "#LAB 4"
      ]
    },
    {
      "cell_type": "markdown",
      "id": "g8EO7Ndw5QgD",
      "metadata": {
        "id": "g8EO7Ndw5QgD"
      },
      "source": [
        "### Preprocessing Data"
      ]
    },
    {
      "cell_type": "markdown",
      "id": "ASGjEdoH5QgD",
      "metadata": {
        "id": "ASGjEdoH5QgD"
      },
      "source": [
        "#### Importing libraries and modules"
      ]
    },
    {
      "cell_type": "code",
      "execution_count": 249,
      "id": "LIMJs4IC5QgD",
      "metadata": {
        "id": "LIMJs4IC5QgD"
      },
      "outputs": [],
      "source": [
        "from sklearn.preprocessing import StandardScaler\n",
        "from sklearn.preprocessing import MinMaxScaler"
      ]
    },
    {
      "cell_type": "markdown",
      "id": "T9d24Bo75QgD",
      "metadata": {
        "id": "T9d24Bo75QgD"
      },
      "source": [
        "#### Transforming Class Feature"
      ]
    },
    {
      "cell_type": "code",
      "execution_count": 250,
      "id": "1MhOaBN75QgD",
      "metadata": {
        "id": "1MhOaBN75QgD",
        "outputId": "71298c1a-8fa5-4821-b442-f188a352c04e"
      },
      "outputs": [
        {
          "data": {
            "text/plain": [
              "array(['SEKER', 'BARBUNYA', 'BOMBAY'], dtype=object)"
            ]
          },
          "execution_count": 250,
          "metadata": {},
          "output_type": "execute_result"
        }
      ],
      "source": [
        "df[\"Class\"].unique()"
      ]
    },
    {
      "cell_type": "code",
      "execution_count": 251,
      "id": "tvgj4RnX5QgE",
      "metadata": {
        "id": "tvgj4RnX5QgE"
      },
      "outputs": [],
      "source": [
        "#Function to transform Nominal values to Numeric values\n",
        "def transform_dataset(df):\n",
        "    df[\"Class\"] = df['Class'].replace(['SEKER', 'BARBUNYA', 'BOMBAY'], [0,1,2])\n"
      ]
    },
    {
      "cell_type": "code",
      "execution_count": 252,
      "id": "OpgkELyu5QgE",
      "metadata": {
        "id": "OpgkELyu5QgE"
      },
      "outputs": [],
      "source": [
        "transform_dataset(df_top2)\n",
        "transform_dataset(df_top5)\n",
        "transform_dataset(df_top10)\n",
        "transform_dataset(df)"
      ]
    },
    {
      "cell_type": "code",
      "execution_count": 253,
      "id": "-TzcfRVT5QgE",
      "metadata": {
        "id": "-TzcfRVT5QgE",
        "outputId": "19a3b6eb-e0b7-458f-933b-e8e9cd87d624"
      },
      "outputs": [
        {
          "data": {
            "text/plain": [
              "array([0, 1, 2])"
            ]
          },
          "execution_count": 253,
          "metadata": {},
          "output_type": "execute_result"
        }
      ],
      "source": [
        "df_top2[\"Class\"].unique()"
      ]
    },
    {
      "cell_type": "code",
      "execution_count": 254,
      "id": "t0DgLuft5QgE",
      "metadata": {
        "id": "t0DgLuft5QgE",
        "outputId": "4246924a-51d8-4e26-8fa8-401076d411d4"
      },
      "outputs": [
        {
          "data": {
            "text/plain": [
              "array([0, 1, 2])"
            ]
          },
          "execution_count": 254,
          "metadata": {},
          "output_type": "execute_result"
        }
      ],
      "source": [
        "df_top5[\"Class\"].unique()"
      ]
    },
    {
      "cell_type": "code",
      "execution_count": 255,
      "id": "Q5v85YBt5QgI",
      "metadata": {
        "id": "Q5v85YBt5QgI",
        "outputId": "d063910b-733d-4af4-ccca-e18d66fc7e12"
      },
      "outputs": [
        {
          "data": {
            "text/plain": [
              "array([0, 1, 2])"
            ]
          },
          "execution_count": 255,
          "metadata": {},
          "output_type": "execute_result"
        }
      ],
      "source": [
        "df_top10[\"Class\"].unique()"
      ]
    },
    {
      "cell_type": "markdown",
      "id": "NYcvBhjx5QgI",
      "metadata": {
        "id": "NYcvBhjx5QgI"
      },
      "source": [
        "### Normalizing Data"
      ]
    },
    {
      "cell_type": "code",
      "execution_count": 256,
      "id": "wKYHZk3q5QgI",
      "metadata": {
        "id": "wKYHZk3q5QgI"
      },
      "outputs": [],
      "source": [
        "# Creating a functing to Scale the dataset\n",
        "\n",
        "def scale_dataset(dataframe):\n",
        "  scaler = MinMaxScaler()\n",
        "  dataframe[dataframe.columns[:-1]] = scaler.fit_transform(dataframe[dataframe.columns[:-1]])\n",
        "  y = dataframe[dataframe.columns[-1]].values\n",
        "  return dataframe\n",
        "\n",
        "# scale_dataset(df)"
      ]
    },
    {
      "cell_type": "markdown",
      "id": "73566208",
      "metadata": {},
      "source": []
    },
    {
      "cell_type": "markdown",
      "id": "89-HyR5R5QgJ",
      "metadata": {
        "id": "89-HyR5R5QgJ"
      },
      "source": [
        "### Splitting into Train and Test Datasets"
      ]
    },
    {
      "cell_type": "code",
      "execution_count": 257,
      "id": "1FxTRp5z5QgJ",
      "metadata": {
        "id": "1FxTRp5z5QgJ"
      },
      "outputs": [],
      "source": [
        "from sklearn.model_selection import train_test_split\n",
        "from sklearn.metrics  import f1_score,accuracy_score"
      ]
    },
    {
      "cell_type": "code",
      "execution_count": 258,
      "id": "tUkkWb3m5QgJ",
      "metadata": {
        "id": "tUkkWb3m5QgJ"
      },
      "outputs": [],
      "source": [
        "# Normalizing data\n",
        "normalized_df = scale_dataset(df)"
      ]
    },
    {
      "cell_type": "code",
      "execution_count": 259,
      "id": "P-szrdUXD00S",
      "metadata": {
        "id": "P-szrdUXD00S"
      },
      "outputs": [],
      "source": [
        "# separating features and target columns of dataset\n",
        "X = normalized_df.drop('Class', axis=1)\n",
        "y = normalized_df['Class']"
      ]
    },
    {
      "cell_type": "code",
      "execution_count": 260,
      "id": "2YRsm6Vt5QgJ",
      "metadata": {
        "colab": {
          "base_uri": "https://localhost:8080/",
          "height": 443
        },
        "id": "2YRsm6Vt5QgJ",
        "outputId": "8c7a6497-45c9-4a59-fcb5-2c2bec48163c"
      },
      "outputs": [
        {
          "data": {
            "text/html": [
              "<div>\n",
              "<style scoped>\n",
              "    .dataframe tbody tr th:only-of-type {\n",
              "        vertical-align: middle;\n",
              "    }\n",
              "\n",
              "    .dataframe tbody tr th {\n",
              "        vertical-align: top;\n",
              "    }\n",
              "\n",
              "    .dataframe thead th {\n",
              "        text-align: right;\n",
              "    }\n",
              "</style>\n",
              "<table border=\"1\" class=\"dataframe\">\n",
              "  <thead>\n",
              "    <tr style=\"text-align: right;\">\n",
              "      <th></th>\n",
              "      <th>Area</th>\n",
              "      <th>Perimeter</th>\n",
              "      <th>MajorAxisLength</th>\n",
              "      <th>MinorAxisLength</th>\n",
              "      <th>AspectRation</th>\n",
              "      <th>Eccentricity</th>\n",
              "      <th>ConvexArea</th>\n",
              "      <th>EquivDiameter</th>\n",
              "      <th>Extent</th>\n",
              "      <th>Solidity</th>\n",
              "      <th>roundness</th>\n",
              "      <th>Compactness</th>\n",
              "      <th>ShapeFactor1</th>\n",
              "      <th>ShapeFactor2</th>\n",
              "      <th>ShapeFactor3</th>\n",
              "      <th>ShapeFactor4</th>\n",
              "    </tr>\n",
              "  </thead>\n",
              "  <tbody>\n",
              "    <tr>\n",
              "      <th>0</th>\n",
              "      <td>0.000000</td>\n",
              "      <td>0.000000</td>\n",
              "      <td>0.014217</td>\n",
              "      <td>0.009267</td>\n",
              "      <td>0.186195</td>\n",
              "      <td>0.517291</td>\n",
              "      <td>0.000000</td>\n",
              "      <td>0.000000</td>\n",
              "      <td>0.624114</td>\n",
              "      <td>0.922824</td>\n",
              "      <td>0.917733</td>\n",
              "      <td>0.729821</td>\n",
              "      <td>0.969567</td>\n",
              "      <td>0.833049</td>\n",
              "      <td>0.698093</td>\n",
              "      <td>0.980620</td>\n",
              "    </tr>\n",
              "    <tr>\n",
              "      <th>1</th>\n",
              "      <td>0.001499</td>\n",
              "      <td>0.020164</td>\n",
              "      <td>0.000000</td>\n",
              "      <td>0.039877</td>\n",
              "      <td>0.078324</td>\n",
              "      <td>0.301490</td>\n",
              "      <td>0.001948</td>\n",
              "      <td>0.002984</td>\n",
              "      <td>0.703850</td>\n",
              "      <td>0.871514</td>\n",
              "      <td>0.738897</td>\n",
              "      <td>0.877810</td>\n",
              "      <td>0.894436</td>\n",
              "      <td>0.967315</td>\n",
              "      <td>0.860551</td>\n",
              "      <td>0.974979</td>\n",
              "    </tr>\n",
              "    <tr>\n",
              "      <th>2</th>\n",
              "      <td>0.004354</td>\n",
              "      <td>0.010050</td>\n",
              "      <td>0.022851</td>\n",
              "      <td>0.016335</td>\n",
              "      <td>0.199724</td>\n",
              "      <td>0.537484</td>\n",
              "      <td>0.004157</td>\n",
              "      <td>0.008622</td>\n",
              "      <td>0.680561</td>\n",
              "      <td>0.932141</td>\n",
              "      <td>0.892095</td>\n",
              "      <td>0.713074</td>\n",
              "      <td>0.950916</td>\n",
              "      <td>0.800942</td>\n",
              "      <td>0.680152</td>\n",
              "      <td>0.987196</td>\n",
              "    </tr>\n",
              "    <tr>\n",
              "      <th>3</th>\n",
              "      <td>0.007130</td>\n",
              "      <td>0.025884</td>\n",
              "      <td>0.018637</td>\n",
              "      <td>0.039123</td>\n",
              "      <td>0.139136</td>\n",
              "      <td>0.437247</td>\n",
              "      <td>0.008565</td>\n",
              "      <td>0.014044</td>\n",
              "      <td>0.698731</td>\n",
              "      <td>0.761614</td>\n",
              "      <td>0.781476</td>\n",
              "      <td>0.784522</td>\n",
              "      <td>0.902542</td>\n",
              "      <td>0.854744</td>\n",
              "      <td>0.757321</td>\n",
              "      <td>0.893675</td>\n",
              "    </tr>\n",
              "    <tr>\n",
              "      <th>4</th>\n",
              "      <td>0.007714</td>\n",
              "      <td>0.007158</td>\n",
              "      <td>0.002458</td>\n",
              "      <td>0.065984</td>\n",
              "      <td>0.038823</td>\n",
              "      <td>0.179374</td>\n",
              "      <td>0.007257</td>\n",
              "      <td>0.015176</td>\n",
              "      <td>0.660612</td>\n",
              "      <td>0.949832</td>\n",
              "      <td>0.985369</td>\n",
              "      <td>0.938662</td>\n",
              "      <td>0.834465</td>\n",
              "      <td>1.000000</td>\n",
              "      <td>0.929398</td>\n",
              "      <td>0.989116</td>\n",
              "    </tr>\n",
              "    <tr>\n",
              "      <th>...</th>\n",
              "      <td>...</td>\n",
              "      <td>...</td>\n",
              "      <td>...</td>\n",
              "      <td>...</td>\n",
              "      <td>...</td>\n",
              "      <td>...</td>\n",
              "      <td>...</td>\n",
              "      <td>...</td>\n",
              "      <td>...</td>\n",
              "      <td>...</td>\n",
              "      <td>...</td>\n",
              "      <td>...</td>\n",
              "      <td>...</td>\n",
              "      <td>...</td>\n",
              "      <td>...</td>\n",
              "      <td>...</td>\n",
              "    </tr>\n",
              "    <tr>\n",
              "      <th>3866</th>\n",
              "      <td>0.923323</td>\n",
              "      <td>0.953686</td>\n",
              "      <td>0.998671</td>\n",
              "      <td>0.836405</td>\n",
              "      <td>0.824142</td>\n",
              "      <td>0.953628</td>\n",
              "      <td>0.903686</td>\n",
              "      <td>0.947956</td>\n",
              "      <td>0.704434</td>\n",
              "      <td>0.883221</td>\n",
              "      <td>0.538295</td>\n",
              "      <td>0.113294</td>\n",
              "      <td>0.070900</td>\n",
              "      <td>0.008316</td>\n",
              "      <td>0.097129</td>\n",
              "      <td>0.835293</td>\n",
              "    </tr>\n",
              "    <tr>\n",
              "      <th>3867</th>\n",
              "      <td>0.941234</td>\n",
              "      <td>0.934964</td>\n",
              "      <td>0.976805</td>\n",
              "      <td>0.886402</td>\n",
              "      <td>0.729082</td>\n",
              "      <td>0.921895</td>\n",
              "      <td>0.919240</td>\n",
              "      <td>0.960280</td>\n",
              "      <td>0.850450</td>\n",
              "      <td>0.907939</td>\n",
              "      <td>0.629589</td>\n",
              "      <td>0.180891</td>\n",
              "      <td>0.049392</td>\n",
              "      <td>0.021126</td>\n",
              "      <td>0.157049</td>\n",
              "      <td>0.808956</td>\n",
              "    </tr>\n",
              "    <tr>\n",
              "      <th>3868</th>\n",
              "      <td>0.972629</td>\n",
              "      <td>0.926686</td>\n",
              "      <td>0.955776</td>\n",
              "      <td>0.951019</td>\n",
              "      <td>0.624778</td>\n",
              "      <td>0.879671</td>\n",
              "      <td>0.948074</td>\n",
              "      <td>0.981632</td>\n",
              "      <td>0.797598</td>\n",
              "      <td>0.930219</td>\n",
              "      <td>0.718640</td>\n",
              "      <td>0.266410</td>\n",
              "      <td>0.021366</td>\n",
              "      <td>0.037189</td>\n",
              "      <td>0.234963</td>\n",
              "      <td>0.846003</td>\n",
              "    </tr>\n",
              "    <tr>\n",
              "      <th>3869</th>\n",
              "      <td>0.985925</td>\n",
              "      <td>0.952365</td>\n",
              "      <td>0.963342</td>\n",
              "      <td>0.967915</td>\n",
              "      <td>0.615781</td>\n",
              "      <td>0.875590</td>\n",
              "      <td>0.975118</td>\n",
              "      <td>0.990583</td>\n",
              "      <td>0.635464</td>\n",
              "      <td>0.761928</td>\n",
              "      <td>0.663773</td>\n",
              "      <td>0.267382</td>\n",
              "      <td>0.017483</td>\n",
              "      <td>0.036095</td>\n",
              "      <td>0.235862</td>\n",
              "      <td>0.759865</td>\n",
              "    </tr>\n",
              "    <tr>\n",
              "      <th>3870</th>\n",
              "      <td>1.000000</td>\n",
              "      <td>1.000000</td>\n",
              "      <td>1.000000</td>\n",
              "      <td>0.955776</td>\n",
              "      <td>0.676948</td>\n",
              "      <td>0.901895</td>\n",
              "      <td>1.000000</td>\n",
              "      <td>1.000000</td>\n",
              "      <td>0.702972</td>\n",
              "      <td>0.635223</td>\n",
              "      <td>0.549210</td>\n",
              "      <td>0.208259</td>\n",
              "      <td>0.026371</td>\n",
              "      <td>0.021632</td>\n",
              "      <td>0.181728</td>\n",
              "      <td>0.633596</td>\n",
              "    </tr>\n",
              "  </tbody>\n",
              "</table>\n",
              "<p>3871 rows × 16 columns</p>\n",
              "</div>"
            ],
            "text/plain": [
              "          Area  Perimeter  MajorAxisLength  MinorAxisLength  AspectRation  \\\n",
              "0     0.000000   0.000000         0.014217         0.009267      0.186195   \n",
              "1     0.001499   0.020164         0.000000         0.039877      0.078324   \n",
              "2     0.004354   0.010050         0.022851         0.016335      0.199724   \n",
              "3     0.007130   0.025884         0.018637         0.039123      0.139136   \n",
              "4     0.007714   0.007158         0.002458         0.065984      0.038823   \n",
              "...        ...        ...              ...              ...           ...   \n",
              "3866  0.923323   0.953686         0.998671         0.836405      0.824142   \n",
              "3867  0.941234   0.934964         0.976805         0.886402      0.729082   \n",
              "3868  0.972629   0.926686         0.955776         0.951019      0.624778   \n",
              "3869  0.985925   0.952365         0.963342         0.967915      0.615781   \n",
              "3870  1.000000   1.000000         1.000000         0.955776      0.676948   \n",
              "\n",
              "      Eccentricity  ConvexArea  EquivDiameter    Extent  Solidity  roundness  \\\n",
              "0         0.517291    0.000000       0.000000  0.624114  0.922824   0.917733   \n",
              "1         0.301490    0.001948       0.002984  0.703850  0.871514   0.738897   \n",
              "2         0.537484    0.004157       0.008622  0.680561  0.932141   0.892095   \n",
              "3         0.437247    0.008565       0.014044  0.698731  0.761614   0.781476   \n",
              "4         0.179374    0.007257       0.015176  0.660612  0.949832   0.985369   \n",
              "...            ...         ...            ...       ...       ...        ...   \n",
              "3866      0.953628    0.903686       0.947956  0.704434  0.883221   0.538295   \n",
              "3867      0.921895    0.919240       0.960280  0.850450  0.907939   0.629589   \n",
              "3868      0.879671    0.948074       0.981632  0.797598  0.930219   0.718640   \n",
              "3869      0.875590    0.975118       0.990583  0.635464  0.761928   0.663773   \n",
              "3870      0.901895    1.000000       1.000000  0.702972  0.635223   0.549210   \n",
              "\n",
              "      Compactness  ShapeFactor1  ShapeFactor2  ShapeFactor3  ShapeFactor4  \n",
              "0        0.729821      0.969567      0.833049      0.698093      0.980620  \n",
              "1        0.877810      0.894436      0.967315      0.860551      0.974979  \n",
              "2        0.713074      0.950916      0.800942      0.680152      0.987196  \n",
              "3        0.784522      0.902542      0.854744      0.757321      0.893675  \n",
              "4        0.938662      0.834465      1.000000      0.929398      0.989116  \n",
              "...           ...           ...           ...           ...           ...  \n",
              "3866     0.113294      0.070900      0.008316      0.097129      0.835293  \n",
              "3867     0.180891      0.049392      0.021126      0.157049      0.808956  \n",
              "3868     0.266410      0.021366      0.037189      0.234963      0.846003  \n",
              "3869     0.267382      0.017483      0.036095      0.235862      0.759865  \n",
              "3870     0.208259      0.026371      0.021632      0.181728      0.633596  \n",
              "\n",
              "[3871 rows x 16 columns]"
            ]
          },
          "execution_count": 260,
          "metadata": {},
          "output_type": "execute_result"
        }
      ],
      "source": [
        "X"
      ]
    },
    {
      "cell_type": "code",
      "execution_count": 261,
      "id": "DpIA6ERs5QgJ",
      "metadata": {
        "colab": {
          "base_uri": "https://localhost:8080/"
        },
        "id": "DpIA6ERs5QgJ",
        "outputId": "3eef5689-2013-4e80-a3fc-9f673e47a60e"
      },
      "outputs": [
        {
          "data": {
            "text/plain": [
              "0       0\n",
              "1       0\n",
              "2       0\n",
              "3       0\n",
              "4       0\n",
              "       ..\n",
              "3866    2\n",
              "3867    2\n",
              "3868    2\n",
              "3869    2\n",
              "3870    2\n",
              "Name: Class, Length: 3871, dtype: int64"
            ]
          },
          "execution_count": 261,
          "metadata": {},
          "output_type": "execute_result"
        }
      ],
      "source": [
        "y"
      ]
    },
    {
      "cell_type": "code",
      "execution_count": 262,
      "id": "5V0JAvIh5QgJ",
      "metadata": {
        "id": "5V0JAvIh5QgJ"
      },
      "outputs": [],
      "source": [
        "X_train, X_test, y_train, y_test = train_test_split(X, y, test_size=0.25, random_state=42)"
      ]
    },
    {
      "cell_type": "markdown",
      "id": "BAfE3i9s5QgJ",
      "metadata": {
        "id": "BAfE3i9s5QgJ"
      },
      "source": [
        "## Classification Models"
      ]
    },
    {
      "cell_type": "markdown",
      "id": "d5xNrVVi5QgK",
      "metadata": {
        "id": "d5xNrVVi5QgK"
      },
      "source": [
        "### Desicion Tree Classifier"
      ]
    },
    {
      "cell_type": "code",
      "execution_count": 263,
      "id": "FyvGRXW55QgK",
      "metadata": {
        "id": "FyvGRXW55QgK"
      },
      "outputs": [],
      "source": [
        "from sklearn.tree import DecisionTreeClassifier"
      ]
    },
    {
      "cell_type": "markdown",
      "id": "VF6YwRv45QgK",
      "metadata": {
        "id": "VF6YwRv45QgK"
      },
      "source": [
        "#### Training Model"
      ]
    },
    {
      "cell_type": "code",
      "execution_count": 264,
      "id": "Mf_fTaeA5QgK",
      "metadata": {
        "colab": {
          "base_uri": "https://localhost:8080/",
          "height": 74
        },
        "id": "Mf_fTaeA5QgK",
        "outputId": "ad6db62f-bb7b-4245-d878-716ba9afa6bd"
      },
      "outputs": [
        {
          "data": {
            "text/html": [
              "<style>#sk-container-id-5 {color: black;}#sk-container-id-5 pre{padding: 0;}#sk-container-id-5 div.sk-toggleable {background-color: white;}#sk-container-id-5 label.sk-toggleable__label {cursor: pointer;display: block;width: 100%;margin-bottom: 0;padding: 0.3em;box-sizing: border-box;text-align: center;}#sk-container-id-5 label.sk-toggleable__label-arrow:before {content: \"▸\";float: left;margin-right: 0.25em;color: #696969;}#sk-container-id-5 label.sk-toggleable__label-arrow:hover:before {color: black;}#sk-container-id-5 div.sk-estimator:hover label.sk-toggleable__label-arrow:before {color: black;}#sk-container-id-5 div.sk-toggleable__content {max-height: 0;max-width: 0;overflow: hidden;text-align: left;background-color: #f0f8ff;}#sk-container-id-5 div.sk-toggleable__content pre {margin: 0.2em;color: black;border-radius: 0.25em;background-color: #f0f8ff;}#sk-container-id-5 input.sk-toggleable__control:checked~div.sk-toggleable__content {max-height: 200px;max-width: 100%;overflow: auto;}#sk-container-id-5 input.sk-toggleable__control:checked~label.sk-toggleable__label-arrow:before {content: \"▾\";}#sk-container-id-5 div.sk-estimator input.sk-toggleable__control:checked~label.sk-toggleable__label {background-color: #d4ebff;}#sk-container-id-5 div.sk-label input.sk-toggleable__control:checked~label.sk-toggleable__label {background-color: #d4ebff;}#sk-container-id-5 input.sk-hidden--visually {border: 0;clip: rect(1px 1px 1px 1px);clip: rect(1px, 1px, 1px, 1px);height: 1px;margin: -1px;overflow: hidden;padding: 0;position: absolute;width: 1px;}#sk-container-id-5 div.sk-estimator {font-family: monospace;background-color: #f0f8ff;border: 1px dotted black;border-radius: 0.25em;box-sizing: border-box;margin-bottom: 0.5em;}#sk-container-id-5 div.sk-estimator:hover {background-color: #d4ebff;}#sk-container-id-5 div.sk-parallel-item::after {content: \"\";width: 100%;border-bottom: 1px solid gray;flex-grow: 1;}#sk-container-id-5 div.sk-label:hover label.sk-toggleable__label {background-color: #d4ebff;}#sk-container-id-5 div.sk-serial::before {content: \"\";position: absolute;border-left: 1px solid gray;box-sizing: border-box;top: 0;bottom: 0;left: 50%;z-index: 0;}#sk-container-id-5 div.sk-serial {display: flex;flex-direction: column;align-items: center;background-color: white;padding-right: 0.2em;padding-left: 0.2em;position: relative;}#sk-container-id-5 div.sk-item {position: relative;z-index: 1;}#sk-container-id-5 div.sk-parallel {display: flex;align-items: stretch;justify-content: center;background-color: white;position: relative;}#sk-container-id-5 div.sk-item::before, #sk-container-id-5 div.sk-parallel-item::before {content: \"\";position: absolute;border-left: 1px solid gray;box-sizing: border-box;top: 0;bottom: 0;left: 50%;z-index: -1;}#sk-container-id-5 div.sk-parallel-item {display: flex;flex-direction: column;z-index: 1;position: relative;background-color: white;}#sk-container-id-5 div.sk-parallel-item:first-child::after {align-self: flex-end;width: 50%;}#sk-container-id-5 div.sk-parallel-item:last-child::after {align-self: flex-start;width: 50%;}#sk-container-id-5 div.sk-parallel-item:only-child::after {width: 0;}#sk-container-id-5 div.sk-dashed-wrapped {border: 1px dashed gray;margin: 0 0.4em 0.5em 0.4em;box-sizing: border-box;padding-bottom: 0.4em;background-color: white;}#sk-container-id-5 div.sk-label label {font-family: monospace;font-weight: bold;display: inline-block;line-height: 1.2em;}#sk-container-id-5 div.sk-label-container {text-align: center;}#sk-container-id-5 div.sk-container {/* jupyter's `normalize.less` sets `[hidden] { display: none; }` but bootstrap.min.css set `[hidden] { display: none !important; }` so we also need the `!important` here to be able to override the default hidden behavior on the sphinx rendered scikit-learn.org. See: https://github.com/scikit-learn/scikit-learn/issues/21755 */display: inline-block !important;position: relative;}#sk-container-id-5 div.sk-text-repr-fallback {display: none;}</style><div id=\"sk-container-id-5\" class=\"sk-top-container\"><div class=\"sk-text-repr-fallback\"><pre>DecisionTreeClassifier()</pre><b>In a Jupyter environment, please rerun this cell to show the HTML representation or trust the notebook. <br />On GitHub, the HTML representation is unable to render, please try loading this page with nbviewer.org.</b></div><div class=\"sk-container\" hidden><div class=\"sk-item\"><div class=\"sk-estimator sk-toggleable\"><input class=\"sk-toggleable__control sk-hidden--visually\" id=\"sk-estimator-id-5\" type=\"checkbox\" checked><label for=\"sk-estimator-id-5\" class=\"sk-toggleable__label sk-toggleable__label-arrow\">DecisionTreeClassifier</label><div class=\"sk-toggleable__content\"><pre>DecisionTreeClassifier()</pre></div></div></div></div></div>"
            ],
            "text/plain": [
              "DecisionTreeClassifier()"
            ]
          },
          "execution_count": 264,
          "metadata": {},
          "output_type": "execute_result"
        }
      ],
      "source": [
        "# Training the model\n",
        "dtc_model = DecisionTreeClassifier()\n",
        "dtc_model.fit(X_train,y_train)"
      ]
    },
    {
      "cell_type": "markdown",
      "id": "6-FRCk1D5QgK",
      "metadata": {
        "id": "6-FRCk1D5QgK"
      },
      "source": [
        "#### Evaluating the Model"
      ]
    },
    {
      "cell_type": "code",
      "execution_count": 265,
      "id": "F21POCVM5QgK",
      "metadata": {
        "id": "F21POCVM5QgK"
      },
      "outputs": [],
      "source": [
        "# for regression we use R2 score and MAE(mean absolute error)\n",
        "# all other steps will be same as classification as shown above\n",
        "from sklearn.metrics import mean_absolute_error\n",
        "from sklearn.metrics import r2_score\n",
        "from sklearn.metrics import precision_score\n",
        "from sklearn.metrics import recall_score"
      ]
    },
    {
      "cell_type": "code",
      "execution_count": 266,
      "id": "rEmcLl_I5QgK",
      "metadata": {
        "id": "rEmcLl_I5QgK"
      },
      "outputs": [],
      "source": [
        "# Evaluating the Model\n",
        "\n",
        "# We use the predict() on the model to predict the output\n",
        "pred = dtc_model.predict(X_test)"
      ]
    },
    {
      "cell_type": "markdown",
      "id": "wlwvhKoK5QgL",
      "metadata": {
        "id": "wlwvhKoK5QgL"
      },
      "source": [
        "#### Confusion Matrix"
      ]
    },
    {
      "cell_type": "code",
      "execution_count": 267,
      "id": "qcxw4D065QgL",
      "metadata": {
        "id": "qcxw4D065QgL"
      },
      "outputs": [],
      "source": [
        "from sklearn.metrics import ConfusionMatrixDisplay\n",
        "import matplotlib.pyplot as plt\n",
        "from sklearn.metrics import confusion_matrix\n",
        "import seaborn as sns"
      ]
    },
    {
      "cell_type": "code",
      "execution_count": 268,
      "id": "6QrmHMIU5QgL",
      "metadata": {
        "id": "6QrmHMIU5QgL"
      },
      "outputs": [],
      "source": [
        "cf_matrix = confusion_matrix(y_test, pred)"
      ]
    },
    {
      "cell_type": "code",
      "execution_count": 269,
      "id": "koGMXTgq5QgL",
      "metadata": {
        "colab": {
          "base_uri": "https://localhost:8080/",
          "height": 449
        },
        "id": "koGMXTgq5QgL",
        "outputId": "bb7698e5-2c0d-41fe-c0de-426299732b22"
      },
      "outputs": [
        {
          "data": {
            "image/png": "[encoded data removed]",
            "text/plain": [
              "<Figure size 640x480 with 2 Axes>"
            ]
          },
          "metadata": {},
          "output_type": "display_data"
        }
      ],
      "source": [
        "#Plotting confusion Matrix using SKLearn\n",
        "conf_matrix = confusion_matrix(y_true=y_test, y_pred=pred)\n",
        "vis = ConfusionMatrixDisplay(confusion_matrix=conf_matrix, display_labels=dtc_model.classes_)\n",
        "vis.plot()\n",
        "plt.show()"
      ]
    },
    {
      "cell_type": "code",
      "execution_count": 270,
      "id": "kPfgIUTh5QgL",
      "metadata": {
        "colab": {
          "base_uri": "https://localhost:8080/",
          "height": 481
        },
        "id": "kPfgIUTh5QgL",
        "outputId": "4e3c5ad3-1282-419f-a961-3045e0560f92"
      },
      "outputs": [
        {
          "data": {
            "image/png": "[encoded data removed]",
            "text/plain": [
              "<Figure size 640x480 with 2 Axes>"
            ]
          },
          "metadata": {},
          "output_type": "display_data"
        }
      ],
      "source": [
        "# Plotting a Confusion Matrix in Seaborn\n",
        "conf_matrix = confusion_matrix(y_test, pred, labels=dtc_model.classes_)\n",
        "sns.heatmap(conf_matrix,\n",
        "            annot=True,\n",
        "            fmt='g',\n",
        "            xticklabels=dtc_model.classes_,\n",
        "            yticklabels=dtc_model.classes_,\n",
        "    )\n",
        "plt.ylabel('Predicted values',fontsize=13)\n",
        "plt.xlabel('Actual values',fontsize=13)\n",
        "plt.title('Confusion Matrix',fontsize=17)\n",
        "plt.show()"
      ]
    },
    {
      "cell_type": "markdown",
      "id": "FaMWd2M35QgL",
      "metadata": {
        "id": "FaMWd2M35QgL"
      },
      "source": [
        "### Evalutation Of The Model"
      ]
    },
    {
      "cell_type": "code",
      "execution_count": 271,
      "id": "DoMC7CPU5QgL",
      "metadata": {
        "id": "DoMC7CPU5QgL"
      },
      "outputs": [],
      "source": [
        "from sklearn.metrics import precision_score, recall_score, accuracy_score, confusion_matrix"
      ]
    },
    {
      "cell_type": "markdown",
      "id": "v2MbfOLg5QgM",
      "metadata": {
        "id": "v2MbfOLg5QgM"
      },
      "source": [
        "#### Overall evaluation of the model"
      ]
    },
    {
      "cell_type": "code",
      "execution_count": 272,
      "id": "DID591rN5QgM",
      "metadata": {
        "colab": {
          "base_uri": "https://localhost:8080/"
        },
        "id": "DID591rN5QgM",
        "outputId": "c8c6a2fa-f000-4f33-f5fd-345166281bda"
      },
      "outputs": [
        {
          "name": "stdout",
          "output_type": "stream",
          "text": [
            "Accuracy Score :  0.9865702479338843\n",
            "Precision Score :  0.9865702479338843\n",
            "Recall Score :  0.9865702479338843\n",
            "Mean Absolute Error :  0.013429752066115703\n"
          ]
        }
      ],
      "source": [
        "print(\"Accuracy Score : \",accuracy_score(y_test,pred))\n",
        "print(\"Precision Score : \",precision_score(y_test, pred, average='micro'))\n",
        "print(\"Recall Score : \",recall_score(y_test, pred, average='micro'))\n",
        "print(\"Mean Absolute Error : \",mean_absolute_error(y_test,pred))"
      ]
    },
    {
      "cell_type": "markdown",
      "id": "8JStI2075QgM",
      "metadata": {
        "id": "8JStI2075QgM"
      },
      "source": [
        "#### Classwise Evaluation of the model"
      ]
    },
    {
      "cell_type": "code",
      "execution_count": 273,
      "id": "xriuHPcI5QgM",
      "metadata": {
        "colab": {
          "base_uri": "https://localhost:8080/"
        },
        "id": "xriuHPcI5QgM",
        "outputId": "a0217767-d813-41f6-db56-36061899ae79"
      },
      "outputs": [
        {
          "name": "stdout",
          "output_type": "stream",
          "text": [
            "Class 0:\n",
            "Precision: 0.9865125240847784\n",
            "Recall: 0.9903288201160542\n",
            "FP rate: 0.015521064301552107\n",
            "Accuracy: 0.9865702479338843\n",
            "\n",
            "Class 1:\n",
            "Precision: 0.9811912225705329\n",
            "Recall: 0.978125\n",
            "FP rate: 0.009259259259259259\n",
            "Accuracy: 0.9865702479338843\n",
            "\n",
            "Class 2:\n",
            "Precision: 1.0\n",
            "Recall: 0.9923664122137404\n",
            "FP rate: 0.0\n",
            "Accuracy: 0.9865702479338843\n",
            "\n"
          ]
        }
      ],
      "source": [
        "conf_matrix = confusion_matrix(y_true=y_test, y_pred=pred)\n",
        "# We store all the precisions, recalls, accuracies and FP rate of individual classes in a list\n",
        "num_classes = len(set(y_test))\n",
        "precisions = []\n",
        "recalls = []\n",
        "accuracies = []\n",
        "fp_rates = []\n",
        "\n",
        "# We calculate the precision, recall and accuracies here.\n",
        "for i in range(num_classes):\n",
        "    precision_i = precision_score(y_test, pred, labels=[i], average='micro')\n",
        "    recall_i = recall_score(y_test, pred, labels=[i], average='micro')\n",
        "    accuracy_i = accuracy_score(y_test, pred)\n",
        "    precisions.append(precision_i)\n",
        "    recalls.append(recall_i)\n",
        "    accuracies.append(accuracy_i)\n",
        "\n",
        "# We calculate the FP rate of individual classes from the confusion matrix here.\n",
        "for i in range(num_classes):\n",
        "    FP = conf_matrix.sum(axis=0)[i] - conf_matrix[i, i]\n",
        "    TN = conf_matrix.sum() - conf_matrix.sum(axis=0)[i] - conf_matrix.sum(axis=1)[i] + conf_matrix[i, i]\n",
        "    fp_rate_i = FP / (FP + TN)\n",
        "    fp_rates.append(fp_rate_i)\n",
        "\n",
        "# We display all the metrics result here\n",
        "for i in range(num_classes):\n",
        "    print(f\"Class {i}:\")\n",
        "    print(f\"Precision: {precisions[i]}\")\n",
        "    print(f\"Recall: {recalls[i]}\")\n",
        "    print(f\"FP rate: {fp_rates[i]}\")\n",
        "    print(f\"Accuracy: {accuracies[i]}\")\n",
        "    print()\n"
      ]
    },
    {
      "cell_type": "markdown",
      "id": "4i04_Lhu5QgM",
      "metadata": {
        "id": "4i04_Lhu5QgM"
      },
      "source": [
        "## Logistic Regression"
      ]
    },
    {
      "cell_type": "code",
      "execution_count": 274,
      "id": "qtw9ctK05QgM",
      "metadata": {
        "id": "qtw9ctK05QgM"
      },
      "outputs": [],
      "source": [
        "from sklearn.linear_model import LogisticRegression"
      ]
    },
    {
      "cell_type": "code",
      "execution_count": 275,
      "id": "ztKSLZ_W5QgM",
      "metadata": {
        "colab": {
          "base_uri": "https://localhost:8080/",
          "height": 213
        },
        "id": "ztKSLZ_W5QgM",
        "outputId": "12f8517a-2c72-419e-c93a-782ce6ebb333"
      },
      "outputs": [
        {
          "name": "stderr",
          "output_type": "stream",
          "text": [
            "/usr/local/lib/python3.11/site-packages/sklearn/linear_model/_logistic.py:460: ConvergenceWarning: lbfgs failed to converge (status=1):\n",
            "STOP: TOTAL NO. of ITERATIONS REACHED LIMIT.\n",
            "\n",
            "Increase the number of iterations (max_iter) or scale the data as shown in:\n",
            "    https://scikit-learn.org/stable/modules/preprocessing.html\n",
            "Please also refer to the documentation for alternative solver options:\n",
            "    https://scikit-learn.org/stable/modules/linear_model.html#logistic-regression\n",
            "  n_iter_i = _check_optimize_result(\n"
          ]
        },
        {
          "data": {
            "text/html": [
              "<style>#sk-container-id-6 {color: black;}#sk-container-id-6 pre{padding: 0;}#sk-container-id-6 div.sk-toggleable {background-color: white;}#sk-container-id-6 label.sk-toggleable__label {cursor: pointer;display: block;width: 100%;margin-bottom: 0;padding: 0.3em;box-sizing: border-box;text-align: center;}#sk-container-id-6 label.sk-toggleable__label-arrow:before {content: \"▸\";float: left;margin-right: 0.25em;color: #696969;}#sk-container-id-6 label.sk-toggleable__label-arrow:hover:before {color: black;}#sk-container-id-6 div.sk-estimator:hover label.sk-toggleable__label-arrow:before {color: black;}#sk-container-id-6 div.sk-toggleable__content {max-height: 0;max-width: 0;overflow: hidden;text-align: left;background-color: #f0f8ff;}#sk-container-id-6 div.sk-toggleable__content pre {margin: 0.2em;color: black;border-radius: 0.25em;background-color: #f0f8ff;}#sk-container-id-6 input.sk-toggleable__control:checked~div.sk-toggleable__content {max-height: 200px;max-width: 100%;overflow: auto;}#sk-container-id-6 input.sk-toggleable__control:checked~label.sk-toggleable__label-arrow:before {content: \"▾\";}#sk-container-id-6 div.sk-estimator input.sk-toggleable__control:checked~label.sk-toggleable__label {background-color: #d4ebff;}#sk-container-id-6 div.sk-label input.sk-toggleable__control:checked~label.sk-toggleable__label {background-color: #d4ebff;}#sk-container-id-6 input.sk-hidden--visually {border: 0;clip: rect(1px 1px 1px 1px);clip: rect(1px, 1px, 1px, 1px);height: 1px;margin: -1px;overflow: hidden;padding: 0;position: absolute;width: 1px;}#sk-container-id-6 div.sk-estimator {font-family: monospace;background-color: #f0f8ff;border: 1px dotted black;border-radius: 0.25em;box-sizing: border-box;margin-bottom: 0.5em;}#sk-container-id-6 div.sk-estimator:hover {background-color: #d4ebff;}#sk-container-id-6 div.sk-parallel-item::after {content: \"\";width: 100%;border-bottom: 1px solid gray;flex-grow: 1;}#sk-container-id-6 div.sk-label:hover label.sk-toggleable__label {background-color: #d4ebff;}#sk-container-id-6 div.sk-serial::before {content: \"\";position: absolute;border-left: 1px solid gray;box-sizing: border-box;top: 0;bottom: 0;left: 50%;z-index: 0;}#sk-container-id-6 div.sk-serial {display: flex;flex-direction: column;align-items: center;background-color: white;padding-right: 0.2em;padding-left: 0.2em;position: relative;}#sk-container-id-6 div.sk-item {position: relative;z-index: 1;}#sk-container-id-6 div.sk-parallel {display: flex;align-items: stretch;justify-content: center;background-color: white;position: relative;}#sk-container-id-6 div.sk-item::before, #sk-container-id-6 div.sk-parallel-item::before {content: \"\";position: absolute;border-left: 1px solid gray;box-sizing: border-box;top: 0;bottom: 0;left: 50%;z-index: -1;}#sk-container-id-6 div.sk-parallel-item {display: flex;flex-direction: column;z-index: 1;position: relative;background-color: white;}#sk-container-id-6 div.sk-parallel-item:first-child::after {align-self: flex-end;width: 50%;}#sk-container-id-6 div.sk-parallel-item:last-child::after {align-self: flex-start;width: 50%;}#sk-container-id-6 div.sk-parallel-item:only-child::after {width: 0;}#sk-container-id-6 div.sk-dashed-wrapped {border: 1px dashed gray;margin: 0 0.4em 0.5em 0.4em;box-sizing: border-box;padding-bottom: 0.4em;background-color: white;}#sk-container-id-6 div.sk-label label {font-family: monospace;font-weight: bold;display: inline-block;line-height: 1.2em;}#sk-container-id-6 div.sk-label-container {text-align: center;}#sk-container-id-6 div.sk-container {/* jupyter's `normalize.less` sets `[hidden] { display: none; }` but bootstrap.min.css set `[hidden] { display: none !important; }` so we also need the `!important` here to be able to override the default hidden behavior on the sphinx rendered scikit-learn.org. See: https://github.com/scikit-learn/scikit-learn/issues/21755 */display: inline-block !important;position: relative;}#sk-container-id-6 div.sk-text-repr-fallback {display: none;}</style><div id=\"sk-container-id-6\" class=\"sk-top-container\"><div class=\"sk-text-repr-fallback\"><pre>LogisticRegression()</pre><b>In a Jupyter environment, please rerun this cell to show the HTML representation or trust the notebook. <br />On GitHub, the HTML representation is unable to render, please try loading this page with nbviewer.org.</b></div><div class=\"sk-container\" hidden><div class=\"sk-item\"><div class=\"sk-estimator sk-toggleable\"><input class=\"sk-toggleable__control sk-hidden--visually\" id=\"sk-estimator-id-6\" type=\"checkbox\" checked><label for=\"sk-estimator-id-6\" class=\"sk-toggleable__label sk-toggleable__label-arrow\">LogisticRegression</label><div class=\"sk-toggleable__content\"><pre>LogisticRegression()</pre></div></div></div></div></div>"
            ],
            "text/plain": [
              "LogisticRegression()"
            ]
          },
          "execution_count": 275,
          "metadata": {},
          "output_type": "execute_result"
        }
      ],
      "source": [
        "# Training the model\n",
        "lr_model = LogisticRegression()\n",
        "lr_model.fit(X_train,y_train)"
      ]
    },
    {
      "cell_type": "code",
      "execution_count": 276,
      "id": "Hj6rSxIN5QgN",
      "metadata": {
        "id": "Hj6rSxIN5QgN"
      },
      "outputs": [],
      "source": [
        "# Evaluating the Model\n",
        "# We use the predict() on the model to predict the output\n",
        "pred = lr_model.predict(X_test)"
      ]
    },
    {
      "cell_type": "code",
      "execution_count": 277,
      "id": "poTsi3YW5QgN",
      "metadata": {
        "id": "poTsi3YW5QgN"
      },
      "outputs": [],
      "source": [
        "# Confusion Matrix\n",
        "cf_matrix = confusion_matrix(y_test, pred)"
      ]
    },
    {
      "cell_type": "code",
      "execution_count": 278,
      "id": "kbcjk8O_5QgN",
      "metadata": {
        "colab": {
          "base_uri": "https://localhost:8080/",
          "height": 481
        },
        "id": "kbcjk8O_5QgN",
        "outputId": "d977d373-e992-4252-f3f8-1c2979415ba1"
      },
      "outputs": [
        {
          "data": {
            "image/png": "[encoded data removed]",
            "text/plain": [
              "<Figure size 640x480 with 2 Axes>"
            ]
          },
          "metadata": {},
          "output_type": "display_data"
        }
      ],
      "source": [
        "# Plotting a Confusion Matrix in Seaborn\n",
        "conf_matrix = confusion_matrix(y_test, pred, labels=dtc_model.classes_)\n",
        "sns.heatmap(conf_matrix,\n",
        "            annot=True,\n",
        "            fmt='g',\n",
        "            xticklabels=dtc_model.classes_,\n",
        "            yticklabels=dtc_model.classes_,\n",
        "    )\n",
        "plt.ylabel('Predicted values',fontsize=13)\n",
        "plt.xlabel('Actual values',fontsize=13)\n",
        "plt.title('Confusion Matrix',fontsize=17)\n",
        "plt.show()"
      ]
    },
    {
      "cell_type": "markdown",
      "id": "pbNvyYwe5QgN",
      "metadata": {
        "id": "pbNvyYwe5QgN"
      },
      "source": [
        "### Evaluation Of The Model"
      ]
    },
    {
      "cell_type": "markdown",
      "id": "LmZ9O4Rh5QgN",
      "metadata": {
        "id": "LmZ9O4Rh5QgN"
      },
      "source": [
        "#### Overall evaluation of the model"
      ]
    },
    {
      "cell_type": "code",
      "execution_count": 279,
      "id": "UNvu6CaH5QgN",
      "metadata": {
        "colab": {
          "base_uri": "https://localhost:8080/"
        },
        "id": "UNvu6CaH5QgN",
        "outputId": "222fce6b-e80a-4c0e-e48c-f54608c07874"
      },
      "outputs": [
        {
          "name": "stdout",
          "output_type": "stream",
          "text": [
            "Accuracy Score :  0.9865702479338843\n",
            "Precision Score :  0.9865702479338843\n",
            "Recall Score :  0.9865702479338843\n",
            "Mean Absolute Error :  0.013429752066115703\n"
          ]
        }
      ],
      "source": [
        "print(\"Accuracy Score : \",accuracy_score(y_test,pred))\n",
        "print(\"Precision Score : \",precision_score(y_test, pred, average='micro'))\n",
        "print(\"Recall Score : \",recall_score(y_test, pred, average='micro'))\n",
        "print(\"Mean Absolute Error : \",mean_absolute_error(y_test,pred))"
      ]
    },
    {
      "cell_type": "markdown",
      "id": "6CS7Vabh5QgN",
      "metadata": {
        "id": "6CS7Vabh5QgN"
      },
      "source": [
        "#### Classwise Evaluatuion of the model"
      ]
    },
    {
      "cell_type": "code",
      "execution_count": 280,
      "id": "0rVVzS4L5QgO",
      "metadata": {
        "colab": {
          "base_uri": "https://localhost:8080/"
        },
        "id": "0rVVzS4L5QgO",
        "outputId": "ba66813c-7141-4f4f-e3e2-411ac0a4917a"
      },
      "outputs": [
        {
          "name": "stdout",
          "output_type": "stream",
          "text": [
            "Class 0:\n",
            "Precision: 0.9864864864864865\n",
            "Recall: 0.988394584139265\n",
            "FP rate: 0.015521064301552107\n",
            "Accuracy: 0.9865702479338843\n",
            "\n",
            "Class 1:\n",
            "Precision: 0.9811912225705329\n",
            "Recall: 0.978125\n",
            "FP rate: 0.009259259259259259\n",
            "Accuracy: 0.9865702479338843\n",
            "\n",
            "Class 2:\n",
            "Precision: 1.0\n",
            "Recall: 1.0\n",
            "FP rate: 0.0\n",
            "Accuracy: 0.9865702479338843\n",
            "\n"
          ]
        }
      ],
      "source": [
        "conf_matrix = confusion_matrix(y_true=y_test, y_pred=pred)\n",
        "# We store all the precisions, recalls, accuracies and FP rate of individual classes in a list\n",
        "num_classes = len(set(y_test))\n",
        "precisions = []\n",
        "recalls = []\n",
        "accuracies = []\n",
        "fp_rates = []\n",
        "# tp_rates = []\n",
        "\n",
        "# We calculate the precision, recall and accuracies here.\n",
        "for i in range(num_classes):\n",
        "    precision_i = precision_score(y_test, pred, labels=[i], average='micro')\n",
        "    recall_i = recall_score(y_test, pred, labels=[i], average='micro')\n",
        "    accuracy_i = accuracy_score(y_test, pred)\n",
        "    precisions.append(precision_i)\n",
        "    recalls.append(recall_i)\n",
        "    accuracies.append(accuracy_i)\n",
        "\n",
        "# We calculate the FP rate of individual classes from the confusion matrix here.\n",
        "for i in range(num_classes):\n",
        "    FP = conf_matrix.sum(axis=0)[i] - conf_matrix[i, i]\n",
        "    TN = conf_matrix.sum() - conf_matrix.sum(axis=0)[i] - conf_matrix.sum(axis=1)[i] + conf_matrix[i, i]\n",
        "    fp_rate_i = FP / (FP + TN)\n",
        "    fp_rates.append(fp_rate_i)\n",
        "    # TP = TP = conf_matrix[i, i]  # Get true positives for the current class\n",
        "    # total_positives = np.sum(conf_matrix[i, :])  # Total positives for the current class\n",
        "    # tp_rate_i = TP / total_positives if total_positives > 0 else 0  # Calculate TP rate\n",
        "    # tp_rates.append(tp_rate_i)\n",
        "\n",
        "# We display all the metrics result here\n",
        "for i in range(num_classes):\n",
        "    print(f\"Class {i}:\")\n",
        "    print(f\"Precision: {precisions[i]}\")\n",
        "    print(f\"Recall: {recalls[i]}\")\n",
        "    print(f\"FP rate: {fp_rates[i]}\")\n",
        "    print(f\"Accuracy: {accuracies[i]}\")\n",
        "    # print(f\"TP rate: {tp_rates[i]}\")\n",
        "    print()"
      ]
    },
    {
      "cell_type": "markdown",
      "id": "e0b184f2",
      "metadata": {
        "id": "e0b184f2"
      },
      "source": [
        "## ROC"
      ]
    },
    {
      "cell_type": "code",
      "execution_count": 281,
      "id": "QL1RhRiH5QgO",
      "metadata": {
        "id": "QL1RhRiH5QgO"
      },
      "outputs": [],
      "source": [
        "from sklearn.metrics import roc_curve, auc\n",
        "from sklearn.model_selection import train_test_split\n",
        "from sklearn.preprocessing import label_binarize\n",
        "from sklearn.multiclass import OneVsRestClassifier\n",
        "from sklearn.linear_model import LogisticRegression"
      ]
    },
    {
      "cell_type": "code",
      "execution_count": 282,
      "id": "KLp2G_co5QgO",
      "metadata": {
        "id": "KLp2G_co5QgO"
      },
      "outputs": [],
      "source": [
        "X, y = fp_rate_i, recall_i"
      ]
    },
    {
      "cell_type": "code",
      "execution_count": 283,
      "id": "jJ6zYcQv5QgO",
      "metadata": {
        "id": "jJ6zYcQv5QgO"
      },
      "outputs": [],
      "source": [
        "# Compute ROC curve and ROC area for each class\n",
        "fpr = dict()\n",
        "tpr = dict()\n",
        "roc_auc = dict()\n",
        "\n",
        "for i in range(num_classes):\n",
        "    fpr[i], tpr[i], _ = roc_curve([0, 1], [fp_rates[i], recalls[i]])  # FP rate and Recall (TP rate) for the current class\n",
        "    roc_auc[i] = auc(fpr[i], tpr[i])\n"
      ]
    },
    {
      "cell_type": "code",
      "execution_count": 284,
      "id": "86451e0a",
      "metadata": {
        "id": "86451e0a"
      },
      "outputs": [],
      "source": [
        "# num_classes = 0  # Replace with the class number you're interested in\n",
        "# auc_value = roc_auc[num_classes]\n",
        "# print(f\"AUC for Class {num_classes}: {auc_value}\")"
      ]
    },
    {
      "cell_type": "code",
      "execution_count": 285,
      "id": "da826064",
      "metadata": {
        "id": "da826064"
      },
      "outputs": [],
      "source": [
        "# Class = 1  # Replace with the class number you're interested in\n",
        "# auc_value = roc_auc[Class]\n",
        "# print(f\"AUC for Class {Class}: {auc_value}\")"
      ]
    },
    {
      "cell_type": "code",
      "execution_count": 286,
      "id": "a5adbc27",
      "metadata": {
        "id": "a5adbc27"
      },
      "outputs": [],
      "source": [
        "# Class = 2  # Replace with the class number you're interested in\n",
        "# auc_value = roc_auc[Class]\n",
        "# print(f\"AUC for Class {Class}: {auc_value}\")"
      ]
    },
    {
      "cell_type": "markdown",
      "id": "96be49cb",
      "metadata": {
        "id": "96be49cb"
      },
      "source": [
        "## ROC Graph for all the 3 classes"
      ]
    },
    {
      "cell_type": "code",
      "execution_count": 287,
      "id": "xM2UW-ph5QgP",
      "metadata": {
        "colab": {
          "base_uri": "https://localhost:8080/",
          "height": 472
        },
        "id": "xM2UW-ph5QgP",
        "outputId": "8e0f46a2-7486-49e0-e264-9a84403b6c17"
      },
      "outputs": [
        {
          "data": {
            "image/png": "[encoded data removed]",
            "text/plain": [
              "<Figure size 640x480 with 1 Axes>"
            ]
          },
          "metadata": {},
          "output_type": "display_data"
        }
      ],
      "source": [
        "#plot the graph\n",
        "plt.figure()\n",
        "colors = ['red', 'green', 'blue']  # Define colors for different classes\n",
        "for i in range(num_classes):\n",
        "    plt.plot(fpr[i], tpr[i], color=colors[i], lw=2, label=f'ROC curve of class {i} (area = {roc_auc[i]:0.2f})')\n",
        "\n",
        "plt.plot([0, 1], [0, 1], color='gray', lw=2, linestyle='--')  # Plot the diagonal line\n",
        "plt.xlim([0.0, 1.0])\n",
        "plt.ylim([0.0, 1.05])\n",
        "plt.xlabel('False Positive Rate')\n",
        "plt.ylabel('True Positive Rate')\n",
        "plt.title('Receiver Operating Characteristic (ROC)')\n",
        "plt.legend(loc=\"lower right\")\n",
        "plt.show()"
      ]
    },
    {
      "cell_type": "markdown",
      "id": "RjOMuv9-5Z_0",
      "metadata": {
        "id": "RjOMuv9-5Z_0"
      },
      "source": [
        "#Lab 5"
      ]
    },
    {
      "cell_type": "code",
      "execution_count": 288,
      "id": "m4chkbdv5c5L",
      "metadata": {
        "id": "m4chkbdv5c5L"
      },
      "outputs": [],
      "source": [
        "#reading the imported dataset\n",
        "df = pd.read_excel(\"./dry-bean-dataset/Dry_Bean_Dataset/Dry_Bean_Dataset.xlsx\")"
      ]
    },
    {
      "cell_type": "markdown",
      "id": "-N-evouw6fF2",
      "metadata": {
        "id": "-N-evouw6fF2"
      },
      "source": [
        "##Generating Metrix"
      ]
    },
    {
      "cell_type": "code",
      "execution_count": 289,
      "id": "mTqojEU_6LmO",
      "metadata": {
        "id": "mTqojEU_6LmO"
      },
      "outputs": [],
      "source": [
        "#Importing libraries\n",
        "from sklearn.naive_bayes import MultinomialNB\n",
        "from sklearn.naive_bayes import GaussianNB\n",
        "from sklearn.naive_bayes import ComplementNB\n",
        "from sklearn.naive_bayes import BernoulliNB\n",
        "from sklearn.naive_bayes import CategoricalNB\n",
        "\n",
        "from sklearn.preprocessing import MinMaxScaler\n",
        "\n",
        "from sklearn.metrics import precision_score, recall_score, accuracy_score, confusion_matrix,f1_score,mean_absolute_error\n",
        "from sklearn.metrics import roc_curve, auc\n",
        "from sklearn.model_selection import train_test_split\n",
        "from sklearn.preprocessing import label_binarize\n",
        "from sklearn.model_selection import train_test_split"
      ]
    },
    {
      "cell_type": "code",
      "execution_count": 290,
      "id": "grzzhATPx0Or",
      "metadata": {
        "colab": {
          "base_uri": "https://localhost:8080/"
        },
        "id": "grzzhATPx0Or",
        "outputId": "7e7ab874-bb9f-4cc9-a7bd-24345e7ec036"
      },
      "outputs": [
        {
          "data": {
            "text/plain": [
              "array(['SEKER', 'BARBUNYA', 'BOMBAY', 'CALI', 'HOROZ', 'SIRA', 'DERMASON'],\n",
              "      dtype=object)"
            ]
          },
          "execution_count": 290,
          "metadata": {},
          "output_type": "execute_result"
        }
      ],
      "source": [
        "df[\"Class\"].unique()"
      ]
    },
    {
      "cell_type": "code",
      "execution_count": 291,
      "id": "vugrQcPDx0rg",
      "metadata": {
        "id": "vugrQcPDx0rg"
      },
      "outputs": [],
      "source": [
        "#dropping rows to obtain a dataset with only 3 classes\n",
        "df = df.drop(df[df[\"Class\"].isin(['CALI', 'HOROZ' , 'SIRA', 'DERMASON'])].index)"
      ]
    },
    {
      "cell_type": "code",
      "execution_count": 292,
      "id": "BJ3RwX4Mwfo5",
      "metadata": {
        "id": "BJ3RwX4Mwfo5"
      },
      "outputs": [],
      "source": [
        "#Function to transform Nominal values to Numeric values\n",
        "def transform_dataset(df):\n",
        "    df[\"Class\"] = df['Class'].replace(['SEKER', 'BARBUNYA', 'BOMBAY'], [0,1,2])\n",
        "\n",
        "transform_dataset(df)"
      ]
    },
    {
      "cell_type": "code",
      "execution_count": 293,
      "id": "9sOYn5IDxjn5",
      "metadata": {
        "colab": {
          "base_uri": "https://localhost:8080/",
          "height": 226
        },
        "id": "9sOYn5IDxjn5",
        "outputId": "6b53e159-50db-4017-9fc0-8dde4afde3ab"
      },
      "outputs": [
        {
          "data": {
            "text/html": [
              "<div>\n",
              "<style scoped>\n",
              "    .dataframe tbody tr th:only-of-type {\n",
              "        vertical-align: middle;\n",
              "    }\n",
              "\n",
              "    .dataframe tbody tr th {\n",
              "        vertical-align: top;\n",
              "    }\n",
              "\n",
              "    .dataframe thead th {\n",
              "        text-align: right;\n",
              "    }\n",
              "</style>\n",
              "<table border=\"1\" class=\"dataframe\">\n",
              "  <thead>\n",
              "    <tr style=\"text-align: right;\">\n",
              "      <th></th>\n",
              "      <th>Area</th>\n",
              "      <th>Perimeter</th>\n",
              "      <th>MajorAxisLength</th>\n",
              "      <th>MinorAxisLength</th>\n",
              "      <th>AspectRation</th>\n",
              "      <th>Eccentricity</th>\n",
              "      <th>ConvexArea</th>\n",
              "      <th>EquivDiameter</th>\n",
              "      <th>Extent</th>\n",
              "      <th>Solidity</th>\n",
              "      <th>roundness</th>\n",
              "      <th>Compactness</th>\n",
              "      <th>ShapeFactor1</th>\n",
              "      <th>ShapeFactor2</th>\n",
              "      <th>ShapeFactor3</th>\n",
              "      <th>ShapeFactor4</th>\n",
              "      <th>Class</th>\n",
              "    </tr>\n",
              "  </thead>\n",
              "  <tbody>\n",
              "    <tr>\n",
              "      <th>0</th>\n",
              "      <td>28395</td>\n",
              "      <td>610.291</td>\n",
              "      <td>208.178117</td>\n",
              "      <td>173.888747</td>\n",
              "      <td>1.197191</td>\n",
              "      <td>0.549812</td>\n",
              "      <td>28715</td>\n",
              "      <td>190.141097</td>\n",
              "      <td>0.763923</td>\n",
              "      <td>0.988856</td>\n",
              "      <td>0.958027</td>\n",
              "      <td>0.913358</td>\n",
              "      <td>0.007332</td>\n",
              "      <td>0.003147</td>\n",
              "      <td>0.834222</td>\n",
              "      <td>0.998724</td>\n",
              "      <td>0</td>\n",
              "    </tr>\n",
              "    <tr>\n",
              "      <th>1</th>\n",
              "      <td>28734</td>\n",
              "      <td>638.018</td>\n",
              "      <td>200.524796</td>\n",
              "      <td>182.734419</td>\n",
              "      <td>1.097356</td>\n",
              "      <td>0.411785</td>\n",
              "      <td>29172</td>\n",
              "      <td>191.272750</td>\n",
              "      <td>0.783968</td>\n",
              "      <td>0.984986</td>\n",
              "      <td>0.887034</td>\n",
              "      <td>0.953861</td>\n",
              "      <td>0.006979</td>\n",
              "      <td>0.003564</td>\n",
              "      <td>0.909851</td>\n",
              "      <td>0.998430</td>\n",
              "      <td>0</td>\n",
              "    </tr>\n",
              "    <tr>\n",
              "      <th>2</th>\n",
              "      <td>29380</td>\n",
              "      <td>624.110</td>\n",
              "      <td>212.826130</td>\n",
              "      <td>175.931143</td>\n",
              "      <td>1.209713</td>\n",
              "      <td>0.562727</td>\n",
              "      <td>29690</td>\n",
              "      <td>193.410904</td>\n",
              "      <td>0.778113</td>\n",
              "      <td>0.989559</td>\n",
              "      <td>0.947849</td>\n",
              "      <td>0.908774</td>\n",
              "      <td>0.007244</td>\n",
              "      <td>0.003048</td>\n",
              "      <td>0.825871</td>\n",
              "      <td>0.999066</td>\n",
              "      <td>0</td>\n",
              "    </tr>\n",
              "    <tr>\n",
              "      <th>3</th>\n",
              "      <td>30008</td>\n",
              "      <td>645.884</td>\n",
              "      <td>210.557999</td>\n",
              "      <td>182.516516</td>\n",
              "      <td>1.153638</td>\n",
              "      <td>0.498616</td>\n",
              "      <td>30724</td>\n",
              "      <td>195.467062</td>\n",
              "      <td>0.782681</td>\n",
              "      <td>0.976696</td>\n",
              "      <td>0.903936</td>\n",
              "      <td>0.928329</td>\n",
              "      <td>0.007017</td>\n",
              "      <td>0.003215</td>\n",
              "      <td>0.861794</td>\n",
              "      <td>0.994199</td>\n",
              "      <td>0</td>\n",
              "    </tr>\n",
              "    <tr>\n",
              "      <th>4</th>\n",
              "      <td>30140</td>\n",
              "      <td>620.134</td>\n",
              "      <td>201.847882</td>\n",
              "      <td>190.279279</td>\n",
              "      <td>1.060798</td>\n",
              "      <td>0.333680</td>\n",
              "      <td>30417</td>\n",
              "      <td>195.896503</td>\n",
              "      <td>0.773098</td>\n",
              "      <td>0.990893</td>\n",
              "      <td>0.984877</td>\n",
              "      <td>0.970516</td>\n",
              "      <td>0.006697</td>\n",
              "      <td>0.003665</td>\n",
              "      <td>0.941900</td>\n",
              "      <td>0.999166</td>\n",
              "      <td>0</td>\n",
              "    </tr>\n",
              "  </tbody>\n",
              "</table>\n",
              "</div>"
            ],
            "text/plain": [
              "    Area  Perimeter  MajorAxisLength  MinorAxisLength  AspectRation  \\\n",
              "0  28395    610.291       208.178117       173.888747      1.197191   \n",
              "1  28734    638.018       200.524796       182.734419      1.097356   \n",
              "2  29380    624.110       212.826130       175.931143      1.209713   \n",
              "3  30008    645.884       210.557999       182.516516      1.153638   \n",
              "4  30140    620.134       201.847882       190.279279      1.060798   \n",
              "\n",
              "   Eccentricity  ConvexArea  EquivDiameter    Extent  Solidity  roundness  \\\n",
              "0      0.549812       28715     190.141097  0.763923  0.988856   0.958027   \n",
              "1      0.411785       29172     191.272750  0.783968  0.984986   0.887034   \n",
              "2      0.562727       29690     193.410904  0.778113  0.989559   0.947849   \n",
              "3      0.498616       30724     195.467062  0.782681  0.976696   0.903936   \n",
              "4      0.333680       30417     195.896503  0.773098  0.990893   0.984877   \n",
              "\n",
              "   Compactness  ShapeFactor1  ShapeFactor2  ShapeFactor3  ShapeFactor4  Class  \n",
              "0     0.913358      0.007332      0.003147      0.834222      0.998724      0  \n",
              "1     0.953861      0.006979      0.003564      0.909851      0.998430      0  \n",
              "2     0.908774      0.007244      0.003048      0.825871      0.999066      0  \n",
              "3     0.928329      0.007017      0.003215      0.861794      0.994199      0  \n",
              "4     0.970516      0.006697      0.003665      0.941900      0.999166      0  "
            ]
          },
          "execution_count": 293,
          "metadata": {},
          "output_type": "execute_result"
        }
      ],
      "source": [
        "df.head()"
      ]
    },
    {
      "cell_type": "code",
      "execution_count": 294,
      "id": "Y5CDeAmOwkkK",
      "metadata": {
        "id": "Y5CDeAmOwkkK"
      },
      "outputs": [],
      "source": [
        "# Creating a functing to Scale the dataset (this is to transform records so that they lie in 0 to 1 range)\n",
        "def scale_dataset(dataframe):\n",
        "  scaler = MinMaxScaler()\n",
        "  dataframe[dataframe.columns[:-1]] = scaler.fit_transform(dataframe[dataframe.columns[:-1]])\n",
        "  y = dataframe[dataframe.columns[-1]].values\n",
        "  return dataframe"
      ]
    },
    {
      "cell_type": "code",
      "execution_count": 295,
      "id": "MncyWj0RGDEv",
      "metadata": {
        "id": "MncyWj0RGDEv"
      },
      "outputs": [],
      "source": [
        "# Normalizing data\n",
        "normalized_df = scale_dataset(df)"
      ]
    },
    {
      "cell_type": "code",
      "execution_count": 296,
      "id": "Ao1D0tgQ4RlX",
      "metadata": {
        "colab": {
          "base_uri": "https://localhost:8080/",
          "height": 226
        },
        "id": "Ao1D0tgQ4RlX",
        "outputId": "3a40ee18-7dba-488b-b7a3-119a23cbbf1d"
      },
      "outputs": [
        {
          "data": {
            "text/html": [
              "<div>\n",
              "<style scoped>\n",
              "    .dataframe tbody tr th:only-of-type {\n",
              "        vertical-align: middle;\n",
              "    }\n",
              "\n",
              "    .dataframe tbody tr th {\n",
              "        vertical-align: top;\n",
              "    }\n",
              "\n",
              "    .dataframe thead th {\n",
              "        text-align: right;\n",
              "    }\n",
              "</style>\n",
              "<table border=\"1\" class=\"dataframe\">\n",
              "  <thead>\n",
              "    <tr style=\"text-align: right;\">\n",
              "      <th></th>\n",
              "      <th>Area</th>\n",
              "      <th>Perimeter</th>\n",
              "      <th>MajorAxisLength</th>\n",
              "      <th>MinorAxisLength</th>\n",
              "      <th>AspectRation</th>\n",
              "      <th>Eccentricity</th>\n",
              "      <th>ConvexArea</th>\n",
              "      <th>EquivDiameter</th>\n",
              "      <th>Extent</th>\n",
              "      <th>Solidity</th>\n",
              "      <th>roundness</th>\n",
              "      <th>Compactness</th>\n",
              "      <th>ShapeFactor1</th>\n",
              "      <th>ShapeFactor2</th>\n",
              "      <th>ShapeFactor3</th>\n",
              "      <th>ShapeFactor4</th>\n",
              "      <th>Class</th>\n",
              "    </tr>\n",
              "  </thead>\n",
              "  <tbody>\n",
              "    <tr>\n",
              "      <th>0</th>\n",
              "      <td>0.000000</td>\n",
              "      <td>0.000000</td>\n",
              "      <td>0.014217</td>\n",
              "      <td>0.009267</td>\n",
              "      <td>0.186195</td>\n",
              "      <td>0.517291</td>\n",
              "      <td>0.000000</td>\n",
              "      <td>0.000000</td>\n",
              "      <td>0.624114</td>\n",
              "      <td>0.922824</td>\n",
              "      <td>0.917733</td>\n",
              "      <td>0.729821</td>\n",
              "      <td>0.969567</td>\n",
              "      <td>0.833049</td>\n",
              "      <td>0.698093</td>\n",
              "      <td>0.980620</td>\n",
              "      <td>0</td>\n",
              "    </tr>\n",
              "    <tr>\n",
              "      <th>1</th>\n",
              "      <td>0.001499</td>\n",
              "      <td>0.020164</td>\n",
              "      <td>0.000000</td>\n",
              "      <td>0.039877</td>\n",
              "      <td>0.078324</td>\n",
              "      <td>0.301490</td>\n",
              "      <td>0.001948</td>\n",
              "      <td>0.002984</td>\n",
              "      <td>0.703850</td>\n",
              "      <td>0.871514</td>\n",
              "      <td>0.738897</td>\n",
              "      <td>0.877810</td>\n",
              "      <td>0.894436</td>\n",
              "      <td>0.967315</td>\n",
              "      <td>0.860551</td>\n",
              "      <td>0.974979</td>\n",
              "      <td>0</td>\n",
              "    </tr>\n",
              "    <tr>\n",
              "      <th>2</th>\n",
              "      <td>0.004354</td>\n",
              "      <td>0.010050</td>\n",
              "      <td>0.022851</td>\n",
              "      <td>0.016335</td>\n",
              "      <td>0.199724</td>\n",
              "      <td>0.537484</td>\n",
              "      <td>0.004157</td>\n",
              "      <td>0.008622</td>\n",
              "      <td>0.680561</td>\n",
              "      <td>0.932141</td>\n",
              "      <td>0.892095</td>\n",
              "      <td>0.713074</td>\n",
              "      <td>0.950916</td>\n",
              "      <td>0.800942</td>\n",
              "      <td>0.680152</td>\n",
              "      <td>0.987196</td>\n",
              "      <td>0</td>\n",
              "    </tr>\n",
              "    <tr>\n",
              "      <th>3</th>\n",
              "      <td>0.007130</td>\n",
              "      <td>0.025884</td>\n",
              "      <td>0.018637</td>\n",
              "      <td>0.039123</td>\n",
              "      <td>0.139136</td>\n",
              "      <td>0.437247</td>\n",
              "      <td>0.008565</td>\n",
              "      <td>0.014044</td>\n",
              "      <td>0.698731</td>\n",
              "      <td>0.761614</td>\n",
              "      <td>0.781476</td>\n",
              "      <td>0.784522</td>\n",
              "      <td>0.902542</td>\n",
              "      <td>0.854744</td>\n",
              "      <td>0.757321</td>\n",
              "      <td>0.893675</td>\n",
              "      <td>0</td>\n",
              "    </tr>\n",
              "    <tr>\n",
              "      <th>4</th>\n",
              "      <td>0.007714</td>\n",
              "      <td>0.007158</td>\n",
              "      <td>0.002458</td>\n",
              "      <td>0.065984</td>\n",
              "      <td>0.038823</td>\n",
              "      <td>0.179374</td>\n",
              "      <td>0.007257</td>\n",
              "      <td>0.015176</td>\n",
              "      <td>0.660612</td>\n",
              "      <td>0.949832</td>\n",
              "      <td>0.985369</td>\n",
              "      <td>0.938662</td>\n",
              "      <td>0.834465</td>\n",
              "      <td>1.000000</td>\n",
              "      <td>0.929398</td>\n",
              "      <td>0.989116</td>\n",
              "      <td>0</td>\n",
              "    </tr>\n",
              "  </tbody>\n",
              "</table>\n",
              "</div>"
            ],
            "text/plain": [
              "       Area  Perimeter  MajorAxisLength  MinorAxisLength  AspectRation  \\\n",
              "0  0.000000   0.000000         0.014217         0.009267      0.186195   \n",
              "1  0.001499   0.020164         0.000000         0.039877      0.078324   \n",
              "2  0.004354   0.010050         0.022851         0.016335      0.199724   \n",
              "3  0.007130   0.025884         0.018637         0.039123      0.139136   \n",
              "4  0.007714   0.007158         0.002458         0.065984      0.038823   \n",
              "\n",
              "   Eccentricity  ConvexArea  EquivDiameter    Extent  Solidity  roundness  \\\n",
              "0      0.517291    0.000000       0.000000  0.624114  0.922824   0.917733   \n",
              "1      0.301490    0.001948       0.002984  0.703850  0.871514   0.738897   \n",
              "2      0.537484    0.004157       0.008622  0.680561  0.932141   0.892095   \n",
              "3      0.437247    0.008565       0.014044  0.698731  0.761614   0.781476   \n",
              "4      0.179374    0.007257       0.015176  0.660612  0.949832   0.985369   \n",
              "\n",
              "   Compactness  ShapeFactor1  ShapeFactor2  ShapeFactor3  ShapeFactor4  Class  \n",
              "0     0.729821      0.969567      0.833049      0.698093      0.980620      0  \n",
              "1     0.877810      0.894436      0.967315      0.860551      0.974979      0  \n",
              "2     0.713074      0.950916      0.800942      0.680152      0.987196      0  \n",
              "3     0.784522      0.902542      0.854744      0.757321      0.893675      0  \n",
              "4     0.938662      0.834465      1.000000      0.929398      0.989116      0  "
            ]
          },
          "execution_count": 296,
          "metadata": {},
          "output_type": "execute_result"
        }
      ],
      "source": [
        "normalized_df.head()"
      ]
    },
    {
      "cell_type": "code",
      "execution_count": 297,
      "id": "dsC1iEXe4cjP",
      "metadata": {
        "id": "dsC1iEXe4cjP"
      },
      "outputs": [],
      "source": [
        "# separating features and target columns of dataset\n",
        "X = normalized_df.drop('Class', axis=1)\n",
        "y = normalized_df['Class']"
      ]
    },
    {
      "cell_type": "code",
      "execution_count": 298,
      "id": "YnQqwP0n6Kjq",
      "metadata": {
        "colab": {
          "base_uri": "https://localhost:8080/",
          "height": 443
        },
        "id": "YnQqwP0n6Kjq",
        "outputId": "5541d352-5b38-404b-fee1-d6b4716c31c4"
      },
      "outputs": [
        {
          "data": {
            "text/html": [
              "<div>\n",
              "<style scoped>\n",
              "    .dataframe tbody tr th:only-of-type {\n",
              "        vertical-align: middle;\n",
              "    }\n",
              "\n",
              "    .dataframe tbody tr th {\n",
              "        vertical-align: top;\n",
              "    }\n",
              "\n",
              "    .dataframe thead th {\n",
              "        text-align: right;\n",
              "    }\n",
              "</style>\n",
              "<table border=\"1\" class=\"dataframe\">\n",
              "  <thead>\n",
              "    <tr style=\"text-align: right;\">\n",
              "      <th></th>\n",
              "      <th>Area</th>\n",
              "      <th>Perimeter</th>\n",
              "      <th>MajorAxisLength</th>\n",
              "      <th>MinorAxisLength</th>\n",
              "      <th>AspectRation</th>\n",
              "      <th>Eccentricity</th>\n",
              "      <th>ConvexArea</th>\n",
              "      <th>EquivDiameter</th>\n",
              "      <th>Extent</th>\n",
              "      <th>Solidity</th>\n",
              "      <th>roundness</th>\n",
              "      <th>Compactness</th>\n",
              "      <th>ShapeFactor1</th>\n",
              "      <th>ShapeFactor2</th>\n",
              "      <th>ShapeFactor3</th>\n",
              "      <th>ShapeFactor4</th>\n",
              "    </tr>\n",
              "  </thead>\n",
              "  <tbody>\n",
              "    <tr>\n",
              "      <th>0</th>\n",
              "      <td>0.000000</td>\n",
              "      <td>0.000000</td>\n",
              "      <td>0.014217</td>\n",
              "      <td>0.009267</td>\n",
              "      <td>0.186195</td>\n",
              "      <td>0.517291</td>\n",
              "      <td>0.000000</td>\n",
              "      <td>0.000000</td>\n",
              "      <td>0.624114</td>\n",
              "      <td>0.922824</td>\n",
              "      <td>0.917733</td>\n",
              "      <td>0.729821</td>\n",
              "      <td>0.969567</td>\n",
              "      <td>0.833049</td>\n",
              "      <td>0.698093</td>\n",
              "      <td>0.980620</td>\n",
              "    </tr>\n",
              "    <tr>\n",
              "      <th>1</th>\n",
              "      <td>0.001499</td>\n",
              "      <td>0.020164</td>\n",
              "      <td>0.000000</td>\n",
              "      <td>0.039877</td>\n",
              "      <td>0.078324</td>\n",
              "      <td>0.301490</td>\n",
              "      <td>0.001948</td>\n",
              "      <td>0.002984</td>\n",
              "      <td>0.703850</td>\n",
              "      <td>0.871514</td>\n",
              "      <td>0.738897</td>\n",
              "      <td>0.877810</td>\n",
              "      <td>0.894436</td>\n",
              "      <td>0.967315</td>\n",
              "      <td>0.860551</td>\n",
              "      <td>0.974979</td>\n",
              "    </tr>\n",
              "    <tr>\n",
              "      <th>2</th>\n",
              "      <td>0.004354</td>\n",
              "      <td>0.010050</td>\n",
              "      <td>0.022851</td>\n",
              "      <td>0.016335</td>\n",
              "      <td>0.199724</td>\n",
              "      <td>0.537484</td>\n",
              "      <td>0.004157</td>\n",
              "      <td>0.008622</td>\n",
              "      <td>0.680561</td>\n",
              "      <td>0.932141</td>\n",
              "      <td>0.892095</td>\n",
              "      <td>0.713074</td>\n",
              "      <td>0.950916</td>\n",
              "      <td>0.800942</td>\n",
              "      <td>0.680152</td>\n",
              "      <td>0.987196</td>\n",
              "    </tr>\n",
              "    <tr>\n",
              "      <th>3</th>\n",
              "      <td>0.007130</td>\n",
              "      <td>0.025884</td>\n",
              "      <td>0.018637</td>\n",
              "      <td>0.039123</td>\n",
              "      <td>0.139136</td>\n",
              "      <td>0.437247</td>\n",
              "      <td>0.008565</td>\n",
              "      <td>0.014044</td>\n",
              "      <td>0.698731</td>\n",
              "      <td>0.761614</td>\n",
              "      <td>0.781476</td>\n",
              "      <td>0.784522</td>\n",
              "      <td>0.902542</td>\n",
              "      <td>0.854744</td>\n",
              "      <td>0.757321</td>\n",
              "      <td>0.893675</td>\n",
              "    </tr>\n",
              "    <tr>\n",
              "      <th>4</th>\n",
              "      <td>0.007714</td>\n",
              "      <td>0.007158</td>\n",
              "      <td>0.002458</td>\n",
              "      <td>0.065984</td>\n",
              "      <td>0.038823</td>\n",
              "      <td>0.179374</td>\n",
              "      <td>0.007257</td>\n",
              "      <td>0.015176</td>\n",
              "      <td>0.660612</td>\n",
              "      <td>0.949832</td>\n",
              "      <td>0.985369</td>\n",
              "      <td>0.938662</td>\n",
              "      <td>0.834465</td>\n",
              "      <td>1.000000</td>\n",
              "      <td>0.929398</td>\n",
              "      <td>0.989116</td>\n",
              "    </tr>\n",
              "    <tr>\n",
              "      <th>...</th>\n",
              "      <td>...</td>\n",
              "      <td>...</td>\n",
              "      <td>...</td>\n",
              "      <td>...</td>\n",
              "      <td>...</td>\n",
              "      <td>...</td>\n",
              "      <td>...</td>\n",
              "      <td>...</td>\n",
              "      <td>...</td>\n",
              "      <td>...</td>\n",
              "      <td>...</td>\n",
              "      <td>...</td>\n",
              "      <td>...</td>\n",
              "      <td>...</td>\n",
              "      <td>...</td>\n",
              "      <td>...</td>\n",
              "    </tr>\n",
              "    <tr>\n",
              "      <th>3866</th>\n",
              "      <td>0.923323</td>\n",
              "      <td>0.953686</td>\n",
              "      <td>0.998671</td>\n",
              "      <td>0.836405</td>\n",
              "      <td>0.824142</td>\n",
              "      <td>0.953628</td>\n",
              "      <td>0.903686</td>\n",
              "      <td>0.947956</td>\n",
              "      <td>0.704434</td>\n",
              "      <td>0.883221</td>\n",
              "      <td>0.538295</td>\n",
              "      <td>0.113294</td>\n",
              "      <td>0.070900</td>\n",
              "      <td>0.008316</td>\n",
              "      <td>0.097129</td>\n",
              "      <td>0.835293</td>\n",
              "    </tr>\n",
              "    <tr>\n",
              "      <th>3867</th>\n",
              "      <td>0.941234</td>\n",
              "      <td>0.934964</td>\n",
              "      <td>0.976805</td>\n",
              "      <td>0.886402</td>\n",
              "      <td>0.729082</td>\n",
              "      <td>0.921895</td>\n",
              "      <td>0.919240</td>\n",
              "      <td>0.960280</td>\n",
              "      <td>0.850450</td>\n",
              "      <td>0.907939</td>\n",
              "      <td>0.629589</td>\n",
              "      <td>0.180891</td>\n",
              "      <td>0.049392</td>\n",
              "      <td>0.021126</td>\n",
              "      <td>0.157049</td>\n",
              "      <td>0.808956</td>\n",
              "    </tr>\n",
              "    <tr>\n",
              "      <th>3868</th>\n",
              "      <td>0.972629</td>\n",
              "      <td>0.926686</td>\n",
              "      <td>0.955776</td>\n",
              "      <td>0.951019</td>\n",
              "      <td>0.624778</td>\n",
              "      <td>0.879671</td>\n",
              "      <td>0.948074</td>\n",
              "      <td>0.981632</td>\n",
              "      <td>0.797598</td>\n",
              "      <td>0.930219</td>\n",
              "      <td>0.718640</td>\n",
              "      <td>0.266410</td>\n",
              "      <td>0.021366</td>\n",
              "      <td>0.037189</td>\n",
              "      <td>0.234963</td>\n",
              "      <td>0.846003</td>\n",
              "    </tr>\n",
              "    <tr>\n",
              "      <th>3869</th>\n",
              "      <td>0.985925</td>\n",
              "      <td>0.952365</td>\n",
              "      <td>0.963342</td>\n",
              "      <td>0.967915</td>\n",
              "      <td>0.615781</td>\n",
              "      <td>0.875590</td>\n",
              "      <td>0.975118</td>\n",
              "      <td>0.990583</td>\n",
              "      <td>0.635464</td>\n",
              "      <td>0.761928</td>\n",
              "      <td>0.663773</td>\n",
              "      <td>0.267382</td>\n",
              "      <td>0.017483</td>\n",
              "      <td>0.036095</td>\n",
              "      <td>0.235862</td>\n",
              "      <td>0.759865</td>\n",
              "    </tr>\n",
              "    <tr>\n",
              "      <th>3870</th>\n",
              "      <td>1.000000</td>\n",
              "      <td>1.000000</td>\n",
              "      <td>1.000000</td>\n",
              "      <td>0.955776</td>\n",
              "      <td>0.676948</td>\n",
              "      <td>0.901895</td>\n",
              "      <td>1.000000</td>\n",
              "      <td>1.000000</td>\n",
              "      <td>0.702972</td>\n",
              "      <td>0.635223</td>\n",
              "      <td>0.549210</td>\n",
              "      <td>0.208259</td>\n",
              "      <td>0.026371</td>\n",
              "      <td>0.021632</td>\n",
              "      <td>0.181728</td>\n",
              "      <td>0.633596</td>\n",
              "    </tr>\n",
              "  </tbody>\n",
              "</table>\n",
              "<p>3871 rows × 16 columns</p>\n",
              "</div>"
            ],
            "text/plain": [
              "          Area  Perimeter  MajorAxisLength  MinorAxisLength  AspectRation  \\\n",
              "0     0.000000   0.000000         0.014217         0.009267      0.186195   \n",
              "1     0.001499   0.020164         0.000000         0.039877      0.078324   \n",
              "2     0.004354   0.010050         0.022851         0.016335      0.199724   \n",
              "3     0.007130   0.025884         0.018637         0.039123      0.139136   \n",
              "4     0.007714   0.007158         0.002458         0.065984      0.038823   \n",
              "...        ...        ...              ...              ...           ...   \n",
              "3866  0.923323   0.953686         0.998671         0.836405      0.824142   \n",
              "3867  0.941234   0.934964         0.976805         0.886402      0.729082   \n",
              "3868  0.972629   0.926686         0.955776         0.951019      0.624778   \n",
              "3869  0.985925   0.952365         0.963342         0.967915      0.615781   \n",
              "3870  1.000000   1.000000         1.000000         0.955776      0.676948   \n",
              "\n",
              "      Eccentricity  ConvexArea  EquivDiameter    Extent  Solidity  roundness  \\\n",
              "0         0.517291    0.000000       0.000000  0.624114  0.922824   0.917733   \n",
              "1         0.301490    0.001948       0.002984  0.703850  0.871514   0.738897   \n",
              "2         0.537484    0.004157       0.008622  0.680561  0.932141   0.892095   \n",
              "3         0.437247    0.008565       0.014044  0.698731  0.761614   0.781476   \n",
              "4         0.179374    0.007257       0.015176  0.660612  0.949832   0.985369   \n",
              "...            ...         ...            ...       ...       ...        ...   \n",
              "3866      0.953628    0.903686       0.947956  0.704434  0.883221   0.538295   \n",
              "3867      0.921895    0.919240       0.960280  0.850450  0.907939   0.629589   \n",
              "3868      0.879671    0.948074       0.981632  0.797598  0.930219   0.718640   \n",
              "3869      0.875590    0.975118       0.990583  0.635464  0.761928   0.663773   \n",
              "3870      0.901895    1.000000       1.000000  0.702972  0.635223   0.549210   \n",
              "\n",
              "      Compactness  ShapeFactor1  ShapeFactor2  ShapeFactor3  ShapeFactor4  \n",
              "0        0.729821      0.969567      0.833049      0.698093      0.980620  \n",
              "1        0.877810      0.894436      0.967315      0.860551      0.974979  \n",
              "2        0.713074      0.950916      0.800942      0.680152      0.987196  \n",
              "3        0.784522      0.902542      0.854744      0.757321      0.893675  \n",
              "4        0.938662      0.834465      1.000000      0.929398      0.989116  \n",
              "...           ...           ...           ...           ...           ...  \n",
              "3866     0.113294      0.070900      0.008316      0.097129      0.835293  \n",
              "3867     0.180891      0.049392      0.021126      0.157049      0.808956  \n",
              "3868     0.266410      0.021366      0.037189      0.234963      0.846003  \n",
              "3869     0.267382      0.017483      0.036095      0.235862      0.759865  \n",
              "3870     0.208259      0.026371      0.021632      0.181728      0.633596  \n",
              "\n",
              "[3871 rows x 16 columns]"
            ]
          },
          "execution_count": 298,
          "metadata": {},
          "output_type": "execute_result"
        }
      ],
      "source": [
        "X"
      ]
    },
    {
      "cell_type": "code",
      "execution_count": 299,
      "id": "UFAxDVXV6Nzg",
      "metadata": {
        "colab": {
          "base_uri": "https://localhost:8080/"
        },
        "id": "UFAxDVXV6Nzg",
        "outputId": "fb796d02-3b2d-4f81-b0ae-8b327a295578"
      },
      "outputs": [
        {
          "data": {
            "text/plain": [
              "0       0\n",
              "1       0\n",
              "2       0\n",
              "3       0\n",
              "4       0\n",
              "       ..\n",
              "3866    2\n",
              "3867    2\n",
              "3868    2\n",
              "3869    2\n",
              "3870    2\n",
              "Name: Class, Length: 3871, dtype: int64"
            ]
          },
          "execution_count": 299,
          "metadata": {},
          "output_type": "execute_result"
        }
      ],
      "source": [
        "y"
      ]
    },
    {
      "cell_type": "code",
      "execution_count": 300,
      "id": "-uyQHHHP7Hqf",
      "metadata": {
        "id": "-uyQHHHP7Hqf"
      },
      "outputs": [],
      "source": [
        "#Splitting the dataset into train and test\n",
        "X_train, X_test, y_train, y_test = train_test_split(X, y, test_size=0.25, random_state=42)"
      ]
    },
    {
      "cell_type": "code",
      "execution_count": 301,
      "id": "zJA78fOg4BWD",
      "metadata": {
        "colab": {
          "base_uri": "https://localhost:8080/",
          "height": 226
        },
        "id": "zJA78fOg4BWD",
        "outputId": "7f0ac954-4fd9-4c68-8a97-fc6d62c1c862"
      },
      "outputs": [
        {
          "data": {
            "text/html": [
              "<div>\n",
              "<style scoped>\n",
              "    .dataframe tbody tr th:only-of-type {\n",
              "        vertical-align: middle;\n",
              "    }\n",
              "\n",
              "    .dataframe tbody tr th {\n",
              "        vertical-align: top;\n",
              "    }\n",
              "\n",
              "    .dataframe thead th {\n",
              "        text-align: right;\n",
              "    }\n",
              "</style>\n",
              "<table border=\"1\" class=\"dataframe\">\n",
              "  <thead>\n",
              "    <tr style=\"text-align: right;\">\n",
              "      <th></th>\n",
              "      <th>Area</th>\n",
              "      <th>Perimeter</th>\n",
              "      <th>MajorAxisLength</th>\n",
              "      <th>MinorAxisLength</th>\n",
              "      <th>AspectRation</th>\n",
              "      <th>Eccentricity</th>\n",
              "      <th>ConvexArea</th>\n",
              "      <th>EquivDiameter</th>\n",
              "      <th>Extent</th>\n",
              "      <th>Solidity</th>\n",
              "      <th>roundness</th>\n",
              "      <th>Compactness</th>\n",
              "      <th>ShapeFactor1</th>\n",
              "      <th>ShapeFactor2</th>\n",
              "      <th>ShapeFactor3</th>\n",
              "      <th>ShapeFactor4</th>\n",
              "    </tr>\n",
              "  </thead>\n",
              "  <tbody>\n",
              "    <tr>\n",
              "      <th>3263</th>\n",
              "      <td>0.254136</td>\n",
              "      <td>0.392191</td>\n",
              "      <td>0.407303</td>\n",
              "      <td>0.314213</td>\n",
              "      <td>0.623767</td>\n",
              "      <td>0.879216</td>\n",
              "      <td>0.248557</td>\n",
              "      <td>0.370604</td>\n",
              "      <td>0.706925</td>\n",
              "      <td>0.898854</td>\n",
              "      <td>0.561669</td>\n",
              "      <td>0.270849</td>\n",
              "      <td>0.449225</td>\n",
              "      <td>0.192470</td>\n",
              "      <td>0.239071</td>\n",
              "      <td>0.893765</td>\n",
              "    </tr>\n",
              "    <tr>\n",
              "      <th>177</th>\n",
              "      <td>0.025444</td>\n",
              "      <td>0.037698</td>\n",
              "      <td>0.048297</td>\n",
              "      <td>0.072757</td>\n",
              "      <td>0.165854</td>\n",
              "      <td>0.484725</td>\n",
              "      <td>0.024191</td>\n",
              "      <td>0.048475</td>\n",
              "      <td>0.680949</td>\n",
              "      <td>0.978811</td>\n",
              "      <td>0.970254</td>\n",
              "      <td>0.756050</td>\n",
              "      <td>0.820843</td>\n",
              "      <td>0.765563</td>\n",
              "      <td>0.726373</td>\n",
              "      <td>0.976945</td>\n",
              "    </tr>\n",
              "    <tr>\n",
              "      <th>3682</th>\n",
              "      <td>0.672581</td>\n",
              "      <td>0.756037</td>\n",
              "      <td>0.850908</td>\n",
              "      <td>0.625248</td>\n",
              "      <td>0.914838</td>\n",
              "      <td>0.979254</td>\n",
              "      <td>0.655351</td>\n",
              "      <td>0.762899</td>\n",
              "      <td>0.904508</td>\n",
              "      <td>0.934084</td>\n",
              "      <td>0.603942</td>\n",
              "      <td>0.052554</td>\n",
              "      <td>0.185201</td>\n",
              "      <td>0.021880</td>\n",
              "      <td>0.044542</td>\n",
              "      <td>0.849197</td>\n",
              "    </tr>\n",
              "    <tr>\n",
              "      <th>3577</th>\n",
              "      <td>0.620141</td>\n",
              "      <td>0.672437</td>\n",
              "      <td>0.711487</td>\n",
              "      <td>0.683182</td>\n",
              "      <td>0.603009</td>\n",
              "      <td>0.869660</td>\n",
              "      <td>0.601549</td>\n",
              "      <td>0.720657</td>\n",
              "      <td>0.648374</td>\n",
              "      <td>0.982964</td>\n",
              "      <td>0.770806</td>\n",
              "      <td>0.294373</td>\n",
              "      <td>0.145084</td>\n",
              "      <td>0.091824</td>\n",
              "      <td>0.260950</td>\n",
              "      <td>0.974476</td>\n",
              "    </tr>\n",
              "    <tr>\n",
              "      <th>1620</th>\n",
              "      <td>0.067615</td>\n",
              "      <td>0.107608</td>\n",
              "      <td>0.098906</td>\n",
              "      <td>0.166633</td>\n",
              "      <td>0.142588</td>\n",
              "      <td>0.443719</td>\n",
              "      <td>0.065710</td>\n",
              "      <td>0.120552</td>\n",
              "      <td>0.652048</td>\n",
              "      <td>0.939573</td>\n",
              "      <td>0.909891</td>\n",
              "      <td>0.788508</td>\n",
              "      <td>0.645228</td>\n",
              "      <td>0.680242</td>\n",
              "      <td>0.761675</td>\n",
              "      <td>0.991633</td>\n",
              "    </tr>\n",
              "  </tbody>\n",
              "</table>\n",
              "</div>"
            ],
            "text/plain": [
              "          Area  Perimeter  MajorAxisLength  MinorAxisLength  AspectRation  \\\n",
              "3263  0.254136   0.392191         0.407303         0.314213      0.623767   \n",
              "177   0.025444   0.037698         0.048297         0.072757      0.165854   \n",
              "3682  0.672581   0.756037         0.850908         0.625248      0.914838   \n",
              "3577  0.620141   0.672437         0.711487         0.683182      0.603009   \n",
              "1620  0.067615   0.107608         0.098906         0.166633      0.142588   \n",
              "\n",
              "      Eccentricity  ConvexArea  EquivDiameter    Extent  Solidity  roundness  \\\n",
              "3263      0.879216    0.248557       0.370604  0.706925  0.898854   0.561669   \n",
              "177       0.484725    0.024191       0.048475  0.680949  0.978811   0.970254   \n",
              "3682      0.979254    0.655351       0.762899  0.904508  0.934084   0.603942   \n",
              "3577      0.869660    0.601549       0.720657  0.648374  0.982964   0.770806   \n",
              "1620      0.443719    0.065710       0.120552  0.652048  0.939573   0.909891   \n",
              "\n",
              "      Compactness  ShapeFactor1  ShapeFactor2  ShapeFactor3  ShapeFactor4  \n",
              "3263     0.270849      0.449225      0.192470      0.239071      0.893765  \n",
              "177      0.756050      0.820843      0.765563      0.726373      0.976945  \n",
              "3682     0.052554      0.185201      0.021880      0.044542      0.849197  \n",
              "3577     0.294373      0.145084      0.091824      0.260950      0.974476  \n",
              "1620     0.788508      0.645228      0.680242      0.761675      0.991633  "
            ]
          },
          "execution_count": 301,
          "metadata": {},
          "output_type": "execute_result"
        }
      ],
      "source": [
        "X_train.head()"
      ]
    },
    {
      "cell_type": "code",
      "execution_count": 302,
      "id": "f-i7pAhB4Dgh",
      "metadata": {
        "colab": {
          "base_uri": "https://localhost:8080/"
        },
        "id": "f-i7pAhB4Dgh",
        "outputId": "f5709336-01ee-44ba-b342-a1789f121231"
      },
      "outputs": [
        {
          "data": {
            "text/plain": [
              "3263    1\n",
              "177     0\n",
              "3682    2\n",
              "3577    2\n",
              "1620    0\n",
              "Name: Class, dtype: int64"
            ]
          },
          "execution_count": 302,
          "metadata": {},
          "output_type": "execute_result"
        }
      ],
      "source": [
        "y_train.head()"
      ]
    },
    {
      "cell_type": "code",
      "execution_count": 303,
      "id": "4th6mQYM4E_1",
      "metadata": {
        "colab": {
          "base_uri": "https://localhost:8080/",
          "height": 226
        },
        "id": "4th6mQYM4E_1",
        "outputId": "b18adcae-146c-433d-c681-8c1cdefc2072"
      },
      "outputs": [
        {
          "data": {
            "text/html": [
              "<div>\n",
              "<style scoped>\n",
              "    .dataframe tbody tr th:only-of-type {\n",
              "        vertical-align: middle;\n",
              "    }\n",
              "\n",
              "    .dataframe tbody tr th {\n",
              "        vertical-align: top;\n",
              "    }\n",
              "\n",
              "    .dataframe thead th {\n",
              "        text-align: right;\n",
              "    }\n",
              "</style>\n",
              "<table border=\"1\" class=\"dataframe\">\n",
              "  <thead>\n",
              "    <tr style=\"text-align: right;\">\n",
              "      <th></th>\n",
              "      <th>Area</th>\n",
              "      <th>Perimeter</th>\n",
              "      <th>MajorAxisLength</th>\n",
              "      <th>MinorAxisLength</th>\n",
              "      <th>AspectRation</th>\n",
              "      <th>Eccentricity</th>\n",
              "      <th>ConvexArea</th>\n",
              "      <th>EquivDiameter</th>\n",
              "      <th>Extent</th>\n",
              "      <th>Solidity</th>\n",
              "      <th>roundness</th>\n",
              "      <th>Compactness</th>\n",
              "      <th>ShapeFactor1</th>\n",
              "      <th>ShapeFactor2</th>\n",
              "      <th>ShapeFactor3</th>\n",
              "      <th>ShapeFactor4</th>\n",
              "    </tr>\n",
              "  </thead>\n",
              "  <tbody>\n",
              "    <tr>\n",
              "      <th>3211</th>\n",
              "      <td>0.239752</td>\n",
              "      <td>0.356893</td>\n",
              "      <td>0.343650</td>\n",
              "      <td>0.352938</td>\n",
              "      <td>0.417336</td>\n",
              "      <td>0.760783</td>\n",
              "      <td>0.235263</td>\n",
              "      <td>0.353926</td>\n",
              "      <td>0.610245</td>\n",
              "      <td>0.870982</td>\n",
              "      <td>0.662077</td>\n",
              "      <td>0.466729</td>\n",
              "      <td>0.401911</td>\n",
              "      <td>0.283129</td>\n",
              "      <td>0.426680</td>\n",
              "      <td>0.983806</td>\n",
              "    </tr>\n",
              "    <tr>\n",
              "      <th>3743</th>\n",
              "      <td>0.703706</td>\n",
              "      <td>0.759277</td>\n",
              "      <td>0.729347</td>\n",
              "      <td>0.812040</td>\n",
              "      <td>0.471683</td>\n",
              "      <td>0.797804</td>\n",
              "      <td>0.687434</td>\n",
              "      <td>0.787315</td>\n",
              "      <td>0.433930</td>\n",
              "      <td>0.905711</td>\n",
              "      <td>0.674083</td>\n",
              "      <td>0.403050</td>\n",
              "      <td>0.081767</td>\n",
              "      <td>0.107938</td>\n",
              "      <td>0.364336</td>\n",
              "      <td>0.852965</td>\n",
              "    </tr>\n",
              "    <tr>\n",
              "      <th>2288</th>\n",
              "      <td>0.145544</td>\n",
              "      <td>0.262352</td>\n",
              "      <td>0.257510</td>\n",
              "      <td>0.206751</td>\n",
              "      <td>0.479287</td>\n",
              "      <td>0.802593</td>\n",
              "      <td>0.143656</td>\n",
              "      <td>0.235417</td>\n",
              "      <td>0.651228</td>\n",
              "      <td>0.839233</td>\n",
              "      <td>0.563003</td>\n",
              "      <td>0.402878</td>\n",
              "      <td>0.586156</td>\n",
              "      <td>0.324985</td>\n",
              "      <td>0.364169</td>\n",
              "      <td>0.942571</td>\n",
              "    </tr>\n",
              "    <tr>\n",
              "      <th>2499</th>\n",
              "      <td>0.167049</td>\n",
              "      <td>0.308992</td>\n",
              "      <td>0.256088</td>\n",
              "      <td>0.270622</td>\n",
              "      <td>0.358552</td>\n",
              "      <td>0.714281</td>\n",
              "      <td>0.164872</td>\n",
              "      <td>0.264087</td>\n",
              "      <td>0.502738</td>\n",
              "      <td>0.834477</td>\n",
              "      <td>0.459545</td>\n",
              "      <td>0.527086</td>\n",
              "      <td>0.497128</td>\n",
              "      <td>0.368925</td>\n",
              "      <td>0.486977</td>\n",
              "      <td>0.975551</td>\n",
              "    </tr>\n",
              "    <tr>\n",
              "      <th>3206</th>\n",
              "      <td>0.238846</td>\n",
              "      <td>0.433310</td>\n",
              "      <td>0.425943</td>\n",
              "      <td>0.256231</td>\n",
              "      <td>0.786244</td>\n",
              "      <td>0.941641</td>\n",
              "      <td>0.237800</td>\n",
              "      <td>0.352864</td>\n",
              "      <td>0.332585</td>\n",
              "      <td>0.746861</td>\n",
              "      <td>0.298039</td>\n",
              "      <td>0.146467</td>\n",
              "      <td>0.518821</td>\n",
              "      <td>0.152807</td>\n",
              "      <td>0.126351</td>\n",
              "      <td>0.919695</td>\n",
              "    </tr>\n",
              "  </tbody>\n",
              "</table>\n",
              "</div>"
            ],
            "text/plain": [
              "          Area  Perimeter  MajorAxisLength  MinorAxisLength  AspectRation  \\\n",
              "3211  0.239752   0.356893         0.343650         0.352938      0.417336   \n",
              "3743  0.703706   0.759277         0.729347         0.812040      0.471683   \n",
              "2288  0.145544   0.262352         0.257510         0.206751      0.479287   \n",
              "2499  0.167049   0.308992         0.256088         0.270622      0.358552   \n",
              "3206  0.238846   0.433310         0.425943         0.256231      0.786244   \n",
              "\n",
              "      Eccentricity  ConvexArea  EquivDiameter    Extent  Solidity  roundness  \\\n",
              "3211      0.760783    0.235263       0.353926  0.610245  0.870982   0.662077   \n",
              "3743      0.797804    0.687434       0.787315  0.433930  0.905711   0.674083   \n",
              "2288      0.802593    0.143656       0.235417  0.651228  0.839233   0.563003   \n",
              "2499      0.714281    0.164872       0.264087  0.502738  0.834477   0.459545   \n",
              "3206      0.941641    0.237800       0.352864  0.332585  0.746861   0.298039   \n",
              "\n",
              "      Compactness  ShapeFactor1  ShapeFactor2  ShapeFactor3  ShapeFactor4  \n",
              "3211     0.466729      0.401911      0.283129      0.426680      0.983806  \n",
              "3743     0.403050      0.081767      0.107938      0.364336      0.852965  \n",
              "2288     0.402878      0.586156      0.324985      0.364169      0.942571  \n",
              "2499     0.527086      0.497128      0.368925      0.486977      0.975551  \n",
              "3206     0.146467      0.518821      0.152807      0.126351      0.919695  "
            ]
          },
          "execution_count": 303,
          "metadata": {},
          "output_type": "execute_result"
        }
      ],
      "source": [
        "X_test.head()"
      ]
    },
    {
      "cell_type": "code",
      "execution_count": 304,
      "id": "blE0GsWl4HQw",
      "metadata": {
        "colab": {
          "base_uri": "https://localhost:8080/"
        },
        "id": "blE0GsWl4HQw",
        "outputId": "dd740c55-4359-45c6-d326-484934134008"
      },
      "outputs": [
        {
          "data": {
            "text/plain": [
              "3211    1\n",
              "3743    2\n",
              "2288    1\n",
              "2499    1\n",
              "3206    1\n",
              "Name: Class, dtype: int64"
            ]
          },
          "execution_count": 304,
          "metadata": {},
          "output_type": "execute_result"
        }
      ],
      "source": [
        "y_test.head()"
      ]
    },
    {
      "cell_type": "code",
      "execution_count": 305,
      "id": "f651BAqf8xSi",
      "metadata": {
        "id": "f651BAqf8xSi"
      },
      "outputs": [],
      "source": [
        "#Overall evaluation of model\n",
        "# print(\"Accuracy Score : \",accuracy_score(y_test,pred))\n",
        "# print(\"Precision Score : \",precision_score(y_test, pred, average='micro'))\n",
        "# print(\"Recall Score : \",recall_score(y_test, pred, average='micro'))\n",
        "# print(\"Mean Absolute Error : \",mean_absolute_error(y_test,pred))"
      ]
    },
    {
      "cell_type": "code",
      "execution_count": 306,
      "id": "Zkn0Wq7D1F2I",
      "metadata": {
        "id": "Zkn0Wq7D1F2I"
      },
      "outputs": [],
      "source": [
        "# conf_matrix = confusion_matrix(y_true=y_test, y_pred=pred)\n",
        "# conf_matrix"
      ]
    },
    {
      "cell_type": "code",
      "execution_count": 307,
      "id": "wapc4qZxAZAD",
      "metadata": {
        "id": "wapc4qZxAZAD"
      },
      "outputs": [],
      "source": [
        "# Calculating metrix\n",
        "def print_metrics(model, y_test, y_pred):\n",
        "  conf_matrix = confusion_matrix(y_true=y_test, y_pred=pred)\n",
        "\n",
        "  FP = conf_matrix.sum(axis=0) - np.diag(conf_matrix)\n",
        "  FN = conf_matrix.sum(axis=1) - np.diag(conf_matrix)\n",
        "  TP = np.diag(conf_matrix)\n",
        "  TN = conf_matrix.sum() - (FP + FN + TP)\n",
        "\n",
        "  # Sensitivity, hit rate, recall, or true positive rate\n",
        "  TPR = TP/(TP+FN)\n",
        "\n",
        "  # Specificity or true negative rate\n",
        "  TNR = TN/(TN+FP)\n",
        "\n",
        "  # Precision or positive predictive value\n",
        "  PPV = TP/(TP+FP)\n",
        "\n",
        "  # Negative predictive value\n",
        "  NPV = TN/(TN+FN)\n",
        "\n",
        "  # Fall out or false positive rate\n",
        "  FPR = FP/(FP+TN)\n",
        "\n",
        "  # False negative rate\n",
        "  FNR = FN/(TP+FN)\n",
        "\n",
        "  # False discovery rate\n",
        "  FDR = FP/(TP+FP)\n",
        "\n",
        "  # Overall accuracy\n",
        "  ACC = (TP+TN)/(TP+FP+FN+TN)\n",
        "\n",
        "  #Recall (sensitivity)\n",
        "  recall = recall_score(y_test, pred, average='micro')\n",
        "\n",
        "  print(f\"Model - {model}:\")\n",
        "  print()\n",
        "\n",
        "  print(\"Confusion Matrix:\")\n",
        "  print(conf_matrix)\n",
        "  print()\n",
        "\n",
        "  print(f\"Accuracy (for each class): {ACC}\")\n",
        "  print(f\"Accuracy (overall): {accuracy_score(y_test,pred)}\")\n",
        "  print()\n",
        "  print(f\"TP (True Positive): {TP}\")\n",
        "  print(f\"TN (True Negative): {TN}\")\n",
        "  print(f\"FP (False Negative): {FP}\")\n",
        "  print(f\"FP (False Positive): {FN}\")\n",
        "  print()\n",
        "  print(f\"Sensitivity (true positive rate), for each class: {TPR}\")\n",
        "  print(f\"Specificity (true negative rate), for each class: {TNR}\")\n",
        "  print()\n",
        "  print(f\"FP rate: {FPR}\")\n",
        "  print(f\"FN rate: {FNR}\")\n",
        "  print(f\"FP rate: {FDR}\")\n",
        "  print(f\"NPV: {NPV}\")\n",
        "  print()\n",
        "  print(f\"Precision (for each class): {PPV}\")\n",
        "  print(f\"Precision (overall): {precision_score(y_test, pred, average='micro')}\")\n",
        "  print(f\"Recall (Sensitivity): {recall}\")\n",
        "  print(f\"Mean Absolute Error: {mean_absolute_error(y_test,pred)}\")\n",
        "\n"
      ]
    },
    {
      "cell_type": "code",
      "execution_count": 308,
      "id": "ntRc71l2JuJX",
      "metadata": {
        "id": "ntRc71l2JuJX"
      },
      "outputs": [],
      "source": [
        "# Implement function for Area under ROC curve here\n",
        "\n",
        "#     ** TO DO **"
      ]
    },
    {
      "cell_type": "code",
      "execution_count": 309,
      "id": "z-x7HceK85o5",
      "metadata": {
        "id": "z-x7HceK85o5"
      },
      "outputs": [],
      "source": [
        "#Class-wise evaluation of model\n",
        "\n",
        "# conf_matrix = confusion_matrix(y_true=y_test, y_pred=pred)\n",
        "# # We store all the precisions, recalls, accuracies and FP rate of individual classes in a list\n",
        "# num_classes = len(set(y_test))\n",
        "# precisions = []\n",
        "# recalls = []\n",
        "# accuracies = []\n",
        "# fp_rates = []\n",
        "# tp_rates = []\n",
        "\n",
        "# # We calculate the precision, recall and accuracies here.\n",
        "# for i in range(num_classes):\n",
        "#     precision_i = precision_score(y_test, pred, labels=[i], average='micro')\n",
        "#     recall_i = recall_score(y_test, pred, labels=[i], average='micro')\n",
        "#     accuracy_i = accuracy_score(y_test, pred)\n",
        "#     precisions.append(precision_i)\n",
        "#     recalls.append(recall_i)\n",
        "#     accuracies.append(accuracy_i)\n",
        "\n",
        "# # We calculate the FP rate of individual classes from the confusion matrix here.\n",
        "# for i in range(num_classes):\n",
        "#     FP = conf_matrix.sum(axis=0)[i] - conf_matrix[i, i]\n",
        "#     TN = conf_matrix.sum() - conf_matrix.sum(axis=0)[i] - conf_matrix.sum(axis=1)[i] + conf_matrix[i, i]\n",
        "#     fp_rate_i = FP / (FP + TN)\n",
        "#     fp_rates.append(fp_rate_i)\n",
        "\n",
        "#     TP = conf_matrix[i, i]  # Get true positives for the current class\n",
        "#     total_positives = np.sum(conf_matrix[i, :])  # Total positives for the current class\n",
        "#     #tp_rate_i = TP / total_positives if total_positives > 0 else 0  # Calculate TP rate\n",
        "#     tp_rate_i = TP / (TP + FN)\n",
        "#     tp_rates.append(tp_rate_i)\n",
        "\n",
        "# # We display all the metrics result here\n",
        "# for i in range(num_classes):\n",
        "#     print(f\"Class {i}:\")\n",
        "#     print(f\"Accuracy: {accuracies[i]}\")\n",
        "#     print(f\"TP (True Positive): {TP}\")\n",
        "#     print(f\"FP (False Negative): {FP}\")\n",
        "#     print(f\"TN (True Negative): {TN}\")\n",
        "#     print(f\"TP rate (Sensitivity): {tp_rates[i]}\")\n",
        "#     print(f\"FP rate: {fp_rates[i]}\")\n",
        "#     print(f\"Precision: {precisions[i]}\")\n",
        "#     print(f\"Recall: {recalls[i]}\")\n",
        "\n",
        "\n",
        "#     # print(f\"TP rate: {tp_rates[i]}\")\n",
        "#     print()"
      ]
    },
    {
      "cell_type": "markdown",
      "id": "pWktGAwiFs65",
      "metadata": {
        "id": "pWktGAwiFs65"
      },
      "source": [
        "##Naive Bayes Models"
      ]
    },
    {
      "cell_type": "code",
      "execution_count": 310,
      "metadata": {},
      "outputs": [],
      "source": [
        "from sklearn.metrics import roc_curve, auc\n",
        "import matplotlib.pyplot as plt"
      ]
    },
    {
      "cell_type": "markdown",
      "id": "lSBD3OV6Fv6S",
      "metadata": {
        "id": "lSBD3OV6Fv6S"
      },
      "source": [
        "###Gaussian Bayes"
      ]
    },
    {
      "cell_type": "code",
      "execution_count": 311,
      "id": "2iCjnEM6FbhJ",
      "metadata": {
        "colab": {
          "base_uri": "https://localhost:8080/"
        },
        "id": "2iCjnEM6FbhJ",
        "outputId": "0abebd9d-ea1a-4e06-fb78-07e08a34f4ae"
      },
      "outputs": [
        {
          "name": "stdout",
          "output_type": "stream",
          "text": [
            "Model - Gaussian Naive Bayes:\n",
            "\n",
            "Confusion Matrix:\n",
            "[[503  14   0]\n",
            " [  6 314   0]\n",
            " [  0   0 131]]\n",
            "\n",
            "Accuracy (for each class): [0.97933884 0.97933884 1.        ]\n",
            "Accuracy (overall): 0.9793388429752066\n",
            "\n",
            "TP (True Positive): [503 314 131]\n",
            "TN (True Negative): [445 634 837]\n",
            "FP (False Negative): [ 6 14  0]\n",
            "FP (False Positive): [14  6  0]\n",
            "\n",
            "Sensitivity (true positive rate), for each class: [0.9729207 0.98125   1.       ]\n",
            "Specificity (true negative rate), for each class: [0.98669623 0.97839506 1.        ]\n",
            "\n",
            "FP rate: [0.01330377 0.02160494 0.        ]\n",
            "FN rate: [0.0270793 0.01875   0.       ]\n",
            "FP rate: [0.01178782 0.04268293 0.        ]\n",
            "NPV: [0.96949891 0.990625   1.        ]\n",
            "\n",
            "Precision (for each class): [0.98821218 0.95731707 1.        ]\n",
            "Precision (overall): 0.9793388429752066\n",
            "Recall (Sensitivity): 0.9793388429752066\n",
            "Mean Absolute Error: 0.02066115702479339\n"
          ]
        }
      ],
      "source": [
        "gnb = GaussianNB()\n",
        "# Evaluating model\n",
        "# We use the predict() on the model to predict the output\n",
        "# Training the model\n",
        "gnb.fit(X_train,y_train)\n",
        "pred = gnb.predict(X_test)\n",
        "\n",
        "print_metrics(\"Gaussian Naive Bayes\", y_test, pred)"
      ]
    },
    {
      "cell_type": "code",
      "execution_count": 312,
      "id": "6icU8HKnHevf",
      "metadata": {
        "id": "6icU8HKnHevf"
      },
      "outputs": [
        {
          "data": {
            "image/png": "[encoded data removed]",
            "text/plain": [
              "<Figure size 600x400 with 1 Axes>"
            ]
          },
          "metadata": {},
          "output_type": "display_data"
        }
      ],
      "source": [
        "# Area under ROC Curve\n",
        "#plot the graph\n",
        "fpr, tpr, thresholds = roc_curve(y_test, pred, pos_label=1)\n",
        "roc_auc = auc(fpr, tpr)\n",
        "\n",
        "plt.figure(figsize=(6, 4))\n",
        "plt.plot(fpr, tpr, color='darkorange', lw=2, label=f'ROC curve (area = {roc_auc:.2f})')\n",
        "plt.plot([0, 1], [0, 1], color='navy', lw=2, linestyle='--')\n",
        "plt.xlim([0.0, 1.0])\n",
        "plt.ylim([0.0, 1.05])\n",
        "plt.xlabel('False Positive Rate')\n",
        "plt.ylabel('True Positive Rate')\n",
        "plt.title('ROC curve for Gaussian Naive Bayes Classifier')\n",
        "plt.legend(loc='lower right')\n",
        "plt.show()\n",
        "#    **TO DO**"
      ]
    },
    {
      "cell_type": "markdown",
      "id": "7Xz4UgDWH7Ie",
      "metadata": {
        "id": "7Xz4UgDWH7Ie"
      },
      "source": [
        "###Multinomial Naive Bayes"
      ]
    },
    {
      "cell_type": "code",
      "execution_count": 313,
      "id": "mXpJdDctIBQj",
      "metadata": {
        "colab": {
          "base_uri": "https://localhost:8080/"
        },
        "id": "mXpJdDctIBQj",
        "outputId": "c4998388-6588-4efa-c0f6-e9933c02d8ad"
      },
      "outputs": [
        {
          "name": "stdout",
          "output_type": "stream",
          "text": [
            "Model - Multinominal Naive Bayes:\n",
            "\n",
            "Confusion Matrix:\n",
            "[[513   4   0]\n",
            " [ 15 305   0]\n",
            " [  0  13 118]]\n",
            "\n",
            "Accuracy (for each class): [0.9803719  0.96694215 0.98657025]\n",
            "Accuracy (overall): 0.9669421487603306\n",
            "\n",
            "TP (True Positive): [513 305 118]\n",
            "TN (True Negative): [436 631 837]\n",
            "FP (False Negative): [15 17  0]\n",
            "FP (False Positive): [ 4 15 13]\n",
            "\n",
            "Sensitivity (true positive rate), for each class: [0.99226306 0.953125   0.90076336]\n",
            "Specificity (true negative rate), for each class: [0.96674058 0.97376543 1.        ]\n",
            "\n",
            "FP rate: [0.03325942 0.02623457 0.        ]\n",
            "FN rate: [0.00773694 0.046875   0.09923664]\n",
            "FP rate: [0.02840909 0.05279503 0.        ]\n",
            "NPV: [0.99090909 0.97678019 0.98470588]\n",
            "\n",
            "Precision (for each class): [0.97159091 0.94720497 1.        ]\n",
            "Precision (overall): 0.9669421487603306\n",
            "Recall (Sensitivity): 0.9669421487603306\n",
            "Mean Absolute Error: 0.03305785123966942\n"
          ]
        }
      ],
      "source": [
        "mnb = MultinomialNB()\n",
        "# Evaluating model\n",
        "# We use the predict() on the model to predict the output\n",
        "# Training the model\n",
        "mnb.fit(X_train,y_train)\n",
        "pred = mnb.predict(X_test)\n",
        "\n",
        "print_metrics(\"Multinominal Naive Bayes\", y_test, pred)"
      ]
    },
    {
      "cell_type": "code",
      "execution_count": 314,
      "id": "GWTBn_kCIO2K",
      "metadata": {
        "id": "GWTBn_kCIO2K"
      },
      "outputs": [
        {
          "data": {
            "image/png": "[encoded data removed]",
            "text/plain": [
              "<Figure size 600x400 with 1 Axes>"
            ]
          },
          "metadata": {},
          "output_type": "display_data"
        }
      ],
      "source": [
        "\n",
        "# Calculate the ROC curve\n",
        "fpr, tpr, thresholds = roc_curve(y_test, pred, pos_label=1)\n",
        "\n",
        "# Calculate the AUC\n",
        "roc_auc = auc(fpr, tpr)\n",
        "\n",
        "# Plot the ROC curve\n",
        "plt.figure(figsize=(6, 4))\n",
        "plt.plot(fpr, tpr, color='darkorange', lw=2, label=f'ROC curve (area = {roc_auc:.2f})')\n",
        "plt.plot([0, 1], [0, 1], color='navy', lw=2, linestyle='--')\n",
        "plt.xlim([0.0, 1.0])\n",
        "plt.ylim([0.0, 1.05])\n",
        "plt.xlabel('False Positive Rate')\n",
        "plt.ylabel('True Positive Rate')\n",
        "plt.title('ROC curve for Multinomial Naive Bayes Classifier')\n",
        "plt.legend(loc='lower right')\n",
        "plt.show()\n"
      ]
    },
    {
      "cell_type": "markdown",
      "id": "3fR-svHpIPlU",
      "metadata": {
        "id": "3fR-svHpIPlU"
      },
      "source": [
        "###Complement Naive Bayes"
      ]
    },
    {
      "cell_type": "code",
      "execution_count": 315,
      "id": "FVf2CZSfITFt",
      "metadata": {
        "colab": {
          "base_uri": "https://localhost:8080/"
        },
        "id": "FVf2CZSfITFt",
        "outputId": "87ae2970-461c-4c7b-f39c-cc6485b76606"
      },
      "outputs": [
        {
          "name": "stdout",
          "output_type": "stream",
          "text": [
            "Model - Complement Naive Bayes:\n",
            "\n",
            "Confusion Matrix:\n",
            "[[517   0   0]\n",
            " [ 73 108 139]\n",
            " [  0   0 131]]\n",
            "\n",
            "Accuracy (for each class): [0.92458678 0.78099174 0.85640496]\n",
            "Accuracy (overall): 0.78099173553719\n",
            "\n",
            "TP (True Positive): [517 108 131]\n",
            "TN (True Negative): [378 648 698]\n",
            "FP (False Negative): [ 73   0 139]\n",
            "FP (False Positive): [  0 212   0]\n",
            "\n",
            "Sensitivity (true positive rate), for each class: [1.     0.3375 1.    ]\n",
            "Specificity (true negative rate), for each class: [0.83813747 1.         0.8339307 ]\n",
            "\n",
            "FP rate: [0.16186253 0.         0.1660693 ]\n",
            "FN rate: [0.     0.6625 0.    ]\n",
            "FP rate: [0.12372881 0.         0.51481481]\n",
            "NPV: [1.         0.75348837 1.        ]\n",
            "\n",
            "Precision (for each class): [0.87627119 1.         0.48518519]\n",
            "Precision (overall): 0.78099173553719\n",
            "Recall (Sensitivity): 0.78099173553719\n",
            "Mean Absolute Error: 0.2190082644628099\n"
          ]
        }
      ],
      "source": [
        "complement_nb = ComplementNB()\n",
        "# Evaluating model\n",
        "# We use the predict() on the model to predict the output\n",
        "# Training the model\n",
        "complement_nb.fit(X_train,y_train)\n",
        "pred = complement_nb.predict(X_test)\n",
        "\n",
        "print_metrics(\"Complement Naive Bayes\", y_test, pred)"
      ]
    },
    {
      "cell_type": "code",
      "execution_count": 316,
      "id": "K0nFUoWmIiXL",
      "metadata": {
        "id": "K0nFUoWmIiXL"
      },
      "outputs": [
        {
          "data": {
            "image/png": "[encoded data removed]",
            "text/plain": [
              "<Figure size 600x400 with 1 Axes>"
            ]
          },
          "metadata": {},
          "output_type": "display_data"
        }
      ],
      "source": [
        "# Area under ROC Curve\n",
        "\n",
        "# Calculate the ROC curve\n",
        "fpr, tpr, thresholds = roc_curve(y_test, pred, pos_label=1)\n",
        "\n",
        "# Calculate the AUC\n",
        "roc_auc = auc(fpr, tpr)\n",
        "\n",
        "# Plot the ROC curve\n",
        "plt.figure(figsize=(6, 4))\n",
        "plt.plot(fpr, tpr, color='darkorange', lw=2, label=f'ROC curve (area = {roc_auc:.2f})')\n",
        "plt.plot([0, 1], [0, 1], color='navy', lw=2, linestyle='--')\n",
        "plt.xlim([0.0, 1.0])\n",
        "plt.ylim([0.0, 1.05])\n",
        "plt.xlabel('False Positive Rate')\n",
        "plt.ylabel('True Positive Rate')\n",
        "plt.title('ROC curve for Complement Naive Bayes Classifier')\n",
        "plt.legend(loc='lower right')\n",
        "plt.show()\n",
        "\n",
        "#    **TO DO**"
      ]
    },
    {
      "cell_type": "markdown",
      "id": "NJkyxmMNIkFX",
      "metadata": {
        "id": "NJkyxmMNIkFX"
      },
      "source": [
        "###Bernoulli Naive Bayes"
      ]
    },
    {
      "cell_type": "code",
      "execution_count": 317,
      "id": "Jwtz0x6xIntE",
      "metadata": {
        "colab": {
          "base_uri": "https://localhost:8080/"
        },
        "id": "Jwtz0x6xIntE",
        "outputId": "fcd937f6-4108-462b-836b-8f403efd3fa6"
      },
      "outputs": [
        {
          "name": "stdout",
          "output_type": "stream",
          "text": [
            "Model - Bernoulli Naive Bayes:\n",
            "\n",
            "Confusion Matrix:\n",
            "[[516   0   1]\n",
            " [320   0   0]\n",
            " [131   0   0]]\n",
            "\n",
            "Accuracy (for each class): [0.53305785 0.66942149 0.86363636]\n",
            "Accuracy (overall): 0.5330578512396694\n",
            "\n",
            "TP (True Positive): [516   0   0]\n",
            "TN (True Negative): [  0 648 836]\n",
            "FP (False Negative): [451   0   1]\n",
            "FP (False Positive): [  1 320 131]\n",
            "\n",
            "Sensitivity (true positive rate), for each class: [0.99806576 0.         0.        ]\n",
            "Specificity (true negative rate), for each class: [0.         1.         0.99880526]\n",
            "\n",
            "FP rate: [1.         0.         0.00119474]\n",
            "FN rate: [0.00193424 1.         1.        ]\n",
            "FP rate: [0.4663909       nan 1.       ]\n",
            "NPV: [0.         0.66942149 0.86452947]\n",
            "\n",
            "Precision (for each class): [0.5336091       nan 0.       ]\n",
            "Precision (overall): 0.5330578512396694\n",
            "Recall (Sensitivity): 0.5330578512396694\n",
            "Mean Absolute Error: 0.6033057851239669\n"
          ]
        },
        {
          "name": "stderr",
          "output_type": "stream",
          "text": [
            "/var/folders/47/rqylc_bx6kg5rfgch6rl38vw0000gn/T/ipykernel_53166/1716950976.py:17: RuntimeWarning: invalid value encountered in divide\n",
            "  PPV = TP/(TP+FP)\n",
            "/var/folders/47/rqylc_bx6kg5rfgch6rl38vw0000gn/T/ipykernel_53166/1716950976.py:29: RuntimeWarning: invalid value encountered in divide\n",
            "  FDR = FP/(TP+FP)\n"
          ]
        }
      ],
      "source": [
        "bnb = BernoulliNB()\n",
        "# Evaluating model\n",
        "# We use the predict() on the model to predict the output\n",
        "# Training the model\n",
        "bnb.fit(X_train,y_train)\n",
        "pred = bnb.predict(X_test)\n",
        "\n",
        "print_metrics(\"Bernoulli Naive Bayes\", y_test, pred)"
      ]
    },
    {
      "cell_type": "code",
      "execution_count": 318,
      "id": "ebCIQJF5I2BL",
      "metadata": {
        "id": "ebCIQJF5I2BL"
      },
      "outputs": [
        {
          "data": {
            "image/png": "[encoded data removed]",
            "text/plain": [
              "<Figure size 600x400 with 1 Axes>"
            ]
          },
          "metadata": {},
          "output_type": "display_data"
        }
      ],
      "source": [
        "# Area under ROC Curve\n",
        "\n",
        "# Calculate the ROC curve\n",
        "fpr, tpr, thresholds = roc_curve(y_test, pred, pos_label=1)\n",
        "\n",
        "# Calculate the AUC\n",
        "roc_auc = auc(fpr, tpr)\n",
        "\n",
        "# Plot the ROC curve\n",
        "plt.figure(figsize=(6, 4))\n",
        "plt.plot(fpr, tpr, color='darkorange', lw=2, label=f'ROC curve (area = {roc_auc:.2f})')\n",
        "plt.plot([0, 1], [0, 1], color='navy', lw=2, linestyle='--')\n",
        "plt.xlim([0.0, 1.0])\n",
        "plt.ylim([0.0, 1.05])\n",
        "plt.xlabel('False Positive Rate')\n",
        "plt.ylabel('True Positive Rate')\n",
        "plt.title('ROC curve for Bernoulli Naive Bayes Classifier')\n",
        "plt.legend(loc='lower right')\n",
        "plt.show()"
      ]
    },
    {
      "cell_type": "markdown",
      "id": "SrZG6U-GI34e",
      "metadata": {
        "id": "SrZG6U-GI34e"
      },
      "source": [
        "###Categorical Naive Bayes"
      ]
    },
    {
      "cell_type": "code",
      "execution_count": null,
      "id": "7BhWCTSjI7Xp",
      "metadata": {
        "id": "7BhWCTSjI7Xp"
      },
      "outputs": [],
      "source": [
        "# categorical_nb = CategoricalNB()\n",
        "# # Evaluating model\n",
        "# # We use the predict() on the model to predict the output\n",
        "# # Training the model\n",
        "# categorical_nb.fit(X_train,y_train)\n",
        "# pred = categorical_nb.predict(X_test)\n",
        "\n",
        "# print_metrics(\"Categorical Naive Bayes\", y_test, pred)"
      ]
    },
    {
      "cell_type": "code",
      "execution_count": null,
      "metadata": {},
      "outputs": [],
      "source": []
    }
  ],
  "metadata": {
    "colab": {
      "collapsed_sections": [
        "G_5wBMRPGNOb",
        "9vSNpQuwGSNM",
        "pWktGAwiFs65"
      ],
      "provenance": []
    },
    "interpreter": {
      "hash": "db0a5810e93abb918c8147ef22ff3a9e2bbbcc294ab2a866bc35497fac36b11e"
    },
    "kernelspec": {
      "display_name": "Python 3.9.5 64-bit ('base': conda)",
      "name": "python3"
    },
    "language_info": {
      "codemirror_mode": {
        "name": "ipython",
        "version": 3
      },
      "file_extension": ".py",
      "mimetype": "text/x-python",
      "name": "python",
      "nbconvert_exporter": "python",
      "pygments_lexer": "ipython3",
      "version": "3.11.4"
    }
  },
  "nbformat": 4,
  "nbformat_minor": 5
}
