{
 "cells": [
  {
   "cell_type": "markdown",
   "id": "cfaf0edd",
   "metadata": {},
   "source": [
    "# Installing Modules and Importing Libraries"
   ]
  },
  {
   "cell_type": "code",
   "execution_count": 2,
   "id": "54ccf99b",
   "metadata": {},
   "outputs": [],
   "source": [
    "# !pip3 install openpyxl"
   ]
  },
  {
   "cell_type": "code",
   "execution_count": 3,
   "id": "19c16df3",
   "metadata": {},
   "outputs": [],
   "source": [
    "# !pip3 install opendatasets"
   ]
  },
  {
   "cell_type": "code",
   "execution_count": 4,
   "id": "876aa034",
   "metadata": {},
   "outputs": [],
   "source": [
    "import pandas as pd\n",
    "from sklearn.preprocessing import LabelEncoder\n",
    "from sklearn.feature_selection import mutual_info_classif\n",
    "import opendatasets as od\n",
    "import openpyxl"
   ]
  },
  {
   "cell_type": "markdown",
   "id": "1d10794d",
   "metadata": {},
   "source": [
    "# Importing Dataset"
   ]
  },
  {
   "cell_type": "code",
   "execution_count": 5,
   "id": "0e974f25",
   "metadata": {},
   "outputs": [],
   "source": [
    "# od.download(\"https://www.kaggle.com/datasets/muratkokludataset/dry-bean-dataset\")"
   ]
  },
  {
   "cell_type": "code",
   "execution_count": 54,
   "id": "6b1825a6",
   "metadata": {},
   "outputs": [],
   "source": [
    "#reading the imported dataset\n",
    "df = pd.read_excel(\"./dry-bean-dataset/Dry_Bean_Dataset/Dry_Bean_Dataset.xlsx\")"
   ]
  },
  {
   "cell_type": "code",
   "execution_count": 55,
   "id": "6b9396e2",
   "metadata": {},
   "outputs": [
    {
     "data": {
      "text/plain": [
       "(13611, 17)"
      ]
     },
     "execution_count": 55,
     "metadata": {},
     "output_type": "execute_result"
    }
   ],
   "source": [
    "df.shape"
   ]
  },
  {
   "cell_type": "markdown",
   "id": "92119a8f",
   "metadata": {},
   "source": [
    "## Classes of our dataset"
   ]
  },
  {
   "cell_type": "code",
   "execution_count": 56,
   "id": "e0d518be",
   "metadata": {},
   "outputs": [
    {
     "data": {
      "text/plain": [
       "array(['SEKER', 'BARBUNYA', 'BOMBAY', 'CALI', 'HOROZ', 'SIRA', 'DERMASON'],\n",
       "      dtype=object)"
      ]
     },
     "execution_count": 56,
     "metadata": {},
     "output_type": "execute_result"
    }
   ],
   "source": [
    "df[\"Class\"].unique()"
   ]
  },
  {
   "cell_type": "markdown",
   "id": "e8e1c6e8",
   "metadata": {},
   "source": [
    "## Dropping rows to obtain a dataset with only 3 classes"
   ]
  },
  {
   "cell_type": "code",
   "execution_count": 57,
   "id": "65453557",
   "metadata": {},
   "outputs": [],
   "source": [
    "df = df.drop(df[df[\"Class\"].isin(['CALI', 'HOROZ' , 'SIRA', 'DERMASON'])].index)"
   ]
  },
  {
   "cell_type": "code",
   "execution_count": 58,
   "id": "27c4a77c",
   "metadata": {},
   "outputs": [
    {
     "data": {
      "text/plain": [
       "(3871, 17)"
      ]
     },
     "execution_count": 58,
     "metadata": {},
     "output_type": "execute_result"
    }
   ],
   "source": [
    "df.shape"
   ]
  },
  {
   "cell_type": "markdown",
   "id": "2420dcba",
   "metadata": {},
   "source": [
    "# Preprocessing data"
   ]
  },
  {
   "cell_type": "markdown",
   "id": "bb8e1219",
   "metadata": {},
   "source": [
    "## Converting classes to numeric values"
   ]
  },
  {
   "cell_type": "code",
   "execution_count": 59,
   "id": "0b5a7cd7",
   "metadata": {},
   "outputs": [],
   "source": [
    "from sklearn.preprocessing import LabelEncoder"
   ]
  },
  {
   "cell_type": "code",
   "execution_count": 60,
   "id": "061e6390",
   "metadata": {},
   "outputs": [
    {
     "data": {
      "text/plain": [
       "array(['BARBUNYA', 'BOMBAY', 'SEKER'], dtype='<U8')"
      ]
     },
     "execution_count": 60,
     "metadata": {},
     "output_type": "execute_result"
    }
   ],
   "source": [
    "le = LabelEncoder()\n",
    "le.fit(['SEKER', 'BARBUNYA', 'BOMBAY'])\n",
    "le.classes_"
   ]
  },
  {
   "cell_type": "code",
   "execution_count": 61,
   "id": "9622099d",
   "metadata": {},
   "outputs": [],
   "source": [
    "y_train = le.transform(df['Class'])"
   ]
  },
  {
   "cell_type": "code",
   "execution_count": 62,
   "id": "d6fedee4",
   "metadata": {},
   "outputs": [
    {
     "data": {
      "text/html": [
       "<div>\n",
       "<style scoped>\n",
       "    .dataframe tbody tr th:only-of-type {\n",
       "        vertical-align: middle;\n",
       "    }\n",
       "\n",
       "    .dataframe tbody tr th {\n",
       "        vertical-align: top;\n",
       "    }\n",
       "\n",
       "    .dataframe thead th {\n",
       "        text-align: right;\n",
       "    }\n",
       "</style>\n",
       "<table border=\"1\" class=\"dataframe\">\n",
       "  <thead>\n",
       "    <tr style=\"text-align: right;\">\n",
       "      <th></th>\n",
       "      <th>0</th>\n",
       "    </tr>\n",
       "  </thead>\n",
       "  <tbody>\n",
       "    <tr>\n",
       "      <th>0</th>\n",
       "      <td>2</td>\n",
       "    </tr>\n",
       "    <tr>\n",
       "      <th>1</th>\n",
       "      <td>2</td>\n",
       "    </tr>\n",
       "    <tr>\n",
       "      <th>2</th>\n",
       "      <td>2</td>\n",
       "    </tr>\n",
       "    <tr>\n",
       "      <th>3</th>\n",
       "      <td>2</td>\n",
       "    </tr>\n",
       "    <tr>\n",
       "      <th>4</th>\n",
       "      <td>2</td>\n",
       "    </tr>\n",
       "    <tr>\n",
       "      <th>5</th>\n",
       "      <td>2</td>\n",
       "    </tr>\n",
       "    <tr>\n",
       "      <th>6</th>\n",
       "      <td>2</td>\n",
       "    </tr>\n",
       "    <tr>\n",
       "      <th>7</th>\n",
       "      <td>2</td>\n",
       "    </tr>\n",
       "    <tr>\n",
       "      <th>8</th>\n",
       "      <td>2</td>\n",
       "    </tr>\n",
       "    <tr>\n",
       "      <th>9</th>\n",
       "      <td>2</td>\n",
       "    </tr>\n",
       "  </tbody>\n",
       "</table>\n",
       "</div>"
      ],
      "text/plain": [
       "   0\n",
       "0  2\n",
       "1  2\n",
       "2  2\n",
       "3  2\n",
       "4  2\n",
       "5  2\n",
       "6  2\n",
       "7  2\n",
       "8  2\n",
       "9  2"
      ]
     },
     "execution_count": 62,
     "metadata": {},
     "output_type": "execute_result"
    }
   ],
   "source": [
    "y_train = pd.DataFrame(y_train)\n",
    "y_train.head(10)"
   ]
  },
  {
   "cell_type": "code",
   "execution_count": 63,
   "id": "46f2acb8",
   "metadata": {},
   "outputs": [
    {
     "data": {
      "text/plain": [
       "(3871, 1)"
      ]
     },
     "execution_count": 63,
     "metadata": {},
     "output_type": "execute_result"
    }
   ],
   "source": [
    "y_train.shape"
   ]
  },
  {
   "cell_type": "code",
   "execution_count": 64,
   "id": "1eec4d3e",
   "metadata": {},
   "outputs": [
    {
     "data": {
      "text/html": [
       "<div>\n",
       "<style scoped>\n",
       "    .dataframe tbody tr th:only-of-type {\n",
       "        vertical-align: middle;\n",
       "    }\n",
       "\n",
       "    .dataframe tbody tr th {\n",
       "        vertical-align: top;\n",
       "    }\n",
       "\n",
       "    .dataframe thead th {\n",
       "        text-align: right;\n",
       "    }\n",
       "</style>\n",
       "<table border=\"1\" class=\"dataframe\">\n",
       "  <thead>\n",
       "    <tr style=\"text-align: right;\">\n",
       "      <th></th>\n",
       "      <th>Area</th>\n",
       "      <th>Perimeter</th>\n",
       "      <th>MajorAxisLength</th>\n",
       "      <th>MinorAxisLength</th>\n",
       "      <th>AspectRation</th>\n",
       "      <th>Eccentricity</th>\n",
       "      <th>ConvexArea</th>\n",
       "      <th>EquivDiameter</th>\n",
       "      <th>Extent</th>\n",
       "      <th>Solidity</th>\n",
       "      <th>roundness</th>\n",
       "      <th>Compactness</th>\n",
       "      <th>ShapeFactor1</th>\n",
       "      <th>ShapeFactor2</th>\n",
       "      <th>ShapeFactor3</th>\n",
       "      <th>ShapeFactor4</th>\n",
       "    </tr>\n",
       "  </thead>\n",
       "  <tbody>\n",
       "    <tr>\n",
       "      <th>0</th>\n",
       "      <td>28395</td>\n",
       "      <td>610.291</td>\n",
       "      <td>208.178117</td>\n",
       "      <td>173.888747</td>\n",
       "      <td>1.197191</td>\n",
       "      <td>0.549812</td>\n",
       "      <td>28715</td>\n",
       "      <td>190.141097</td>\n",
       "      <td>0.763923</td>\n",
       "      <td>0.988856</td>\n",
       "      <td>0.958027</td>\n",
       "      <td>0.913358</td>\n",
       "      <td>0.007332</td>\n",
       "      <td>0.003147</td>\n",
       "      <td>0.834222</td>\n",
       "      <td>0.998724</td>\n",
       "    </tr>\n",
       "    <tr>\n",
       "      <th>1</th>\n",
       "      <td>28734</td>\n",
       "      <td>638.018</td>\n",
       "      <td>200.524796</td>\n",
       "      <td>182.734419</td>\n",
       "      <td>1.097356</td>\n",
       "      <td>0.411785</td>\n",
       "      <td>29172</td>\n",
       "      <td>191.272750</td>\n",
       "      <td>0.783968</td>\n",
       "      <td>0.984986</td>\n",
       "      <td>0.887034</td>\n",
       "      <td>0.953861</td>\n",
       "      <td>0.006979</td>\n",
       "      <td>0.003564</td>\n",
       "      <td>0.909851</td>\n",
       "      <td>0.998430</td>\n",
       "    </tr>\n",
       "    <tr>\n",
       "      <th>2</th>\n",
       "      <td>29380</td>\n",
       "      <td>624.110</td>\n",
       "      <td>212.826130</td>\n",
       "      <td>175.931143</td>\n",
       "      <td>1.209713</td>\n",
       "      <td>0.562727</td>\n",
       "      <td>29690</td>\n",
       "      <td>193.410904</td>\n",
       "      <td>0.778113</td>\n",
       "      <td>0.989559</td>\n",
       "      <td>0.947849</td>\n",
       "      <td>0.908774</td>\n",
       "      <td>0.007244</td>\n",
       "      <td>0.003048</td>\n",
       "      <td>0.825871</td>\n",
       "      <td>0.999066</td>\n",
       "    </tr>\n",
       "    <tr>\n",
       "      <th>3</th>\n",
       "      <td>30008</td>\n",
       "      <td>645.884</td>\n",
       "      <td>210.557999</td>\n",
       "      <td>182.516516</td>\n",
       "      <td>1.153638</td>\n",
       "      <td>0.498616</td>\n",
       "      <td>30724</td>\n",
       "      <td>195.467062</td>\n",
       "      <td>0.782681</td>\n",
       "      <td>0.976696</td>\n",
       "      <td>0.903936</td>\n",
       "      <td>0.928329</td>\n",
       "      <td>0.007017</td>\n",
       "      <td>0.003215</td>\n",
       "      <td>0.861794</td>\n",
       "      <td>0.994199</td>\n",
       "    </tr>\n",
       "    <tr>\n",
       "      <th>4</th>\n",
       "      <td>30140</td>\n",
       "      <td>620.134</td>\n",
       "      <td>201.847882</td>\n",
       "      <td>190.279279</td>\n",
       "      <td>1.060798</td>\n",
       "      <td>0.333680</td>\n",
       "      <td>30417</td>\n",
       "      <td>195.896503</td>\n",
       "      <td>0.773098</td>\n",
       "      <td>0.990893</td>\n",
       "      <td>0.984877</td>\n",
       "      <td>0.970516</td>\n",
       "      <td>0.006697</td>\n",
       "      <td>0.003665</td>\n",
       "      <td>0.941900</td>\n",
       "      <td>0.999166</td>\n",
       "    </tr>\n",
       "  </tbody>\n",
       "</table>\n",
       "</div>"
      ],
      "text/plain": [
       "    Area  Perimeter  MajorAxisLength  MinorAxisLength  AspectRation  \\\n",
       "0  28395    610.291       208.178117       173.888747      1.197191   \n",
       "1  28734    638.018       200.524796       182.734419      1.097356   \n",
       "2  29380    624.110       212.826130       175.931143      1.209713   \n",
       "3  30008    645.884       210.557999       182.516516      1.153638   \n",
       "4  30140    620.134       201.847882       190.279279      1.060798   \n",
       "\n",
       "   Eccentricity  ConvexArea  EquivDiameter    Extent  Solidity  roundness  \\\n",
       "0      0.549812       28715     190.141097  0.763923  0.988856   0.958027   \n",
       "1      0.411785       29172     191.272750  0.783968  0.984986   0.887034   \n",
       "2      0.562727       29690     193.410904  0.778113  0.989559   0.947849   \n",
       "3      0.498616       30724     195.467062  0.782681  0.976696   0.903936   \n",
       "4      0.333680       30417     195.896503  0.773098  0.990893   0.984877   \n",
       "\n",
       "   Compactness  ShapeFactor1  ShapeFactor2  ShapeFactor3  ShapeFactor4  \n",
       "0     0.913358      0.007332      0.003147      0.834222      0.998724  \n",
       "1     0.953861      0.006979      0.003564      0.909851      0.998430  \n",
       "2     0.908774      0.007244      0.003048      0.825871      0.999066  \n",
       "3     0.928329      0.007017      0.003215      0.861794      0.994199  \n",
       "4     0.970516      0.006697      0.003665      0.941900      0.999166  "
      ]
     },
     "execution_count": 64,
     "metadata": {},
     "output_type": "execute_result"
    }
   ],
   "source": [
    "df = df.drop([\"Class\"], axis=1)\n",
    "df.head()"
   ]
  },
  {
   "cell_type": "code",
   "execution_count": 65,
   "id": "69699fa1",
   "metadata": {},
   "outputs": [
    {
     "data": {
      "text/plain": [
       "(3871, 16)"
      ]
     },
     "execution_count": 65,
     "metadata": {},
     "output_type": "execute_result"
    }
   ],
   "source": [
    "df.shape"
   ]
  },
  {
   "cell_type": "markdown",
   "id": "52509244",
   "metadata": {},
   "source": [
    "## Normalization"
   ]
  },
  {
   "cell_type": "code",
   "execution_count": 66,
   "id": "1ccb139b",
   "metadata": {},
   "outputs": [],
   "source": [
    "# from sklearn.preprocessing import MinMaxScaler \n",
    "from sklearn import preprocessing"
   ]
  },
  {
   "cell_type": "code",
   "execution_count": 67,
   "id": "e6df5d43",
   "metadata": {},
   "outputs": [],
   "source": [
    "# #columns to normalize\n",
    "# columns_to_normalize = ['Area', 'Perimeter', 'MajorAxisLength' , 'AspectRation', 'ConvexArea', 'EquivDiameter']"
   ]
  },
  {
   "cell_type": "code",
   "execution_count": 68,
   "id": "dc7dcd36",
   "metadata": {},
   "outputs": [],
   "source": [
    "# scaler = MinMaxScaler()\n",
    "# df[columns_to_normalize] = scaler.fit_transform(df[columns_to_normalize])"
   ]
  },
  {
   "cell_type": "code",
   "execution_count": 69,
   "id": "55c6b395",
   "metadata": {},
   "outputs": [],
   "source": [
    "scaler = preprocessing.StandardScaler().fit(df)\n",
    "df_scaled = scaler.transform(df)"
   ]
  },
  {
   "cell_type": "markdown",
   "id": "19538ba1",
   "metadata": {},
   "source": [
    "# Linear Regression"
   ]
  },
  {
   "cell_type": "code",
   "execution_count": 107,
   "id": "53cdf017",
   "metadata": {},
   "outputs": [],
   "source": [
    "# Importing Libraries\n",
    "import matplotlib.pyplot as plt\n",
    "import numpy as np\n",
    "from sklearn import linear_model\n",
    "from sklearn.metrics import mean_squared_error, r2_score, accuracy_score\n",
    "from sklearn.model_selection import train_test_split"
   ]
  },
  {
   "cell_type": "code",
   "execution_count": 108,
   "id": "4c003932",
   "metadata": {},
   "outputs": [],
   "source": [
    "# Split the data into training/testing sets\n",
    "X1_train, X1_test, y1_train, y1_test = train_test_split(df_scaled, y_train, test_size=0.2, random_state=42) "
   ]
  },
  {
   "cell_type": "markdown",
   "id": "8a8304c8",
   "metadata": {},
   "source": [
    "## Running Cross Validation on the Training Data"
   ]
  },
  {
   "cell_type": "code",
   "execution_count": 109,
   "id": "8f08a3a6",
   "metadata": {},
   "outputs": [],
   "source": [
    "#importing library for cross validation\n",
    "from sklearn.model_selection import cross_val_score"
   ]
  },
  {
   "cell_type": "code",
   "execution_count": 110,
   "id": "e3abe11a",
   "metadata": {},
   "outputs": [],
   "source": [
    "#K-fold cross validation\n",
    "\n",
    "# model = decision tree classifier model\n",
    "# X_train = training dataset\n",
    "# y_train = target column of training dataset\n",
    "# k = number of folds\n",
    "\n",
    "def cross_validation(model, X_train, y_train, k):\n",
    "  # Applying 10-Fold Cross Validation\n",
    "    scores = cross_val_score(model, X_train, y_train, cv = k, scoring='neg_mean_squared_error')\n",
    "    print('Average cross-validation MSE score: {:.4f}'.format(scores.mean() * (-1))) "
   ]
  },
  {
   "cell_type": "code",
   "execution_count": 111,
   "id": "8fc149f0",
   "metadata": {},
   "outputs": [
    {
     "name": "stdout",
     "output_type": "stream",
     "text": [
      "Average cross-validation MSE score: 0.1063\n"
     ]
    }
   ],
   "source": [
    "#Initializing model\n",
    "lr_cv = linear_model.LinearRegression()\n",
    "cross_validation(lr_cv, X1_train, y1_train.values.ravel(), 10)"
   ]
  },
  {
   "cell_type": "code",
   "execution_count": 112,
   "id": "0a5cdb3f",
   "metadata": {},
   "outputs": [],
   "source": [
    "# import sklearn\n",
    "# sklearn.metrics.get_scorer_names()"
   ]
  },
  {
   "cell_type": "markdown",
   "id": "5973e6c1",
   "metadata": {},
   "source": [
    "## Running on train and test data"
   ]
  },
  {
   "cell_type": "code",
   "execution_count": 113,
   "id": "561dcd8a",
   "metadata": {},
   "outputs": [],
   "source": [
    "# Create linear regression object\n",
    "lr = linear_model.LinearRegression()\n",
    "\n",
    "# Train the model using the training sets\n",
    "lr.fit(X1_train, y1_train.values.ravel())\n",
    "\n",
    "# Make predictions using the testing set\n",
    "y_pred = lr.predict(X1_test)\n"
   ]
  },
  {
   "cell_type": "code",
   "execution_count": 114,
   "id": "7c6522d0",
   "metadata": {},
   "outputs": [
    {
     "name": "stdout",
     "output_type": "stream",
     "text": [
      "Mean squared error: 0.10\n",
      "Coefficient of determination: 0.88\n"
     ]
    }
   ],
   "source": [
    "# The mean squared error\n",
    "print(\"Mean squared error: %.2f\" % mean_squared_error(y1_test.values.ravel(), y_pred))\n",
    "# The coefficient of determination: 1 is perfect prediction\n",
    "print(\"Coefficient of determination: %.2f\" % r2_score(y1_test.values.ravel(), y_pred))"
   ]
  },
  {
   "cell_type": "markdown",
   "id": "88083321",
   "metadata": {},
   "source": [
    "# Logistic Regression "
   ]
  },
  {
   "cell_type": "code",
   "execution_count": 115,
   "id": "8fa69577",
   "metadata": {},
   "outputs": [],
   "source": [
    "from sklearn.linear_model import LogisticRegression"
   ]
  },
  {
   "cell_type": "markdown",
   "id": "059ec7bd",
   "metadata": {},
   "source": [
    "## Running Cross Validation on the Training Data"
   ]
  },
  {
   "cell_type": "code",
   "execution_count": 116,
   "id": "40a3f497",
   "metadata": {},
   "outputs": [
    {
     "name": "stdout",
     "output_type": "stream",
     "text": [
      "Average cross-validation MSE score: 0.0452\n"
     ]
    }
   ],
   "source": [
    "#Initializing model\n",
    "log_r_cv = LogisticRegression()\n",
    "cross_validation(log_r_cv, X1_train, y1_train.values.ravel(), 10)"
   ]
  },
  {
   "cell_type": "markdown",
   "id": "9ec02587",
   "metadata": {},
   "source": [
    "## Running on train and test data"
   ]
  },
  {
   "cell_type": "code",
   "execution_count": 117,
   "id": "e9098a96",
   "metadata": {
    "scrolled": true
   },
   "outputs": [],
   "source": [
    "# Create logistic regression object\n",
    "log_r_model = LogisticRegression()\n",
    "\n",
    "# Train the model using the training sets\n",
    "log_r_model.fit(X1_train, y1_train.values.ravel())\n",
    "\n",
    "# Make predictions using the testing set\n",
    "y1_pred = log_r_model.predict(X1_test)"
   ]
  },
  {
   "cell_type": "code",
   "execution_count": 118,
   "id": "19b25a97",
   "metadata": {},
   "outputs": [
    {
     "name": "stdout",
     "output_type": "stream",
     "text": [
      "Mean squared error: 0.06\n",
      "Coefficient of determination: 0.93\n"
     ]
    }
   ],
   "source": [
    "# The mean squared error\n",
    "print(\"Mean squared error: %.2f\" % mean_squared_error(y1_test.values.ravel(), y1_pred))\n",
    "# The coefficient of determination: 1 is perfect prediction\n",
    "print(\"Coefficient of determination: %.2f\" % r2_score(y1_test.values.ravel(), y1_pred))"
   ]
  },
  {
   "cell_type": "markdown",
   "id": "af0b5c0d",
   "metadata": {},
   "source": [
    "# Experimenting with different hyper parameter combinations using Grid Search"
   ]
  },
  {
   "cell_type": "code",
   "execution_count": 125,
   "id": "fa49d66e",
   "metadata": {},
   "outputs": [],
   "source": [
    "from sklearn.model_selection import GridSearchCV\n",
    "import warnings\n",
    "warnings.filterwarnings('ignore')"
   ]
  },
  {
   "cell_type": "code",
   "execution_count": 129,
   "id": "cfad8646",
   "metadata": {},
   "outputs": [],
   "source": [
    "def print_result(result):\n",
    "    print(\"BEST PARAMS: {} \\n\".format(result.best_params_))\n",
    "\n",
    "    #prints average and standard deviation of accuracy scores across sections/grids\n",
    "    means = result.cv_results_['mean_test_score']\n",
    "    params = result.cv_results_['params']\n",
    "    print(\"Mean MSE of hyperparameter combinations:\")\n",
    "    for mean, param in zip(means, params):\n",
    "        print('{}  -> {}'.format(round(mean,4)*(-1), param))\n",
    "        print()"
   ]
  },
  {
   "cell_type": "markdown",
   "id": "f692caed",
   "metadata": {},
   "source": [
    "## Penalty"
   ]
  },
  {
   "cell_type": "code",
   "execution_count": 136,
   "id": "d368764b",
   "metadata": {},
   "outputs": [
    {
     "name": "stdout",
     "output_type": "stream",
     "text": [
      "BEST PARAMS: {'penalty': 'l2'} \n",
      "\n",
      "Mean MSE of hyperparameter combinations:\n",
      "0.0465  -> {'penalty': 'none'}\n",
      "\n",
      "0.0452  -> {'penalty': 'l2'}\n",
      "\n"
     ]
    }
   ],
   "source": [
    "lr1 = LogisticRegression()\n",
    "parameters = {\n",
    "    'penalty': ['none', 'l2']  \n",
    "}\n",
    "\n",
    "cv = GridSearchCV(lr1, parameters, scoring='neg_mean_squared_error', cv=10)\n",
    "\n",
    "#converting labels from column vector to array\n",
    "cv.fit(X1_train, y1_train.values.ravel())\n",
    "\n",
    "print_result(cv)"
   ]
  },
  {
   "cell_type": "markdown",
   "id": "deee94f8",
   "metadata": {},
   "source": [
    "## Number of Iterations"
   ]
  },
  {
   "cell_type": "code",
   "execution_count": 145,
   "id": "a4777d77",
   "metadata": {},
   "outputs": [
    {
     "name": "stdout",
     "output_type": "stream",
     "text": [
      "BEST PARAMS: {'max_iter': 50} \n",
      "\n",
      "Mean MSE of hyperparameter combinations:\n",
      "0.0468  -> {'max_iter': 10}\n",
      "\n",
      "0.0452  -> {'max_iter': 50}\n",
      "\n",
      "0.0452  -> {'max_iter': 100}\n",
      "\n",
      "0.0452  -> {'max_iter': 200}\n",
      "\n",
      "0.0452  -> {'max_iter': 300}\n",
      "\n"
     ]
    }
   ],
   "source": [
    "lr1 = LogisticRegression()\n",
    "parameters = {\n",
    "    'max_iter': [10, 50, 100, 200, 300]\n",
    "}\n",
    "\n",
    "cv = GridSearchCV(lr1, parameters, scoring='neg_mean_squared_error', cv=10)\n",
    "\n",
    "#converting labels from column vector to array\n",
    "cv.fit(X1_train, y1_train.values.ravel())\n",
    "\n",
    "print_result(cv)"
   ]
  },
  {
   "cell_type": "markdown",
   "id": "56698dc1",
   "metadata": {},
   "source": [
    "## Solver"
   ]
  },
  {
   "cell_type": "code",
   "execution_count": 138,
   "id": "0e0e2dbe",
   "metadata": {},
   "outputs": [
    {
     "name": "stdout",
     "output_type": "stream",
     "text": [
      "BEST PARAMS: {'solver': 'saga'} \n",
      "\n",
      "Mean MSE of hyperparameter combinations:\n",
      "0.0465  -> {'solver': 'liblinear'}\n",
      "\n",
      "0.0452  -> {'solver': 'lbfgs'}\n",
      "\n",
      "0.0439  -> {'solver': 'saga'}\n",
      "\n"
     ]
    }
   ],
   "source": [
    "lr1 = LogisticRegression()\n",
    "parameters = {\n",
    "    'solver': ['liblinear', 'lbfgs', 'saga']\n",
    "}\n",
    "\n",
    "cv = GridSearchCV(lr1, parameters, scoring='neg_mean_squared_error', cv=10)\n",
    "\n",
    "#converting labels from column vector to array\n",
    "cv.fit(X1_train, y1_train.values.ravel())\n",
    "\n",
    "print_result(cv)"
   ]
  },
  {
   "cell_type": "markdown",
   "id": "3b41938e",
   "metadata": {},
   "source": [
    "## Class weight"
   ]
  },
  {
   "cell_type": "code",
   "execution_count": 143,
   "id": "dfef4ba7",
   "metadata": {},
   "outputs": [
    {
     "name": "stdout",
     "output_type": "stream",
     "text": [
      "BEST PARAMS: {'class_weight': None} \n",
      "\n",
      "Mean MSE of hyperparameter combinations:\n",
      "0.0452  -> {'class_weight': None}\n",
      "\n",
      "0.053  -> {'class_weight': 'balanced'}\n",
      "\n"
     ]
    }
   ],
   "source": [
    "lr1 = LogisticRegression()\n",
    "parameters = {\n",
    "    'class_weight': [None, 'balanced'] \n",
    "}\n",
    "\n",
    "cv = GridSearchCV(lr1, parameters, scoring='neg_mean_squared_error', cv=10)\n",
    "\n",
    "#converting labels from column vector to array\n",
    "cv.fit(X1_train, y1_train.values.ravel())\n",
    "\n",
    "print_result(cv)"
   ]
  },
  {
   "cell_type": "markdown",
   "id": "e6b53832",
   "metadata": {},
   "source": [
    "## C : Inverse of regularization strength"
   ]
  },
  {
   "cell_type": "code",
   "execution_count": 146,
   "id": "6679d8a8",
   "metadata": {},
   "outputs": [
    {
     "name": "stdout",
     "output_type": "stream",
     "text": [
      "BEST PARAMS: {'C': 1} \n",
      "\n",
      "Mean MSE of hyperparameter combinations:\n",
      "0.0811  -> {'C': 0.001}\n",
      "\n",
      "0.0478  -> {'C': 0.01}\n",
      "\n",
      "0.0452  -> {'C': 0.1}\n",
      "\n",
      "0.0452  -> {'C': 1}\n",
      "\n",
      "0.0465  -> {'C': 10}\n",
      "\n",
      "0.0452  -> {'C': 100}\n",
      "\n"
     ]
    }
   ],
   "source": [
    "lr1 = LogisticRegression()\n",
    "parameters = {\n",
    "    'C': [0.001, 0.01, 0.1, 1, 10, 100]\n",
    "}\n",
    "\n",
    "cv = GridSearchCV(lr1, parameters, scoring='neg_mean_squared_error', cv=10)\n",
    "\n",
    "#converting labels from column vector to array\n",
    "cv.fit(X1_train, y1_train.values.ravel())\n",
    "\n",
    "print_result(cv)"
   ]
  },
  {
   "cell_type": "markdown",
   "id": "0edf391f",
   "metadata": {},
   "source": [
    "### NOTE: \n",
    "- sklearn.linear_model.LogisticRegression doesn't use SGD, so there's no learning rate hyperparameter.\n",
    "- Logistic regression in scikit-learn is typically trained using optimization algorithms like L-BFGS, which do not involve the concept of batches."
   ]
  },
  {
   "cell_type": "markdown",
   "id": "b0c2ea07",
   "metadata": {},
   "source": [
    "# Visualization of data in 2D and 3D space"
   ]
  },
  {
   "cell_type": "code",
   "execution_count": 155,
   "id": "dee2af48",
   "metadata": {},
   "outputs": [
    {
     "data": {
      "image/png": "[encoded data removed]",
      "text/plain": [
       "<Figure size 640x480 with 1 Axes>"
      ]
     },
     "metadata": {},
     "output_type": "display_data"
    }
   ],
   "source": [
    "# Visualize the data (2D)\n",
    "plt.scatter(df_scaled[:, 0], df_scaled[:, 1], c=y_train, cmap=plt.cm.Paired, marker='o')\n",
    "plt.xlabel('Feature 1')\n",
    "plt.ylabel('Feature 2')\n",
    "plt.title('Visualizing Linear Separability')\n",
    "plt.show()"
   ]
  },
  {
   "cell_type": "code",
   "execution_count": 156,
   "id": "cd07f218",
   "metadata": {},
   "outputs": [
    {
     "data": {
      "image/png": "[encoded data removed]",
      "text/plain": [
       "<Figure size 800x600 with 1 Axes>"
      ]
     },
     "metadata": {},
     "output_type": "display_data"
    }
   ],
   "source": [
    "# Creating a 3D scatter plot\n",
    "fig = plt.figure(figsize=(8, 6))\n",
    "ax = fig.add_subplot(111, projection='3d')\n",
    "\n",
    "# Scatter plot\n",
    "ax.scatter(df_scaled[:, 0], df_scaled[:, 1], df_scaled[:, 2], c=y_train, marker='o', cmap='viridis')\n",
    "\n",
    "# Set labels\n",
    "ax.set_xlabel('Feature 1')\n",
    "ax.set_ylabel('Feature 2')\n",
    "ax.set_zlabel('Feature 3')\n",
    "ax.set_title('3D Scatter Plot')\n",
    "\n",
    "# Show the plot\n",
    "plt.show()"
   ]
  }
 ],
 "metadata": {
  "kernelspec": {
   "display_name": "Python 3 (ipykernel)",
   "language": "python",
   "name": "python3"
  },
  "language_info": {
   "codemirror_mode": {
    "name": "ipython",
    "version": 3
   },
   "file_extension": ".py",
   "mimetype": "text/x-python",
   "name": "python",
   "nbconvert_exporter": "python",
   "pygments_lexer": "ipython3",
   "version": "3.10.9"
  }
 },
 "nbformat": 4,
 "nbformat_minor": 5
}
