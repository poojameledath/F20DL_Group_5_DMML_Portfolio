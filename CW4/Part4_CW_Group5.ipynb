{
 "cells": [
  {
   "cell_type": "markdown",
   "id": "f4a0810a",
   "metadata": {},
   "source": [
    "# Importing Libraries"
   ]
  },
  {
   "cell_type": "code",
   "execution_count": 1,
   "id": "a9a04ee4",
   "metadata": {},
   "outputs": [
    {
     "name": "stdout",
     "output_type": "stream",
     "text": [
      "Requirement already satisfied: opencv-python in /usr/local/lib/python3.11/site-packages (4.8.1.78)\n",
      "Requirement already satisfied: numpy>=1.21.2 in /usr/local/lib/python3.11/site-packages (from opencv-python) (1.26.0)\n",
      "Note: you may need to restart the kernel to use updated packages.\n"
     ]
    }
   ],
   "source": [
    "pip install opencv-python"
   ]
  },
  {
   "cell_type": "code",
   "execution_count": 4,
   "id": "97428c62",
   "metadata": {},
   "outputs": [],
   "source": [
    "#Importing all the relevant libraries needed.\n",
    "import pandas as pd\n",
    "import sklearn\n",
    "import numpy as np\n",
    "import cv2\n",
    "import matplotlib.pyplot as plt\n",
    "import matplotlib as mpl\n",
    "from numpy import array\n",
    "import seaborn as sns\n",
    "from sklearn.feature_selection import SelectKBest, chi2\n",
    "from sklearn.cluster import DBSCAN"
   ]
  },
  {
   "cell_type": "markdown",
   "id": "9767d017",
   "metadata": {},
   "source": [
    "# Importing datasets"
   ]
  },
  {
   "cell_type": "code",
   "execution_count": 5,
   "id": "bb9231b8",
   "metadata": {},
   "outputs": [],
   "source": [
    "# Reading the csv file \"x_train_all.csv\"\n",
    "df = pd.read_csv(\"x_train_all.csv\")"
   ]
  },
  {
   "cell_type": "code",
   "execution_count": 6,
   "id": "128333f9",
   "metadata": {},
   "outputs": [
    {
     "data": {
      "text/html": [
       "<div>\n",
       "<style scoped>\n",
       "    .dataframe tbody tr th:only-of-type {\n",
       "        vertical-align: middle;\n",
       "    }\n",
       "\n",
       "    .dataframe tbody tr th {\n",
       "        vertical-align: top;\n",
       "    }\n",
       "\n",
       "    .dataframe thead th {\n",
       "        text-align: right;\n",
       "    }\n",
       "</style>\n",
       "<table border=\"1\" class=\"dataframe\">\n",
       "  <thead>\n",
       "    <tr style=\"text-align: right;\">\n",
       "      <th></th>\n",
       "      <th>0</th>\n",
       "      <th>1</th>\n",
       "      <th>2</th>\n",
       "      <th>3</th>\n",
       "      <th>4</th>\n",
       "      <th>5</th>\n",
       "      <th>6</th>\n",
       "      <th>7</th>\n",
       "      <th>8</th>\n",
       "      <th>9</th>\n",
       "      <th>...</th>\n",
       "      <th>2294</th>\n",
       "      <th>2295</th>\n",
       "      <th>2296</th>\n",
       "      <th>2297</th>\n",
       "      <th>2298</th>\n",
       "      <th>2299</th>\n",
       "      <th>2300</th>\n",
       "      <th>2301</th>\n",
       "      <th>2302</th>\n",
       "      <th>2303</th>\n",
       "    </tr>\n",
       "  </thead>\n",
       "  <tbody>\n",
       "    <tr>\n",
       "      <th>0</th>\n",
       "      <td>78.0</td>\n",
       "      <td>77.0</td>\n",
       "      <td>76.0</td>\n",
       "      <td>82.0</td>\n",
       "      <td>87.0</td>\n",
       "      <td>92.0</td>\n",
       "      <td>104.0</td>\n",
       "      <td>119.0</td>\n",
       "      <td>117.0</td>\n",
       "      <td>120.0</td>\n",
       "      <td>...</td>\n",
       "      <td>87.0</td>\n",
       "      <td>79.0</td>\n",
       "      <td>72.0</td>\n",
       "      <td>76.0</td>\n",
       "      <td>83.0</td>\n",
       "      <td>95.0</td>\n",
       "      <td>99.0</td>\n",
       "      <td>98.0</td>\n",
       "      <td>95.0</td>\n",
       "      <td>94.0</td>\n",
       "    </tr>\n",
       "    <tr>\n",
       "      <th>1</th>\n",
       "      <td>73.0</td>\n",
       "      <td>75.0</td>\n",
       "      <td>79.0</td>\n",
       "      <td>78.0</td>\n",
       "      <td>76.0</td>\n",
       "      <td>75.0</td>\n",
       "      <td>89.0</td>\n",
       "      <td>107.0</td>\n",
       "      <td>133.0</td>\n",
       "      <td>125.0</td>\n",
       "      <td>...</td>\n",
       "      <td>96.0</td>\n",
       "      <td>93.0</td>\n",
       "      <td>85.0</td>\n",
       "      <td>77.0</td>\n",
       "      <td>69.0</td>\n",
       "      <td>73.0</td>\n",
       "      <td>83.0</td>\n",
       "      <td>100.0</td>\n",
       "      <td>101.0</td>\n",
       "      <td>101.0</td>\n",
       "    </tr>\n",
       "    <tr>\n",
       "      <th>2</th>\n",
       "      <td>72.0</td>\n",
       "      <td>75.0</td>\n",
       "      <td>79.0</td>\n",
       "      <td>77.0</td>\n",
       "      <td>81.0</td>\n",
       "      <td>89.0</td>\n",
       "      <td>105.0</td>\n",
       "      <td>109.0</td>\n",
       "      <td>86.0</td>\n",
       "      <td>90.0</td>\n",
       "      <td>...</td>\n",
       "      <td>98.0</td>\n",
       "      <td>95.0</td>\n",
       "      <td>88.0</td>\n",
       "      <td>80.0</td>\n",
       "      <td>73.0</td>\n",
       "      <td>71.0</td>\n",
       "      <td>74.0</td>\n",
       "      <td>80.0</td>\n",
       "      <td>89.0</td>\n",
       "      <td>95.0</td>\n",
       "    </tr>\n",
       "    <tr>\n",
       "      <th>3</th>\n",
       "      <td>67.0</td>\n",
       "      <td>70.0</td>\n",
       "      <td>74.0</td>\n",
       "      <td>80.0</td>\n",
       "      <td>93.0</td>\n",
       "      <td>107.0</td>\n",
       "      <td>110.0</td>\n",
       "      <td>96.0</td>\n",
       "      <td>69.0</td>\n",
       "      <td>100.0</td>\n",
       "      <td>...</td>\n",
       "      <td>112.0</td>\n",
       "      <td>92.0</td>\n",
       "      <td>87.0</td>\n",
       "      <td>82.0</td>\n",
       "      <td>77.0</td>\n",
       "      <td>72.0</td>\n",
       "      <td>70.0</td>\n",
       "      <td>72.0</td>\n",
       "      <td>81.0</td>\n",
       "      <td>88.0</td>\n",
       "    </tr>\n",
       "    <tr>\n",
       "      <th>4</th>\n",
       "      <td>74.0</td>\n",
       "      <td>74.0</td>\n",
       "      <td>73.0</td>\n",
       "      <td>72.0</td>\n",
       "      <td>77.0</td>\n",
       "      <td>87.0</td>\n",
       "      <td>104.0</td>\n",
       "      <td>109.0</td>\n",
       "      <td>84.0</td>\n",
       "      <td>83.0</td>\n",
       "      <td>...</td>\n",
       "      <td>100.0</td>\n",
       "      <td>98.0</td>\n",
       "      <td>99.0</td>\n",
       "      <td>100.0</td>\n",
       "      <td>99.0</td>\n",
       "      <td>89.0</td>\n",
       "      <td>78.0</td>\n",
       "      <td>66.0</td>\n",
       "      <td>68.0</td>\n",
       "      <td>72.0</td>\n",
       "    </tr>\n",
       "  </tbody>\n",
       "</table>\n",
       "<p>5 rows × 2304 columns</p>\n",
       "</div>"
      ],
      "text/plain": [
       "      0     1     2     3     4      5      6      7      8      9  ...  \\\n",
       "0  78.0  77.0  76.0  82.0  87.0   92.0  104.0  119.0  117.0  120.0  ...   \n",
       "1  73.0  75.0  79.0  78.0  76.0   75.0   89.0  107.0  133.0  125.0  ...   \n",
       "2  72.0  75.0  79.0  77.0  81.0   89.0  105.0  109.0   86.0   90.0  ...   \n",
       "3  67.0  70.0  74.0  80.0  93.0  107.0  110.0   96.0   69.0  100.0  ...   \n",
       "4  74.0  74.0  73.0  72.0  77.0   87.0  104.0  109.0   84.0   83.0  ...   \n",
       "\n",
       "    2294  2295  2296   2297  2298  2299  2300   2301   2302   2303  \n",
       "0   87.0  79.0  72.0   76.0  83.0  95.0  99.0   98.0   95.0   94.0  \n",
       "1   96.0  93.0  85.0   77.0  69.0  73.0  83.0  100.0  101.0  101.0  \n",
       "2   98.0  95.0  88.0   80.0  73.0  71.0  74.0   80.0   89.0   95.0  \n",
       "3  112.0  92.0  87.0   82.0  77.0  72.0  70.0   72.0   81.0   88.0  \n",
       "4  100.0  98.0  99.0  100.0  99.0  89.0  78.0   66.0   68.0   72.0  \n",
       "\n",
       "[5 rows x 2304 columns]"
      ]
     },
     "execution_count": 6,
     "metadata": {},
     "output_type": "execute_result"
    }
   ],
   "source": [
    "df.head()"
   ]
  },
  {
   "cell_type": "code",
   "execution_count": 7,
   "id": "475949a5",
   "metadata": {},
   "outputs": [],
   "source": [
    "# Reading the csv file \"y_train_all.csv\"\n",
    "train_y_df = pd.read_csv(\"y_train_all.csv\")"
   ]
  },
  {
   "cell_type": "code",
   "execution_count": 8,
   "id": "e7fe5e6a",
   "metadata": {},
   "outputs": [],
   "source": [
    "# Reading the csv file \"y_train_all.csv\"\n",
    "test_x_df = pd.read_csv(\"x_test_all.csv\")"
   ]
  },
  {
   "cell_type": "code",
   "execution_count": 9,
   "id": "50f11f82",
   "metadata": {},
   "outputs": [],
   "source": [
    "# Reading the csv file \"y_train_all.csv\"\n",
    "test_y_df = pd.read_csv(\"y_test_all.csv\")"
   ]
  },
  {
   "cell_type": "code",
   "execution_count": 10,
   "id": "c5e76032",
   "metadata": {},
   "outputs": [
    {
     "data": {
      "text/plain": [
       "0\n",
       "2    2250\n",
       "1    2220\n",
       "4    1980\n",
       "3    1410\n",
       "8     540\n",
       "6     360\n",
       "9     270\n",
       "7     240\n",
       "0     210\n",
       "5     210\n",
       "Name: count, dtype: int64"
      ]
     },
     "execution_count": 10,
     "metadata": {},
     "output_type": "execute_result"
    }
   ],
   "source": [
    "train_y_df['0'].value_counts()"
   ]
  },
  {
   "cell_type": "markdown",
   "id": "b7245f1a",
   "metadata": {},
   "source": [
    "# Data Visulaization and Exploration"
   ]
  },
  {
   "cell_type": "code",
   "execution_count": 11,
   "id": "7fea1122",
   "metadata": {},
   "outputs": [
    {
     "name": "stdout",
     "output_type": "stream",
     "text": [
      "<class 'pandas.core.frame.DataFrame'>\n",
      "RangeIndex: 9690 entries, 0 to 9689\n",
      "Columns: 2304 entries, 0 to 2303\n",
      "dtypes: float64(2304)\n",
      "memory usage: 170.3 MB\n"
     ]
    }
   ],
   "source": [
    "# Retrieving the information of the dataframe.\n",
    "df.info()"
   ]
  },
  {
   "cell_type": "code",
   "execution_count": 12,
   "id": "d17ea630",
   "metadata": {},
   "outputs": [
    {
     "data": {
      "text/plain": [
       "(9690, 2304)"
      ]
     },
     "execution_count": 12,
     "metadata": {},
     "output_type": "execute_result"
    }
   ],
   "source": [
    "# Retrieving the information on the shape of the data.\n",
    "df.shape"
   ]
  },
  {
   "cell_type": "code",
   "execution_count": 13,
   "id": "ec12ebc7",
   "metadata": {},
   "outputs": [
    {
     "data": {
      "text/html": [
       "<div>\n",
       "<style scoped>\n",
       "    .dataframe tbody tr th:only-of-type {\n",
       "        vertical-align: middle;\n",
       "    }\n",
       "\n",
       "    .dataframe tbody tr th {\n",
       "        vertical-align: top;\n",
       "    }\n",
       "\n",
       "    .dataframe thead th {\n",
       "        text-align: right;\n",
       "    }\n",
       "</style>\n",
       "<table border=\"1\" class=\"dataframe\">\n",
       "  <thead>\n",
       "    <tr style=\"text-align: right;\">\n",
       "      <th></th>\n",
       "      <th>0</th>\n",
       "      <th>1</th>\n",
       "      <th>2</th>\n",
       "      <th>3</th>\n",
       "      <th>4</th>\n",
       "      <th>5</th>\n",
       "      <th>6</th>\n",
       "      <th>7</th>\n",
       "      <th>8</th>\n",
       "      <th>9</th>\n",
       "      <th>...</th>\n",
       "      <th>2294</th>\n",
       "      <th>2295</th>\n",
       "      <th>2296</th>\n",
       "      <th>2297</th>\n",
       "      <th>2298</th>\n",
       "      <th>2299</th>\n",
       "      <th>2300</th>\n",
       "      <th>2301</th>\n",
       "      <th>2302</th>\n",
       "      <th>2303</th>\n",
       "    </tr>\n",
       "  </thead>\n",
       "  <tbody>\n",
       "    <tr>\n",
       "      <th>0</th>\n",
       "      <td>78.0</td>\n",
       "      <td>77.0</td>\n",
       "      <td>76.0</td>\n",
       "      <td>82.0</td>\n",
       "      <td>87.0</td>\n",
       "      <td>92.0</td>\n",
       "      <td>104.0</td>\n",
       "      <td>119.0</td>\n",
       "      <td>117.0</td>\n",
       "      <td>120.0</td>\n",
       "      <td>...</td>\n",
       "      <td>87.0</td>\n",
       "      <td>79.0</td>\n",
       "      <td>72.0</td>\n",
       "      <td>76.0</td>\n",
       "      <td>83.0</td>\n",
       "      <td>95.0</td>\n",
       "      <td>99.0</td>\n",
       "      <td>98.0</td>\n",
       "      <td>95.0</td>\n",
       "      <td>94.0</td>\n",
       "    </tr>\n",
       "    <tr>\n",
       "      <th>1</th>\n",
       "      <td>73.0</td>\n",
       "      <td>75.0</td>\n",
       "      <td>79.0</td>\n",
       "      <td>78.0</td>\n",
       "      <td>76.0</td>\n",
       "      <td>75.0</td>\n",
       "      <td>89.0</td>\n",
       "      <td>107.0</td>\n",
       "      <td>133.0</td>\n",
       "      <td>125.0</td>\n",
       "      <td>...</td>\n",
       "      <td>96.0</td>\n",
       "      <td>93.0</td>\n",
       "      <td>85.0</td>\n",
       "      <td>77.0</td>\n",
       "      <td>69.0</td>\n",
       "      <td>73.0</td>\n",
       "      <td>83.0</td>\n",
       "      <td>100.0</td>\n",
       "      <td>101.0</td>\n",
       "      <td>101.0</td>\n",
       "    </tr>\n",
       "    <tr>\n",
       "      <th>2</th>\n",
       "      <td>72.0</td>\n",
       "      <td>75.0</td>\n",
       "      <td>79.0</td>\n",
       "      <td>77.0</td>\n",
       "      <td>81.0</td>\n",
       "      <td>89.0</td>\n",
       "      <td>105.0</td>\n",
       "      <td>109.0</td>\n",
       "      <td>86.0</td>\n",
       "      <td>90.0</td>\n",
       "      <td>...</td>\n",
       "      <td>98.0</td>\n",
       "      <td>95.0</td>\n",
       "      <td>88.0</td>\n",
       "      <td>80.0</td>\n",
       "      <td>73.0</td>\n",
       "      <td>71.0</td>\n",
       "      <td>74.0</td>\n",
       "      <td>80.0</td>\n",
       "      <td>89.0</td>\n",
       "      <td>95.0</td>\n",
       "    </tr>\n",
       "    <tr>\n",
       "      <th>3</th>\n",
       "      <td>67.0</td>\n",
       "      <td>70.0</td>\n",
       "      <td>74.0</td>\n",
       "      <td>80.0</td>\n",
       "      <td>93.0</td>\n",
       "      <td>107.0</td>\n",
       "      <td>110.0</td>\n",
       "      <td>96.0</td>\n",
       "      <td>69.0</td>\n",
       "      <td>100.0</td>\n",
       "      <td>...</td>\n",
       "      <td>112.0</td>\n",
       "      <td>92.0</td>\n",
       "      <td>87.0</td>\n",
       "      <td>82.0</td>\n",
       "      <td>77.0</td>\n",
       "      <td>72.0</td>\n",
       "      <td>70.0</td>\n",
       "      <td>72.0</td>\n",
       "      <td>81.0</td>\n",
       "      <td>88.0</td>\n",
       "    </tr>\n",
       "    <tr>\n",
       "      <th>4</th>\n",
       "      <td>74.0</td>\n",
       "      <td>74.0</td>\n",
       "      <td>73.0</td>\n",
       "      <td>72.0</td>\n",
       "      <td>77.0</td>\n",
       "      <td>87.0</td>\n",
       "      <td>104.0</td>\n",
       "      <td>109.0</td>\n",
       "      <td>84.0</td>\n",
       "      <td>83.0</td>\n",
       "      <td>...</td>\n",
       "      <td>100.0</td>\n",
       "      <td>98.0</td>\n",
       "      <td>99.0</td>\n",
       "      <td>100.0</td>\n",
       "      <td>99.0</td>\n",
       "      <td>89.0</td>\n",
       "      <td>78.0</td>\n",
       "      <td>66.0</td>\n",
       "      <td>68.0</td>\n",
       "      <td>72.0</td>\n",
       "    </tr>\n",
       "  </tbody>\n",
       "</table>\n",
       "<p>5 rows × 2304 columns</p>\n",
       "</div>"
      ],
      "text/plain": [
       "      0     1     2     3     4      5      6      7      8      9  ...  \\\n",
       "0  78.0  77.0  76.0  82.0  87.0   92.0  104.0  119.0  117.0  120.0  ...   \n",
       "1  73.0  75.0  79.0  78.0  76.0   75.0   89.0  107.0  133.0  125.0  ...   \n",
       "2  72.0  75.0  79.0  77.0  81.0   89.0  105.0  109.0   86.0   90.0  ...   \n",
       "3  67.0  70.0  74.0  80.0  93.0  107.0  110.0   96.0   69.0  100.0  ...   \n",
       "4  74.0  74.0  73.0  72.0  77.0   87.0  104.0  109.0   84.0   83.0  ...   \n",
       "\n",
       "    2294  2295  2296   2297  2298  2299  2300   2301   2302   2303  \n",
       "0   87.0  79.0  72.0   76.0  83.0  95.0  99.0   98.0   95.0   94.0  \n",
       "1   96.0  93.0  85.0   77.0  69.0  73.0  83.0  100.0  101.0  101.0  \n",
       "2   98.0  95.0  88.0   80.0  73.0  71.0  74.0   80.0   89.0   95.0  \n",
       "3  112.0  92.0  87.0   82.0  77.0  72.0  70.0   72.0   81.0   88.0  \n",
       "4  100.0  98.0  99.0  100.0  99.0  89.0  78.0   66.0   68.0   72.0  \n",
       "\n",
       "[5 rows x 2304 columns]"
      ]
     },
     "execution_count": 13,
     "metadata": {},
     "output_type": "execute_result"
    }
   ],
   "source": [
    "# Printing the first five rows of the data.\n",
    "df.head()"
   ]
  },
  {
   "cell_type": "markdown",
   "id": "f31d0a94",
   "metadata": {},
   "source": [
    "### Pixel Intensity Histogram"
   ]
  },
  {
   "cell_type": "code",
   "execution_count": 14,
   "id": "29c4b572",
   "metadata": {},
   "outputs": [
    {
     "data": {
      "image/png": "[encoded data removed]",
      "text/plain": [
       "<Figure size 640x480 with 1 Axes>"
      ]
     },
     "metadata": {},
     "output_type": "display_data"
    }
   ],
   "source": [
    "# Flattens the dataframe df into a 1 dimensional array to plot the histogram.\n",
    "reshaped_df = df.values.ravel()\n",
    "# Creates the histogram to view the pixel intensity.\n",
    "plt.hist(reshaped_df, bins=256, range=(0, 256), alpha=0.7)\n",
    "# Labels the x - axis as Pixel Value.\n",
    "plt.xlabel('Pixel Value')\n",
    "# Labels the y - axis as Pixel Frequency.\n",
    "plt.ylabel('Pixel Frequency')\n",
    "# Labels the title as Pixel Intensity Histogram for All Pixels.\n",
    "plt.title('Pixel Intensity Histogram for All Pixels')\n",
    "# Displays the grid lines on the histogram.\n",
    "plt.grid(True)\n",
    "plt.title('Pixel Intensity Histogram for All Pixels')\n",
    "# Displays the histogram.\n",
    "plt.show()"
   ]
  },
  {
   "cell_type": "markdown",
   "id": "c718e373",
   "metadata": {},
   "source": [
    "### Visualizing the image"
   ]
  },
  {
   "cell_type": "code",
   "execution_count": 15,
   "id": "38458ee5",
   "metadata": {},
   "outputs": [
    {
     "data": {
      "image/png": "[encoded data removed]",
      "text/plain": [
       "<Figure size 640x480 with 1 Axes>"
      ]
     },
     "metadata": {},
     "output_type": "display_data"
    }
   ],
   "source": [
    "# Storing the images in visualize_img.\n",
    "visualize_img = df.values\n",
    "\n",
    "# Viewing the image.\n",
    "some_digit = visualize_img[2]\n",
    "\n",
    "# Reshaping the image into 48 x 48 to view it.\n",
    "some_digit_image = some_digit.reshape(48,48)\n",
    "\n",
    "# Displaying the image.\n",
    "plt.imshow(some_digit_image,cmap=mpl.cm.binary)\n",
    "plt.show()"
   ]
  },
  {
   "cell_type": "markdown",
   "id": "e1f78736",
   "metadata": {},
   "source": [
    "# Image Enhancement Technique"
   ]
  },
  {
   "cell_type": "markdown",
   "id": "e2ca5ba4",
   "metadata": {},
   "source": [
    "### Histogram Equalization"
   ]
  },
  {
   "cell_type": "code",
   "execution_count": 16,
   "id": "2c52efad",
   "metadata": {},
   "outputs": [],
   "source": [
    "# Reshapes the dataframe df into 3D array in the shape 48x48 grid to represent\n",
    "# in form of image.\n",
    "def hist_eq(df):\n",
    "    reshaped_df = df.values.reshape(-1, 48, 48)\n",
    "\n",
    "    # Initializing the list to store images after applying equalization.\n",
    "    equalized_df = []\n",
    "\n",
    "    # Iterating through all the images to apply histogram equalisation.\n",
    "    for image in reshaped_df:\n",
    "        # Checking if the image is in the greyscale format and is 8-bit.\n",
    "        if image.dtype != np.uint8:\n",
    "            # Converting the image to 8 - bit otherwise.\n",
    "            image = cv2.convertScaleAbs(image)  # Convert to 8-bit image if needed.\n",
    "\n",
    "        # Applying histogram equalisation to the image to enchance the contrast.\n",
    "        equalized_img = cv2.equalizeHist(image)\n",
    "\n",
    "        # Adding the enchanced image to the equalized_df.\n",
    "        equalized_df.append(equalized_img)\n",
    "\n",
    "    # Converting the list into NumPy array.\n",
    "    equalized_df = np.array(equalized_df)\n",
    "    return equalized_df\n"
   ]
  },
  {
   "cell_type": "code",
   "execution_count": 17,
   "id": "5c9b1234",
   "metadata": {},
   "outputs": [],
   "source": [
    "# applying histogram equalization on complete train dataset\n",
    "equalized_df_train = hist_eq(df)"
   ]
  },
  {
   "cell_type": "code",
   "execution_count": 18,
   "id": "d814cc07",
   "metadata": {},
   "outputs": [],
   "source": [
    "# applying histogram equalization on test dataset\n",
    "equalized_df_test = hist_eq(test_x_df)"
   ]
  },
  {
   "cell_type": "code",
   "execution_count": 19,
   "id": "b3e7cb85",
   "metadata": {},
   "outputs": [],
   "source": [
    "def convert_array_df(equalized_df):  \n",
    "    # Storing the no. of images and dimensions of equalized_df.\n",
    "    n_img, height, width = equalized_df.shape\n",
    "\n",
    "    # Reshaping the array into two - dimensional array.\n",
    "    equalized_ndf = equalized_df.reshape(n_img, -1)\n",
    "\n",
    "    # Converting the array equalized_ndf into a dataframe.\n",
    "    ndf = pd.DataFrame(equalized_ndf)\n",
    "    return ndf"
   ]
  },
  {
   "cell_type": "code",
   "execution_count": 20,
   "id": "42100ad9",
   "metadata": {},
   "outputs": [],
   "source": [
    "#converting train data array into dataframe\n",
    "ndf_train = convert_array_df(equalized_df_train)"
   ]
  },
  {
   "cell_type": "code",
   "execution_count": 21,
   "id": "0b425f97",
   "metadata": {},
   "outputs": [],
   "source": [
    "#converting test data array into dataframe\n",
    "ndf_test = convert_array_df(equalized_df_test)"
   ]
  },
  {
   "cell_type": "markdown",
   "id": "4cee9b76",
   "metadata": {},
   "source": [
    "### Gamma Correction"
   ]
  },
  {
   "cell_type": "code",
   "execution_count": 22,
   "id": "aa7956ba",
   "metadata": {},
   "outputs": [],
   "source": [
    "def gamma_correction(ndf):\n",
    "    # Setting the gamma value for gamma correction.\n",
    "    gamma = 0.62\n",
    "    # Applying gamma correction on the dataframe ndf.\n",
    "    gamma_corrected_ndf = ndf.apply(lambda x: 255 * (x / 255) ** (1 / gamma))\n",
    "    return gamma_corrected_ndf"
   ]
  },
  {
   "cell_type": "code",
   "execution_count": 23,
   "id": "4b0760fe",
   "metadata": {},
   "outputs": [],
   "source": [
    "#applying gamma correction on train data \n",
    "gamma_corrected_ndf_train = gamma_correction(ndf_train)"
   ]
  },
  {
   "cell_type": "code",
   "execution_count": 24,
   "id": "9d4910ad",
   "metadata": {},
   "outputs": [],
   "source": [
    "#applying gamma correction on test data \n",
    "gamma_corrected_ndf_test = gamma_correction(ndf_test)"
   ]
  },
  {
   "cell_type": "markdown",
   "id": "f39354fb",
   "metadata": {},
   "source": [
    "# Data Preprocessing"
   ]
  },
  {
   "cell_type": "markdown",
   "id": "b4ed9c2f",
   "metadata": {},
   "source": [
    "### Normalizing the dataset"
   ]
  },
  {
   "cell_type": "code",
   "execution_count": 25,
   "id": "ad0b752c",
   "metadata": {},
   "outputs": [],
   "source": [
    "def normalization(gamma_corrected_ndf):\n",
    "    # Normalising the dataframe by dividing it with 255 to bring the pixel values in the range of zero to one.\n",
    "    max_pixel= 255\n",
    "    # Normalizing the dataframe gamma_corrected_ndf.\n",
    "    normalized_df = gamma_corrected_ndf.divide(max_pixel)\n",
    "    return normalized_df"
   ]
  },
  {
   "cell_type": "code",
   "execution_count": 26,
   "id": "a9d2471e",
   "metadata": {},
   "outputs": [],
   "source": [
    "#normalizing train data\n",
    "normalized_df = normalization(gamma_corrected_ndf_train)"
   ]
  },
  {
   "cell_type": "code",
   "execution_count": 27,
   "id": "c7f4da60",
   "metadata": {},
   "outputs": [],
   "source": [
    "#normalizing test data\n",
    "normalized_df_test = normalization(gamma_corrected_ndf_test)"
   ]
  },
  {
   "cell_type": "code",
   "execution_count": 28,
   "id": "1da09640",
   "metadata": {},
   "outputs": [],
   "source": [
    "# # Normalising the dataframe by dividing it with 255 to bring the pixel values in the range of zero to one.\n",
    "# max_pixel= 255\n",
    "# # Normalizing the dataframe gamma_corrected_ndf.\n",
    "# normalized_df = ndf.divide(max_pixel)"
   ]
  },
  {
   "cell_type": "code",
   "execution_count": 29,
   "id": "3127efe6",
   "metadata": {},
   "outputs": [],
   "source": [
    "# normalized_df = ndf.copy()"
   ]
  },
  {
   "cell_type": "code",
   "execution_count": 30,
   "id": "9e51eb46",
   "metadata": {},
   "outputs": [
    {
     "data": {
      "text/html": [
       "<div>\n",
       "<style scoped>\n",
       "    .dataframe tbody tr th:only-of-type {\n",
       "        vertical-align: middle;\n",
       "    }\n",
       "\n",
       "    .dataframe tbody tr th {\n",
       "        vertical-align: top;\n",
       "    }\n",
       "\n",
       "    .dataframe thead th {\n",
       "        text-align: right;\n",
       "    }\n",
       "</style>\n",
       "<table border=\"1\" class=\"dataframe\">\n",
       "  <thead>\n",
       "    <tr style=\"text-align: right;\">\n",
       "      <th></th>\n",
       "      <th>0</th>\n",
       "      <th>1</th>\n",
       "      <th>2</th>\n",
       "      <th>3</th>\n",
       "      <th>4</th>\n",
       "      <th>5</th>\n",
       "      <th>6</th>\n",
       "      <th>7</th>\n",
       "      <th>8</th>\n",
       "      <th>9</th>\n",
       "      <th>...</th>\n",
       "      <th>2294</th>\n",
       "      <th>2295</th>\n",
       "      <th>2296</th>\n",
       "      <th>2297</th>\n",
       "      <th>2298</th>\n",
       "      <th>2299</th>\n",
       "      <th>2300</th>\n",
       "      <th>2301</th>\n",
       "      <th>2302</th>\n",
       "      <th>2303</th>\n",
       "    </tr>\n",
       "  </thead>\n",
       "  <tbody>\n",
       "    <tr>\n",
       "      <th>0</th>\n",
       "      <td>0.015170</td>\n",
       "      <td>0.012679</td>\n",
       "      <td>0.009270</td>\n",
       "      <td>0.038780</td>\n",
       "      <td>0.081784</td>\n",
       "      <td>0.135948</td>\n",
       "      <td>0.257663</td>\n",
       "      <td>0.402310</td>\n",
       "      <td>0.384562</td>\n",
       "      <td>0.415820</td>\n",
       "      <td>...</td>\n",
       "      <td>0.081784</td>\n",
       "      <td>0.020645</td>\n",
       "      <td>0.001761</td>\n",
       "      <td>0.009270</td>\n",
       "      <td>0.046400</td>\n",
       "      <td>0.170000</td>\n",
       "      <td>0.199962</td>\n",
       "      <td>0.189770</td>\n",
       "      <td>0.170000</td>\n",
       "      <td>0.154164</td>\n",
       "    </tr>\n",
       "    <tr>\n",
       "      <th>1</th>\n",
       "      <td>0.005387</td>\n",
       "      <td>0.009270</td>\n",
       "      <td>0.025159</td>\n",
       "      <td>0.020645</td>\n",
       "      <td>0.012679</td>\n",
       "      <td>0.009270</td>\n",
       "      <td>0.107567</td>\n",
       "      <td>0.269092</td>\n",
       "      <td>0.515050</td>\n",
       "      <td>0.443346</td>\n",
       "      <td>...</td>\n",
       "      <td>0.170000</td>\n",
       "      <td>0.147996</td>\n",
       "      <td>0.069921</td>\n",
       "      <td>0.015170</td>\n",
       "      <td>0.000402</td>\n",
       "      <td>0.005387</td>\n",
       "      <td>0.052450</td>\n",
       "      <td>0.206869</td>\n",
       "      <td>0.217395</td>\n",
       "      <td>0.217395</td>\n",
       "    </tr>\n",
       "    <tr>\n",
       "      <th>2</th>\n",
       "      <td>0.007229</td>\n",
       "      <td>0.015170</td>\n",
       "      <td>0.036957</td>\n",
       "      <td>0.026738</td>\n",
       "      <td>0.050402</td>\n",
       "      <td>0.130071</td>\n",
       "      <td>0.257663</td>\n",
       "      <td>0.288555</td>\n",
       "      <td>0.099552</td>\n",
       "      <td>0.138924</td>\n",
       "      <td>...</td>\n",
       "      <td>0.203404</td>\n",
       "      <td>0.176498</td>\n",
       "      <td>0.121442</td>\n",
       "      <td>0.040636</td>\n",
       "      <td>0.010361</td>\n",
       "      <td>0.004546</td>\n",
       "      <td>0.012679</td>\n",
       "      <td>0.040636</td>\n",
       "      <td>0.130071</td>\n",
       "      <td>0.176498</td>\n",
       "    </tr>\n",
       "    <tr>\n",
       "      <th>3</th>\n",
       "      <td>0.003759</td>\n",
       "      <td>0.009270</td>\n",
       "      <td>0.020645</td>\n",
       "      <td>0.063147</td>\n",
       "      <td>0.176498</td>\n",
       "      <td>0.288555</td>\n",
       "      <td>0.320758</td>\n",
       "      <td>0.199962</td>\n",
       "      <td>0.007229</td>\n",
       "      <td>0.228119</td>\n",
       "      <td>...</td>\n",
       "      <td>0.337341</td>\n",
       "      <td>0.166786</td>\n",
       "      <td>0.121442</td>\n",
       "      <td>0.079355</td>\n",
       "      <td>0.038780</td>\n",
       "      <td>0.013903</td>\n",
       "      <td>0.009270</td>\n",
       "      <td>0.013903</td>\n",
       "      <td>0.072237</td>\n",
       "      <td>0.130071</td>\n",
       "    </tr>\n",
       "    <tr>\n",
       "      <th>4</th>\n",
       "      <td>0.022112</td>\n",
       "      <td>0.022112</td>\n",
       "      <td>0.016479</td>\n",
       "      <td>0.012679</td>\n",
       "      <td>0.044447</td>\n",
       "      <td>0.113040</td>\n",
       "      <td>0.224523</td>\n",
       "      <td>0.269092</td>\n",
       "      <td>0.094340</td>\n",
       "      <td>0.089236</td>\n",
       "      <td>...</td>\n",
       "      <td>0.196542</td>\n",
       "      <td>0.179782</td>\n",
       "      <td>0.186418</td>\n",
       "      <td>0.196542</td>\n",
       "      <td>0.186418</td>\n",
       "      <td>0.124293</td>\n",
       "      <td>0.054529</td>\n",
       "      <td>0.001229</td>\n",
       "      <td>0.003031</td>\n",
       "      <td>0.012679</td>\n",
       "    </tr>\n",
       "  </tbody>\n",
       "</table>\n",
       "<p>5 rows × 2304 columns</p>\n",
       "</div>"
      ],
      "text/plain": [
       "       0         1         2         3         4         5         6     \\\n",
       "0  0.015170  0.012679  0.009270  0.038780  0.081784  0.135948  0.257663   \n",
       "1  0.005387  0.009270  0.025159  0.020645  0.012679  0.009270  0.107567   \n",
       "2  0.007229  0.015170  0.036957  0.026738  0.050402  0.130071  0.257663   \n",
       "3  0.003759  0.009270  0.020645  0.063147  0.176498  0.288555  0.320758   \n",
       "4  0.022112  0.022112  0.016479  0.012679  0.044447  0.113040  0.224523   \n",
       "\n",
       "       7         8         9     ...      2294      2295      2296      2297  \\\n",
       "0  0.402310  0.384562  0.415820  ...  0.081784  0.020645  0.001761  0.009270   \n",
       "1  0.269092  0.515050  0.443346  ...  0.170000  0.147996  0.069921  0.015170   \n",
       "2  0.288555  0.099552  0.138924  ...  0.203404  0.176498  0.121442  0.040636   \n",
       "3  0.199962  0.007229  0.228119  ...  0.337341  0.166786  0.121442  0.079355   \n",
       "4  0.269092  0.094340  0.089236  ...  0.196542  0.179782  0.186418  0.196542   \n",
       "\n",
       "       2298      2299      2300      2301      2302      2303  \n",
       "0  0.046400  0.170000  0.199962  0.189770  0.170000  0.154164  \n",
       "1  0.000402  0.005387  0.052450  0.206869  0.217395  0.217395  \n",
       "2  0.010361  0.004546  0.012679  0.040636  0.130071  0.176498  \n",
       "3  0.038780  0.013903  0.009270  0.013903  0.072237  0.130071  \n",
       "4  0.186418  0.124293  0.054529  0.001229  0.003031  0.012679  \n",
       "\n",
       "[5 rows x 2304 columns]"
      ]
     },
     "execution_count": 30,
     "metadata": {},
     "output_type": "execute_result"
    }
   ],
   "source": [
    "# Printing the first five rows of the normalized_df.\n",
    "normalized_df.head()"
   ]
  },
  {
   "cell_type": "code",
   "execution_count": 31,
   "id": "1b7afd26",
   "metadata": {},
   "outputs": [
    {
     "data": {
      "text/plain": [
       "(9690, 2304)"
      ]
     },
     "execution_count": 31,
     "metadata": {},
     "output_type": "execute_result"
    }
   ],
   "source": [
    "# Retrieving the information on the shape of the data.\n",
    "normalized_df.shape"
   ]
  },
  {
   "cell_type": "code",
   "execution_count": 32,
   "id": "4e221dad",
   "metadata": {},
   "outputs": [],
   "source": [
    "# Converting the normalized data to an array\n",
    "data_array = normalized_df.values"
   ]
  },
  {
   "cell_type": "markdown",
   "id": "d3fe87ae",
   "metadata": {},
   "source": [
    "### Checking for Null Values"
   ]
  },
  {
   "cell_type": "code",
   "execution_count": 33,
   "id": "6626105e",
   "metadata": {},
   "outputs": [
    {
     "name": "stdout",
     "output_type": "stream",
     "text": [
      "Total Number of Null Values: 0\n"
     ]
    }
   ],
   "source": [
    "# Checking for any null values in the dataframe.\n",
    "null_values = normalized_df.isnull().sum().sum()\n",
    "# Printing the number of null values.\n",
    "print(\"Total Number of Null Values:\", null_values)"
   ]
  },
  {
   "cell_type": "markdown",
   "id": "bdb221f5",
   "metadata": {},
   "source": [
    "### Images after applying image enhancement techniques "
   ]
  },
  {
   "cell_type": "code",
   "execution_count": 34,
   "id": "4ebd5e98",
   "metadata": {},
   "outputs": [
    {
     "data": {
      "image/png": "[encoded data removed]",
      "text/plain": [
       "<Figure size 640x480 with 1 Axes>"
      ]
     },
     "metadata": {},
     "output_type": "display_data"
    }
   ],
   "source": [
    "# Storing the images in visualize_img.\n",
    "visualize_img = normalized_df.values\n",
    "\n",
    "# Viewing the image.\n",
    "some_digit = visualize_img[1]\n",
    "\n",
    "# Reshaping the image into 48 x 48 to view it.\n",
    "some_digit_image = some_digit.reshape(48,48)\n",
    "\n",
    "# Displaying the image.\n",
    "plt.imshow(some_digit_image,cmap=mpl.cm.binary)\n",
    "plt.show()"
   ]
  },
  {
   "cell_type": "markdown",
   "id": "564b073b",
   "metadata": {},
   "source": [
    "## Outlier Mining"
   ]
  },
  {
   "cell_type": "markdown",
   "id": "8966f8e8",
   "metadata": {},
   "source": [
    "### DBSCAN"
   ]
  },
  {
   "cell_type": "code",
   "execution_count": 35,
   "id": "6835e66f",
   "metadata": {},
   "outputs": [],
   "source": [
    "# Setting the value for epsilon parameter for DBSCAN.\n",
    "eps = 11.0\n",
    "# Setting the value for minimum sample parameter for DBSCAN.\n",
    "min_samples = 80\n",
    "# Intialsing the model for DBSCAN.\n",
    "dbscan = DBSCAN(eps=eps, min_samples=min_samples)\n",
    "# Fitting the model to the data_array.\n",
    "dbscan.fit(data_array)\n",
    "# Labels all the outliers.\n",
    "outlier_labels = dbscan.labels_"
   ]
  },
  {
   "cell_type": "code",
   "execution_count": 36,
   "id": "610e3f44",
   "metadata": {},
   "outputs": [
    {
     "name": "stdout",
     "output_type": "stream",
     "text": [
      "Number of outliers: 3680\n"
     ]
    }
   ],
   "source": [
    "# Printing the total number of outliers.\n",
    "num_outliers = np.sum(outlier_labels == -1)\n",
    "print(f\"Number of outliers: {num_outliers}\")"
   ]
  },
  {
   "cell_type": "code",
   "execution_count": 37,
   "id": "39ca0529",
   "metadata": {},
   "outputs": [],
   "source": [
    "# Finding all the places where the outliers lie.\n",
    "outlier_indices = np.where(outlier_labels == -1)[0]\n",
    "# Coverting it into a list\n",
    "outlier_indices = outlier_indices.tolist()\n",
    "# Printing the list of outliers.\n",
    "# print(\"Outlier List : \",outlier_indices)"
   ]
  },
  {
   "cell_type": "markdown",
   "id": "4092a723",
   "metadata": {},
   "source": [
    "### Scatter Plot for Outlier Visualization"
   ]
  },
  {
   "cell_type": "code",
   "execution_count": 38,
   "id": "fc3e3be4",
   "metadata": {},
   "outputs": [
    {
     "data": {
      "image/png": "[encoded data removed]",
      "text/plain": [
       "<Figure size 640x480 with 1 Axes>"
      ]
     },
     "metadata": {},
     "output_type": "display_data"
    }
   ],
   "source": [
    "# Creating  a scatter plot to visualize the outliers in the dataset.\n",
    "plt.scatter(data_array[outlier_labels == -1, 0], data_array[outlier_labels == -1, 1], c='red', label='Outliers')\n",
    "# Here the red represents the outliers and blue represents inliers.\n",
    "plt.scatter(data_array[outlier_labels != -1, 0], data_array[outlier_labels != -1, 1], c='blue', label='Inliers')\n",
    "plt.legend()\n",
    "# Lablelling the Plot.\n",
    "plt.title('DBSCAN Outlier Detection')\n",
    "plt.show()"
   ]
  },
  {
   "cell_type": "code",
   "execution_count": 39,
   "id": "60af6c61",
   "metadata": {},
   "outputs": [],
   "source": [
    "# Removing all the outliers in the dataframe.\n",
    "def removeOutliers(dataframe):\n",
    "    dataframe.drop(dataframe.index[outlier_indices], axis=0, inplace=True)"
   ]
  },
  {
   "cell_type": "code",
   "execution_count": 40,
   "id": "f9dd90fd",
   "metadata": {},
   "outputs": [],
   "source": [
    "# Calling the function to  remove the outliers.\n",
    "removeOutliers(normalized_df)"
   ]
  },
  {
   "cell_type": "code",
   "execution_count": 41,
   "id": "75cc9b3f",
   "metadata": {},
   "outputs": [],
   "source": [
    "# Removing the outliers in train_y_df.\n",
    "removeOutliers(train_y_df)"
   ]
  },
  {
   "cell_type": "code",
   "execution_count": 42,
   "id": "2bb13add",
   "metadata": {},
   "outputs": [
    {
     "data": {
      "text/plain": [
       "(6010, 1)"
      ]
     },
     "execution_count": 42,
     "metadata": {},
     "output_type": "execute_result"
    }
   ],
   "source": [
    "# Checking the dimension of  train_y_df files after removing the outliers.\n",
    "train_y_df.shape"
   ]
  },
  {
   "cell_type": "code",
   "execution_count": 43,
   "id": "3efcc2df",
   "metadata": {},
   "outputs": [
    {
     "data": {
      "text/plain": [
       "(6010, 2304)"
      ]
     },
     "execution_count": 43,
     "metadata": {},
     "output_type": "execute_result"
    }
   ],
   "source": [
    "normalized_df.shape"
   ]
  },
  {
   "cell_type": "markdown",
   "id": "b817c321",
   "metadata": {},
   "source": [
    "# Class Data Distribution Visualisation"
   ]
  },
  {
   "cell_type": "code",
   "execution_count": 42,
   "id": "85f1dfac",
   "metadata": {},
   "outputs": [],
   "source": [
    "# X_df = pd.read_csv(\"x_train_all.csv\")\n",
    "# y_df = pd.read_csv(\"y_train_all.csv\")"
   ]
  },
  {
   "cell_type": "code",
   "execution_count": 43,
   "id": "3ee4b0c1",
   "metadata": {},
   "outputs": [],
   "source": [
    "# def class_distribution(data):   \n",
    "#     # Counting the occurrences of each class\n",
    "#     class_counts = data.value_counts()\n",
    "\n",
    "#     # Geting the class labels and their counts\n",
    "#     labels = class_counts.index\n",
    "#     counts = class_counts.values\n",
    "\n",
    "#     # Creating a pie chart\n",
    "#     plt.figure(figsize=(8, 8))\n",
    "\n",
    "#     plt.pie(counts, labels=labels, autopct='%1.1f%%', startangle=140)\n",
    "#     plt.title('Class Distribution')\n",
    "\n",
    "#     # Display the chart\n",
    "#     plt.show()"
   ]
  },
  {
   "cell_type": "code",
   "execution_count": 44,
   "id": "7d31c221",
   "metadata": {},
   "outputs": [],
   "source": [
    "# # Loading original (unmodified) CSV files\n",
    "# dy = pd.read_csv('y_train_all.csv')  \n",
    "# dx = pd.read_csv('x_train_all.csv') \n",
    "\n",
    "# class_ranges = {}\n",
    "# current_class = dy.iloc[0, 0]  # Get first class label\n",
    "# start_row = 0\n",
    "\n",
    "# # Iterate through the y_train_all dataset to find row ranges for each class\n",
    "# for i in range(1, len(dy)):\n",
    "#     if dy.iloc[i, 0] != current_class:\n",
    "#         end_row = i - 1\n",
    "#         class_ranges[current_class] = (start_row, end_row)\n",
    "#         current_class = dy.iloc[i, 0]\n",
    "#         start_row = i\n",
    "\n",
    "# # Adding the last class range\n",
    "# end_row = len(dy) - 1\n",
    "# class_ranges[current_class] = (start_row, end_row)\n",
    "\n",
    "# # Printing the row ranges for each class in y_train_all dataset\n",
    "# print(\"Row ranges for each class label in y_train:\")\n",
    "# for class_label, (start, end) in class_ranges.items():\n",
    "#     print(f\"Class {class_label}: Rows {start} to {end}\")\n",
    "\n",
    "# # applying same row ranges to x_train_all\n",
    "# class_ranges_x_train = {}\n",
    "\n",
    "# for class_label, (start, end) in class_ranges.items():\n",
    "#     x_train_subset = dx.iloc[start:end+1]\n",
    "#     class_ranges_x_train[class_label] = x_train_subset\n",
    "\n",
    "# # Printing the row ranges for each class label in x_train\n",
    "# print(\"\\nRow ranges for each class label in x_train:\")\n",
    "# for class_label, x_train_subset in class_ranges_x_train.items():\n",
    "#     print(f\"Class {class_label}: Rows {x_train_subset.index[0]} to {x_train_subset.index[-1]}\")"
   ]
  },
  {
   "cell_type": "code",
   "execution_count": 45,
   "id": "d9048b96",
   "metadata": {},
   "outputs": [],
   "source": [
    "# # Loading the data\n",
    "# # data = pd.read_csv('y_train_all.csv')\n",
    "# class_distribution(dy)"
   ]
  },
  {
   "cell_type": "markdown",
   "id": "c88b86dd",
   "metadata": {},
   "source": [
    "## Over Sampling"
   ]
  },
  {
   "cell_type": "code",
   "execution_count": 46,
   "id": "8ef00572",
   "metadata": {},
   "outputs": [
    {
     "name": "stdout",
     "output_type": "stream",
     "text": [
      "Collecting imblearn\n",
      "  Using cached imblearn-0.0-py2.py3-none-any.whl (1.9 kB)\n",
      "Requirement already satisfied: imbalanced-learn in /usr/local/lib/python3.11/site-packages (from imblearn) (0.11.0)\n",
      "Requirement already satisfied: numpy>=1.17.3 in /usr/local/lib/python3.11/site-packages (from imbalanced-learn->imblearn) (1.26.0)\n",
      "Requirement already satisfied: scipy>=1.5.0 in /usr/local/lib/python3.11/site-packages (from imbalanced-learn->imblearn) (1.11.2)\n",
      "Requirement already satisfied: scikit-learn>=1.0.2 in /usr/local/lib/python3.11/site-packages (from imbalanced-learn->imblearn) (1.3.1)\n",
      "Requirement already satisfied: joblib>=1.1.1 in /usr/local/lib/python3.11/site-packages (from imbalanced-learn->imblearn) (1.3.2)\n",
      "Requirement already satisfied: threadpoolctl>=2.0.0 in /usr/local/lib/python3.11/site-packages (from imbalanced-learn->imblearn) (3.2.0)\n",
      "Installing collected packages: imblearn\n",
      "Successfully installed imblearn-0.0\n",
      "Note: you may need to restart the kernel to use updated packages.\n"
     ]
    }
   ],
   "source": [
    "pip install imblearn"
   ]
  },
  {
   "cell_type": "code",
   "execution_count": 47,
   "id": "c18a75f6",
   "metadata": {},
   "outputs": [],
   "source": [
    "from imblearn.over_sampling import SMOTE\n",
    "from collections import Counter\n",
    "from matplotlib import pyplot\n",
    "from sklearn.preprocessing import LabelEncoder"
   ]
  },
  {
   "cell_type": "code",
   "execution_count": 48,
   "id": "98d97860",
   "metadata": {},
   "outputs": [],
   "source": [
    "# Loading CSV files\n",
    "y = train_y_df.copy() \n",
    "X = normalized_df.copy()"
   ]
  },
  {
   "cell_type": "code",
   "execution_count": 49,
   "id": "73f9e572",
   "metadata": {},
   "outputs": [
    {
     "name": "stderr",
     "output_type": "stream",
     "text": [
      "/usr/local/lib/python3.11/site-packages/sklearn/preprocessing/_label.py:114: DataConversionWarning: A column-vector y was passed when a 1d array was expected. Please change the shape of y to (n_samples, ), for example using ravel().\n",
      "  y = column_or_1d(y, warn=True)\n"
     ]
    },
    {
     "name": "stdout",
     "output_type": "stream",
     "text": [
      "Counter({0: 1639, 1: 1639, 2: 1639, 3: 1639, 4: 1639, 5: 1639, 6: 1639, 7: 1639, 8: 1639, 9: 1639})\n",
      "Class=0, n=1639 (10.000%)\n",
      "Class=1, n=1639 (10.000%)\n",
      "Class=2, n=1639 (10.000%)\n",
      "Class=3, n=1639 (10.000%)\n",
      "Class=4, n=1639 (10.000%)\n",
      "Class=5, n=1639 (10.000%)\n",
      "Class=6, n=1639 (10.000%)\n",
      "Class=7, n=1639 (10.000%)\n",
      "Class=8, n=1639 (10.000%)\n",
      "Class=9, n=1639 (10.000%)\n"
     ]
    },
    {
     "data": {
      "image/png": "[encoded data removed]",
      "text/plain": [
       "<Figure size 640x480 with 1 Axes>"
      ]
     },
     "metadata": {},
     "output_type": "display_data"
    }
   ],
   "source": [
    "# label encode the target variable\n",
    "y = LabelEncoder().fit_transform(y)\n",
    "y = pd.DataFrame(y)\n",
    "# transform the dataset\n",
    "oversample = SMOTE()\n",
    "X, y = oversample.fit_resample(X, y.values.ravel())\n",
    "# summarize distribution\n",
    "counter = Counter(y)\n",
    "print(counter)\n",
    "for k,v in counter.items():\n",
    "\tper = v / len(y) * 100\n",
    "\tprint('Class=%s, n=%d (%.3f%%)' % (k, v, per))\n",
    "# plot the distribution\n",
    "pyplot.bar(counter.keys(), counter.values())\n",
    "pyplot.show()"
   ]
  },
  {
   "cell_type": "code",
   "execution_count": 50,
   "id": "966f007f",
   "metadata": {},
   "outputs": [],
   "source": [
    "# train_y_df = pd.DataFrame(y)\n",
    "# normalized_df = pd.DataFrame(X)"
   ]
  },
  {
   "cell_type": "code",
   "execution_count": 51,
   "id": "ff252103",
   "metadata": {},
   "outputs": [],
   "source": [
    "# class_distribution(train_y_df)"
   ]
  },
  {
   "cell_type": "markdown",
   "id": "1f0ccf7e",
   "metadata": {},
   "source": [
    "<!-- # Data Visualisation -->"
   ]
  },
  {
   "cell_type": "markdown",
   "id": "b88bf30c",
   "metadata": {},
   "source": [
    "### Cross Validation"
   ]
  },
  {
   "cell_type": "code",
   "execution_count": 52,
   "id": "f55670ca",
   "metadata": {},
   "outputs": [],
   "source": [
    "#importing library for cross validation\n",
    "from sklearn.model_selection import cross_val_score"
   ]
  },
  {
   "cell_type": "code",
   "execution_count": 53,
   "id": "7118b113",
   "metadata": {},
   "outputs": [],
   "source": [
    "#K-fold cross validation\n",
    "\n",
    "# model = decision tree classifier model\n",
    "# X_train = training dataset\n",
    "# y_train = target column of training dataset\n",
    "# k = number of folds\n",
    "\n",
    "def cross_validation(model, X_train, y_train, k):\n",
    "#   model.fit(X_train, y_train)\n",
    "  # Applying 10-Fold Cross Validation\n",
    "  scores = cross_val_score(model, X_train, y_train, cv = k, scoring='accuracy')\n",
    "  #print(\"Model {gnb} - X_train: {X_train}   y_train: {y_train}\")\n",
    "  print('Average cross-validation score: {:.4f}'.format(scores.mean()))"
   ]
  },
  {
   "cell_type": "markdown",
   "id": "d939e608",
   "metadata": {},
   "source": [
    "## Evaluation Metrics"
   ]
  },
  {
   "cell_type": "code",
   "execution_count": 54,
   "id": "6a79aad7",
   "metadata": {},
   "outputs": [],
   "source": [
    "#importing library for generating metrics\n",
    "from sklearn.metrics import mean_absolute_error\n",
    "from sklearn.metrics import r2_score\n",
    "from sklearn.metrics import precision_score\n",
    "from sklearn.metrics import recall_score\n",
    "from sklearn.metrics import accuracy_score\n",
    "from sklearn.metrics import f1_score\n",
    "from sklearn.metrics import confusion_matrix"
   ]
  },
  {
   "cell_type": "code",
   "execution_count": 55,
   "id": "e1785ce1",
   "metadata": {},
   "outputs": [],
   "source": [
    "def evaluationMetrics(model, X_train, y_train, X_test, y_test, y_pred):\n",
    "    #check if model is overfitting or underfitting\n",
    "    print('Training set score: {:.4f}'.format(model.score(X_train, y_train)))\n",
    "    print('Test set score: {:.4f}'.format(model.score(X_test, y_test)))\n",
    "    print()\n",
    "\n",
    "    #checking Accuracy, Precision, Recall Score and Mean Absolute Error\n",
    "    print('Model Accuracy Score : {:.4f}'.format(accuracy_score(y_test,y_pred)))\n",
    "    print(\"Precision Score : {:.4f}\".format(precision_score(y_test, y_pred, average='micro')))\n",
    "    print(\"Recall Score : {:.4f}\".format(recall_score(y_test, y_pred, average='micro')))\n",
    "    print(\"Mean Absolute Error : {:.4f}\".format(mean_absolute_error(y_test,y_pred)))\n",
    "    print(\"F1 Score : {:.4f}\".format(f1_score(y_test, y_pred, average='micro')))\n",
    "    print()\n",
    "    print()\n",
    "    \n",
    "    confusionMatrix = confusion_matrix(y_test, y_pred)\n",
    "    \n",
    "    #Visualizing a confusion matrix (using a heat map)\n",
    "    plt.figure(figsize=(8, 6))\n",
    "    sns.heatmap(confusionMatrix, annot=True, fmt='d', cmap='Blues', xticklabels=model.classes_, yticklabels=model.classes_)\n",
    "    plt.xlabel('Predicted')\n",
    "    plt.ylabel('True')\n",
    "    plt.title('Confusion Matrix')\n",
    "    plt.show()\n",
    "    \n",
    "    # Print the Confusion Matrix and slice it into four pieces\n",
    "    FP = confusionMatrix.sum(axis=0) - np.diag(confusionMatrix)\n",
    "    FN = confusionMatrix.sum(axis=1) - np.diag(confusionMatrix)\n",
    "    TP = np.diag(confusionMatrix)\n",
    "    TN = confusionMatrix.sum() - (FP + FN + TP)\n",
    "    # Sensitivity, hit rate, recall, or true positive rate\n",
    "    TPR = TP/(TP+FN)\n",
    "\n",
    "    # Specificity or true negative rate\n",
    "    TNR = TN/(TN+FP)\n",
    "\n",
    "    # Fall out or false positive rate\n",
    "    FPR = FP/(FP+TN)\n",
    "\n",
    "    # False negative rate\n",
    "    FNR = FN/(TP+FN)\n",
    "\n",
    "    print(f\"Sensitivity (true positive rate), for each class: {TPR}\")\n",
    "    print()\n",
    "    print(f\"Sensitivity (Avg): {np.mean(TPR)}\")\n",
    "    print()\n",
    "    print(\"------------------------------------------------------------\")\n",
    "    print(f\"Specificity (true negative rate), for each class: {TNR}\")\n",
    "    print()\n",
    "    print(f\"Specificity (Avg): {np.mean(TNR)}\")\n",
    "    print()\n",
    "    print(\"------------------------------------------------------------\")\n",
    "    print(f\"FP rate, for each class: {FPR}\")\n",
    "    print()\n",
    "    print(f\"FP rate (Avg): {np.mean(FPR)}\")\n",
    "    print()\n",
    "    print(\"------------------------------------------------------------\")\n",
    "    print(f\"FN rate, for each class: {FNR}\")\n",
    "    print()\n",
    "    print(f\"FN rate (Avg): {np.mean(FNR)}\")\n",
    "    print()\n",
    "    print(\"------------------------------------------------------------\")\n",
    "    print(f\"TP rate, for each class: {TPR}\")\n",
    "    print()\n",
    "    print(f\"TP rate (Avg): {np.mean(TPR)}\")\n",
    "    print()\n",
    "    print(\"------------------------------------------------------------\")\n",
    "    print(f\"TN rate, for each class: {TNR}\")\n",
    "    print()\n",
    "    print(f\"TN rate (Avg): {np.mean(TNR)}\")"
   ]
  },
  {
   "cell_type": "markdown",
   "id": "13f11a17",
   "metadata": {},
   "source": [
    "# Linear Classifier Analysis"
   ]
  },
  {
   "cell_type": "markdown",
   "id": "a27177d3",
   "metadata": {},
   "source": [
    "## SVM Classifier"
   ]
  },
  {
   "cell_type": "code",
   "execution_count": 56,
   "id": "8d906eff",
   "metadata": {},
   "outputs": [],
   "source": [
    "import pandas as pd\n",
    "from sklearn.model_selection import cross_val_score, train_test_split\n",
    "from sklearn.svm import SVC\n",
    "from sklearn.preprocessing import StandardScaler\n",
    "from sklearn.metrics import accuracy_score"
   ]
  },
  {
   "cell_type": "code",
   "execution_count": 57,
   "id": "983af431",
   "metadata": {},
   "outputs": [],
   "source": [
    "def svm_function(X_dataset,y_dataset):\n",
    "\n",
    "\n",
    "    # Split the data into training and testing sets\n",
    "    X_train, X_test, y_train, y_test = train_test_split(X_dataset,y_dataset, test_size=0.3, random_state=42)\n",
    "\n",
    "\n",
    "    # Create an SVM classifier with a linear kernel\n",
    "    svm_classifier = SVC(kernel='linear', C=0.5)\n",
    "\n",
    "    # Run SVM without cross-validation\n",
    "    svm_classifier.fit(X_train, y_train)\n",
    "    predictions_no_cv = svm_classifier.predict(X_test)\n",
    "    accuracy_no_cv = accuracy_score(y_test, predictions_no_cv)\n",
    "    print(f\"Accuracy without Cross-Validation: {accuracy_no_cv}\")\n",
    "\n",
    "    cross_validation(svm_classifier, X_train, y_train, k)\n",
    "\n",
    "    print(\"Accuracy on the test set\")\n",
    "    evaluationMetrics(svm_classifier, X_train, y_train, X_test, y_test, predictions_no_cv)\n",
    "    \n",
    "    "
   ]
  },
  {
   "cell_type": "code",
   "execution_count": 58,
   "id": "31c24aa1",
   "metadata": {},
   "outputs": [
    {
     "name": "stdout",
     "output_type": "stream",
     "text": [
      "Running svm classifier on dataset that has not been oversampled\n"
     ]
    },
    {
     "name": "stderr",
     "output_type": "stream",
     "text": [
      "/usr/local/lib/python3.11/site-packages/sklearn/utils/validation.py:1183: DataConversionWarning: A column-vector y was passed when a 1d array was expected. Please change the shape of y to (n_samples, ), for example using ravel().\n",
      "  y = column_or_1d(y, warn=True)\n"
     ]
    },
    {
     "name": "stdout",
     "output_type": "stream",
     "text": [
      "Accuracy without Cross-Validation: 0.9622850804215197\n"
     ]
    },
    {
     "name": "stderr",
     "output_type": "stream",
     "text": [
      "/usr/local/lib/python3.11/site-packages/sklearn/utils/validation.py:1183: DataConversionWarning: A column-vector y was passed when a 1d array was expected. Please change the shape of y to (n_samples, ), for example using ravel().\n",
      "  y = column_or_1d(y, warn=True)\n",
      "/usr/local/lib/python3.11/site-packages/sklearn/utils/validation.py:1183: DataConversionWarning: A column-vector y was passed when a 1d array was expected. Please change the shape of y to (n_samples, ), for example using ravel().\n",
      "  y = column_or_1d(y, warn=True)\n",
      "/usr/local/lib/python3.11/site-packages/sklearn/utils/validation.py:1183: DataConversionWarning: A column-vector y was passed when a 1d array was expected. Please change the shape of y to (n_samples, ), for example using ravel().\n",
      "  y = column_or_1d(y, warn=True)\n",
      "/usr/local/lib/python3.11/site-packages/sklearn/utils/validation.py:1183: DataConversionWarning: A column-vector y was passed when a 1d array was expected. Please change the shape of y to (n_samples, ), for example using ravel().\n",
      "  y = column_or_1d(y, warn=True)\n",
      "/usr/local/lib/python3.11/site-packages/sklearn/utils/validation.py:1183: DataConversionWarning: A column-vector y was passed when a 1d array was expected. Please change the shape of y to (n_samples, ), for example using ravel().\n",
      "  y = column_or_1d(y, warn=True)\n",
      "/usr/local/lib/python3.11/site-packages/sklearn/utils/validation.py:1183: DataConversionWarning: A column-vector y was passed when a 1d array was expected. Please change the shape of y to (n_samples, ), for example using ravel().\n",
      "  y = column_or_1d(y, warn=True)\n",
      "/usr/local/lib/python3.11/site-packages/sklearn/utils/validation.py:1183: DataConversionWarning: A column-vector y was passed when a 1d array was expected. Please change the shape of y to (n_samples, ), for example using ravel().\n",
      "  y = column_or_1d(y, warn=True)\n",
      "/usr/local/lib/python3.11/site-packages/sklearn/utils/validation.py:1183: DataConversionWarning: A column-vector y was passed when a 1d array was expected. Please change the shape of y to (n_samples, ), for example using ravel().\n",
      "  y = column_or_1d(y, warn=True)\n",
      "/usr/local/lib/python3.11/site-packages/sklearn/utils/validation.py:1183: DataConversionWarning: A column-vector y was passed when a 1d array was expected. Please change the shape of y to (n_samples, ), for example using ravel().\n",
      "  y = column_or_1d(y, warn=True)\n"
     ]
    },
    {
     "name": "stdout",
     "output_type": "stream",
     "text": [
      "Average cross-validation score: 0.9572\n",
      "Accuracy on the test set\n",
      "Training set score: 1.0000\n",
      "Test set score: 0.9623\n",
      "\n",
      "Model Accuracy Score : 0.9623\n",
      "Precision Score : 0.9623\n",
      "Recall Score : 0.9623\n",
      "Mean Absolute Error : 0.0588\n",
      "F1 Score : 0.9623\n",
      "\n",
      "\n"
     ]
    },
    {
     "data": {
      "image/png": "[encoded data removed]",
      "text/plain": [
       "<Figure size 800x600 with 2 Axes>"
      ]
     },
     "metadata": {},
     "output_type": "display_data"
    },
    {
     "name": "stdout",
     "output_type": "stream",
     "text": [
      "Sensitivity (true positive rate), for each class: [0.97222222 0.9532967  0.95876289 0.98305085 0.96949891 0.96153846\n",
      " 0.93103448 0.93333333 0.92592593 0.91304348]\n",
      "\n",
      "Sensitivity (Avg): 0.9501707252067083\n",
      "\n",
      "------------------------------------------------------------\n",
      "Specificity (true negative rate), for each class: [1.         0.99096595 0.98103187 0.99005305 0.99479167 1.\n",
      " 0.99885387 0.99830795 0.99831081 1.        ]\n",
      "\n",
      "Specificity (Avg): 0.995231516373261\n",
      "\n",
      "------------------------------------------------------------\n",
      "FP rate, for each class: [0.         0.00903405 0.01896813 0.00994695 0.00520833 0.\n",
      " 0.00114613 0.00169205 0.00168919 0.        ]\n",
      "\n",
      "FP rate (Avg): 0.00476848362673892\n",
      "\n",
      "------------------------------------------------------------\n",
      "FN rate, for each class: [0.02777778 0.0467033  0.04123711 0.01694915 0.03050109 0.03846154\n",
      " 0.06896552 0.06666667 0.07407407 0.08695652]\n",
      "\n",
      "FN rate (Avg): 0.04982927479329169\n",
      "\n",
      "------------------------------------------------------------\n",
      "TP rate, for each class: [0.97222222 0.9532967  0.95876289 0.98305085 0.96949891 0.96153846\n",
      " 0.93103448 0.93333333 0.92592593 0.91304348]\n",
      "\n",
      "TP rate (Avg): 0.9501707252067083\n",
      "\n",
      "------------------------------------------------------------\n",
      "TN rate, for each class: [1.         0.99096595 0.98103187 0.99005305 0.99479167 1.\n",
      " 0.99885387 0.99830795 0.99831081 1.        ]\n",
      "\n",
      "TN rate (Avg): 0.995231516373261\n"
     ]
    }
   ],
   "source": [
    "# Running svm classifier on dataset that has not been oversampled\n",
    "print(\"Running svm classifier on dataset that has not been oversampled\")\n",
    "svm_function(normalized_df,train_y_df)"
   ]
  },
  {
   "cell_type": "code",
   "execution_count": 59,
   "id": "3de63280",
   "metadata": {},
   "outputs": [
    {
     "name": "stdout",
     "output_type": "stream",
     "text": [
      "Accuracy without Cross-Validation: 0.990644702054098\n",
      "Average cross-validation score: 0.9896\n",
      "Accuracy on the test set\n",
      "Training set score: 1.0000\n",
      "Test set score: 0.9906\n",
      "\n",
      "Model Accuracy Score : 0.9906\n",
      "Precision Score : 0.9906\n",
      "Recall Score : 0.9906\n",
      "Mean Absolute Error : 0.0157\n",
      "F1 Score : 0.9906\n",
      "\n",
      "\n"
     ]
    },
    {
     "data": {
      "image/png": "[encoded data removed]",
      "text/plain": [
       "<Figure size 800x600 with 2 Axes>"
      ]
     },
     "metadata": {},
     "output_type": "display_data"
    },
    {
     "name": "stdout",
     "output_type": "stream",
     "text": [
      "Sensitivity (true positive rate), for each class: [1.         0.97357724 0.97297297 0.9959596  0.96470588 1.\n",
      " 1.         1.         1.         1.        ]\n",
      "\n",
      "Sensitivity (Avg): 0.9907215687057868\n",
      "\n",
      "------------------------------------------------------------\n",
      "Specificity (true negative rate), for each class: [0.99954863 0.99661017 0.99549143 0.99886929 0.99909235 1.\n",
      " 1.         1.         1.         1.        ]\n",
      "\n",
      "Specificity (Avg): 0.9989611880824046\n",
      "\n",
      "------------------------------------------------------------\n",
      "FP rate, for each class: [0.00045137 0.00338983 0.00450857 0.00113071 0.00090765 0.\n",
      " 0.         0.         0.         0.        ]\n",
      "\n",
      "FP rate (Avg): 0.0010388119175954173\n",
      "\n",
      "------------------------------------------------------------\n",
      "FN rate, for each class: [0.         0.02642276 0.02702703 0.0040404  0.03529412 0.\n",
      " 0.         0.         0.         0.        ]\n",
      "\n",
      "FN rate (Avg): 0.009278431294213216\n",
      "\n",
      "------------------------------------------------------------\n",
      "TP rate, for each class: [1.         0.97357724 0.97297297 0.9959596  0.96470588 1.\n",
      " 1.         1.         1.         1.        ]\n",
      "\n",
      "TP rate (Avg): 0.9907215687057868\n",
      "\n",
      "------------------------------------------------------------\n",
      "TN rate, for each class: [0.99954863 0.99661017 0.99549143 0.99886929 0.99909235 1.\n",
      " 1.         1.         1.         1.        ]\n",
      "\n",
      "TN rate (Avg): 0.9989611880824046\n"
     ]
    }
   ],
   "source": [
    "## Running SVM classifier on data that has been oversampled\n",
    "svm_function(X,y)"
   ]
  },
  {
   "cell_type": "markdown",
   "id": "38da6618",
   "metadata": {},
   "source": [
    "# Multi Layer Perceptron (MLP)"
   ]
  },
  {
   "cell_type": "code",
   "execution_count": 44,
   "id": "e4306d9b",
   "metadata": {},
   "outputs": [],
   "source": [
    "# Import MLPClassifer \n",
    "from sklearn.neural_network import MLPClassifier\n",
    "from sklearn.model_selection import GridSearchCV\n",
    "import warnings\n",
    "warnings.filterwarnings('ignore')"
   ]
  },
  {
   "cell_type": "code",
   "execution_count": 45,
   "id": "2950a19b",
   "metadata": {},
   "outputs": [],
   "source": [
    "X_test_df = normalized_df_test.copy()\n",
    "y_test_df = test_y_df.copy()"
   ]
  },
  {
   "cell_type": "markdown",
   "id": "f53ce607",
   "metadata": {},
   "source": [
    "## Hyperparameter v/s Model Accuracy"
   ]
  },
  {
   "cell_type": "code",
   "execution_count": 46,
   "id": "adf64e83",
   "metadata": {},
   "outputs": [],
   "source": [
    "from sklearn.metrics import mean_squared_error, r2_score, accuracy_score\n",
    "from sklearn.model_selection import train_test_split"
   ]
  },
  {
   "cell_type": "code",
   "execution_count": 47,
   "id": "ac5ddb36",
   "metadata": {},
   "outputs": [],
   "source": [
    "# Split the training data into training/testing sets in an 80:20 ratio\n",
    "X1_train, X1_test, y1_train, y1_test = train_test_split(normalized_df, train_y_df, test_size=0.2, random_state=42)"
   ]
  },
  {
   "cell_type": "code",
   "execution_count": 52,
   "id": "6373fda4",
   "metadata": {},
   "outputs": [
    {
     "data": {
      "text/plain": [
       "(4808, 1)"
      ]
     },
     "execution_count": 52,
     "metadata": {},
     "output_type": "execute_result"
    }
   ],
   "source": [
    "y1_train.shape"
   ]
  },
  {
   "cell_type": "code",
   "execution_count": 53,
   "id": "c2d06e0d",
   "metadata": {},
   "outputs": [
    {
     "data": {
      "text/plain": [
       "(1202, 1)"
      ]
     },
     "execution_count": 53,
     "metadata": {},
     "output_type": "execute_result"
    }
   ],
   "source": [
    "y1_test.shape"
   ]
  },
  {
   "cell_type": "markdown",
   "id": "d491a3d0",
   "metadata": {},
   "source": [
    "### Activation function"
   ]
  },
  {
   "cell_type": "code",
   "execution_count": 48,
   "id": "097c367a",
   "metadata": {},
   "outputs": [
    {
     "name": "stdout",
     "output_type": "stream",
     "text": [
      "Accuracies of the model based on the Activation functions: \n",
      "96.76% - logistic\n",
      "96.41999999999999% - tanh\n",
      "95.67% - relu\n"
     ]
    }
   ],
   "source": [
    "# Iterate through parameter values\n",
    "parameters = ['logistic', 'tanh', 'relu']\n",
    "print(\"Accuracies of the model based on the Activation functions: \")\n",
    "      \n",
    "for param in parameters:\n",
    "    # Initialize the model with the current parameter\n",
    "    mlp = MLPClassifier(activation = param)\n",
    "    #train the model\n",
    "    mlp.fit(X1_train, y1_train)\n",
    "    y_pred = mlp.predict(X1_test)\n",
    "    #calculate the accuracy of model\n",
    "    accuracy = accuracy_score(y1_test, y_pred)\n",
    "    print(\"{}% - {}\".format(round(accuracy,4)*100, param))\n"
   ]
  },
  {
   "cell_type": "markdown",
   "id": "dcf21428",
   "metadata": {},
   "source": [
    "### Number of hidden layers and size of hidden layers "
   ]
  },
  {
   "cell_type": "markdown",
   "id": "0b4115ea",
   "metadata": {},
   "source": [
    "Comparing the model accuracies with different number of nodes in layers"
   ]
  },
  {
   "cell_type": "code",
   "execution_count": 49,
   "id": "a3e156e2",
   "metadata": {},
   "outputs": [
    {
     "name": "stdout",
     "output_type": "stream",
     "text": [
      "Accuracies of the model based on the Number of Nodes in each layer: \n",
      "25.619999999999997% - (1,)\n",
      "25.619999999999997% - (2,)\n",
      "25.619999999999997% - (3,)\n",
      "77.62% - (4,)\n",
      "79.36999999999999% - (5,)\n",
      "86.02% - (6,)\n",
      "80.03% - (7,)\n",
      "90.27% - (8,)\n",
      "84.86% - (9,)\n",
      "80.2% - (10,)\n",
      "88.69% - (11,)\n",
      "93.51% - (12,)\n",
      "84.53% - (13,)\n",
      "87.77000000000001% - (14,)\n",
      "93.01% - (15,)\n"
     ]
    }
   ],
   "source": [
    "print(\"Accuracies of the model based on the Number of Nodes in each layer: \")\n",
    "parameters= [(1,), (2,), (3,), (4,), (5,), (6,), (7,), (8,), (9,), (10,), (11,), (12,), (13,), (14,), (15,)]\n",
    "for param in parameters:\n",
    "    # Initialize the model with the current parameter\n",
    "    mlp = MLPClassifier(hidden_layer_sizes= param)\n",
    "    mlp.fit(X1_train, y1_train)\n",
    "    y_pred = mlp.predict(X1_test)\n",
    "    accuracy = accuracy_score(y1_test, y_pred)\n",
    "    print(\"{}% - {}\".format(round(accuracy,4)*100, param))"
   ]
  },
  {
   "cell_type": "markdown",
   "id": "635fed01",
   "metadata": {},
   "source": [
    "Comparing the model accuracies with different number of layers"
   ]
  },
  {
   "cell_type": "code",
   "execution_count": 50,
   "id": "307c6c49",
   "metadata": {},
   "outputs": [
    {
     "name": "stdout",
     "output_type": "stream",
     "text": [
      "Accuracies of the model based on the Number of Layers (4 nodes): \n",
      "81.2% - (4,)\n",
      "25.619999999999997% - (4, 4)\n",
      "55.32% - (4, 4, 4)\n",
      "25.619999999999997% - (4, 4, 4, 4)\n"
     ]
    }
   ],
   "source": [
    "print(\"Accuracies of the model based on the Number of Layers (4 nodes): \")\n",
    "parameters= [(4,), (4,4), (4,4,4), (4,4,4,4)]\n",
    "for param in parameters:\n",
    "    # Initialize the model with the current parameter\n",
    "    mlp = MLPClassifier(hidden_layer_sizes= param)\n",
    "    mlp.fit(X1_train, y1_train)\n",
    "    y_pred = mlp.predict(X1_test)\n",
    "    accuracy = accuracy_score(y1_test, y_pred)\n",
    "    print(\"{}% - {}\".format(round(accuracy,4)*100, param))"
   ]
  },
  {
   "cell_type": "markdown",
   "id": "91cb3fd4",
   "metadata": {},
   "source": [
    "### Learning Rate"
   ]
  },
  {
   "cell_type": "code",
   "execution_count": 51,
   "id": "d28593b9",
   "metadata": {},
   "outputs": [
    {
     "name": "stdout",
     "output_type": "stream",
     "text": [
      "Accuracies of the model based on the Number of Layers (10 nodes): \n",
      "86.02% - (10,)\n",
      "81.61% - (10, 10)\n",
      "90.68% - (10, 10, 10)\n"
     ]
    }
   ],
   "source": [
    "print(\"Accuracies of the model based on the Number of Layers (10 nodes): \")\n",
    "parameters= [(10,), (10,10), (10,10,10)]\n",
    "for param in parameters:\n",
    "    # Initialize the model with the current parameter\n",
    "    mlp = MLPClassifier(hidden_layer_sizes= param)\n",
    "    mlp.fit(X1_train, y1_train)\n",
    "    y_pred = mlp.predict(X1_test)\n",
    "    accuracy = accuracy_score(y1_test, y_pred)\n",
    "    print(\"{}% - {}\".format(round(accuracy,4)*100, param))"
   ]
  },
  {
   "cell_type": "markdown",
   "id": "5750b925",
   "metadata": {},
   "source": [
    "### Momentum"
   ]
  },
  {
   "cell_type": "code",
   "execution_count": 59,
   "id": "8d0cec03",
   "metadata": {
    "scrolled": true
   },
   "outputs": [
    {
     "name": "stdout",
     "output_type": "stream",
     "text": [
      "Accuracies of the model based on the Momentum: \n",
      "81.11% - 0.2\n",
      "86.44% - 0.5\n",
      "95.34% - 0.9\n"
     ]
    }
   ],
   "source": [
    "print(\"Accuracies of the model based on the Momentum: \")\n",
    "parameters=[0.2, 0.5, 0.9] ##only when solver is sgd \n",
    "for param in parameters:\n",
    "    # Initialize the model with the current parameter\n",
    "    mlp = MLPClassifier(solver= 'sgd', momentum = param)\n",
    "    mlp.fit(X1_train, y1_train)\n",
    "    y_pred = mlp.predict(X1_test)\n",
    "    accuracy = accuracy_score(y1_test, y_pred)\n",
    "    print(\"{}% - {}\".format(round(accuracy,4)*100, param))"
   ]
  },
  {
   "cell_type": "markdown",
   "id": "7b800a29",
   "metadata": {},
   "source": [
    "### Validation Threshold"
   ]
  },
  {
   "cell_type": "code",
   "execution_count": 58,
   "id": "11cac390",
   "metadata": {},
   "outputs": [
    {
     "name": "stdout",
     "output_type": "stream",
     "text": [
      "Accuracies of the model based on the Validation Threshold: \n",
      "95.17% - 0.1\n",
      "93.34% - 0.3\n",
      "90.77% - 0.5\n"
     ]
    }
   ],
   "source": [
    "print(\"Accuracies of the model based on the Validation Threshold: \")\n",
    "parameters=  [0.1, 0.3, 0.5]\n",
    "for param in parameters:\n",
    "    # Initialize the model with the current parameter\n",
    "    mlp = MLPClassifier(early_stopping= True, validation_fraction = param)\n",
    "    mlp.fit(X1_train, y1_train)\n",
    "    y_pred = mlp.predict(X1_test)\n",
    "    accuracy = accuracy_score(y1_test, y_pred)\n",
    "    print(\"{}% - {}\".format(round(accuracy,4)*100, param))"
   ]
  },
  {
   "cell_type": "markdown",
   "id": "85507cd1",
   "metadata": {},
   "source": [
    "### Epochs"
   ]
  },
  {
   "cell_type": "code",
   "execution_count": 57,
   "id": "e510473a",
   "metadata": {},
   "outputs": [
    {
     "name": "stdout",
     "output_type": "stream",
     "text": [
      "Accuracies of the model based on the Epochs: \n",
      "92.67999999999999% - 50\n",
      "95.50999999999999% - 100\n",
      "95.84% - 200\n",
      "96.00999999999999% - 300\n"
     ]
    }
   ],
   "source": [
    "print(\"Accuracies of the model based on the Epochs: \")\n",
    "parameters= [50, 100, 200, 300]\n",
    "for param in parameters:\n",
    "    # Initialize the model with the current parameter\n",
    "    mlp = MLPClassifier(max_iter= param)\n",
    "    mlp.fit(X1_train, y1_train)\n",
    "    y_pred = mlp.predict(X1_test)\n",
    "    accuracy = accuracy_score(y1_test, y_pred)\n",
    "    print(\"{}% - {}\".format(round(accuracy,4)*100, param))"
   ]
  },
  {
   "cell_type": "markdown",
   "id": "dab7886b",
   "metadata": {},
   "source": [
    "## Hyperparameter combinations with Train Test Split (80:20)"
   ]
  },
  {
   "cell_type": "code",
   "execution_count": 45,
   "id": "a9237289",
   "metadata": {},
   "outputs": [
    {
     "name": "stdout",
     "output_type": "stream",
     "text": [
      "Model Accuracy - 85.94000000000001%\n"
     ]
    }
   ],
   "source": [
    "mlp = MLPClassifier(\n",
    "    activation = 'tanh',\n",
    "    hidden_layer_sizes = (10,),\n",
    "    learning_rate = 'constant',\n",
    "    solver= 'sgd', \n",
    "    momentum = 0.9,\n",
    "    early_stopping= True, \n",
    "    validation_fraction = 0.1,\n",
    "    max_iter=100)\n",
    "\n",
    "mlp.fit(X1_train, y1_train)\n",
    "y_pred = mlp.predict(X1_test)\n",
    "accuracy = accuracy_score(y1_test, y_pred)\n",
    "print(\"Model Accuracy - {}%\".format(round(accuracy,4)*100))"
   ]
  },
  {
   "cell_type": "code",
   "execution_count": 46,
   "id": "a3c2d990",
   "metadata": {},
   "outputs": [
    {
     "name": "stdout",
     "output_type": "stream",
     "text": [
      "Model Accuracy - 90.93%\n"
     ]
    }
   ],
   "source": [
    "mlp = MLPClassifier(\n",
    "    activation = 'tanh',\n",
    "    hidden_layer_sizes = (10,),\n",
    "    learning_rate = 'constant',\n",
    "    solver= 'sgd', \n",
    "    momentum = 0.9,\n",
    "    early_stopping= True, \n",
    "    validation_fraction = 0.1,\n",
    "    max_iter=300)\n",
    "\n",
    "mlp.fit(X1_train, y1_train)\n",
    "y_pred = mlp.predict(X1_test)\n",
    "accuracy = accuracy_score(y1_test, y_pred)\n",
    "print(\"Model Accuracy - {}%\".format(round(accuracy,4)*100))"
   ]
  },
  {
   "cell_type": "code",
   "execution_count": 49,
   "id": "f0ff459a",
   "metadata": {},
   "outputs": [
    {
     "name": "stdout",
     "output_type": "stream",
     "text": [
      "Model Accuracy - 47.5%\n"
     ]
    }
   ],
   "source": [
    "mlp = MLPClassifier(\n",
    "    activation = 'logistic',\n",
    "    hidden_layer_sizes = (10,),\n",
    "    learning_rate = 'constant',\n",
    "    solver= 'sgd', \n",
    "    momentum = 0.9,\n",
    "    early_stopping= True, \n",
    "    validation_fraction = 0.1,\n",
    "    max_iter=100)\n",
    "\n",
    "mlp.fit(X1_train, y1_train)\n",
    "y_pred = mlp.predict(X1_test)\n",
    "accuracy = accuracy_score(y1_test, y_pred)\n",
    "print(\"Model Accuracy - {}%\".format(round(accuracy,4)*100))"
   ]
  },
  {
   "cell_type": "code",
   "execution_count": 50,
   "id": "398327be",
   "metadata": {},
   "outputs": [
    {
     "name": "stdout",
     "output_type": "stream",
     "text": [
      "Model Accuracy - 49.33%\n"
     ]
    }
   ],
   "source": [
    "mlp = MLPClassifier(\n",
    "    activation = 'logistic',\n",
    "    hidden_layer_sizes = (10,),\n",
    "    learning_rate = 'constant',\n",
    "    solver= 'sgd', \n",
    "    momentum = 0.9,\n",
    "    max_iter=100)\n",
    "\n",
    "mlp.fit(X1_train, y1_train)\n",
    "y_pred = mlp.predict(X1_test)\n",
    "accuracy = accuracy_score(y1_test, y_pred)\n",
    "print(\"Model Accuracy - {}%\".format(round(accuracy,4)*100))"
   ]
  },
  {
   "cell_type": "code",
   "execution_count": 51,
   "id": "86e7df72",
   "metadata": {},
   "outputs": [
    {
     "name": "stdout",
     "output_type": "stream",
     "text": [
      "Model Accuracy - 93.93%\n"
     ]
    }
   ],
   "source": [
    "mlp = MLPClassifier(\n",
    "    activation = 'tanh',\n",
    "    hidden_layer_sizes = (10,),\n",
    "    learning_rate = 'constant',\n",
    "    solver= 'sgd', \n",
    "    momentum = 0.9,\n",
    "    max_iter=300)\n",
    "\n",
    "mlp.fit(X1_train, y1_train)\n",
    "y_pred = mlp.predict(X1_test)\n",
    "accuracy = accuracy_score(y1_test, y_pred)\n",
    "print(\"Model Accuracy - {}%\".format(round(accuracy,4)*100))"
   ]
  },
  {
   "cell_type": "code",
   "execution_count": 52,
   "id": "b70c3843",
   "metadata": {},
   "outputs": [
    {
     "name": "stdout",
     "output_type": "stream",
     "text": [
      "Model Accuracy - 95.00999999999999%\n"
     ]
    }
   ],
   "source": [
    "mlp = MLPClassifier(\n",
    "    activation = 'tanh',\n",
    "    hidden_layer_sizes = (10,),\n",
    "    learning_rate = 'constant',\n",
    "    max_iter=300)\n",
    "\n",
    "mlp.fit(X1_train, y1_train)\n",
    "y_pred = mlp.predict(X1_test)\n",
    "accuracy = accuracy_score(y1_test, y_pred)\n",
    "print(\"Model Accuracy - {}%\".format(round(accuracy,4)*100))"
   ]
  },
  {
   "cell_type": "code",
   "execution_count": 67,
   "id": "82dad134",
   "metadata": {},
   "outputs": [
    {
     "name": "stdout",
     "output_type": "stream",
     "text": [
      "Model Accuracy - 91.18%\n"
     ]
    }
   ],
   "source": [
    "mlp = MLPClassifier(\n",
    "    activation = 'tanh',\n",
    "    hidden_layer_sizes = (10,10),\n",
    "    learning_rate = 'constant',\n",
    "    max_iter=300)\n",
    "\n",
    "mlp.fit(X1_train, y1_train)\n",
    "y_pred = mlp.predict(X1_test)\n",
    "accuracy = accuracy_score(y1_test, y_pred)\n",
    "print(\"Model Accuracy - {}%\".format(round(accuracy,4)*100))"
   ]
  },
  {
   "cell_type": "code",
   "execution_count": 53,
   "id": "9aa84edb",
   "metadata": {},
   "outputs": [
    {
     "name": "stdout",
     "output_type": "stream",
     "text": [
      "Model Accuracy - 97.0%\n"
     ]
    }
   ],
   "source": [
    "mlp = MLPClassifier(\n",
    "    activation = 'tanh',\n",
    "    learning_rate = 'constant',\n",
    "    max_iter=300)\n",
    "\n",
    "mlp.fit(X1_train, y1_train)\n",
    "y_pred = mlp.predict(X1_test)\n",
    "accuracy = accuracy_score(y1_test, y_pred)\n",
    "print(\"Model Accuracy - {}%\".format(round(accuracy,4)*100))"
   ]
  },
  {
   "cell_type": "code",
   "execution_count": 54,
   "id": "f5362b19",
   "metadata": {},
   "outputs": [
    {
     "name": "stdout",
     "output_type": "stream",
     "text": [
      "Model Accuracy - 94.01%\n"
     ]
    }
   ],
   "source": [
    "mlp = MLPClassifier(\n",
    "    activation = 'tanh',\n",
    "    learning_rate = 'constant')\n",
    "\n",
    "mlp.fit(X1_train, y1_train)\n",
    "y_pred = mlp.predict(X1_test)\n",
    "accuracy = accuracy_score(y1_test, y_pred)\n",
    "print(\"Model Accuracy - {}%\".format(round(accuracy,4)*100))"
   ]
  },
  {
   "cell_type": "markdown",
   "id": "b1cb6df7",
   "metadata": {},
   "source": [
    "## Hyperparameter combinations with Training and Test Data"
   ]
  },
  {
   "cell_type": "code",
   "execution_count": 51,
   "id": "13c4a620",
   "metadata": {},
   "outputs": [
    {
     "name": "stdout",
     "output_type": "stream",
     "text": [
      "Model Accuracy - 76.75999999999999%\n"
     ]
    }
   ],
   "source": [
    "mlp = MLPClassifier(\n",
    "    activation = 'tanh',\n",
    "    hidden_layer_sizes = (10,),\n",
    "    learning_rate = 'constant',\n",
    "    solver= 'sgd', \n",
    "    momentum = 0.9,\n",
    "    early_stopping= True, \n",
    "    validation_fraction = 0.1,\n",
    "    max_iter=100)\n",
    "\n",
    "mlp.fit(normalized_df, train_y_df)\n",
    "y_pred = mlp.predict(X_test_df)\n",
    "accuracy = accuracy_score(y_test_df, y_pred)\n",
    "print(\"Model Accuracy - {}%\".format(round(accuracy,4)*100))"
   ]
  },
  {
   "cell_type": "code",
   "execution_count": 58,
   "id": "66d11e6f",
   "metadata": {},
   "outputs": [
    {
     "name": "stdout",
     "output_type": "stream",
     "text": [
      "Model Accuracy - 81.0%\n"
     ]
    }
   ],
   "source": [
    "mlp = MLPClassifier(\n",
    "    activation = 'tanh',\n",
    "    hidden_layer_sizes = (10,),\n",
    "    learning_rate = 'constant',\n",
    "    solver= 'sgd', \n",
    "    momentum = 0.9,\n",
    "    early_stopping= True, \n",
    "    validation_fraction = 0.1,\n",
    "    max_iter=300)\n",
    "\n",
    "mlp.fit(normalized_df, train_y_df)\n",
    "y_pred = mlp.predict(X_test_df)\n",
    "accuracy = accuracy_score(y_test_df, y_pred)\n",
    "print(\"Model Accuracy - {}%\".format(round(accuracy,4)*100))"
   ]
  },
  {
   "cell_type": "code",
   "execution_count": 52,
   "id": "b15f7807",
   "metadata": {},
   "outputs": [
    {
     "name": "stdout",
     "output_type": "stream",
     "text": [
      "Model Accuracy - 28.249999999999996%\n"
     ]
    }
   ],
   "source": [
    "mlp = MLPClassifier(\n",
    "    activation = 'logistic',\n",
    "    hidden_layer_sizes = (10,),\n",
    "    learning_rate = 'constant',\n",
    "    solver= 'sgd', \n",
    "    momentum = 0.9,\n",
    "    early_stopping= True, \n",
    "    validation_fraction = 0.1,\n",
    "    max_iter=100)\n",
    "\n",
    "mlp.fit(normalized_df, train_y_df)\n",
    "y_pred = mlp.predict(X_test_df)\n",
    "accuracy = accuracy_score(y_test_df, y_pred)\n",
    "print(\"Model Accuracy - {}%\".format(round(accuracy,4)*100))"
   ]
  },
  {
   "cell_type": "code",
   "execution_count": 59,
   "id": "107f2b0a",
   "metadata": {},
   "outputs": [
    {
     "name": "stdout",
     "output_type": "stream",
     "text": [
      "Model Accuracy - 44.82%\n"
     ]
    }
   ],
   "source": [
    "mlp = MLPClassifier(\n",
    "    activation = 'logistic',\n",
    "    hidden_layer_sizes = (10,),\n",
    "    learning_rate = 'constant',\n",
    "    solver= 'sgd', \n",
    "    momentum = 0.9,\n",
    "    max_iter=100)\n",
    "\n",
    "mlp.fit(normalized_df, train_y_df)\n",
    "y_pred = mlp.predict(X_test_df)\n",
    "accuracy = accuracy_score(y_test_df, y_pred)\n",
    "print(\"Model Accuracy - {}%\".format(round(accuracy,4)*100))"
   ]
  },
  {
   "cell_type": "code",
   "execution_count": 53,
   "id": "08d1a408",
   "metadata": {},
   "outputs": [
    {
     "name": "stdout",
     "output_type": "stream",
     "text": [
      "Model Accuracy - 82.85%\n"
     ]
    }
   ],
   "source": [
    "mlp = MLPClassifier(\n",
    "    activation = 'tanh',\n",
    "    hidden_layer_sizes = (10,),\n",
    "    learning_rate = 'constant',\n",
    "    solver= 'sgd', \n",
    "    momentum = 0.9,\n",
    "    max_iter=300)\n",
    "\n",
    "mlp.fit(normalized_df, train_y_df)\n",
    "y_pred = mlp.predict(X_test_df)\n",
    "accuracy = accuracy_score(y_test_df, y_pred)\n",
    "print(\"Model Accuracy - {}%\".format(round(accuracy,4)*100))"
   ]
  },
  {
   "cell_type": "code",
   "execution_count": 56,
   "id": "fa8a3783",
   "metadata": {},
   "outputs": [
    {
     "name": "stdout",
     "output_type": "stream",
     "text": [
      "Model Accuracy - 82.62%\n"
     ]
    }
   ],
   "source": [
    "mlp = MLPClassifier(\n",
    "    activation = 'tanh',\n",
    "    hidden_layer_sizes = (10,),\n",
    "    learning_rate = 'constant',\n",
    "    max_iter=300)\n",
    "\n",
    "mlp.fit(normalized_df, train_y_df)\n",
    "y_pred = mlp.predict(X_test_df)\n",
    "accuracy = accuracy_score(y_test_df, y_pred)\n",
    "print(\"Model Accuracy - {}%\".format(round(accuracy,4)*100))"
   ]
  },
  {
   "cell_type": "code",
   "execution_count": 55,
   "id": "5fb4706a",
   "metadata": {},
   "outputs": [
    {
     "name": "stdout",
     "output_type": "stream",
     "text": [
      "Model Accuracy - 77.99000000000001%\n"
     ]
    }
   ],
   "source": [
    "mlp = MLPClassifier(\n",
    "    activation = 'tanh',\n",
    "    hidden_layer_sizes = (10,10),\n",
    "    learning_rate = 'constant',\n",
    "    max_iter=300)\n",
    "\n",
    "mlp.fit(normalized_df, train_y_df)\n",
    "y_pred = mlp.predict(X_test_df)\n",
    "accuracy = accuracy_score(y_test_df, y_pred)\n",
    "print(\"Model Accuracy - {}%\".format(round(accuracy,4)*100))"
   ]
  },
  {
   "cell_type": "code",
   "execution_count": 54,
   "id": "587b101f",
   "metadata": {},
   "outputs": [
    {
     "name": "stdout",
     "output_type": "stream",
     "text": [
      "Model Accuracy - 81.84%\n"
     ]
    }
   ],
   "source": [
    "mlp = MLPClassifier(\n",
    "    activation = 'tanh',\n",
    "    learning_rate = 'constant',\n",
    "    max_iter=300)\n",
    "\n",
    "mlp.fit(normalized_df, train_y_df)\n",
    "y_pred = mlp.predict(X_test_df)\n",
    "accuracy = accuracy_score(y_test_df, y_pred)\n",
    "print(\"Model Accuracy - {}%\".format(round(accuracy,4)*100))"
   ]
  },
  {
   "cell_type": "code",
   "execution_count": 57,
   "id": "543f6580",
   "metadata": {},
   "outputs": [
    {
     "name": "stdout",
     "output_type": "stream",
     "text": [
      "Model Accuracy - 81.04%\n"
     ]
    }
   ],
   "source": [
    "mlp = MLPClassifier(\n",
    "    activation = 'tanh',\n",
    "    learning_rate = 'constant')\n",
    "\n",
    "mlp.fit(normalized_df, train_y_df)\n",
    "y_pred = mlp.predict(X_test_df)\n",
    "accuracy = accuracy_score(y_test_df, y_pred)\n",
    "print(\"Model Accuracy - {}%\".format(round(accuracy,4)*100))"
   ]
  },
  {
   "cell_type": "markdown",
   "id": "acc2c0b1",
   "metadata": {},
   "source": [
    "## SYSTEMATIC WAY OF HYPERPARAMETER TUNING"
   ]
  },
  {
   "cell_type": "code",
   "execution_count": 55,
   "id": "596ddba4",
   "metadata": {},
   "outputs": [],
   "source": [
    "def print_result(result):\n",
    "    print(\"BEST PARAMS: {} \\n\".format(result.best_params_))\n",
    "    means = result.cv_results_['mean_test_score']\n",
    "    params = result.cv_results_['params']\n",
    "    print(\"Mean Accuracies of hyperparameter combinations:\")\n",
    "    for mean, param in zip(means, params):\n",
    "        print('{}%  for {}'.format(round(mean,4)*100, param))\n",
    "        print()"
   ]
  },
  {
   "cell_type": "markdown",
   "id": "5e79855e",
   "metadata": {},
   "source": [
    "### GRID SEARCH"
   ]
  },
  {
   "cell_type": "code",
   "execution_count": 56,
   "id": "16e82e84",
   "metadata": {},
   "outputs": [
    {
     "name": "stdout",
     "output_type": "stream",
     "text": [
      "BEST PARAMS: {'activation': 'tanh', 'early_stopping': False, 'hidden_layer_sizes': (10,), 'learning_rate': 'adaptive', 'max_iter': 100, 'solver': 'adam', 'validation_fraction': 0.3} \n",
      "\n",
      "Mean Accuracies of hyperparameter combinations:\n",
      "71.48%  for {'activation': 'logistic', 'early_stopping': False, 'hidden_layer_sizes': (10,), 'learning_rate': 'constant', 'max_iter': 50, 'solver': 'adam', 'validation_fraction': 0.1}\n",
      "\n",
      "71.98%  for {'activation': 'logistic', 'early_stopping': False, 'hidden_layer_sizes': (10,), 'learning_rate': 'constant', 'max_iter': 50, 'solver': 'adam', 'validation_fraction': 0.3}\n",
      "\n",
      "39.75%  for {'activation': 'logistic', 'early_stopping': False, 'hidden_layer_sizes': (10,), 'learning_rate': 'constant', 'max_iter': 50, 'solver': 'sgd', 'validation_fraction': 0.1}\n",
      "\n",
      "40.75%  for {'activation': 'logistic', 'early_stopping': False, 'hidden_layer_sizes': (10,), 'learning_rate': 'constant', 'max_iter': 50, 'solver': 'sgd', 'validation_fraction': 0.3}\n",
      "\n",
      "80.65%  for {'activation': 'logistic', 'early_stopping': False, 'hidden_layer_sizes': (10,), 'learning_rate': 'constant', 'max_iter': 100, 'solver': 'adam', 'validation_fraction': 0.1}\n",
      "\n",
      "81.2%  for {'activation': 'logistic', 'early_stopping': False, 'hidden_layer_sizes': (10,), 'learning_rate': 'constant', 'max_iter': 100, 'solver': 'adam', 'validation_fraction': 0.3}\n",
      "\n",
      "49.15%  for {'activation': 'logistic', 'early_stopping': False, 'hidden_layer_sizes': (10,), 'learning_rate': 'constant', 'max_iter': 100, 'solver': 'sgd', 'validation_fraction': 0.1}\n",
      "\n",
      "47.699999999999996%  for {'activation': 'logistic', 'early_stopping': False, 'hidden_layer_sizes': (10,), 'learning_rate': 'constant', 'max_iter': 100, 'solver': 'sgd', 'validation_fraction': 0.3}\n",
      "\n",
      "73.68%  for {'activation': 'logistic', 'early_stopping': False, 'hidden_layer_sizes': (10,), 'learning_rate': 'adaptive', 'max_iter': 50, 'solver': 'adam', 'validation_fraction': 0.1}\n",
      "\n",
      "71.2%  for {'activation': 'logistic', 'early_stopping': False, 'hidden_layer_sizes': (10,), 'learning_rate': 'adaptive', 'max_iter': 50, 'solver': 'adam', 'validation_fraction': 0.3}\n",
      "\n",
      "40.17%  for {'activation': 'logistic', 'early_stopping': False, 'hidden_layer_sizes': (10,), 'learning_rate': 'adaptive', 'max_iter': 50, 'solver': 'sgd', 'validation_fraction': 0.1}\n",
      "\n",
      "39.77%  for {'activation': 'logistic', 'early_stopping': False, 'hidden_layer_sizes': (10,), 'learning_rate': 'adaptive', 'max_iter': 50, 'solver': 'sgd', 'validation_fraction': 0.3}\n",
      "\n",
      "81.13%  for {'activation': 'logistic', 'early_stopping': False, 'hidden_layer_sizes': (10,), 'learning_rate': 'adaptive', 'max_iter': 100, 'solver': 'adam', 'validation_fraction': 0.1}\n",
      "\n",
      "80.17%  for {'activation': 'logistic', 'early_stopping': False, 'hidden_layer_sizes': (10,), 'learning_rate': 'adaptive', 'max_iter': 100, 'solver': 'adam', 'validation_fraction': 0.3}\n",
      "\n",
      "44.690000000000005%  for {'activation': 'logistic', 'early_stopping': False, 'hidden_layer_sizes': (10,), 'learning_rate': 'adaptive', 'max_iter': 100, 'solver': 'sgd', 'validation_fraction': 0.1}\n",
      "\n",
      "46.87%  for {'activation': 'logistic', 'early_stopping': False, 'hidden_layer_sizes': (10,), 'learning_rate': 'adaptive', 'max_iter': 100, 'solver': 'sgd', 'validation_fraction': 0.3}\n",
      "\n",
      "53.0%  for {'activation': 'logistic', 'early_stopping': False, 'hidden_layer_sizes': (10, 10), 'learning_rate': 'constant', 'max_iter': 50, 'solver': 'adam', 'validation_fraction': 0.1}\n",
      "\n",
      "57.92%  for {'activation': 'logistic', 'early_stopping': False, 'hidden_layer_sizes': (10, 10), 'learning_rate': 'constant', 'max_iter': 50, 'solver': 'adam', 'validation_fraction': 0.3}\n",
      "\n",
      "27.950000000000003%  for {'activation': 'logistic', 'early_stopping': False, 'hidden_layer_sizes': (10, 10), 'learning_rate': 'constant', 'max_iter': 50, 'solver': 'sgd', 'validation_fraction': 0.1}\n",
      "\n",
      "27.089999999999996%  for {'activation': 'logistic', 'early_stopping': False, 'hidden_layer_sizes': (10, 10), 'learning_rate': 'constant', 'max_iter': 50, 'solver': 'sgd', 'validation_fraction': 0.3}\n",
      "\n",
      "74.64%  for {'activation': 'logistic', 'early_stopping': False, 'hidden_layer_sizes': (10, 10), 'learning_rate': 'constant', 'max_iter': 100, 'solver': 'adam', 'validation_fraction': 0.1}\n",
      "\n",
      "74.49%  for {'activation': 'logistic', 'early_stopping': False, 'hidden_layer_sizes': (10, 10), 'learning_rate': 'constant', 'max_iter': 100, 'solver': 'adam', 'validation_fraction': 0.3}\n",
      "\n",
      "27.169999999999998%  for {'activation': 'logistic', 'early_stopping': False, 'hidden_layer_sizes': (10, 10), 'learning_rate': 'constant', 'max_iter': 100, 'solver': 'sgd', 'validation_fraction': 0.1}\n",
      "\n",
      "29.37%  for {'activation': 'logistic', 'early_stopping': False, 'hidden_layer_sizes': (10, 10), 'learning_rate': 'constant', 'max_iter': 100, 'solver': 'sgd', 'validation_fraction': 0.3}\n",
      "\n",
      "60.0%  for {'activation': 'logistic', 'early_stopping': False, 'hidden_layer_sizes': (10, 10), 'learning_rate': 'adaptive', 'max_iter': 50, 'solver': 'adam', 'validation_fraction': 0.1}\n",
      "\n",
      "56.02%  for {'activation': 'logistic', 'early_stopping': False, 'hidden_layer_sizes': (10, 10), 'learning_rate': 'adaptive', 'max_iter': 50, 'solver': 'adam', 'validation_fraction': 0.3}\n",
      "\n",
      "26.490000000000002%  for {'activation': 'logistic', 'early_stopping': False, 'hidden_layer_sizes': (10, 10), 'learning_rate': 'adaptive', 'max_iter': 50, 'solver': 'sgd', 'validation_fraction': 0.1}\n",
      "\n",
      "27.250000000000004%  for {'activation': 'logistic', 'early_stopping': False, 'hidden_layer_sizes': (10, 10), 'learning_rate': 'adaptive', 'max_iter': 50, 'solver': 'sgd', 'validation_fraction': 0.3}\n",
      "\n",
      "73.69%  for {'activation': 'logistic', 'early_stopping': False, 'hidden_layer_sizes': (10, 10), 'learning_rate': 'adaptive', 'max_iter': 100, 'solver': 'adam', 'validation_fraction': 0.1}\n",
      "\n",
      "66.32000000000001%  for {'activation': 'logistic', 'early_stopping': False, 'hidden_layer_sizes': (10, 10), 'learning_rate': 'adaptive', 'max_iter': 100, 'solver': 'adam', 'validation_fraction': 0.3}\n",
      "\n",
      "30.349999999999998%  for {'activation': 'logistic', 'early_stopping': False, 'hidden_layer_sizes': (10, 10), 'learning_rate': 'adaptive', 'max_iter': 100, 'solver': 'sgd', 'validation_fraction': 0.1}\n",
      "\n",
      "28.32%  for {'activation': 'logistic', 'early_stopping': False, 'hidden_layer_sizes': (10, 10), 'learning_rate': 'adaptive', 'max_iter': 100, 'solver': 'sgd', 'validation_fraction': 0.3}\n",
      "\n",
      "49.78%  for {'activation': 'logistic', 'early_stopping': False, 'hidden_layer_sizes': (10, 10, 10), 'learning_rate': 'constant', 'max_iter': 50, 'solver': 'adam', 'validation_fraction': 0.1}\n",
      "\n",
      "46.72%  for {'activation': 'logistic', 'early_stopping': False, 'hidden_layer_sizes': (10, 10, 10), 'learning_rate': 'constant', 'max_iter': 50, 'solver': 'adam', 'validation_fraction': 0.3}\n",
      "\n",
      "27.27%  for {'activation': 'logistic', 'early_stopping': False, 'hidden_layer_sizes': (10, 10, 10), 'learning_rate': 'constant', 'max_iter': 50, 'solver': 'sgd', 'validation_fraction': 0.1}\n",
      "\n",
      "27.27%  for {'activation': 'logistic', 'early_stopping': False, 'hidden_layer_sizes': (10, 10, 10), 'learning_rate': 'constant', 'max_iter': 50, 'solver': 'sgd', 'validation_fraction': 0.3}\n",
      "\n",
      "66.31%  for {'activation': 'logistic', 'early_stopping': False, 'hidden_layer_sizes': (10, 10, 10), 'learning_rate': 'constant', 'max_iter': 100, 'solver': 'adam', 'validation_fraction': 0.1}\n",
      "\n",
      "67.22%  for {'activation': 'logistic', 'early_stopping': False, 'hidden_layer_sizes': (10, 10, 10), 'learning_rate': 'constant', 'max_iter': 100, 'solver': 'adam', 'validation_fraction': 0.3}\n",
      "\n",
      "27.27%  for {'activation': 'logistic', 'early_stopping': False, 'hidden_layer_sizes': (10, 10, 10), 'learning_rate': 'constant', 'max_iter': 100, 'solver': 'sgd', 'validation_fraction': 0.1}\n",
      "\n",
      "27.27%  for {'activation': 'logistic', 'early_stopping': False, 'hidden_layer_sizes': (10, 10, 10), 'learning_rate': 'constant', 'max_iter': 100, 'solver': 'sgd', 'validation_fraction': 0.3}\n",
      "\n",
      "44.91%  for {'activation': 'logistic', 'early_stopping': False, 'hidden_layer_sizes': (10, 10, 10), 'learning_rate': 'adaptive', 'max_iter': 50, 'solver': 'adam', 'validation_fraction': 0.1}\n",
      "\n",
      "38.99%  for {'activation': 'logistic', 'early_stopping': False, 'hidden_layer_sizes': (10, 10, 10), 'learning_rate': 'adaptive', 'max_iter': 50, 'solver': 'adam', 'validation_fraction': 0.3}\n",
      "\n",
      "27.27%  for {'activation': 'logistic', 'early_stopping': False, 'hidden_layer_sizes': (10, 10, 10), 'learning_rate': 'adaptive', 'max_iter': 50, 'solver': 'sgd', 'validation_fraction': 0.1}\n",
      "\n",
      "27.27%  for {'activation': 'logistic', 'early_stopping': False, 'hidden_layer_sizes': (10, 10, 10), 'learning_rate': 'adaptive', 'max_iter': 50, 'solver': 'sgd', 'validation_fraction': 0.3}\n",
      "\n",
      "61.06%  for {'activation': 'logistic', 'early_stopping': False, 'hidden_layer_sizes': (10, 10, 10), 'learning_rate': 'adaptive', 'max_iter': 100, 'solver': 'adam', 'validation_fraction': 0.1}\n",
      "\n",
      "56.46%  for {'activation': 'logistic', 'early_stopping': False, 'hidden_layer_sizes': (10, 10, 10), 'learning_rate': 'adaptive', 'max_iter': 100, 'solver': 'adam', 'validation_fraction': 0.3}\n",
      "\n",
      "27.27%  for {'activation': 'logistic', 'early_stopping': False, 'hidden_layer_sizes': (10, 10, 10), 'learning_rate': 'adaptive', 'max_iter': 100, 'solver': 'sgd', 'validation_fraction': 0.1}\n",
      "\n",
      "27.27%  for {'activation': 'logistic', 'early_stopping': False, 'hidden_layer_sizes': (10, 10, 10), 'learning_rate': 'adaptive', 'max_iter': 100, 'solver': 'sgd', 'validation_fraction': 0.3}\n",
      "\n",
      "75.92%  for {'activation': 'logistic', 'early_stopping': True, 'hidden_layer_sizes': (10,), 'learning_rate': 'constant', 'max_iter': 50, 'solver': 'adam', 'validation_fraction': 0.1}\n",
      "\n",
      "70.75%  for {'activation': 'logistic', 'early_stopping': True, 'hidden_layer_sizes': (10,), 'learning_rate': 'constant', 'max_iter': 50, 'solver': 'adam', 'validation_fraction': 0.3}\n",
      "\n",
      "33.79%  for {'activation': 'logistic', 'early_stopping': True, 'hidden_layer_sizes': (10,), 'learning_rate': 'constant', 'max_iter': 50, 'solver': 'sgd', 'validation_fraction': 0.1}\n",
      "\n",
      "31.28%  for {'activation': 'logistic', 'early_stopping': True, 'hidden_layer_sizes': (10,), 'learning_rate': 'constant', 'max_iter': 50, 'solver': 'sgd', 'validation_fraction': 0.3}\n",
      "\n",
      "70.03%  for {'activation': 'logistic', 'early_stopping': True, 'hidden_layer_sizes': (10,), 'learning_rate': 'constant', 'max_iter': 100, 'solver': 'adam', 'validation_fraction': 0.1}\n",
      "\n",
      "57.49999999999999%  for {'activation': 'logistic', 'early_stopping': True, 'hidden_layer_sizes': (10,), 'learning_rate': 'constant', 'max_iter': 100, 'solver': 'adam', 'validation_fraction': 0.3}\n",
      "\n",
      "39.37%  for {'activation': 'logistic', 'early_stopping': True, 'hidden_layer_sizes': (10,), 'learning_rate': 'constant', 'max_iter': 100, 'solver': 'sgd', 'validation_fraction': 0.1}\n",
      "\n",
      "33.660000000000004%  for {'activation': 'logistic', 'early_stopping': True, 'hidden_layer_sizes': (10,), 'learning_rate': 'constant', 'max_iter': 100, 'solver': 'sgd', 'validation_fraction': 0.3}\n",
      "\n",
      "72.15%  for {'activation': 'logistic', 'early_stopping': True, 'hidden_layer_sizes': (10,), 'learning_rate': 'adaptive', 'max_iter': 50, 'solver': 'adam', 'validation_fraction': 0.1}\n",
      "\n",
      "67.77%  for {'activation': 'logistic', 'early_stopping': True, 'hidden_layer_sizes': (10,), 'learning_rate': 'adaptive', 'max_iter': 50, 'solver': 'adam', 'validation_fraction': 0.3}\n",
      "\n",
      "36.86%  for {'activation': 'logistic', 'early_stopping': True, 'hidden_layer_sizes': (10,), 'learning_rate': 'adaptive', 'max_iter': 50, 'solver': 'sgd', 'validation_fraction': 0.1}\n",
      "\n",
      "29.220000000000002%  for {'activation': 'logistic', 'early_stopping': True, 'hidden_layer_sizes': (10,), 'learning_rate': 'adaptive', 'max_iter': 50, 'solver': 'sgd', 'validation_fraction': 0.3}\n",
      "\n",
      "68.97%  for {'activation': 'logistic', 'early_stopping': True, 'hidden_layer_sizes': (10,), 'learning_rate': 'adaptive', 'max_iter': 100, 'solver': 'adam', 'validation_fraction': 0.1}\n",
      "\n",
      "58.3%  for {'activation': 'logistic', 'early_stopping': True, 'hidden_layer_sizes': (10,), 'learning_rate': 'adaptive', 'max_iter': 100, 'solver': 'adam', 'validation_fraction': 0.3}\n",
      "\n",
      "31.53%  for {'activation': 'logistic', 'early_stopping': True, 'hidden_layer_sizes': (10,), 'learning_rate': 'adaptive', 'max_iter': 100, 'solver': 'sgd', 'validation_fraction': 0.1}\n",
      "\n",
      "31.85%  for {'activation': 'logistic', 'early_stopping': True, 'hidden_layer_sizes': (10,), 'learning_rate': 'adaptive', 'max_iter': 100, 'solver': 'sgd', 'validation_fraction': 0.3}\n",
      "\n",
      "26.669999999999998%  for {'activation': 'logistic', 'early_stopping': True, 'hidden_layer_sizes': (10, 10), 'learning_rate': 'constant', 'max_iter': 50, 'solver': 'adam', 'validation_fraction': 0.1}\n",
      "\n",
      "43.28%  for {'activation': 'logistic', 'early_stopping': True, 'hidden_layer_sizes': (10, 10), 'learning_rate': 'constant', 'max_iter': 50, 'solver': 'adam', 'validation_fraction': 0.3}\n",
      "\n",
      "26.72%  for {'activation': 'logistic', 'early_stopping': True, 'hidden_layer_sizes': (10, 10), 'learning_rate': 'constant', 'max_iter': 50, 'solver': 'sgd', 'validation_fraction': 0.1}\n",
      "\n",
      "27.150000000000002%  for {'activation': 'logistic', 'early_stopping': True, 'hidden_layer_sizes': (10, 10), 'learning_rate': 'constant', 'max_iter': 50, 'solver': 'sgd', 'validation_fraction': 0.3}\n",
      "\n",
      "47.24%  for {'activation': 'logistic', 'early_stopping': True, 'hidden_layer_sizes': (10, 10), 'learning_rate': 'constant', 'max_iter': 100, 'solver': 'adam', 'validation_fraction': 0.1}\n",
      "\n",
      "50.129999999999995%  for {'activation': 'logistic', 'early_stopping': True, 'hidden_layer_sizes': (10, 10), 'learning_rate': 'constant', 'max_iter': 100, 'solver': 'adam', 'validation_fraction': 0.3}\n",
      "\n",
      "26.790000000000003%  for {'activation': 'logistic', 'early_stopping': True, 'hidden_layer_sizes': (10, 10), 'learning_rate': 'constant', 'max_iter': 100, 'solver': 'sgd', 'validation_fraction': 0.1}\n",
      "\n",
      "27.200000000000003%  for {'activation': 'logistic', 'early_stopping': True, 'hidden_layer_sizes': (10, 10), 'learning_rate': 'constant', 'max_iter': 100, 'solver': 'sgd', 'validation_fraction': 0.3}\n",
      "\n",
      "46.96%  for {'activation': 'logistic', 'early_stopping': True, 'hidden_layer_sizes': (10, 10), 'learning_rate': 'adaptive', 'max_iter': 50, 'solver': 'adam', 'validation_fraction': 0.1}\n",
      "\n",
      "39.050000000000004%  for {'activation': 'logistic', 'early_stopping': True, 'hidden_layer_sizes': (10, 10), 'learning_rate': 'adaptive', 'max_iter': 50, 'solver': 'adam', 'validation_fraction': 0.3}\n",
      "\n",
      "27.589999999999996%  for {'activation': 'logistic', 'early_stopping': True, 'hidden_layer_sizes': (10, 10), 'learning_rate': 'adaptive', 'max_iter': 50, 'solver': 'sgd', 'validation_fraction': 0.1}\n",
      "\n",
      "27.47%  for {'activation': 'logistic', 'early_stopping': True, 'hidden_layer_sizes': (10, 10), 'learning_rate': 'adaptive', 'max_iter': 50, 'solver': 'sgd', 'validation_fraction': 0.3}\n",
      "\n",
      "67.10000000000001%  for {'activation': 'logistic', 'early_stopping': True, 'hidden_layer_sizes': (10, 10), 'learning_rate': 'adaptive', 'max_iter': 100, 'solver': 'adam', 'validation_fraction': 0.1}\n",
      "\n",
      "40.98%  for {'activation': 'logistic', 'early_stopping': True, 'hidden_layer_sizes': (10, 10), 'learning_rate': 'adaptive', 'max_iter': 100, 'solver': 'adam', 'validation_fraction': 0.3}\n",
      "\n",
      "26.06%  for {'activation': 'logistic', 'early_stopping': True, 'hidden_layer_sizes': (10, 10), 'learning_rate': 'adaptive', 'max_iter': 100, 'solver': 'sgd', 'validation_fraction': 0.1}\n",
      "\n",
      "28.37%  for {'activation': 'logistic', 'early_stopping': True, 'hidden_layer_sizes': (10, 10), 'learning_rate': 'adaptive', 'max_iter': 100, 'solver': 'sgd', 'validation_fraction': 0.3}\n",
      "\n",
      "27.27%  for {'activation': 'logistic', 'early_stopping': True, 'hidden_layer_sizes': (10, 10, 10), 'learning_rate': 'constant', 'max_iter': 50, 'solver': 'adam', 'validation_fraction': 0.1}\n",
      "\n",
      "29.48%  for {'activation': 'logistic', 'early_stopping': True, 'hidden_layer_sizes': (10, 10, 10), 'learning_rate': 'constant', 'max_iter': 50, 'solver': 'adam', 'validation_fraction': 0.3}\n",
      "\n",
      "26.810000000000002%  for {'activation': 'logistic', 'early_stopping': True, 'hidden_layer_sizes': (10, 10, 10), 'learning_rate': 'constant', 'max_iter': 50, 'solver': 'sgd', 'validation_fraction': 0.1}\n",
      "\n",
      "26.810000000000002%  for {'activation': 'logistic', 'early_stopping': True, 'hidden_layer_sizes': (10, 10, 10), 'learning_rate': 'constant', 'max_iter': 50, 'solver': 'sgd', 'validation_fraction': 0.3}\n",
      "\n",
      "27.27%  for {'activation': 'logistic', 'early_stopping': True, 'hidden_layer_sizes': (10, 10, 10), 'learning_rate': 'constant', 'max_iter': 100, 'solver': 'adam', 'validation_fraction': 0.1}\n",
      "\n",
      "26.96%  for {'activation': 'logistic', 'early_stopping': True, 'hidden_layer_sizes': (10, 10, 10), 'learning_rate': 'constant', 'max_iter': 100, 'solver': 'adam', 'validation_fraction': 0.3}\n",
      "\n",
      "27.27%  for {'activation': 'logistic', 'early_stopping': True, 'hidden_layer_sizes': (10, 10, 10), 'learning_rate': 'constant', 'max_iter': 100, 'solver': 'sgd', 'validation_fraction': 0.1}\n",
      "\n",
      "26.790000000000003%  for {'activation': 'logistic', 'early_stopping': True, 'hidden_layer_sizes': (10, 10, 10), 'learning_rate': 'constant', 'max_iter': 100, 'solver': 'sgd', 'validation_fraction': 0.3}\n",
      "\n",
      "27.12%  for {'activation': 'logistic', 'early_stopping': True, 'hidden_layer_sizes': (10, 10, 10), 'learning_rate': 'adaptive', 'max_iter': 50, 'solver': 'adam', 'validation_fraction': 0.1}\n",
      "\n",
      "25.21%  for {'activation': 'logistic', 'early_stopping': True, 'hidden_layer_sizes': (10, 10, 10), 'learning_rate': 'adaptive', 'max_iter': 50, 'solver': 'adam', 'validation_fraction': 0.3}\n",
      "\n",
      "26.810000000000002%  for {'activation': 'logistic', 'early_stopping': True, 'hidden_layer_sizes': (10, 10, 10), 'learning_rate': 'adaptive', 'max_iter': 50, 'solver': 'sgd', 'validation_fraction': 0.1}\n",
      "\n",
      "27.27%  for {'activation': 'logistic', 'early_stopping': True, 'hidden_layer_sizes': (10, 10, 10), 'learning_rate': 'adaptive', 'max_iter': 50, 'solver': 'sgd', 'validation_fraction': 0.3}\n",
      "\n",
      "30.28%  for {'activation': 'logistic', 'early_stopping': True, 'hidden_layer_sizes': (10, 10, 10), 'learning_rate': 'adaptive', 'max_iter': 100, 'solver': 'adam', 'validation_fraction': 0.1}\n",
      "\n",
      "34.760000000000005%  for {'activation': 'logistic', 'early_stopping': True, 'hidden_layer_sizes': (10, 10, 10), 'learning_rate': 'adaptive', 'max_iter': 100, 'solver': 'adam', 'validation_fraction': 0.3}\n",
      "\n",
      "26.369999999999997%  for {'activation': 'logistic', 'early_stopping': True, 'hidden_layer_sizes': (10, 10, 10), 'learning_rate': 'adaptive', 'max_iter': 100, 'solver': 'sgd', 'validation_fraction': 0.1}\n",
      "\n",
      "26.32%  for {'activation': 'logistic', 'early_stopping': True, 'hidden_layer_sizes': (10, 10, 10), 'learning_rate': 'adaptive', 'max_iter': 100, 'solver': 'sgd', 'validation_fraction': 0.3}\n",
      "\n",
      "76.81%  for {'activation': 'tanh', 'early_stopping': False, 'hidden_layer_sizes': (10,), 'learning_rate': 'constant', 'max_iter': 50, 'solver': 'adam', 'validation_fraction': 0.1}\n",
      "\n",
      "79.4%  for {'activation': 'tanh', 'early_stopping': False, 'hidden_layer_sizes': (10,), 'learning_rate': 'constant', 'max_iter': 50, 'solver': 'adam', 'validation_fraction': 0.3}\n",
      "\n",
      "70.89999999999999%  for {'activation': 'tanh', 'early_stopping': False, 'hidden_layer_sizes': (10,), 'learning_rate': 'constant', 'max_iter': 50, 'solver': 'sgd', 'validation_fraction': 0.1}\n",
      "\n",
      "72.89999999999999%  for {'activation': 'tanh', 'early_stopping': False, 'hidden_layer_sizes': (10,), 'learning_rate': 'constant', 'max_iter': 50, 'solver': 'sgd', 'validation_fraction': 0.3}\n",
      "\n",
      "84.88%  for {'activation': 'tanh', 'early_stopping': False, 'hidden_layer_sizes': (10,), 'learning_rate': 'constant', 'max_iter': 100, 'solver': 'adam', 'validation_fraction': 0.1}\n",
      "\n",
      "83.03%  for {'activation': 'tanh', 'early_stopping': False, 'hidden_layer_sizes': (10,), 'learning_rate': 'constant', 'max_iter': 100, 'solver': 'adam', 'validation_fraction': 0.3}\n",
      "\n",
      "81.23%  for {'activation': 'tanh', 'early_stopping': False, 'hidden_layer_sizes': (10,), 'learning_rate': 'constant', 'max_iter': 100, 'solver': 'sgd', 'validation_fraction': 0.1}\n",
      "\n",
      "80.73%  for {'activation': 'tanh', 'early_stopping': False, 'hidden_layer_sizes': (10,), 'learning_rate': 'constant', 'max_iter': 100, 'solver': 'sgd', 'validation_fraction': 0.3}\n",
      "\n",
      "80.4%  for {'activation': 'tanh', 'early_stopping': False, 'hidden_layer_sizes': (10,), 'learning_rate': 'adaptive', 'max_iter': 50, 'solver': 'adam', 'validation_fraction': 0.1}\n",
      "\n",
      "80.82000000000001%  for {'activation': 'tanh', 'early_stopping': False, 'hidden_layer_sizes': (10,), 'learning_rate': 'adaptive', 'max_iter': 50, 'solver': 'adam', 'validation_fraction': 0.3}\n",
      "\n",
      "73.53%  for {'activation': 'tanh', 'early_stopping': False, 'hidden_layer_sizes': (10,), 'learning_rate': 'adaptive', 'max_iter': 50, 'solver': 'sgd', 'validation_fraction': 0.1}\n",
      "\n",
      "74.24%  for {'activation': 'tanh', 'early_stopping': False, 'hidden_layer_sizes': (10,), 'learning_rate': 'adaptive', 'max_iter': 50, 'solver': 'sgd', 'validation_fraction': 0.3}\n",
      "\n",
      "83.50999999999999%  for {'activation': 'tanh', 'early_stopping': False, 'hidden_layer_sizes': (10,), 'learning_rate': 'adaptive', 'max_iter': 100, 'solver': 'adam', 'validation_fraction': 0.1}\n",
      "\n",
      "85.07000000000001%  for {'activation': 'tanh', 'early_stopping': False, 'hidden_layer_sizes': (10,), 'learning_rate': 'adaptive', 'max_iter': 100, 'solver': 'adam', 'validation_fraction': 0.3}\n",
      "\n",
      "81.45%  for {'activation': 'tanh', 'early_stopping': False, 'hidden_layer_sizes': (10,), 'learning_rate': 'adaptive', 'max_iter': 100, 'solver': 'sgd', 'validation_fraction': 0.1}\n",
      "\n",
      "80.85%  for {'activation': 'tanh', 'early_stopping': False, 'hidden_layer_sizes': (10,), 'learning_rate': 'adaptive', 'max_iter': 100, 'solver': 'sgd', 'validation_fraction': 0.3}\n",
      "\n",
      "81.28%  for {'activation': 'tanh', 'early_stopping': False, 'hidden_layer_sizes': (10, 10), 'learning_rate': 'constant', 'max_iter': 50, 'solver': 'adam', 'validation_fraction': 0.1}\n",
      "\n",
      "76.71%  for {'activation': 'tanh', 'early_stopping': False, 'hidden_layer_sizes': (10, 10), 'learning_rate': 'constant', 'max_iter': 50, 'solver': 'adam', 'validation_fraction': 0.3}\n",
      "\n",
      "72.41%  for {'activation': 'tanh', 'early_stopping': False, 'hidden_layer_sizes': (10, 10), 'learning_rate': 'constant', 'max_iter': 50, 'solver': 'sgd', 'validation_fraction': 0.1}\n",
      "\n",
      "71.26%  for {'activation': 'tanh', 'early_stopping': False, 'hidden_layer_sizes': (10, 10), 'learning_rate': 'constant', 'max_iter': 50, 'solver': 'sgd', 'validation_fraction': 0.3}\n",
      "\n",
      "82.55%  for {'activation': 'tanh', 'early_stopping': False, 'hidden_layer_sizes': (10, 10), 'learning_rate': 'constant', 'max_iter': 100, 'solver': 'adam', 'validation_fraction': 0.1}\n",
      "\n",
      "77.9%  for {'activation': 'tanh', 'early_stopping': False, 'hidden_layer_sizes': (10, 10), 'learning_rate': 'constant', 'max_iter': 100, 'solver': 'adam', 'validation_fraction': 0.3}\n",
      "\n",
      "81.86%  for {'activation': 'tanh', 'early_stopping': False, 'hidden_layer_sizes': (10, 10), 'learning_rate': 'constant', 'max_iter': 100, 'solver': 'sgd', 'validation_fraction': 0.1}\n",
      "\n",
      "81.78%  for {'activation': 'tanh', 'early_stopping': False, 'hidden_layer_sizes': (10, 10), 'learning_rate': 'constant', 'max_iter': 100, 'solver': 'sgd', 'validation_fraction': 0.3}\n",
      "\n",
      "80.80000000000001%  for {'activation': 'tanh', 'early_stopping': False, 'hidden_layer_sizes': (10, 10), 'learning_rate': 'adaptive', 'max_iter': 50, 'solver': 'adam', 'validation_fraction': 0.1}\n",
      "\n",
      "73.13%  for {'activation': 'tanh', 'early_stopping': False, 'hidden_layer_sizes': (10, 10), 'learning_rate': 'adaptive', 'max_iter': 50, 'solver': 'adam', 'validation_fraction': 0.3}\n",
      "\n",
      "73.04%  for {'activation': 'tanh', 'early_stopping': False, 'hidden_layer_sizes': (10, 10), 'learning_rate': 'adaptive', 'max_iter': 50, 'solver': 'sgd', 'validation_fraction': 0.1}\n",
      "\n",
      "72.72999999999999%  for {'activation': 'tanh', 'early_stopping': False, 'hidden_layer_sizes': (10, 10), 'learning_rate': 'adaptive', 'max_iter': 50, 'solver': 'sgd', 'validation_fraction': 0.3}\n",
      "\n",
      "81.23%  for {'activation': 'tanh', 'early_stopping': False, 'hidden_layer_sizes': (10, 10), 'learning_rate': 'adaptive', 'max_iter': 100, 'solver': 'adam', 'validation_fraction': 0.1}\n",
      "\n",
      "83.78%  for {'activation': 'tanh', 'early_stopping': False, 'hidden_layer_sizes': (10, 10), 'learning_rate': 'adaptive', 'max_iter': 100, 'solver': 'adam', 'validation_fraction': 0.3}\n",
      "\n",
      "80.80000000000001%  for {'activation': 'tanh', 'early_stopping': False, 'hidden_layer_sizes': (10, 10), 'learning_rate': 'adaptive', 'max_iter': 100, 'solver': 'sgd', 'validation_fraction': 0.1}\n",
      "\n",
      "81.69999999999999%  for {'activation': 'tanh', 'early_stopping': False, 'hidden_layer_sizes': (10, 10), 'learning_rate': 'adaptive', 'max_iter': 100, 'solver': 'sgd', 'validation_fraction': 0.3}\n",
      "\n",
      "76.36%  for {'activation': 'tanh', 'early_stopping': False, 'hidden_layer_sizes': (10, 10, 10), 'learning_rate': 'constant', 'max_iter': 50, 'solver': 'adam', 'validation_fraction': 0.1}\n",
      "\n",
      "72.23%  for {'activation': 'tanh', 'early_stopping': False, 'hidden_layer_sizes': (10, 10, 10), 'learning_rate': 'constant', 'max_iter': 50, 'solver': 'adam', 'validation_fraction': 0.3}\n",
      "\n",
      "74.74%  for {'activation': 'tanh', 'early_stopping': False, 'hidden_layer_sizes': (10, 10, 10), 'learning_rate': 'constant', 'max_iter': 50, 'solver': 'sgd', 'validation_fraction': 0.1}\n",
      "\n",
      "66.75999999999999%  for {'activation': 'tanh', 'early_stopping': False, 'hidden_layer_sizes': (10, 10, 10), 'learning_rate': 'constant', 'max_iter': 50, 'solver': 'sgd', 'validation_fraction': 0.3}\n",
      "\n",
      "80.27%  for {'activation': 'tanh', 'early_stopping': False, 'hidden_layer_sizes': (10, 10, 10), 'learning_rate': 'constant', 'max_iter': 100, 'solver': 'adam', 'validation_fraction': 0.1}\n",
      "\n",
      "80.57%  for {'activation': 'tanh', 'early_stopping': False, 'hidden_layer_sizes': (10, 10, 10), 'learning_rate': 'constant', 'max_iter': 100, 'solver': 'adam', 'validation_fraction': 0.3}\n",
      "\n",
      "79.72%  for {'activation': 'tanh', 'early_stopping': False, 'hidden_layer_sizes': (10, 10, 10), 'learning_rate': 'constant', 'max_iter': 100, 'solver': 'sgd', 'validation_fraction': 0.1}\n",
      "\n",
      "79.82000000000001%  for {'activation': 'tanh', 'early_stopping': False, 'hidden_layer_sizes': (10, 10, 10), 'learning_rate': 'constant', 'max_iter': 100, 'solver': 'sgd', 'validation_fraction': 0.3}\n",
      "\n",
      "74.88%  for {'activation': 'tanh', 'early_stopping': False, 'hidden_layer_sizes': (10, 10, 10), 'learning_rate': 'adaptive', 'max_iter': 50, 'solver': 'adam', 'validation_fraction': 0.1}\n",
      "\n",
      "77.79%  for {'activation': 'tanh', 'early_stopping': False, 'hidden_layer_sizes': (10, 10, 10), 'learning_rate': 'adaptive', 'max_iter': 50, 'solver': 'adam', 'validation_fraction': 0.3}\n",
      "\n",
      "74.81%  for {'activation': 'tanh', 'early_stopping': False, 'hidden_layer_sizes': (10, 10, 10), 'learning_rate': 'adaptive', 'max_iter': 50, 'solver': 'sgd', 'validation_fraction': 0.1}\n",
      "\n",
      "70.78%  for {'activation': 'tanh', 'early_stopping': False, 'hidden_layer_sizes': (10, 10, 10), 'learning_rate': 'adaptive', 'max_iter': 50, 'solver': 'sgd', 'validation_fraction': 0.3}\n",
      "\n",
      "70.83%  for {'activation': 'tanh', 'early_stopping': False, 'hidden_layer_sizes': (10, 10, 10), 'learning_rate': 'adaptive', 'max_iter': 100, 'solver': 'adam', 'validation_fraction': 0.1}\n",
      "\n",
      "77.05%  for {'activation': 'tanh', 'early_stopping': False, 'hidden_layer_sizes': (10, 10, 10), 'learning_rate': 'adaptive', 'max_iter': 100, 'solver': 'adam', 'validation_fraction': 0.3}\n",
      "\n",
      "79.93%  for {'activation': 'tanh', 'early_stopping': False, 'hidden_layer_sizes': (10, 10, 10), 'learning_rate': 'adaptive', 'max_iter': 100, 'solver': 'sgd', 'validation_fraction': 0.1}\n",
      "\n",
      "81.96%  for {'activation': 'tanh', 'early_stopping': False, 'hidden_layer_sizes': (10, 10, 10), 'learning_rate': 'adaptive', 'max_iter': 100, 'solver': 'sgd', 'validation_fraction': 0.3}\n",
      "\n",
      "80.62%  for {'activation': 'tanh', 'early_stopping': True, 'hidden_layer_sizes': (10,), 'learning_rate': 'constant', 'max_iter': 50, 'solver': 'adam', 'validation_fraction': 0.1}\n",
      "\n",
      "80.30000000000001%  for {'activation': 'tanh', 'early_stopping': True, 'hidden_layer_sizes': (10,), 'learning_rate': 'constant', 'max_iter': 50, 'solver': 'adam', 'validation_fraction': 0.3}\n",
      "\n",
      "70.93%  for {'activation': 'tanh', 'early_stopping': True, 'hidden_layer_sizes': (10,), 'learning_rate': 'constant', 'max_iter': 50, 'solver': 'sgd', 'validation_fraction': 0.1}\n",
      "\n",
      "65.19%  for {'activation': 'tanh', 'early_stopping': True, 'hidden_layer_sizes': (10,), 'learning_rate': 'constant', 'max_iter': 50, 'solver': 'sgd', 'validation_fraction': 0.3}\n",
      "\n",
      "83.56%  for {'activation': 'tanh', 'early_stopping': True, 'hidden_layer_sizes': (10,), 'learning_rate': 'constant', 'max_iter': 100, 'solver': 'adam', 'validation_fraction': 0.1}\n",
      "\n",
      "83.08%  for {'activation': 'tanh', 'early_stopping': True, 'hidden_layer_sizes': (10,), 'learning_rate': 'constant', 'max_iter': 100, 'solver': 'adam', 'validation_fraction': 0.3}\n",
      "\n",
      "78.84%  for {'activation': 'tanh', 'early_stopping': True, 'hidden_layer_sizes': (10,), 'learning_rate': 'constant', 'max_iter': 100, 'solver': 'sgd', 'validation_fraction': 0.1}\n",
      "\n",
      "77.49000000000001%  for {'activation': 'tanh', 'early_stopping': True, 'hidden_layer_sizes': (10,), 'learning_rate': 'constant', 'max_iter': 100, 'solver': 'sgd', 'validation_fraction': 0.3}\n",
      "\n",
      "80.15%  for {'activation': 'tanh', 'early_stopping': True, 'hidden_layer_sizes': (10,), 'learning_rate': 'adaptive', 'max_iter': 50, 'solver': 'adam', 'validation_fraction': 0.1}\n",
      "\n",
      "77.95%  for {'activation': 'tanh', 'early_stopping': True, 'hidden_layer_sizes': (10,), 'learning_rate': 'adaptive', 'max_iter': 50, 'solver': 'adam', 'validation_fraction': 0.3}\n",
      "\n",
      "71.3%  for {'activation': 'tanh', 'early_stopping': True, 'hidden_layer_sizes': (10,), 'learning_rate': 'adaptive', 'max_iter': 50, 'solver': 'sgd', 'validation_fraction': 0.1}\n",
      "\n",
      "64.25999999999999%  for {'activation': 'tanh', 'early_stopping': True, 'hidden_layer_sizes': (10,), 'learning_rate': 'adaptive', 'max_iter': 50, 'solver': 'sgd', 'validation_fraction': 0.3}\n",
      "\n",
      "84.13000000000001%  for {'activation': 'tanh', 'early_stopping': True, 'hidden_layer_sizes': (10,), 'learning_rate': 'adaptive', 'max_iter': 100, 'solver': 'adam', 'validation_fraction': 0.1}\n",
      "\n",
      "84.39%  for {'activation': 'tanh', 'early_stopping': True, 'hidden_layer_sizes': (10,), 'learning_rate': 'adaptive', 'max_iter': 100, 'solver': 'adam', 'validation_fraction': 0.3}\n",
      "\n",
      "80.0%  for {'activation': 'tanh', 'early_stopping': True, 'hidden_layer_sizes': (10,), 'learning_rate': 'adaptive', 'max_iter': 100, 'solver': 'sgd', 'validation_fraction': 0.1}\n",
      "\n",
      "77.62%  for {'activation': 'tanh', 'early_stopping': True, 'hidden_layer_sizes': (10,), 'learning_rate': 'adaptive', 'max_iter': 100, 'solver': 'sgd', 'validation_fraction': 0.3}\n",
      "\n",
      "75.67%  for {'activation': 'tanh', 'early_stopping': True, 'hidden_layer_sizes': (10, 10), 'learning_rate': 'constant', 'max_iter': 50, 'solver': 'adam', 'validation_fraction': 0.1}\n",
      "\n",
      "74.36%  for {'activation': 'tanh', 'early_stopping': True, 'hidden_layer_sizes': (10, 10), 'learning_rate': 'constant', 'max_iter': 50, 'solver': 'adam', 'validation_fraction': 0.3}\n",
      "\n",
      "71.75%  for {'activation': 'tanh', 'early_stopping': True, 'hidden_layer_sizes': (10, 10), 'learning_rate': 'constant', 'max_iter': 50, 'solver': 'sgd', 'validation_fraction': 0.1}\n",
      "\n",
      "67.45%  for {'activation': 'tanh', 'early_stopping': True, 'hidden_layer_sizes': (10, 10), 'learning_rate': 'constant', 'max_iter': 50, 'solver': 'sgd', 'validation_fraction': 0.3}\n",
      "\n",
      "83.76%  for {'activation': 'tanh', 'early_stopping': True, 'hidden_layer_sizes': (10, 10), 'learning_rate': 'constant', 'max_iter': 100, 'solver': 'adam', 'validation_fraction': 0.1}\n",
      "\n",
      "83.56%  for {'activation': 'tanh', 'early_stopping': True, 'hidden_layer_sizes': (10, 10), 'learning_rate': 'constant', 'max_iter': 100, 'solver': 'adam', 'validation_fraction': 0.3}\n",
      "\n",
      "82.58%  for {'activation': 'tanh', 'early_stopping': True, 'hidden_layer_sizes': (10, 10), 'learning_rate': 'constant', 'max_iter': 100, 'solver': 'sgd', 'validation_fraction': 0.1}\n",
      "\n",
      "79.03%  for {'activation': 'tanh', 'early_stopping': True, 'hidden_layer_sizes': (10, 10), 'learning_rate': 'constant', 'max_iter': 100, 'solver': 'sgd', 'validation_fraction': 0.3}\n",
      "\n",
      "78.79%  for {'activation': 'tanh', 'early_stopping': True, 'hidden_layer_sizes': (10, 10), 'learning_rate': 'adaptive', 'max_iter': 50, 'solver': 'adam', 'validation_fraction': 0.1}\n",
      "\n",
      "78.79%  for {'activation': 'tanh', 'early_stopping': True, 'hidden_layer_sizes': (10, 10), 'learning_rate': 'adaptive', 'max_iter': 50, 'solver': 'adam', 'validation_fraction': 0.3}\n",
      "\n",
      "69.52000000000001%  for {'activation': 'tanh', 'early_stopping': True, 'hidden_layer_sizes': (10, 10), 'learning_rate': 'adaptive', 'max_iter': 50, 'solver': 'sgd', 'validation_fraction': 0.1}\n",
      "\n",
      "64.58%  for {'activation': 'tanh', 'early_stopping': True, 'hidden_layer_sizes': (10, 10), 'learning_rate': 'adaptive', 'max_iter': 50, 'solver': 'sgd', 'validation_fraction': 0.3}\n",
      "\n",
      "81.41000000000001%  for {'activation': 'tanh', 'early_stopping': True, 'hidden_layer_sizes': (10, 10), 'learning_rate': 'adaptive', 'max_iter': 100, 'solver': 'adam', 'validation_fraction': 0.1}\n",
      "\n",
      "82.01%  for {'activation': 'tanh', 'early_stopping': True, 'hidden_layer_sizes': (10, 10), 'learning_rate': 'adaptive', 'max_iter': 100, 'solver': 'adam', 'validation_fraction': 0.3}\n",
      "\n",
      "81.95%  for {'activation': 'tanh', 'early_stopping': True, 'hidden_layer_sizes': (10, 10), 'learning_rate': 'adaptive', 'max_iter': 100, 'solver': 'sgd', 'validation_fraction': 0.1}\n",
      "\n",
      "79.38%  for {'activation': 'tanh', 'early_stopping': True, 'hidden_layer_sizes': (10, 10), 'learning_rate': 'adaptive', 'max_iter': 100, 'solver': 'sgd', 'validation_fraction': 0.3}\n",
      "\n",
      "80.53%  for {'activation': 'tanh', 'early_stopping': True, 'hidden_layer_sizes': (10, 10, 10), 'learning_rate': 'constant', 'max_iter': 50, 'solver': 'adam', 'validation_fraction': 0.1}\n",
      "\n",
      "77.97%  for {'activation': 'tanh', 'early_stopping': True, 'hidden_layer_sizes': (10, 10, 10), 'learning_rate': 'constant', 'max_iter': 50, 'solver': 'adam', 'validation_fraction': 0.3}\n",
      "\n",
      "66.14%  for {'activation': 'tanh', 'early_stopping': True, 'hidden_layer_sizes': (10, 10, 10), 'learning_rate': 'constant', 'max_iter': 50, 'solver': 'sgd', 'validation_fraction': 0.1}\n",
      "\n",
      "64.59%  for {'activation': 'tanh', 'early_stopping': True, 'hidden_layer_sizes': (10, 10, 10), 'learning_rate': 'constant', 'max_iter': 50, 'solver': 'sgd', 'validation_fraction': 0.3}\n",
      "\n",
      "77.27000000000001%  for {'activation': 'tanh', 'early_stopping': True, 'hidden_layer_sizes': (10, 10, 10), 'learning_rate': 'constant', 'max_iter': 100, 'solver': 'adam', 'validation_fraction': 0.1}\n",
      "\n",
      "74.83999999999999%  for {'activation': 'tanh', 'early_stopping': True, 'hidden_layer_sizes': (10, 10, 10), 'learning_rate': 'constant', 'max_iter': 100, 'solver': 'adam', 'validation_fraction': 0.3}\n",
      "\n",
      "82.11%  for {'activation': 'tanh', 'early_stopping': True, 'hidden_layer_sizes': (10, 10, 10), 'learning_rate': 'constant', 'max_iter': 100, 'solver': 'sgd', 'validation_fraction': 0.1}\n",
      "\n",
      "79.7%  for {'activation': 'tanh', 'early_stopping': True, 'hidden_layer_sizes': (10, 10, 10), 'learning_rate': 'constant', 'max_iter': 100, 'solver': 'sgd', 'validation_fraction': 0.3}\n",
      "\n",
      "79.9%  for {'activation': 'tanh', 'early_stopping': True, 'hidden_layer_sizes': (10, 10, 10), 'learning_rate': 'adaptive', 'max_iter': 50, 'solver': 'adam', 'validation_fraction': 0.1}\n",
      "\n",
      "70.42%  for {'activation': 'tanh', 'early_stopping': True, 'hidden_layer_sizes': (10, 10, 10), 'learning_rate': 'adaptive', 'max_iter': 50, 'solver': 'adam', 'validation_fraction': 0.3}\n",
      "\n",
      "73.53%  for {'activation': 'tanh', 'early_stopping': True, 'hidden_layer_sizes': (10, 10, 10), 'learning_rate': 'adaptive', 'max_iter': 50, 'solver': 'sgd', 'validation_fraction': 0.1}\n",
      "\n",
      "66.09%  for {'activation': 'tanh', 'early_stopping': True, 'hidden_layer_sizes': (10, 10, 10), 'learning_rate': 'adaptive', 'max_iter': 50, 'solver': 'sgd', 'validation_fraction': 0.3}\n",
      "\n",
      "77.89%  for {'activation': 'tanh', 'early_stopping': True, 'hidden_layer_sizes': (10, 10, 10), 'learning_rate': 'adaptive', 'max_iter': 100, 'solver': 'adam', 'validation_fraction': 0.1}\n",
      "\n",
      "77.74%  for {'activation': 'tanh', 'early_stopping': True, 'hidden_layer_sizes': (10, 10, 10), 'learning_rate': 'adaptive', 'max_iter': 100, 'solver': 'adam', 'validation_fraction': 0.3}\n",
      "\n",
      "80.15%  for {'activation': 'tanh', 'early_stopping': True, 'hidden_layer_sizes': (10, 10, 10), 'learning_rate': 'adaptive', 'max_iter': 100, 'solver': 'sgd', 'validation_fraction': 0.1}\n",
      "\n",
      "78.74%  for {'activation': 'tanh', 'early_stopping': True, 'hidden_layer_sizes': (10, 10, 10), 'learning_rate': 'adaptive', 'max_iter': 100, 'solver': 'sgd', 'validation_fraction': 0.3}\n",
      "\n",
      "67.42%  for {'activation': 'relu', 'early_stopping': False, 'hidden_layer_sizes': (10,), 'learning_rate': 'constant', 'max_iter': 50, 'solver': 'adam', 'validation_fraction': 0.1}\n",
      "\n",
      "66.17%  for {'activation': 'relu', 'early_stopping': False, 'hidden_layer_sizes': (10,), 'learning_rate': 'constant', 'max_iter': 50, 'solver': 'adam', 'validation_fraction': 0.3}\n",
      "\n",
      "68.49%  for {'activation': 'relu', 'early_stopping': False, 'hidden_layer_sizes': (10,), 'learning_rate': 'constant', 'max_iter': 50, 'solver': 'sgd', 'validation_fraction': 0.1}\n",
      "\n",
      "75.44%  for {'activation': 'relu', 'early_stopping': False, 'hidden_layer_sizes': (10,), 'learning_rate': 'constant', 'max_iter': 50, 'solver': 'sgd', 'validation_fraction': 0.3}\n",
      "\n",
      "73.03%  for {'activation': 'relu', 'early_stopping': False, 'hidden_layer_sizes': (10,), 'learning_rate': 'constant', 'max_iter': 100, 'solver': 'adam', 'validation_fraction': 0.1}\n",
      "\n",
      "80.47%  for {'activation': 'relu', 'early_stopping': False, 'hidden_layer_sizes': (10,), 'learning_rate': 'constant', 'max_iter': 100, 'solver': 'adam', 'validation_fraction': 0.3}\n",
      "\n",
      "80.65%  for {'activation': 'relu', 'early_stopping': False, 'hidden_layer_sizes': (10,), 'learning_rate': 'constant', 'max_iter': 100, 'solver': 'sgd', 'validation_fraction': 0.1}\n",
      "\n",
      "79.75%  for {'activation': 'relu', 'early_stopping': False, 'hidden_layer_sizes': (10,), 'learning_rate': 'constant', 'max_iter': 100, 'solver': 'sgd', 'validation_fraction': 0.3}\n",
      "\n",
      "72.56%  for {'activation': 'relu', 'early_stopping': False, 'hidden_layer_sizes': (10,), 'learning_rate': 'adaptive', 'max_iter': 50, 'solver': 'adam', 'validation_fraction': 0.1}\n",
      "\n",
      "77.09%  for {'activation': 'relu', 'early_stopping': False, 'hidden_layer_sizes': (10,), 'learning_rate': 'adaptive', 'max_iter': 50, 'solver': 'adam', 'validation_fraction': 0.3}\n",
      "\n",
      "71.93%  for {'activation': 'relu', 'early_stopping': False, 'hidden_layer_sizes': (10,), 'learning_rate': 'adaptive', 'max_iter': 50, 'solver': 'sgd', 'validation_fraction': 0.1}\n",
      "\n",
      "73.41%  for {'activation': 'relu', 'early_stopping': False, 'hidden_layer_sizes': (10,), 'learning_rate': 'adaptive', 'max_iter': 50, 'solver': 'sgd', 'validation_fraction': 0.3}\n",
      "\n",
      "80.07%  for {'activation': 'relu', 'early_stopping': False, 'hidden_layer_sizes': (10,), 'learning_rate': 'adaptive', 'max_iter': 100, 'solver': 'adam', 'validation_fraction': 0.1}\n",
      "\n",
      "82.95%  for {'activation': 'relu', 'early_stopping': False, 'hidden_layer_sizes': (10,), 'learning_rate': 'adaptive', 'max_iter': 100, 'solver': 'adam', 'validation_fraction': 0.3}\n",
      "\n",
      "78.84%  for {'activation': 'relu', 'early_stopping': False, 'hidden_layer_sizes': (10,), 'learning_rate': 'adaptive', 'max_iter': 100, 'solver': 'sgd', 'validation_fraction': 0.1}\n",
      "\n",
      "80.72%  for {'activation': 'relu', 'early_stopping': False, 'hidden_layer_sizes': (10,), 'learning_rate': 'adaptive', 'max_iter': 100, 'solver': 'sgd', 'validation_fraction': 0.3}\n",
      "\n",
      "71.61%  for {'activation': 'relu', 'early_stopping': False, 'hidden_layer_sizes': (10, 10), 'learning_rate': 'constant', 'max_iter': 50, 'solver': 'adam', 'validation_fraction': 0.1}\n",
      "\n",
      "71.85000000000001%  for {'activation': 'relu', 'early_stopping': False, 'hidden_layer_sizes': (10, 10), 'learning_rate': 'constant', 'max_iter': 50, 'solver': 'adam', 'validation_fraction': 0.3}\n",
      "\n",
      "70.93%  for {'activation': 'relu', 'early_stopping': False, 'hidden_layer_sizes': (10, 10), 'learning_rate': 'constant', 'max_iter': 50, 'solver': 'sgd', 'validation_fraction': 0.1}\n",
      "\n",
      "69.35%  for {'activation': 'relu', 'early_stopping': False, 'hidden_layer_sizes': (10, 10), 'learning_rate': 'constant', 'max_iter': 50, 'solver': 'sgd', 'validation_fraction': 0.3}\n",
      "\n",
      "80.45%  for {'activation': 'relu', 'early_stopping': False, 'hidden_layer_sizes': (10, 10), 'learning_rate': 'constant', 'max_iter': 100, 'solver': 'adam', 'validation_fraction': 0.1}\n",
      "\n",
      "81.16%  for {'activation': 'relu', 'early_stopping': False, 'hidden_layer_sizes': (10, 10), 'learning_rate': 'constant', 'max_iter': 100, 'solver': 'adam', 'validation_fraction': 0.3}\n",
      "\n",
      "80.15%  for {'activation': 'relu', 'early_stopping': False, 'hidden_layer_sizes': (10, 10), 'learning_rate': 'constant', 'max_iter': 100, 'solver': 'sgd', 'validation_fraction': 0.1}\n",
      "\n",
      "79.53%  for {'activation': 'relu', 'early_stopping': False, 'hidden_layer_sizes': (10, 10), 'learning_rate': 'constant', 'max_iter': 100, 'solver': 'sgd', 'validation_fraction': 0.3}\n",
      "\n",
      "78.22%  for {'activation': 'relu', 'early_stopping': False, 'hidden_layer_sizes': (10, 10), 'learning_rate': 'adaptive', 'max_iter': 50, 'solver': 'adam', 'validation_fraction': 0.1}\n",
      "\n",
      "66.17%  for {'activation': 'relu', 'early_stopping': False, 'hidden_layer_sizes': (10, 10), 'learning_rate': 'adaptive', 'max_iter': 50, 'solver': 'adam', 'validation_fraction': 0.3}\n",
      "\n",
      "66.86999999999999%  for {'activation': 'relu', 'early_stopping': False, 'hidden_layer_sizes': (10, 10), 'learning_rate': 'adaptive', 'max_iter': 50, 'solver': 'sgd', 'validation_fraction': 0.1}\n",
      "\n",
      "68.89%  for {'activation': 'relu', 'early_stopping': False, 'hidden_layer_sizes': (10, 10), 'learning_rate': 'adaptive', 'max_iter': 50, 'solver': 'sgd', 'validation_fraction': 0.3}\n",
      "\n",
      "79.72%  for {'activation': 'relu', 'early_stopping': False, 'hidden_layer_sizes': (10, 10), 'learning_rate': 'adaptive', 'max_iter': 100, 'solver': 'adam', 'validation_fraction': 0.1}\n",
      "\n",
      "83.36%  for {'activation': 'relu', 'early_stopping': False, 'hidden_layer_sizes': (10, 10), 'learning_rate': 'adaptive', 'max_iter': 100, 'solver': 'adam', 'validation_fraction': 0.3}\n",
      "\n",
      "78.02%  for {'activation': 'relu', 'early_stopping': False, 'hidden_layer_sizes': (10, 10), 'learning_rate': 'adaptive', 'max_iter': 100, 'solver': 'sgd', 'validation_fraction': 0.1}\n",
      "\n",
      "79.83%  for {'activation': 'relu', 'early_stopping': False, 'hidden_layer_sizes': (10, 10), 'learning_rate': 'adaptive', 'max_iter': 100, 'solver': 'sgd', 'validation_fraction': 0.3}\n",
      "\n",
      "75.42%  for {'activation': 'relu', 'early_stopping': False, 'hidden_layer_sizes': (10, 10, 10), 'learning_rate': 'constant', 'max_iter': 50, 'solver': 'adam', 'validation_fraction': 0.1}\n",
      "\n",
      "71.23%  for {'activation': 'relu', 'early_stopping': False, 'hidden_layer_sizes': (10, 10, 10), 'learning_rate': 'constant', 'max_iter': 50, 'solver': 'adam', 'validation_fraction': 0.3}\n",
      "\n",
      "65.44%  for {'activation': 'relu', 'early_stopping': False, 'hidden_layer_sizes': (10, 10, 10), 'learning_rate': 'constant', 'max_iter': 50, 'solver': 'sgd', 'validation_fraction': 0.1}\n",
      "\n",
      "70.67999999999999%  for {'activation': 'relu', 'early_stopping': False, 'hidden_layer_sizes': (10, 10, 10), 'learning_rate': 'constant', 'max_iter': 50, 'solver': 'sgd', 'validation_fraction': 0.3}\n",
      "\n",
      "82.85%  for {'activation': 'relu', 'early_stopping': False, 'hidden_layer_sizes': (10, 10, 10), 'learning_rate': 'constant', 'max_iter': 100, 'solver': 'adam', 'validation_fraction': 0.1}\n",
      "\n",
      "77.29%  for {'activation': 'relu', 'early_stopping': False, 'hidden_layer_sizes': (10, 10, 10), 'learning_rate': 'constant', 'max_iter': 100, 'solver': 'adam', 'validation_fraction': 0.3}\n",
      "\n",
      "76.64%  for {'activation': 'relu', 'early_stopping': False, 'hidden_layer_sizes': (10, 10, 10), 'learning_rate': 'constant', 'max_iter': 100, 'solver': 'sgd', 'validation_fraction': 0.1}\n",
      "\n",
      "78.79%  for {'activation': 'relu', 'early_stopping': False, 'hidden_layer_sizes': (10, 10, 10), 'learning_rate': 'constant', 'max_iter': 100, 'solver': 'sgd', 'validation_fraction': 0.3}\n",
      "\n",
      "71.98%  for {'activation': 'relu', 'early_stopping': False, 'hidden_layer_sizes': (10, 10, 10), 'learning_rate': 'adaptive', 'max_iter': 50, 'solver': 'adam', 'validation_fraction': 0.1}\n",
      "\n",
      "77.42%  for {'activation': 'relu', 'early_stopping': False, 'hidden_layer_sizes': (10, 10, 10), 'learning_rate': 'adaptive', 'max_iter': 50, 'solver': 'adam', 'validation_fraction': 0.3}\n",
      "\n",
      "63.28%  for {'activation': 'relu', 'early_stopping': False, 'hidden_layer_sizes': (10, 10, 10), 'learning_rate': 'adaptive', 'max_iter': 50, 'solver': 'sgd', 'validation_fraction': 0.1}\n",
      "\n",
      "61.11%  for {'activation': 'relu', 'early_stopping': False, 'hidden_layer_sizes': (10, 10, 10), 'learning_rate': 'adaptive', 'max_iter': 50, 'solver': 'sgd', 'validation_fraction': 0.3}\n",
      "\n",
      "79.32000000000001%  for {'activation': 'relu', 'early_stopping': False, 'hidden_layer_sizes': (10, 10, 10), 'learning_rate': 'adaptive', 'max_iter': 100, 'solver': 'adam', 'validation_fraction': 0.1}\n",
      "\n",
      "76.67%  for {'activation': 'relu', 'early_stopping': False, 'hidden_layer_sizes': (10, 10, 10), 'learning_rate': 'adaptive', 'max_iter': 100, 'solver': 'adam', 'validation_fraction': 0.3}\n",
      "\n",
      "78.35%  for {'activation': 'relu', 'early_stopping': False, 'hidden_layer_sizes': (10, 10, 10), 'learning_rate': 'adaptive', 'max_iter': 100, 'solver': 'sgd', 'validation_fraction': 0.1}\n",
      "\n",
      "77.7%  for {'activation': 'relu', 'early_stopping': False, 'hidden_layer_sizes': (10, 10, 10), 'learning_rate': 'adaptive', 'max_iter': 100, 'solver': 'sgd', 'validation_fraction': 0.3}\n",
      "\n",
      "73.61%  for {'activation': 'relu', 'early_stopping': True, 'hidden_layer_sizes': (10,), 'learning_rate': 'constant', 'max_iter': 50, 'solver': 'adam', 'validation_fraction': 0.1}\n",
      "\n",
      "72.03%  for {'activation': 'relu', 'early_stopping': True, 'hidden_layer_sizes': (10,), 'learning_rate': 'constant', 'max_iter': 50, 'solver': 'adam', 'validation_fraction': 0.3}\n",
      "\n",
      "68.25%  for {'activation': 'relu', 'early_stopping': True, 'hidden_layer_sizes': (10,), 'learning_rate': 'constant', 'max_iter': 50, 'solver': 'sgd', 'validation_fraction': 0.1}\n",
      "\n",
      "67.24%  for {'activation': 'relu', 'early_stopping': True, 'hidden_layer_sizes': (10,), 'learning_rate': 'constant', 'max_iter': 50, 'solver': 'sgd', 'validation_fraction': 0.3}\n",
      "\n",
      "81.13%  for {'activation': 'relu', 'early_stopping': True, 'hidden_layer_sizes': (10,), 'learning_rate': 'constant', 'max_iter': 100, 'solver': 'adam', 'validation_fraction': 0.1}\n",
      "\n",
      "76.92%  for {'activation': 'relu', 'early_stopping': True, 'hidden_layer_sizes': (10,), 'learning_rate': 'constant', 'max_iter': 100, 'solver': 'adam', 'validation_fraction': 0.3}\n",
      "\n",
      "76.81%  for {'activation': 'relu', 'early_stopping': True, 'hidden_layer_sizes': (10,), 'learning_rate': 'constant', 'max_iter': 100, 'solver': 'sgd', 'validation_fraction': 0.1}\n",
      "\n",
      "77.3%  for {'activation': 'relu', 'early_stopping': True, 'hidden_layer_sizes': (10,), 'learning_rate': 'constant', 'max_iter': 100, 'solver': 'sgd', 'validation_fraction': 0.3}\n",
      "\n",
      "64.19%  for {'activation': 'relu', 'early_stopping': True, 'hidden_layer_sizes': (10,), 'learning_rate': 'adaptive', 'max_iter': 50, 'solver': 'adam', 'validation_fraction': 0.1}\n",
      "\n",
      "66.51%  for {'activation': 'relu', 'early_stopping': True, 'hidden_layer_sizes': (10,), 'learning_rate': 'adaptive', 'max_iter': 50, 'solver': 'adam', 'validation_fraction': 0.3}\n",
      "\n",
      "72.98%  for {'activation': 'relu', 'early_stopping': True, 'hidden_layer_sizes': (10,), 'learning_rate': 'adaptive', 'max_iter': 50, 'solver': 'sgd', 'validation_fraction': 0.1}\n",
      "\n",
      "65.34%  for {'activation': 'relu', 'early_stopping': True, 'hidden_layer_sizes': (10,), 'learning_rate': 'adaptive', 'max_iter': 50, 'solver': 'sgd', 'validation_fraction': 0.3}\n",
      "\n",
      "80.23%  for {'activation': 'relu', 'early_stopping': True, 'hidden_layer_sizes': (10,), 'learning_rate': 'adaptive', 'max_iter': 100, 'solver': 'adam', 'validation_fraction': 0.1}\n",
      "\n",
      "78.85%  for {'activation': 'relu', 'early_stopping': True, 'hidden_layer_sizes': (10,), 'learning_rate': 'adaptive', 'max_iter': 100, 'solver': 'adam', 'validation_fraction': 0.3}\n",
      "\n",
      "80.33%  for {'activation': 'relu', 'early_stopping': True, 'hidden_layer_sizes': (10,), 'learning_rate': 'adaptive', 'max_iter': 100, 'solver': 'sgd', 'validation_fraction': 0.1}\n",
      "\n",
      "76.51%  for {'activation': 'relu', 'early_stopping': True, 'hidden_layer_sizes': (10,), 'learning_rate': 'adaptive', 'max_iter': 100, 'solver': 'sgd', 'validation_fraction': 0.3}\n",
      "\n",
      "79.47999999999999%  for {'activation': 'relu', 'early_stopping': True, 'hidden_layer_sizes': (10, 10), 'learning_rate': 'constant', 'max_iter': 50, 'solver': 'adam', 'validation_fraction': 0.1}\n",
      "\n",
      "78.42%  for {'activation': 'relu', 'early_stopping': True, 'hidden_layer_sizes': (10, 10), 'learning_rate': 'constant', 'max_iter': 50, 'solver': 'adam', 'validation_fraction': 0.3}\n",
      "\n",
      "66.89%  for {'activation': 'relu', 'early_stopping': True, 'hidden_layer_sizes': (10, 10), 'learning_rate': 'constant', 'max_iter': 50, 'solver': 'sgd', 'validation_fraction': 0.1}\n",
      "\n",
      "66.52%  for {'activation': 'relu', 'early_stopping': True, 'hidden_layer_sizes': (10, 10), 'learning_rate': 'constant', 'max_iter': 50, 'solver': 'sgd', 'validation_fraction': 0.3}\n",
      "\n",
      "79.58%  for {'activation': 'relu', 'early_stopping': True, 'hidden_layer_sizes': (10, 10), 'learning_rate': 'constant', 'max_iter': 100, 'solver': 'adam', 'validation_fraction': 0.1}\n",
      "\n",
      "82.03%  for {'activation': 'relu', 'early_stopping': True, 'hidden_layer_sizes': (10, 10), 'learning_rate': 'constant', 'max_iter': 100, 'solver': 'adam', 'validation_fraction': 0.3}\n",
      "\n",
      "79.35%  for {'activation': 'relu', 'early_stopping': True, 'hidden_layer_sizes': (10, 10), 'learning_rate': 'constant', 'max_iter': 100, 'solver': 'sgd', 'validation_fraction': 0.1}\n",
      "\n",
      "78.39%  for {'activation': 'relu', 'early_stopping': True, 'hidden_layer_sizes': (10, 10), 'learning_rate': 'constant', 'max_iter': 100, 'solver': 'sgd', 'validation_fraction': 0.3}\n",
      "\n",
      "66.21000000000001%  for {'activation': 'relu', 'early_stopping': True, 'hidden_layer_sizes': (10, 10), 'learning_rate': 'adaptive', 'max_iter': 50, 'solver': 'adam', 'validation_fraction': 0.1}\n",
      "\n",
      "73.21%  for {'activation': 'relu', 'early_stopping': True, 'hidden_layer_sizes': (10, 10), 'learning_rate': 'adaptive', 'max_iter': 50, 'solver': 'adam', 'validation_fraction': 0.3}\n",
      "\n",
      "70.38%  for {'activation': 'relu', 'early_stopping': True, 'hidden_layer_sizes': (10, 10), 'learning_rate': 'adaptive', 'max_iter': 50, 'solver': 'sgd', 'validation_fraction': 0.1}\n",
      "\n",
      "67.45%  for {'activation': 'relu', 'early_stopping': True, 'hidden_layer_sizes': (10, 10), 'learning_rate': 'adaptive', 'max_iter': 50, 'solver': 'sgd', 'validation_fraction': 0.3}\n",
      "\n",
      "65.24%  for {'activation': 'relu', 'early_stopping': True, 'hidden_layer_sizes': (10, 10), 'learning_rate': 'adaptive', 'max_iter': 100, 'solver': 'adam', 'validation_fraction': 0.1}\n",
      "\n",
      "67.49000000000001%  for {'activation': 'relu', 'early_stopping': True, 'hidden_layer_sizes': (10, 10), 'learning_rate': 'adaptive', 'max_iter': 100, 'solver': 'adam', 'validation_fraction': 0.3}\n",
      "\n",
      "79.62%  for {'activation': 'relu', 'early_stopping': True, 'hidden_layer_sizes': (10, 10), 'learning_rate': 'adaptive', 'max_iter': 100, 'solver': 'sgd', 'validation_fraction': 0.1}\n",
      "\n",
      "76.21%  for {'activation': 'relu', 'early_stopping': True, 'hidden_layer_sizes': (10, 10), 'learning_rate': 'adaptive', 'max_iter': 100, 'solver': 'sgd', 'validation_fraction': 0.3}\n",
      "\n",
      "76.07000000000001%  for {'activation': 'relu', 'early_stopping': True, 'hidden_layer_sizes': (10, 10, 10), 'learning_rate': 'constant', 'max_iter': 50, 'solver': 'adam', 'validation_fraction': 0.1}\n",
      "\n",
      "72.39999999999999%  for {'activation': 'relu', 'early_stopping': True, 'hidden_layer_sizes': (10, 10, 10), 'learning_rate': 'constant', 'max_iter': 50, 'solver': 'adam', 'validation_fraction': 0.3}\n",
      "\n",
      "67.80000000000001%  for {'activation': 'relu', 'early_stopping': True, 'hidden_layer_sizes': (10, 10, 10), 'learning_rate': 'constant', 'max_iter': 50, 'solver': 'sgd', 'validation_fraction': 0.1}\n",
      "\n",
      "49.419999999999995%  for {'activation': 'relu', 'early_stopping': True, 'hidden_layer_sizes': (10, 10, 10), 'learning_rate': 'constant', 'max_iter': 50, 'solver': 'sgd', 'validation_fraction': 0.3}\n",
      "\n",
      "76.77000000000001%  for {'activation': 'relu', 'early_stopping': True, 'hidden_layer_sizes': (10, 10, 10), 'learning_rate': 'constant', 'max_iter': 100, 'solver': 'adam', 'validation_fraction': 0.1}\n",
      "\n",
      "81.81%  for {'activation': 'relu', 'early_stopping': True, 'hidden_layer_sizes': (10, 10, 10), 'learning_rate': 'constant', 'max_iter': 100, 'solver': 'adam', 'validation_fraction': 0.3}\n",
      "\n",
      "69.83%  for {'activation': 'relu', 'early_stopping': True, 'hidden_layer_sizes': (10, 10, 10), 'learning_rate': 'constant', 'max_iter': 100, 'solver': 'sgd', 'validation_fraction': 0.1}\n",
      "\n",
      "56.42%  for {'activation': 'relu', 'early_stopping': True, 'hidden_layer_sizes': (10, 10, 10), 'learning_rate': 'constant', 'max_iter': 100, 'solver': 'sgd', 'validation_fraction': 0.3}\n",
      "\n",
      "77.4%  for {'activation': 'relu', 'early_stopping': True, 'hidden_layer_sizes': (10, 10, 10), 'learning_rate': 'adaptive', 'max_iter': 50, 'solver': 'adam', 'validation_fraction': 0.1}\n",
      "\n",
      "71.21%  for {'activation': 'relu', 'early_stopping': True, 'hidden_layer_sizes': (10, 10, 10), 'learning_rate': 'adaptive', 'max_iter': 50, 'solver': 'adam', 'validation_fraction': 0.3}\n",
      "\n",
      "71.73%  for {'activation': 'relu', 'early_stopping': True, 'hidden_layer_sizes': (10, 10, 10), 'learning_rate': 'adaptive', 'max_iter': 50, 'solver': 'sgd', 'validation_fraction': 0.1}\n",
      "\n",
      "58.74%  for {'activation': 'relu', 'early_stopping': True, 'hidden_layer_sizes': (10, 10, 10), 'learning_rate': 'adaptive', 'max_iter': 50, 'solver': 'sgd', 'validation_fraction': 0.3}\n",
      "\n",
      "79.62%  for {'activation': 'relu', 'early_stopping': True, 'hidden_layer_sizes': (10, 10, 10), 'learning_rate': 'adaptive', 'max_iter': 100, 'solver': 'adam', 'validation_fraction': 0.1}\n",
      "\n",
      "78.19%  for {'activation': 'relu', 'early_stopping': True, 'hidden_layer_sizes': (10, 10, 10), 'learning_rate': 'adaptive', 'max_iter': 100, 'solver': 'adam', 'validation_fraction': 0.3}\n",
      "\n",
      "69.43%  for {'activation': 'relu', 'early_stopping': True, 'hidden_layer_sizes': (10, 10, 10), 'learning_rate': 'adaptive', 'max_iter': 100, 'solver': 'sgd', 'validation_fraction': 0.1}\n",
      "\n",
      "76.16000000000001%  for {'activation': 'relu', 'early_stopping': True, 'hidden_layer_sizes': (10, 10, 10), 'learning_rate': 'adaptive', 'max_iter': 100, 'solver': 'sgd', 'validation_fraction': 0.3}\n",
      "\n"
     ]
    }
   ],
   "source": [
    "mlp = MLPClassifier()\n",
    "parameters = {\n",
    "    'activation' : ['logistic', 'tanh', 'relu'],\n",
    "    'hidden_layer_sizes' : [(10,), (10, 10), (10, 10, 10)],\n",
    "    'solver' : ['adam', 'sgd'],\n",
    "    'early_stopping' : [False, True],\n",
    "    'learning_rate' : ['constant', 'adaptive'],\n",
    "    'validation_fraction' : [0.1, 0.3], \n",
    "    'max_iter': [50, 100],   \n",
    "}\n",
    "\n",
    "\n",
    "cv = GridSearchCV(mlp, parameters, scoring='accuracy', cv=5)\n",
    "\n",
    "\n",
    "cv.fit(normalized_df, train_y_df.values.ravel())\n",
    "print_result(cv)"
   ]
  },
  {
   "cell_type": "markdown",
   "id": "b110b19f",
   "metadata": {},
   "source": [
    "### RANDOM SEARCH"
   ]
  },
  {
   "cell_type": "code",
   "execution_count": 57,
   "id": "0fa412dc",
   "metadata": {},
   "outputs": [
    {
     "name": "stdout",
     "output_type": "stream",
     "text": [
      "BEST PARAMS: {'learning_rate': 'constant', 'hidden_layer_sizes': (100,), 'alpha': 0.001, 'activation': 'tanh'} \n",
      "\n",
      "Mean Accuracies of hyperparameter combinations:\n",
      "84.68%  for {'learning_rate': 'adaptive', 'hidden_layer_sizes': (50,), 'alpha': 0.001, 'activation': 'relu'}\n",
      "\n",
      "86.64%  for {'learning_rate': 'constant', 'hidden_layer_sizes': (100,), 'alpha': 0.001, 'activation': 'tanh'}\n",
      "\n",
      "85.11%  for {'learning_rate': 'adaptive', 'hidden_layer_sizes': (100, 50), 'alpha': 0.01, 'activation': 'relu'}\n",
      "\n",
      "85.27%  for {'learning_rate': 'adaptive', 'hidden_layer_sizes': (100, 50), 'alpha': 0.001, 'activation': 'relu'}\n",
      "\n",
      "86.17%  for {'learning_rate': 'constant', 'hidden_layer_sizes': (100,), 'alpha': 0.01, 'activation': 'relu'}\n",
      "\n",
      "85.76%  for {'learning_rate': 'constant', 'hidden_layer_sizes': (50, 50), 'alpha': 0.0001, 'activation': 'relu'}\n",
      "\n",
      "85.39%  for {'learning_rate': 'adaptive', 'hidden_layer_sizes': (50, 50), 'alpha': 0.001, 'activation': 'relu'}\n",
      "\n",
      "85.11%  for {'learning_rate': 'constant', 'hidden_layer_sizes': (100,), 'alpha': 0.01, 'activation': 'tanh'}\n",
      "\n",
      "85.14%  for {'learning_rate': 'adaptive', 'hidden_layer_sizes': (100,), 'alpha': 0.0001, 'activation': 'relu'}\n",
      "\n",
      "86.11%  for {'learning_rate': 'constant', 'hidden_layer_sizes': (100, 50), 'alpha': 0.0001, 'activation': 'tanh'}\n",
      "\n"
     ]
    }
   ],
   "source": [
    "from sklearn.model_selection import RandomizedSearchCV\n",
    "from scipy.stats import randint\n",
    "\n",
    "param_dist = {\n",
    "    'hidden_layer_sizes': [(50,), (100,), (50, 50), (100, 50)],\n",
    "    'activation': ['relu', 'tanh'],\n",
    "    'alpha': [0.0001, 0.001, 0.01],\n",
    "    'learning_rate': ['constant', 'adaptive'],\n",
    "}\n",
    "\n",
    "\n",
    "random_search = RandomizedSearchCV(mlp, param_distributions=param_dist, n_iter=10, cv=5)\n",
    "random_search.fit(normalized_df, train_y_df.values.ravel())\n",
    "best_params = random_search.best_params_\n",
    "print_result(random_search)"
   ]
  },
  {
   "cell_type": "markdown",
   "id": "b2e5812d",
   "metadata": {},
   "source": [
    "# Implementation of CNN"
   ]
  },
  {
   "cell_type": "markdown",
   "id": "35ba8966",
   "metadata": {},
   "source": [
    "## CNN without layers"
   ]
  },
  {
   "cell_type": "code",
   "execution_count": 110,
   "id": "c6b6cd08",
   "metadata": {},
   "outputs": [
    {
     "name": "stdout",
     "output_type": "stream",
     "text": [
      "CNN regression for dataset that has not been oversampled\n",
      "Epoch 1/10\n",
      "151/151 [==============================] - 6s 30ms/step - loss: 1.9535 - mse: 1.9535\n",
      "Epoch 2/10\n",
      "151/151 [==============================] - 5s 36ms/step - loss: 0.8540 - mse: 0.8540\n",
      "Epoch 3/10\n",
      "151/151 [==============================] - 5s 31ms/step - loss: 0.5776 - mse: 0.5776\n",
      "Epoch 4/10\n",
      "151/151 [==============================] - 5s 32ms/step - loss: 0.4895 - mse: 0.4895\n",
      "Epoch 5/10\n",
      "151/151 [==============================] - 5s 32ms/step - loss: 0.4279 - mse: 0.4279\n",
      "Epoch 6/10\n",
      "151/151 [==============================] - 5s 31ms/step - loss: 0.3688 - mse: 0.3688\n",
      "Epoch 7/10\n",
      "151/151 [==============================] - 5s 31ms/step - loss: 0.3229 - mse: 0.3229\n",
      "Epoch 8/10\n",
      "151/151 [==============================] - 5s 34ms/step - loss: 0.2902 - mse: 0.2902\n",
      "Epoch 9/10\n",
      "151/151 [==============================] - 6s 38ms/step - loss: 0.2714 - mse: 0.2714\n",
      "Epoch 10/10\n",
      "151/151 [==============================] - 5s 30ms/step - loss: 0.2459 - mse: 0.2459\n",
      "38/38 [==============================] - 1s 15ms/step\n",
      "Performance without cross-validation:\n",
      "MSE: 0.4522586514867507\n",
      "R-squared: 0.849809739029128\n",
      "18/18 [==============================] - 0s 15ms/step\n",
      "18/18 [==============================] - 0s 16ms/step\n",
      "18/18 [==============================] - 0s 21ms/step\n",
      "18/18 [==============================] - 0s 21ms/step\n",
      "18/18 [==============================] - 1s 22ms/step\n",
      "18/18 [==============================] - 0s 22ms/step\n",
      "18/18 [==============================] - 0s 16ms/step\n",
      "18/18 [==============================] - 0s 14ms/step\n",
      "18/18 [==============================] - 0s 10ms/step\n",
      "18/18 [==============================] - 0s 10ms/step\n",
      "\n",
      "Performance with Time Series Cross-Validation:\n",
      "Average MSE: 2.961875703775843\n",
      "Average R-squared: -26.466459132206573\n",
      "CNN regression for dataset that has been oversampled\n",
      "Epoch 1/10\n",
      "410/410 [==============================] - 13s 30ms/step - loss: 1.5228 - mse: 1.5228\n",
      "Epoch 2/10\n",
      "410/410 [==============================] - 13s 33ms/step - loss: 0.3740 - mse: 0.3740\n",
      "Epoch 3/10\n",
      "410/410 [==============================] - 10s 24ms/step - loss: 0.3077 - mse: 0.3077\n",
      "Epoch 4/10\n",
      "410/410 [==============================] - 18s 43ms/step - loss: 0.2405 - mse: 0.2405\n",
      "Epoch 5/10\n",
      "410/410 [==============================] - 14s 34ms/step - loss: 0.1927 - mse: 0.1927\n",
      "Epoch 6/10\n",
      "410/410 [==============================] - 10s 24ms/step - loss: 0.1863 - mse: 0.1863\n",
      "Epoch 7/10\n",
      "410/410 [==============================] - 10s 24ms/step - loss: 0.1599 - mse: 0.1599\n",
      "Epoch 8/10\n",
      "410/410 [==============================] - 12s 30ms/step - loss: 0.1517 - mse: 0.1517\n",
      "Epoch 9/10\n",
      "410/410 [==============================] - 18s 43ms/step - loss: 0.1358 - mse: 0.1358\n",
      "Epoch 10/10\n",
      "410/410 [==============================] - 15s 37ms/step - loss: 0.1254 - mse: 0.1254\n",
      "103/103 [==============================] - 2s 13ms/step\n",
      "Performance without cross-validation:\n",
      "MSE: 0.15569934304892644\n",
      "R-squared: 0.9807425721989764\n",
      "47/47 [==============================] - 1s 10ms/step\n",
      "47/47 [==============================] - 0s 9ms/step\n",
      "47/47 [==============================] - 1s 13ms/step\n",
      "47/47 [==============================] - 1s 14ms/step\n",
      "47/47 [==============================] - 1s 16ms/step\n",
      "47/47 [==============================] - 1s 18ms/step\n",
      "47/47 [==============================] - 1s 17ms/step\n",
      "47/47 [==============================] - 1s 21ms/step\n",
      "47/47 [==============================] - 1s 16ms/step\n",
      "47/47 [==============================] - 1s 18ms/step\n",
      "\n",
      "Performance with Time Series Cross-Validation:\n",
      "Average MSE: 1.2835283085250933\n",
      "Average R-squared: -2.4909279677447875\n"
     ]
    }
   ],
   "source": [
    "from sklearn.model_selection import train_test_split, TimeSeriesSplit, cross_val_score\n",
    "from sklearn.metrics import mean_squared_error, r2_score\n",
    "from tensorflow.keras.models import Sequential\n",
    "from tensorflow.keras.layers import Conv1D, Flatten, Dense\n",
    "import numpy as np\n",
    "\n",
    "def cnn_regression(X_cnn_df, y_cnn_df, cv=False):\n",
    "    # Reshape input data for CNN (assuming X_cnn_df is 2D)\n",
    "    X_cnn_df_reshaped = X_cnn_df.values.reshape(X_cnn_df.shape[0], X_cnn_df.shape[1], 1)\n",
    "\n",
    "    # Split the data into training and test sets\n",
    "    X_train, X_test, y_train, y_test = train_test_split(X_cnn_df_reshaped, y_cnn_df, test_size=0.2, random_state=42)\n",
    "\n",
    "    # Create a simple CNN model for 1D data\n",
    "    input_shape = (X_cnn_df_reshaped.shape[1], 1)\n",
    "    model = create_model(input_shape)\n",
    "\n",
    "    # Without cross-validation\n",
    "    model.fit(X_train, y_train, epochs=10, batch_size=32, verbose=1)\n",
    "    cnn_predictions = model.predict(X_test)\n",
    "\n",
    "    # Evaluate performance without cross-validation\n",
    "    mse_without_cv = mean_squared_error(y_test, cnn_predictions)\n",
    "    r2_without_cv = r2_score(y_test, cnn_predictions)\n",
    "    print(\"Performance without cross-validation:\")\n",
    "    print(\"MSE:\", mse_without_cv)\n",
    "    print(\"R-squared:\", r2_without_cv)\n",
    "\n",
    "    if cv:\n",
    "        # Perform Time Series Cross-Validation\n",
    "        tscv = TimeSeriesSplit(n_splits=10)\n",
    "        cv_mse_scores = []\n",
    "        cv_r2_scores = []\n",
    "\n",
    "        for train_index, test_index in tscv.split(X_cnn_df_reshaped):\n",
    "            X_train_fold, X_test_fold = X_cnn_df_reshaped[train_index], X_cnn_df_reshaped[test_index]\n",
    "\n",
    "            # Handle y_cnn_df based on its type (DataFrame or NumPy array)\n",
    "            if isinstance(y_cnn_df, pd.DataFrame):\n",
    "                y_train_fold, y_test_fold = y_cnn_df.iloc[train_index], y_cnn_df.iloc[test_index]\n",
    "            else:\n",
    "                y_train_fold, y_test_fold = y_cnn_df[train_index], y_cnn_df[test_index]\n",
    "\n",
    "            model = create_model(input_shape)\n",
    "            model.fit(X_train_fold, y_train_fold, epochs=10, batch_size=32, verbose=0)\n",
    "\n",
    "            predictions_fold = model.predict(X_test_fold)\n",
    "            mse_fold = mean_squared_error(y_test_fold, predictions_fold)\n",
    "            r2_fold = r2_score(y_test_fold, predictions_fold)\n",
    "\n",
    "            cv_mse_scores.append(mse_fold)\n",
    "            cv_r2_scores.append(r2_fold)\n",
    "\n",
    "        print(\"\\nPerformance with Time Series Cross-Validation:\")\n",
    "        print(\"Average MSE:\", np.mean(cv_mse_scores))\n",
    "        print(\"Average R-squared:\", np.mean(cv_r2_scores))\n",
    "\n",
    "# normalized_df and train_y_df are input features and target values\n",
    "print(\"CNN regression for dataset that has not been oversampled\")\n",
    "cnn_regression(normalized_df, train_y_df, cv=True)\n",
    "\n",
    "# X and y are oversampled input features and target values\n",
    "print(\"CNN regression for dataset that has been oversampled\")\n",
    "cnn_regression(X, y, cv=True)\n",
    "\n"
   ]
  },
  {
   "cell_type": "code",
   "execution_count": 111,
   "id": "cadd30d1",
   "metadata": {},
   "outputs": [
    {
     "name": "stdout",
     "output_type": "stream",
     "text": [
      "CNN regression for dataset that has been oversampled\n",
      "Epoch 1/10\n",
      "151/151 [==============================] - 8s 35ms/step - loss: 1.9077 - mse: 1.9077\n",
      "Epoch 2/10\n",
      "151/151 [==============================] - 4s 28ms/step - loss: 0.8365 - mse: 0.8365\n",
      "Epoch 3/10\n",
      "151/151 [==============================] - 5s 34ms/step - loss: 0.6741 - mse: 0.6741\n",
      "Epoch 4/10\n",
      "151/151 [==============================] - 5s 30ms/step - loss: 0.5589 - mse: 0.5589\n",
      "Epoch 5/10\n",
      "151/151 [==============================] - 5s 34ms/step - loss: 0.4694 - mse: 0.4694\n",
      "Epoch 6/10\n",
      "151/151 [==============================] - 5s 33ms/step - loss: 0.4449 - mse: 0.4449\n",
      "Epoch 7/10\n",
      "151/151 [==============================] - 5s 33ms/step - loss: 0.3929 - mse: 0.3929\n",
      "Epoch 8/10\n",
      "151/151 [==============================] - 6s 38ms/step - loss: 0.3998 - mse: 0.3998\n",
      "Epoch 9/10\n",
      "151/151 [==============================] - 6s 39ms/step - loss: 0.3466 - mse: 0.3466\n",
      "Epoch 10/10\n",
      "151/151 [==============================] - 6s 38ms/step - loss: 0.3266 - mse: 0.3266\n",
      "38/38 [==============================] - 1s 13ms/step\n",
      "Performance without cross-validation:\n",
      "MSE: 0.465060478282684\n",
      "R-squared: 0.8455583892737073\n",
      "18/18 [==============================] - 1s 11ms/step\n",
      "18/18 [==============================] - 0s 11ms/step\n",
      "18/18 [==============================] - 0s 20ms/step\n",
      "18/18 [==============================] - 1s 20ms/step\n",
      "18/18 [==============================] - 1s 15ms/step\n",
      "18/18 [==============================] - 0s 14ms/step\n",
      "18/18 [==============================] - 0s 12ms/step\n",
      "18/18 [==============================] - 0s 16ms/step\n",
      "18/18 [==============================] - 1s 22ms/step\n",
      "18/18 [==============================] - 0s 20ms/step\n",
      "\n",
      "Performance with Time Series Cross-Validation:\n",
      "Average MSE: 2.9538315080392534\n",
      "Average R-squared: -26.240830164117334\n"
     ]
    }
   ],
   "source": [
    "# X and y are oversampled input features and target values\n",
    "print(\"CNN regression for dataset that has been oversampled\")\n",
    "cnn_regression(normalized_df, train_y_df, cv=True)"
   ]
  },
  {
   "cell_type": "markdown",
   "id": "adc4b548",
   "metadata": {},
   "source": [
    "## CNN with layers"
   ]
  },
  {
   "cell_type": "code",
   "execution_count": 114,
   "id": "396b4a37",
   "metadata": {},
   "outputs": [],
   "source": [
    "from sklearn.model_selection import train_test_split, TimeSeriesSplit\n",
    "from sklearn.metrics import mean_squared_error, r2_score\n",
    "from tensorflow.keras.models import Sequential\n",
    "from tensorflow.keras.layers import Conv1D, MaxPooling1D, Flatten, Dense\n",
    "import numpy as np\n",
    "\n",
    "def create_model(input_shape):\n",
    "    model = Sequential()\n",
    "    #model.add(Conv1D(64, kernel_size=3, activation='relu', input_shape=input_shape))\n",
    "    model.add(MaxPooling1D(pool_size=2))\n",
    "    model.add(Conv1D(32, kernel_size=3, activation='relu', input_shape=input_shape))\n",
    "    model.add(Flatten())\n",
    "    #model.add(Dense(16, activation='relu'))\n",
    "    model.add(Dense(1))  # Output layer with 1 neuron for regression task\n",
    "    model.compile(optimizer='adam', loss='mean_squared_error', metrics=['mse'])\n",
    "    return model\n",
    "\n",
    "def cnn_regression(X_cnn_df, y_cnn_df, cv=False):\n",
    "    # Reshape input data for CNN \n",
    "    X_cnn_df_reshaped = X_cnn_df.values.reshape(X_cnn_df.shape[0], X_cnn_df.shape[1], 1)\n",
    "\n",
    "    # Split the data into training and test sets\n",
    "    X_train, X_test, y_train, y_test = train_test_split(X_cnn_df_reshaped, y_cnn_df, test_size=0.2, random_state=42)\n",
    "\n",
    "    # Create a CNN model for 1D data with varied layers\n",
    "    input_shape = (X_cnn_df_reshaped.shape[1], 1)\n",
    "    model = create_model(input_shape)\n",
    "\n",
    "    # Without cross-validation\n",
    "    model.fit(X_train, y_train, epochs=10, batch_size=32, verbose=1)\n",
    "    cnn_predictions = model.predict(X_test)\n",
    "\n",
    "    # Evaluate performance without cross-validation\n",
    "    mse_without_cv = mean_squared_error(y_test, cnn_predictions)\n",
    "    r2_without_cv = r2_score(y_test, cnn_predictions)\n",
    "    print(\"Performance without cross-validation:\")\n",
    "    print(\"MSE:\", mse_without_cv)\n",
    "    print(\"R-squared:\", r2_without_cv)\n",
    "\n",
    "    if cv:\n",
    "        # Perform Time Series Cross-Validation\n",
    "        tscv = TimeSeriesSplit(n_splits=10)\n",
    "        cv_mse_scores = []\n",
    "        cv_r2_scores = []\n",
    "\n",
    "        for train_index, test_index in tscv.split(X_cnn_df_reshaped):\n",
    "            X_train_fold, X_test_fold = X_cnn_df_reshaped[train_index], X_cnn_df_reshaped[test_index]\n",
    "\n",
    "            # Handle y_cnn_df based on its type (DataFrame or NumPy array)\n",
    "            if isinstance(y_cnn_df, pd.DataFrame):\n",
    "                y_train_fold, y_test_fold = y_cnn_df.iloc[train_index], y_cnn_df.iloc[test_index]\n",
    "            else:\n",
    "                y_train_fold, y_test_fold = y_cnn_df[train_index], y_cnn_df[test_index]\n",
    "\n",
    "            model = create_model(input_shape)\n",
    "            model.fit(X_train_fold, y_train_fold, epochs=10, batch_size=32, verbose=0)\n",
    "\n",
    "            predictions_fold = model.predict(X_test_fold)\n",
    "            mse_fold = mean_squared_error(y_test_fold, predictions_fold)\n",
    "            r2_fold = r2_score(y_test_fold, predictions_fold)\n",
    "\n",
    "            cv_mse_scores.append(mse_fold)\n",
    "            cv_r2_scores.append(r2_fold)\n",
    "\n",
    "        print(\"\\nPerformance with Time Series Cross-Validation:\")\n",
    "        print(\"Average MSE:\", np.mean(cv_mse_scores))\n",
    "        print(\"Average R-squared:\", np.mean(cv_r2_scores))\n"
   ]
  },
  {
   "cell_type": "code",
   "execution_count": 115,
   "id": "54686ff1",
   "metadata": {},
   "outputs": [
    {
     "name": "stdout",
     "output_type": "stream",
     "text": [
      "CNN regression for dataset that has not been oversampled\n",
      "Epoch 1/10\n",
      "151/151 [==============================] - 8s 28ms/step - loss: 1.9049 - mse: 1.9049\n",
      "Epoch 2/10\n",
      "151/151 [==============================] - 4s 25ms/step - loss: 0.8560 - mse: 0.8560\n",
      "Epoch 3/10\n",
      "151/151 [==============================] - 3s 19ms/step - loss: 0.6326 - mse: 0.6326\n",
      "Epoch 4/10\n",
      "151/151 [==============================] - 3s 21ms/step - loss: 0.5260 - mse: 0.5260\n",
      "Epoch 5/10\n",
      "151/151 [==============================] - 3s 21ms/step - loss: 0.5001 - mse: 0.5001\n",
      "Epoch 6/10\n",
      "151/151 [==============================] - 3s 19ms/step - loss: 0.4596 - mse: 0.4596\n",
      "Epoch 7/10\n",
      "151/151 [==============================] - 3s 18ms/step - loss: 0.4412 - mse: 0.4412\n",
      "Epoch 8/10\n",
      "151/151 [==============================] - 3s 17ms/step - loss: 0.4025 - mse: 0.4025\n",
      "Epoch 9/10\n",
      "151/151 [==============================] - 3s 23ms/step - loss: 0.3853 - mse: 0.3853\n",
      "Epoch 10/10\n",
      "151/151 [==============================] - 3s 21ms/step - loss: 0.3656 - mse: 0.3656\n",
      "38/38 [==============================] - 1s 13ms/step\n",
      "Performance without cross-validation:\n",
      "MSE: 0.5036649253763475\n",
      "R-squared: 0.8327382652925004\n",
      "18/18 [==============================] - 0s 8ms/step\n",
      "18/18 [==============================] - 0s 8ms/step\n",
      "18/18 [==============================] - 0s 8ms/step\n",
      "18/18 [==============================] - 0s 9ms/step\n",
      "18/18 [==============================] - 0s 15ms/step\n",
      "18/18 [==============================] - 0s 14ms/step\n",
      "18/18 [==============================] - 0s 10ms/step\n",
      "18/18 [==============================] - 0s 16ms/step\n",
      "18/18 [==============================] - 0s 9ms/step\n",
      "18/18 [==============================] - 0s 15ms/step\n",
      "\n",
      "Performance with Time Series Cross-Validation:\n",
      "Average MSE: 2.7617319311713873\n",
      "Average R-squared: -23.182395127457795\n"
     ]
    }
   ],
   "source": [
    "# normalized_df and train_y_df are input features and target values\n",
    "print(\"CNN regression for dataset that has not been oversampled\")\n",
    "cnn_regression(normalized_df, train_y_df, cv=True)"
   ]
  },
  {
   "cell_type": "code",
   "execution_count": 116,
   "id": "7aff0aed",
   "metadata": {},
   "outputs": [
    {
     "name": "stdout",
     "output_type": "stream",
     "text": [
      "CNN regression for dataset that has been oversampled\n",
      "Epoch 1/10\n",
      "410/410 [==============================] - 13s 27ms/step - loss: 1.7158 - mse: 1.7158\n",
      "Epoch 2/10\n",
      "410/410 [==============================] - 9s 21ms/step - loss: 0.4370 - mse: 0.4370\n",
      "Epoch 3/10\n",
      "410/410 [==============================] - 9s 22ms/step - loss: 0.3427 - mse: 0.3427\n",
      "Epoch 4/10\n",
      "410/410 [==============================] - 11s 26ms/step - loss: 0.2877 - mse: 0.2877\n",
      "Epoch 5/10\n",
      "410/410 [==============================] - 13s 31ms/step - loss: 0.2624 - mse: 0.2624\n",
      "Epoch 6/10\n",
      "410/410 [==============================] - 11s 26ms/step - loss: 0.2407 - mse: 0.2407\n",
      "Epoch 7/10\n",
      "410/410 [==============================] - 11s 26ms/step - loss: 0.2047 - mse: 0.2047\n",
      "Epoch 8/10\n",
      "410/410 [==============================] - 13s 31ms/step - loss: 0.1919 - mse: 0.1919\n",
      "Epoch 9/10\n",
      "410/410 [==============================] - 11s 26ms/step - loss: 0.1806 - mse: 0.1806\n",
      "Epoch 10/10\n",
      "410/410 [==============================] - 10s 25ms/step - loss: 0.1721 - mse: 0.1721\n",
      "103/103 [==============================] - 5s 9ms/step\n",
      "Performance without cross-validation:\n",
      "MSE: 0.1993890421420984\n",
      "R-squared: 0.9753388806389496\n",
      "47/47 [==============================] - 1s 9ms/step\n",
      "47/47 [==============================] - 1s 20ms/step\n",
      "47/47 [==============================] - 1s 10ms/step\n",
      "47/47 [==============================] - 1s 11ms/step\n",
      "47/47 [==============================] - 1s 15ms/step\n",
      "47/47 [==============================] - 1s 14ms/step\n",
      "47/47 [==============================] - 1s 14ms/step\n",
      "47/47 [==============================] - 1s 15ms/step\n",
      "47/47 [==============================] - 1s 21ms/step\n",
      "47/47 [==============================] - 1s 10ms/step\n",
      "\n",
      "Performance with Time Series Cross-Validation:\n",
      "Average MSE: 1.3893941630393412\n",
      "Average R-squared: -2.877819737081823\n"
     ]
    }
   ],
   "source": [
    "# X and y are oversampled input features and target values\n",
    "print(\"CNN regression for dataset that has been oversampled\")\n",
    "cnn_regression(X, y, cv=True)"
   ]
  },
  {
   "cell_type": "markdown",
   "id": "9c920262",
   "metadata": {},
   "source": [
    "## epochs - 8, activation function - sigmoid"
   ]
  },
  {
   "cell_type": "code",
   "execution_count": 120,
   "id": "501a57c2",
   "metadata": {},
   "outputs": [],
   "source": [
    "from sklearn.model_selection import train_test_split, TimeSeriesSplit\n",
    "from sklearn.metrics import mean_squared_error, r2_score\n",
    "from tensorflow.keras.models import Sequential\n",
    "from tensorflow.keras.layers import Conv1D, MaxPooling1D, Flatten, Dense\n",
    "import numpy as np\n",
    " \n",
    "def create_model(input_shape):\n",
    "    model = Sequential()\n",
    "    model.add(Conv1D(64, kernel_size=3, activation='sigmoid', input_shape=input_shape))\n",
    "    model.add(MaxPooling1D(pool_size=2))\n",
    "    # model.add(Conv1D(32, kernel_size=3, activation='relu', input_shape=input_shape))\n",
    "    model.add(Flatten())\n",
    "    # model.add(Dense(16, activation='sigmoid'))\n",
    "    model.add(Dense(1))  # Output layer with 1 neuron for regression task\n",
    "    model.compile(optimizer='adam', loss='mean_squared_error', metrics=['mse'])\n",
    "    return model\n",
    " \n",
    "def cnn_regression(X_cnn_df, y_cnn_df, cv=False):\n",
    "    # Reshape input data for CNN (assuming X_cnn_df is 2D)\n",
    "    X_cnn_df_reshaped = X_cnn_df.values.reshape(X_cnn_df.shape[0], X_cnn_df.shape[1], 1)\n",
    " \n",
    "    # Split the data into training and test sets\n",
    "    X_train, X_test, y_train, y_test = train_test_split(X_cnn_df_reshaped, y_cnn_df, test_size=0.2, random_state=42)\n",
    " \n",
    "    # Create a CNN model for 1D data with varied layers\n",
    "    input_shape = (X_cnn_df_reshaped.shape[1], 1)\n",
    "    model = create_model(input_shape)\n",
    " \n",
    "    # Without cross-validation\n",
    "    model.fit(X_train, y_train, epochs=8, batch_size=32, verbose=2)\n",
    "    cnn_predictions = model.predict(X_test)\n",
    " \n",
    "    # Evaluate performance without cross-validation\n",
    "    mse_without_cv = mean_squared_error(y_test, cnn_predictions)\n",
    "    r2_without_cv = r2_score(y_test, cnn_predictions)\n",
    "    print(\"Performance without cross-validation:\")\n",
    "    print(\"MSE:\", mse_without_cv)\n",
    "    print(\"R-squared:\", r2_without_cv)\n",
    " \n",
    "    if cv:\n",
    "        # Perform Time Series Cross-Validation\n",
    "        tscv = TimeSeriesSplit(n_splits=10)\n",
    "        cv_mse_scores = []\n",
    "        cv_r2_scores = []\n",
    " \n",
    "        for train_index, test_index in tscv.split(X_cnn_df_reshaped):\n",
    "            X_train_fold, X_test_fold = X_cnn_df_reshaped[train_index], X_cnn_df_reshaped[test_index]\n",
    " \n",
    "            # Handle y_cnn_df based on its type (DataFrame or NumPy array)\n",
    "            if isinstance(y_cnn_df, pd.DataFrame):\n",
    "                y_train_fold, y_test_fold = y_cnn_df.iloc[train_index], y_cnn_df.iloc[test_index]\n",
    "            else:\n",
    "                y_train_fold, y_test_fold = y_cnn_df[train_index], y_cnn_df[test_index]\n",
    " \n",
    "            model = create_model(input_shape)\n",
    "            model.fit(X_train_fold, y_train_fold, epochs=10, batch_size=32, verbose=0)\n",
    " \n",
    "            predictions_fold = model.predict(X_test_fold)\n",
    "            mse_fold = mean_squared_error(y_test_fold, predictions_fold)\n",
    "            r2_fold = r2_score(y_test_fold, predictions_fold)\n",
    " \n",
    "            cv_mse_scores.append(mse_fold)\n",
    "            cv_r2_scores.append(r2_fold)\n",
    " \n",
    "        print(\"\\nPerformance with Time Series Cross-Validation:\")\n",
    "        print(\"Average MSE:\", np.mean(cv_mse_scores))\n",
    "        print(\"Average R-squared:\", np.mean(cv_r2_scores))"
   ]
  },
  {
   "cell_type": "code",
   "execution_count": 121,
   "id": "81c5036e",
   "metadata": {},
   "outputs": [
    {
     "name": "stdout",
     "output_type": "stream",
     "text": [
      "CNN regression for dataset that has not been oversampled\n",
      "Epoch 1/8\n",
      "151/151 - 13s - loss: 35.9661 - mse: 35.9661 - 13s/epoch - 85ms/step\n",
      "Epoch 2/8\n",
      "151/151 - 12s - loss: 3.4276 - mse: 3.4276 - 12s/epoch - 79ms/step\n",
      "Epoch 3/8\n",
      "151/151 - 12s - loss: 3.2709 - mse: 3.2709 - 12s/epoch - 81ms/step\n",
      "Epoch 4/8\n",
      "151/151 - 15s - loss: 3.5890 - mse: 3.5890 - 15s/epoch - 97ms/step\n",
      "Epoch 5/8\n",
      "151/151 - 11s - loss: 3.7098 - mse: 3.7098 - 11s/epoch - 74ms/step\n",
      "Epoch 6/8\n",
      "151/151 - 12s - loss: 4.5727 - mse: 4.5727 - 12s/epoch - 78ms/step\n",
      "Epoch 7/8\n",
      "151/151 - 13s - loss: 3.4832 - mse: 3.4832 - 13s/epoch - 83ms/step\n",
      "Epoch 8/8\n",
      "151/151 - 11s - loss: 3.4253 - mse: 3.4253 - 11s/epoch - 73ms/step\n",
      "38/38 [==============================] - 1s 23ms/step\n",
      "Performance without cross-validation:\n",
      "MSE: 6.846356484361218\n",
      "R-squared: -1.2736017624108547\n",
      "18/18 [==============================] - 0s 22ms/step\n",
      "18/18 [==============================] - 1s 43ms/step\n",
      "18/18 [==============================] - 1s 43ms/step\n",
      "18/18 [==============================] - 1s 42ms/step\n",
      "18/18 [==============================] - 1s 41ms/step\n",
      "18/18 [==============================] - 1s 38ms/step\n",
      "18/18 [==============================] - 1s 40ms/step\n",
      "18/18 [==============================] - 1s 39ms/step\n",
      "18/18 [==============================] - 1s 51ms/step\n",
      "18/18 [==============================] - 1s 37ms/step\n",
      "\n",
      "Performance with Time Series Cross-Validation:\n",
      "Average MSE: 3.673682060927235\n",
      "Average R-squared: -19.419989905793337\n"
     ]
    }
   ],
   "source": [
    "# normalized_df and train_y_df are input features and target values\n",
    "print(\"CNN regression for dataset that has not been oversampled\")\n",
    "cnn_regression(normalized_df, train_y_df, cv=True)"
   ]
  },
  {
   "cell_type": "code",
   "execution_count": 122,
   "id": "aace06de",
   "metadata": {},
   "outputs": [
    {
     "name": "stdout",
     "output_type": "stream",
     "text": [
      "CNN regression for dataset that has been oversampled\n",
      "Epoch 1/8\n",
      "410/410 - 32s - loss: 18.3912 - mse: 18.3912 - 32s/epoch - 79ms/step\n",
      "Epoch 2/8\n",
      "410/410 - 30s - loss: 5.5512 - mse: 5.5512 - 30s/epoch - 74ms/step\n",
      "Epoch 3/8\n",
      "410/410 - 26s - loss: 3.2125 - mse: 3.2125 - 26s/epoch - 63ms/step\n",
      "Epoch 4/8\n",
      "410/410 - 24s - loss: 2.8035 - mse: 2.8035 - 24s/epoch - 58ms/step\n",
      "Epoch 5/8\n",
      "410/410 - 38s - loss: 2.5008 - mse: 2.5008 - 38s/epoch - 93ms/step\n",
      "Epoch 6/8\n",
      "410/410 - 27s - loss: 1.8468 - mse: 1.8468 - 27s/epoch - 66ms/step\n",
      "Epoch 7/8\n",
      "410/410 - 27s - loss: 1.9072 - mse: 1.9072 - 27s/epoch - 65ms/step\n",
      "Epoch 8/8\n",
      "410/410 - 26s - loss: 1.8922 - mse: 1.8922 - 26s/epoch - 63ms/step\n",
      "103/103 [==============================] - 4s 39ms/step\n",
      "Performance without cross-validation:\n",
      "MSE: 1.261530438227429\n",
      "R-squared: 0.8439695964206839\n",
      "47/47 [==============================] - 2s 30ms/step\n",
      "47/47 [==============================] - 2s 31ms/step\n",
      "47/47 [==============================] - 1s 30ms/step\n",
      "47/47 [==============================] - 2s 31ms/step\n",
      "47/47 [==============================] - 1s 26ms/step\n",
      "47/47 [==============================] - 1s 27ms/step\n",
      "47/47 [==============================] - 2s 49ms/step\n",
      "47/47 [==============================] - 2s 50ms/step\n",
      "47/47 [==============================] - 3s 59ms/step\n",
      "47/47 [==============================] - 3s 49ms/step\n",
      "\n",
      "Performance with Time Series Cross-Validation:\n",
      "Average MSE: 7.06999164655619\n",
      "Average R-squared: -64.3422322571104\n"
     ]
    }
   ],
   "source": [
    "# X and y are oversampled input features and target values\n",
    "print(\"CNN regression for dataset that has been oversampled\")\n",
    "cnn_regression(X, y, cv=True)"
   ]
  }
 ],
 "metadata": {
  "interpreter": {
   "hash": "db0a5810e93abb918c8147ef22ff3a9e2bbbcc294ab2a866bc35497fac36b11e"
  },
  "kernelspec": {
   "display_name": "Python 3 (ipykernel)",
   "language": "python",
   "name": "python3"
  },
  "language_info": {
   "codemirror_mode": {
    "name": "ipython",
    "version": 3
   },
   "file_extension": ".py",
   "mimetype": "text/x-python",
   "name": "python",
   "nbconvert_exporter": "python",
   "pygments_lexer": "ipython3",
   "version": "3.11.4"
  }
 },
 "nbformat": 4,
 "nbformat_minor": 5
}
